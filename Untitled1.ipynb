{
 "cells": [
  {
   "cell_type": "code",
   "execution_count": 4,
   "id": "03f79971-e2b4-45fa-b439-bc1215575b16",
   "metadata": {},
   "outputs": [],
   "source": [
    "import opendatasets as od\n",
    "import pandas as p"
   ]
  },
  {
   "cell_type": "code",
   "execution_count": null,
   "id": "2952f17d-3099-4340-81d1-d3aeaaf265aa",
   "metadata": {},
   "outputs": [],
   "source": []
  },
  {
   "cell_type": "code",
   "execution_count": null,
   "id": "591b0d69-6736-4504-a1a7-8ea6250e990d",
   "metadata": {},
   "outputs": [],
   "source": [
    "od.download(\"https://www.kaggle.com/datasets/kuchhbhi/cpga-iq-placement/download\")"
   ]
  },
  {
   "cell_type": "code",
   "execution_count": null,
   "id": "dd4df108-71c5-41a3-a09e-542edbf8e921",
   "metadata": {},
   "outputs": [],
   "source": [
    "ff = pd.read_csv('GitHub/Python-Pandas/cpga-iq-placement/student_clustering.csv')"
   ]
  },
  {
   "cell_type": "code",
   "execution_count": null,
   "id": "c2d26aca-4208-4664-87d5-9ceb505231e1",
   "metadata": {},
   "outputs": [],
   "source": [
    "ff"
   ]
  }
 ],
 "metadata": {
  "kernelspec": {
   "display_name": "Python 3",
   "language": "python",
   "name": "python3"
  },
  "language_info": {
   "codemirror_mode": {
    "name": "ipython",
    "version": 3
   },
   "file_extension": ".py",
   "mimetype": "text/x-python",
   "name": "python",
   "nbconvert_exporter": "python",
   "pygments_lexer": "ipython3",
   "version": "3.8.8"
  }
 },
 "nbformat": 4,
 "nbformat_minor": 5
}
