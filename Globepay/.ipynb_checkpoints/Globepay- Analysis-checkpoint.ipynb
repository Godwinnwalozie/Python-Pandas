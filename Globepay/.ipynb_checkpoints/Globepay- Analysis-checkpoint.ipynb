{
 "cells": [
  {
   "cell_type": "markdown",
   "id": "bf90ce00",
   "metadata": {},
   "source": [
    "# An analysis of Globepays transaction decline - Recommendations"
   ]
  },
  {
   "cell_type": "code",
   "execution_count": 40,
   "id": "2076928e",
   "metadata": {},
   "outputs": [],
   "source": [
    "import pandas as pd"
   ]
  },
  {
   "cell_type": "code",
   "execution_count": 41,
   "id": "ca6be9ad",
   "metadata": {},
   "outputs": [],
   "source": [
    "import numpy as np"
   ]
  },
  {
   "cell_type": "code",
   "execution_count": 42,
   "id": "3db0c6a9",
   "metadata": {},
   "outputs": [],
   "source": [
    "import datetime\n",
    "import matplotlib.pyplot as plt\n",
    "import seaborn as sns"
   ]
  },
  {
   "cell_type": "markdown",
   "id": "39026d98",
   "metadata": {},
   "source": [
    "# Importing the 1st dataset"
   ]
  },
  {
   "cell_type": "code",
   "execution_count": 43,
   "id": "11fa17f8",
   "metadata": {},
   "outputs": [],
   "source": [
    "# import the dataset\n",
    "gp_ac = pd.read_csv\\\n",
    "(r'Globepay Acceptance Report.csv', index_col=False)"
   ]
  },
  {
   "cell_type": "code",
   "execution_count": 44,
   "id": "5659df68",
   "metadata": {},
   "outputs": [
    {
     "data": {
      "text/html": [
       "<div>\n",
       "<style scoped>\n",
       "    .dataframe tbody tr th:only-of-type {\n",
       "        vertical-align: middle;\n",
       "    }\n",
       "\n",
       "    .dataframe tbody tr th {\n",
       "        vertical-align: top;\n",
       "    }\n",
       "\n",
       "    .dataframe thead th {\n",
       "        text-align: right;\n",
       "    }\n",
       "</style>\n",
       "<table border=\"1\" class=\"dataframe\">\n",
       "  <thead>\n",
       "    <tr style=\"text-align: right;\">\n",
       "      <th></th>\n",
       "      <th>external_ref</th>\n",
       "      <th>status</th>\n",
       "      <th>source</th>\n",
       "      <th>ref</th>\n",
       "      <th>date_time</th>\n",
       "      <th>state</th>\n",
       "      <th>cvv_provided</th>\n",
       "      <th>amount</th>\n",
       "      <th>country</th>\n",
       "      <th>currency</th>\n",
       "      <th>rates</th>\n",
       "    </tr>\n",
       "  </thead>\n",
       "  <tbody>\n",
       "    <tr>\n",
       "      <th>0</th>\n",
       "      <td>nCyEIIGaP5QQ2Wqb-_Rt8</td>\n",
       "      <td>True</td>\n",
       "      <td>GLOBALPAY</td>\n",
       "      <td>evt_1ESgcCOV7fY1ChY1MkZizZt</td>\n",
       "      <td>2019-01-01T00:00:00.000Z</td>\n",
       "      <td>DECLINED</td>\n",
       "      <td>False</td>\n",
       "      <td>1020.46</td>\n",
       "      <td>US</td>\n",
       "      <td>USD</td>\n",
       "      <td>{\"CAD\":1.415,\"EUR\":0.926,\"MXN\":25.103,\"USD\":1,...</td>\n",
       "    </tr>\n",
       "    <tr>\n",
       "      <th>1</th>\n",
       "      <td>ptNiI9B7NNpK7VsMZx6zZ</td>\n",
       "      <td>True</td>\n",
       "      <td>GLOBALPAY</td>\n",
       "      <td>evt_1EBMGCEjEtianKMJaZXOx1y</td>\n",
       "      <td>2019-01-01T04:48:00.000Z</td>\n",
       "      <td>ACCEPTED</td>\n",
       "      <td>False</td>\n",
       "      <td>1582.57</td>\n",
       "      <td>US</td>\n",
       "      <td>USD</td>\n",
       "      <td>{\"CAD\":1.415,\"EUR\":0.926,\"MXN\":25.103,\"USD\":1,...</td>\n",
       "    </tr>\n",
       "    <tr>\n",
       "      <th>2</th>\n",
       "      <td>1GS5BDKBnauCt-3nHPs6x</td>\n",
       "      <td>True</td>\n",
       "      <td>GLOBALPAY</td>\n",
       "      <td>evt_1EOALu0AZqEhZBn9ub_nbcE</td>\n",
       "      <td>2019-01-01T09:36:00.000Z</td>\n",
       "      <td>DECLINED</td>\n",
       "      <td>False</td>\n",
       "      <td>1653.07</td>\n",
       "      <td>US</td>\n",
       "      <td>USD</td>\n",
       "      <td>{\"CAD\":1.415,\"EUR\":0.926,\"MXN\":25.103,\"USD\":1,...</td>\n",
       "    </tr>\n",
       "    <tr>\n",
       "      <th>3</th>\n",
       "      <td>Y_oecYz8GjBDaxmMqkkLQ</td>\n",
       "      <td>True</td>\n",
       "      <td>GLOBALPAY</td>\n",
       "      <td>evt_1ESHsWyaSPqE1mrmJ2B6rvs</td>\n",
       "      <td>2019-01-01T14:24:00.000Z</td>\n",
       "      <td>ACCEPTED</td>\n",
       "      <td>False</td>\n",
       "      <td>2228.17</td>\n",
       "      <td>US</td>\n",
       "      <td>USD</td>\n",
       "      <td>{\"CAD\":1.415,\"EUR\":0.926,\"MXN\":25.103,\"USD\":1,...</td>\n",
       "    </tr>\n",
       "    <tr>\n",
       "      <th>4</th>\n",
       "      <td>LlEs1TnKVa2xX6PH9Zsz0</td>\n",
       "      <td>True</td>\n",
       "      <td>GLOBALPAY</td>\n",
       "      <td>evt_1EjzPk13qLzmvDR_4hXuMMw</td>\n",
       "      <td>2019-01-01T19:12:00.000Z</td>\n",
       "      <td>ACCEPTED</td>\n",
       "      <td>False</td>\n",
       "      <td>2589.92</td>\n",
       "      <td>US</td>\n",
       "      <td>USD</td>\n",
       "      <td>{\"CAD\":1.415,\"EUR\":0.926,\"MXN\":25.103,\"USD\":1,...</td>\n",
       "    </tr>\n",
       "    <tr>\n",
       "      <th>5</th>\n",
       "      <td>XMiBCl0zkTGdVu_IgKNbS</td>\n",
       "      <td>True</td>\n",
       "      <td>GLOBALPAY</td>\n",
       "      <td>evt_1ESWbgipcFeU4B6eW5kWMgn</td>\n",
       "      <td>2019-01-01T00:00:00.000Z</td>\n",
       "      <td>ACCEPTED</td>\n",
       "      <td>False</td>\n",
       "      <td>1509.12</td>\n",
       "      <td>MX</td>\n",
       "      <td>MXN</td>\n",
       "      <td>{\"CAD\":1.4150668250112406,\"EUR\":0.924750490289...</td>\n",
       "    </tr>\n",
       "    <tr>\n",
       "      <th>6</th>\n",
       "      <td>unSNmffbtST60mDH0WpUc</td>\n",
       "      <td>True</td>\n",
       "      <td>GLOBALPAY</td>\n",
       "      <td>evt_1Exxzo9M0d271kmuX5kNmRL</td>\n",
       "      <td>2019-01-01T04:48:00.000Z</td>\n",
       "      <td>ACCEPTED</td>\n",
       "      <td>False</td>\n",
       "      <td>1923.13</td>\n",
       "      <td>MX</td>\n",
       "      <td>MXN</td>\n",
       "      <td>{\"CAD\":1.4150668250112406,\"EUR\":0.924750490289...</td>\n",
       "    </tr>\n",
       "  </tbody>\n",
       "</table>\n",
       "</div>"
      ],
      "text/plain": [
       "            external_ref  status     source                          ref  \\\n",
       "0  nCyEIIGaP5QQ2Wqb-_Rt8    True  GLOBALPAY  evt_1ESgcCOV7fY1ChY1MkZizZt   \n",
       "1  ptNiI9B7NNpK7VsMZx6zZ    True  GLOBALPAY  evt_1EBMGCEjEtianKMJaZXOx1y   \n",
       "2  1GS5BDKBnauCt-3nHPs6x    True  GLOBALPAY  evt_1EOALu0AZqEhZBn9ub_nbcE   \n",
       "3  Y_oecYz8GjBDaxmMqkkLQ    True  GLOBALPAY  evt_1ESHsWyaSPqE1mrmJ2B6rvs   \n",
       "4  LlEs1TnKVa2xX6PH9Zsz0    True  GLOBALPAY  evt_1EjzPk13qLzmvDR_4hXuMMw   \n",
       "5  XMiBCl0zkTGdVu_IgKNbS    True  GLOBALPAY  evt_1ESWbgipcFeU4B6eW5kWMgn   \n",
       "6  unSNmffbtST60mDH0WpUc    True  GLOBALPAY  evt_1Exxzo9M0d271kmuX5kNmRL   \n",
       "\n",
       "                  date_time     state  cvv_provided   amount country currency  \\\n",
       "0  2019-01-01T00:00:00.000Z  DECLINED         False  1020.46      US      USD   \n",
       "1  2019-01-01T04:48:00.000Z  ACCEPTED         False  1582.57      US      USD   \n",
       "2  2019-01-01T09:36:00.000Z  DECLINED         False  1653.07      US      USD   \n",
       "3  2019-01-01T14:24:00.000Z  ACCEPTED         False  2228.17      US      USD   \n",
       "4  2019-01-01T19:12:00.000Z  ACCEPTED         False  2589.92      US      USD   \n",
       "5  2019-01-01T00:00:00.000Z  ACCEPTED         False  1509.12      MX      MXN   \n",
       "6  2019-01-01T04:48:00.000Z  ACCEPTED         False  1923.13      MX      MXN   \n",
       "\n",
       "                                               rates  \n",
       "0  {\"CAD\":1.415,\"EUR\":0.926,\"MXN\":25.103,\"USD\":1,...  \n",
       "1  {\"CAD\":1.415,\"EUR\":0.926,\"MXN\":25.103,\"USD\":1,...  \n",
       "2  {\"CAD\":1.415,\"EUR\":0.926,\"MXN\":25.103,\"USD\":1,...  \n",
       "3  {\"CAD\":1.415,\"EUR\":0.926,\"MXN\":25.103,\"USD\":1,...  \n",
       "4  {\"CAD\":1.415,\"EUR\":0.926,\"MXN\":25.103,\"USD\":1,...  \n",
       "5  {\"CAD\":1.4150668250112406,\"EUR\":0.924750490289...  \n",
       "6  {\"CAD\":1.4150668250112406,\"EUR\":0.924750490289...  "
      ]
     },
     "execution_count": 44,
     "metadata": {},
     "output_type": "execute_result"
    }
   ],
   "source": [
    "gp_ac.head(7)  # cchecking first 7 rows"
   ]
  },
  {
   "cell_type": "markdown",
   "id": "3405fc84",
   "metadata": {},
   "source": [
    "# Importing the 2nd dataset"
   ]
  },
  {
   "cell_type": "code",
   "execution_count": 45,
   "id": "62dc35e0",
   "metadata": {},
   "outputs": [],
   "source": [
    "# import the dataset\n",
    "gp_cb = pd.read_csv\\\n",
    "(r'Globepay Chargeback Report.csv',index_col=False)"
   ]
  },
  {
   "cell_type": "code",
   "execution_count": 46,
   "id": "fd420dc3",
   "metadata": {},
   "outputs": [
    {
     "data": {
      "text/html": [
       "<div>\n",
       "<style scoped>\n",
       "    .dataframe tbody tr th:only-of-type {\n",
       "        vertical-align: middle;\n",
       "    }\n",
       "\n",
       "    .dataframe tbody tr th {\n",
       "        vertical-align: top;\n",
       "    }\n",
       "\n",
       "    .dataframe thead th {\n",
       "        text-align: right;\n",
       "    }\n",
       "</style>\n",
       "<table border=\"1\" class=\"dataframe\">\n",
       "  <thead>\n",
       "    <tr style=\"text-align: right;\">\n",
       "      <th></th>\n",
       "      <th>external_ref</th>\n",
       "      <th>status</th>\n",
       "      <th>source</th>\n",
       "      <th>chargeback</th>\n",
       "    </tr>\n",
       "  </thead>\n",
       "  <tbody>\n",
       "    <tr>\n",
       "      <th>0</th>\n",
       "      <td>_-UTDS0dMlagMWEtQKMy-</td>\n",
       "      <td>True</td>\n",
       "      <td>GLOBALPAY</td>\n",
       "      <td>False</td>\n",
       "    </tr>\n",
       "    <tr>\n",
       "      <th>1</th>\n",
       "      <td>_0fqf75KiPa0iiviKCSsU</td>\n",
       "      <td>True</td>\n",
       "      <td>GLOBALPAY</td>\n",
       "      <td>False</td>\n",
       "    </tr>\n",
       "    <tr>\n",
       "      <th>2</th>\n",
       "      <td>_0H9Ecd_RctsLetId-p14</td>\n",
       "      <td>True</td>\n",
       "      <td>GLOBALPAY</td>\n",
       "      <td>False</td>\n",
       "    </tr>\n",
       "    <tr>\n",
       "      <th>3</th>\n",
       "      <td>_0wBrMzAzIhO3fQRWUcBH</td>\n",
       "      <td>True</td>\n",
       "      <td>GLOBALPAY</td>\n",
       "      <td>False</td>\n",
       "    </tr>\n",
       "    <tr>\n",
       "      <th>4</th>\n",
       "      <td>_25jZuGDrmwUEdAwKp1xV</td>\n",
       "      <td>True</td>\n",
       "      <td>GLOBALPAY</td>\n",
       "      <td>False</td>\n",
       "    </tr>\n",
       "    <tr>\n",
       "      <th>5</th>\n",
       "      <td>_2TnPB1sTeVMRGgPeJgPq</td>\n",
       "      <td>True</td>\n",
       "      <td>GLOBALPAY</td>\n",
       "      <td>False</td>\n",
       "    </tr>\n",
       "    <tr>\n",
       "      <th>6</th>\n",
       "      <td>_37I67fDT_R1JwRLapxub</td>\n",
       "      <td>True</td>\n",
       "      <td>GLOBALPAY</td>\n",
       "      <td>False</td>\n",
       "    </tr>\n",
       "  </tbody>\n",
       "</table>\n",
       "</div>"
      ],
      "text/plain": [
       "            external_ref  status     source  chargeback\n",
       "0  _-UTDS0dMlagMWEtQKMy-    True  GLOBALPAY       False\n",
       "1  _0fqf75KiPa0iiviKCSsU    True  GLOBALPAY       False\n",
       "2  _0H9Ecd_RctsLetId-p14    True  GLOBALPAY       False\n",
       "3  _0wBrMzAzIhO3fQRWUcBH    True  GLOBALPAY       False\n",
       "4  _25jZuGDrmwUEdAwKp1xV    True  GLOBALPAY       False\n",
       "5  _2TnPB1sTeVMRGgPeJgPq    True  GLOBALPAY       False\n",
       "6  _37I67fDT_R1JwRLapxub    True  GLOBALPAY       False"
      ]
     },
     "execution_count": 46,
     "metadata": {},
     "output_type": "execute_result"
    }
   ],
   "source": [
    "gp_cb.head(7)  # cchecking first 7 rows"
   ]
  },
  {
   "cell_type": "markdown",
   "id": "02109046",
   "metadata": {},
   "source": [
    "# Merging the two datasets 'inner join'"
   ]
  },
  {
   "cell_type": "code",
   "execution_count": 47,
   "id": "05c4c6e5",
   "metadata": {},
   "outputs": [],
   "source": [
    "#merging the two datasets\n",
    "gp_merged1 = pd.merge(gp_ac, gp_cb, left_on = 'external_ref',right_on = 'external_ref',how = 'inner')"
   ]
  },
  {
   "cell_type": "code",
   "execution_count": 48,
   "id": "70d3056a",
   "metadata": {},
   "outputs": [
    {
     "data": {
      "text/html": [
       "<div>\n",
       "<style scoped>\n",
       "    .dataframe tbody tr th:only-of-type {\n",
       "        vertical-align: middle;\n",
       "    }\n",
       "\n",
       "    .dataframe tbody tr th {\n",
       "        vertical-align: top;\n",
       "    }\n",
       "\n",
       "    .dataframe thead th {\n",
       "        text-align: right;\n",
       "    }\n",
       "</style>\n",
       "<table border=\"1\" class=\"dataframe\">\n",
       "  <thead>\n",
       "    <tr style=\"text-align: right;\">\n",
       "      <th></th>\n",
       "      <th>external_ref</th>\n",
       "      <th>status_x</th>\n",
       "      <th>source_x</th>\n",
       "      <th>ref</th>\n",
       "      <th>date_time</th>\n",
       "      <th>state</th>\n",
       "      <th>cvv_provided</th>\n",
       "      <th>amount</th>\n",
       "      <th>country</th>\n",
       "      <th>currency</th>\n",
       "      <th>rates</th>\n",
       "      <th>status_y</th>\n",
       "      <th>source_y</th>\n",
       "      <th>chargeback</th>\n",
       "    </tr>\n",
       "  </thead>\n",
       "  <tbody>\n",
       "    <tr>\n",
       "      <th>0</th>\n",
       "      <td>nCyEIIGaP5QQ2Wqb-_Rt8</td>\n",
       "      <td>True</td>\n",
       "      <td>GLOBALPAY</td>\n",
       "      <td>evt_1ESgcCOV7fY1ChY1MkZizZt</td>\n",
       "      <td>2019-01-01T00:00:00.000Z</td>\n",
       "      <td>DECLINED</td>\n",
       "      <td>False</td>\n",
       "      <td>1020.46</td>\n",
       "      <td>US</td>\n",
       "      <td>USD</td>\n",
       "      <td>{\"CAD\":1.415,\"EUR\":0.926,\"MXN\":25.103,\"USD\":1,...</td>\n",
       "      <td>True</td>\n",
       "      <td>GLOBALPAY</td>\n",
       "      <td>False</td>\n",
       "    </tr>\n",
       "    <tr>\n",
       "      <th>1</th>\n",
       "      <td>ptNiI9B7NNpK7VsMZx6zZ</td>\n",
       "      <td>True</td>\n",
       "      <td>GLOBALPAY</td>\n",
       "      <td>evt_1EBMGCEjEtianKMJaZXOx1y</td>\n",
       "      <td>2019-01-01T04:48:00.000Z</td>\n",
       "      <td>ACCEPTED</td>\n",
       "      <td>False</td>\n",
       "      <td>1582.57</td>\n",
       "      <td>US</td>\n",
       "      <td>USD</td>\n",
       "      <td>{\"CAD\":1.415,\"EUR\":0.926,\"MXN\":25.103,\"USD\":1,...</td>\n",
       "      <td>True</td>\n",
       "      <td>GLOBALPAY</td>\n",
       "      <td>True</td>\n",
       "    </tr>\n",
       "    <tr>\n",
       "      <th>2</th>\n",
       "      <td>1GS5BDKBnauCt-3nHPs6x</td>\n",
       "      <td>True</td>\n",
       "      <td>GLOBALPAY</td>\n",
       "      <td>evt_1EOALu0AZqEhZBn9ub_nbcE</td>\n",
       "      <td>2019-01-01T09:36:00.000Z</td>\n",
       "      <td>DECLINED</td>\n",
       "      <td>False</td>\n",
       "      <td>1653.07</td>\n",
       "      <td>US</td>\n",
       "      <td>USD</td>\n",
       "      <td>{\"CAD\":1.415,\"EUR\":0.926,\"MXN\":25.103,\"USD\":1,...</td>\n",
       "      <td>True</td>\n",
       "      <td>GLOBALPAY</td>\n",
       "      <td>False</td>\n",
       "    </tr>\n",
       "    <tr>\n",
       "      <th>3</th>\n",
       "      <td>Y_oecYz8GjBDaxmMqkkLQ</td>\n",
       "      <td>True</td>\n",
       "      <td>GLOBALPAY</td>\n",
       "      <td>evt_1ESHsWyaSPqE1mrmJ2B6rvs</td>\n",
       "      <td>2019-01-01T14:24:00.000Z</td>\n",
       "      <td>ACCEPTED</td>\n",
       "      <td>False</td>\n",
       "      <td>2228.17</td>\n",
       "      <td>US</td>\n",
       "      <td>USD</td>\n",
       "      <td>{\"CAD\":1.415,\"EUR\":0.926,\"MXN\":25.103,\"USD\":1,...</td>\n",
       "      <td>True</td>\n",
       "      <td>GLOBALPAY</td>\n",
       "      <td>True</td>\n",
       "    </tr>\n",
       "    <tr>\n",
       "      <th>4</th>\n",
       "      <td>LlEs1TnKVa2xX6PH9Zsz0</td>\n",
       "      <td>True</td>\n",
       "      <td>GLOBALPAY</td>\n",
       "      <td>evt_1EjzPk13qLzmvDR_4hXuMMw</td>\n",
       "      <td>2019-01-01T19:12:00.000Z</td>\n",
       "      <td>ACCEPTED</td>\n",
       "      <td>False</td>\n",
       "      <td>2589.92</td>\n",
       "      <td>US</td>\n",
       "      <td>USD</td>\n",
       "      <td>{\"CAD\":1.415,\"EUR\":0.926,\"MXN\":25.103,\"USD\":1,...</td>\n",
       "      <td>True</td>\n",
       "      <td>GLOBALPAY</td>\n",
       "      <td>True</td>\n",
       "    </tr>\n",
       "    <tr>\n",
       "      <th>5</th>\n",
       "      <td>XMiBCl0zkTGdVu_IgKNbS</td>\n",
       "      <td>True</td>\n",
       "      <td>GLOBALPAY</td>\n",
       "      <td>evt_1ESWbgipcFeU4B6eW5kWMgn</td>\n",
       "      <td>2019-01-01T00:00:00.000Z</td>\n",
       "      <td>ACCEPTED</td>\n",
       "      <td>False</td>\n",
       "      <td>1509.12</td>\n",
       "      <td>MX</td>\n",
       "      <td>MXN</td>\n",
       "      <td>{\"CAD\":1.4150668250112406,\"EUR\":0.924750490289...</td>\n",
       "      <td>True</td>\n",
       "      <td>GLOBALPAY</td>\n",
       "      <td>True</td>\n",
       "    </tr>\n",
       "    <tr>\n",
       "      <th>6</th>\n",
       "      <td>unSNmffbtST60mDH0WpUc</td>\n",
       "      <td>True</td>\n",
       "      <td>GLOBALPAY</td>\n",
       "      <td>evt_1Exxzo9M0d271kmuX5kNmRL</td>\n",
       "      <td>2019-01-01T04:48:00.000Z</td>\n",
       "      <td>ACCEPTED</td>\n",
       "      <td>False</td>\n",
       "      <td>1923.13</td>\n",
       "      <td>MX</td>\n",
       "      <td>MXN</td>\n",
       "      <td>{\"CAD\":1.4150668250112406,\"EUR\":0.924750490289...</td>\n",
       "      <td>True</td>\n",
       "      <td>GLOBALPAY</td>\n",
       "      <td>True</td>\n",
       "    </tr>\n",
       "  </tbody>\n",
       "</table>\n",
       "</div>"
      ],
      "text/plain": [
       "            external_ref  status_x   source_x                          ref  \\\n",
       "0  nCyEIIGaP5QQ2Wqb-_Rt8      True  GLOBALPAY  evt_1ESgcCOV7fY1ChY1MkZizZt   \n",
       "1  ptNiI9B7NNpK7VsMZx6zZ      True  GLOBALPAY  evt_1EBMGCEjEtianKMJaZXOx1y   \n",
       "2  1GS5BDKBnauCt-3nHPs6x      True  GLOBALPAY  evt_1EOALu0AZqEhZBn9ub_nbcE   \n",
       "3  Y_oecYz8GjBDaxmMqkkLQ      True  GLOBALPAY  evt_1ESHsWyaSPqE1mrmJ2B6rvs   \n",
       "4  LlEs1TnKVa2xX6PH9Zsz0      True  GLOBALPAY  evt_1EjzPk13qLzmvDR_4hXuMMw   \n",
       "5  XMiBCl0zkTGdVu_IgKNbS      True  GLOBALPAY  evt_1ESWbgipcFeU4B6eW5kWMgn   \n",
       "6  unSNmffbtST60mDH0WpUc      True  GLOBALPAY  evt_1Exxzo9M0d271kmuX5kNmRL   \n",
       "\n",
       "                  date_time     state  cvv_provided   amount country currency  \\\n",
       "0  2019-01-01T00:00:00.000Z  DECLINED         False  1020.46      US      USD   \n",
       "1  2019-01-01T04:48:00.000Z  ACCEPTED         False  1582.57      US      USD   \n",
       "2  2019-01-01T09:36:00.000Z  DECLINED         False  1653.07      US      USD   \n",
       "3  2019-01-01T14:24:00.000Z  ACCEPTED         False  2228.17      US      USD   \n",
       "4  2019-01-01T19:12:00.000Z  ACCEPTED         False  2589.92      US      USD   \n",
       "5  2019-01-01T00:00:00.000Z  ACCEPTED         False  1509.12      MX      MXN   \n",
       "6  2019-01-01T04:48:00.000Z  ACCEPTED         False  1923.13      MX      MXN   \n",
       "\n",
       "                                               rates  status_y   source_y  \\\n",
       "0  {\"CAD\":1.415,\"EUR\":0.926,\"MXN\":25.103,\"USD\":1,...      True  GLOBALPAY   \n",
       "1  {\"CAD\":1.415,\"EUR\":0.926,\"MXN\":25.103,\"USD\":1,...      True  GLOBALPAY   \n",
       "2  {\"CAD\":1.415,\"EUR\":0.926,\"MXN\":25.103,\"USD\":1,...      True  GLOBALPAY   \n",
       "3  {\"CAD\":1.415,\"EUR\":0.926,\"MXN\":25.103,\"USD\":1,...      True  GLOBALPAY   \n",
       "4  {\"CAD\":1.415,\"EUR\":0.926,\"MXN\":25.103,\"USD\":1,...      True  GLOBALPAY   \n",
       "5  {\"CAD\":1.4150668250112406,\"EUR\":0.924750490289...      True  GLOBALPAY   \n",
       "6  {\"CAD\":1.4150668250112406,\"EUR\":0.924750490289...      True  GLOBALPAY   \n",
       "\n",
       "   chargeback  \n",
       "0       False  \n",
       "1        True  \n",
       "2       False  \n",
       "3        True  \n",
       "4        True  \n",
       "5        True  \n",
       "6        True  "
      ]
     },
     "execution_count": 48,
     "metadata": {},
     "output_type": "execute_result"
    }
   ],
   "source": [
    "gp_merged1.head(7) # cchecking first 7 rows"
   ]
  },
  {
   "cell_type": "markdown",
   "id": "0d661eaf",
   "metadata": {},
   "source": [
    "# Checking the shape / number or rows and columns"
   ]
  },
  {
   "cell_type": "code",
   "execution_count": 49,
   "id": "7d015d45",
   "metadata": {},
   "outputs": [
    {
     "data": {
      "text/plain": [
       "(5430, 14)"
      ]
     },
     "execution_count": 49,
     "metadata": {},
     "output_type": "execute_result"
    }
   ],
   "source": [
    "gp_merged1.shape  # 5430 rows and 14 columns"
   ]
  },
  {
   "cell_type": "markdown",
   "id": "29a58c14",
   "metadata": {},
   "source": [
    "# Find count of declined vs accepted"
   ]
  },
  {
   "cell_type": "code",
   "execution_count": 50,
   "id": "23eb22a1",
   "metadata": {},
   "outputs": [
    {
     "data": {
      "text/html": [
       "<div>\n",
       "<style scoped>\n",
       "    .dataframe tbody tr th:only-of-type {\n",
       "        vertical-align: middle;\n",
       "    }\n",
       "\n",
       "    .dataframe tbody tr th {\n",
       "        vertical-align: top;\n",
       "    }\n",
       "\n",
       "    .dataframe thead th {\n",
       "        text-align: right;\n",
       "    }\n",
       "</style>\n",
       "<table border=\"1\" class=\"dataframe\">\n",
       "  <thead>\n",
       "    <tr style=\"text-align: right;\">\n",
       "      <th></th>\n",
       "      <th>state</th>\n",
       "      <th>status_x</th>\n",
       "    </tr>\n",
       "  </thead>\n",
       "  <tbody>\n",
       "    <tr>\n",
       "      <th>0</th>\n",
       "      <td>ACCEPTED</td>\n",
       "      <td>3777</td>\n",
       "    </tr>\n",
       "    <tr>\n",
       "      <th>1</th>\n",
       "      <td>DECLINED</td>\n",
       "      <td>1653</td>\n",
       "    </tr>\n",
       "  </tbody>\n",
       "</table>\n",
       "</div>"
      ],
      "text/plain": [
       "      state  status_x\n",
       "0  ACCEPTED      3777\n",
       "1  DECLINED      1653"
      ]
     },
     "execution_count": 50,
     "metadata": {},
     "output_type": "execute_result"
    }
   ],
   "source": [
    "# find count of declined and accepted\n",
    "dec_rate =gp_merged1.groupby('state').count()['status_x'].to_frame();\n",
    "ddrate = dec_rate.reset_index(drop = False).set_index('state')\n",
    "ddrate.reset_index()"
   ]
  },
  {
   "cell_type": "code",
   "execution_count": 51,
   "id": "50b18053-dcee-4290-b36b-576860c87421",
   "metadata": {},
   "outputs": [
    {
     "data": {
      "text/plain": [
       "<AxesSubplot:xlabel='state', ylabel='status_x'>"
      ]
     },
     "execution_count": 51,
     "metadata": {},
     "output_type": "execute_result"
    },
    {
     "data": {
      "image/png": "[encoded data removed]",
      "text/plain": [
       "<Figure size 432x288 with 1 Axes>"
      ]
     },
     "metadata": {
      "needs_background": "light"
     },
     "output_type": "display_data"
    }
   ],
   "source": [
    "# using seaborn\n",
    "sns.barplot(data = ddrate.reset_index(), x = 'state', y = 'status_x')"
   ]
  },
  {
   "cell_type": "code",
   "execution_count": 52,
   "id": "19bdee1e-6c6a-4c43-97c3-45e2a367c9eb",
   "metadata": {},
   "outputs": [
    {
     "data": {
      "image/png": "[encoded data removed]",
      "text/plain": [
       "<Figure size 360x360 with 1 Axes>"
      ]
     },
     "metadata": {},
     "output_type": "display_data"
    }
   ],
   "source": [
    "ddrate.plot(kind = 'pie', y ='status_x', figsize=(5, 5), xlabel = 'state' ,title ='chart of decline vs accepted');\n",
    "plt.legend(loc = 'lower left');"
   ]
  },
  {
   "cell_type": "code",
   "execution_count": 53,
   "id": "4ea8ea3b-e6b4-4d98-b1a3-63b8fce6aa4e",
   "metadata": {},
   "outputs": [
    {
     "data": {
      "image/png": "[encoded data removed]",
      "text/plain": [
       "<Figure size 504x216 with 1 Axes>"
      ]
     },
     "metadata": {
      "needs_background": "light"
     },
     "output_type": "display_data"
    }
   ],
   "source": [
    "dec_rate.plot(kind = 'barh', y ='status_x', figsize=(7, 3), title ='chart of decline vs accepted',color = 'purple');\n",
    "plt.legend(loc = 'upper right');"
   ]
  },
  {
   "cell_type": "markdown",
   "id": "2fe32ee1",
   "metadata": {},
   "source": [
    "# Compute the acceptance rate”  defined as the number of accepted transactions divided by the total attempted transactions"
   ]
  },
  {
   "cell_type": "code",
   "execution_count": 54,
   "id": "3737dc50",
   "metadata": {},
   "outputs": [
    {
     "data": {
      "text/plain": [
       "69.56"
      ]
     },
     "execution_count": 54,
     "metadata": {},
     "output_type": "execute_result"
    }
   ],
   "source": [
    "accep_rate = gp_merged1.groupby('state').count().loc[:,['status_x']]  \n",
    "\n",
    "accep_rate = (accep_rate.iloc[0,0]) / (accep_rate.iloc[0,0]  + accep_rate.iloc[1,0] ) *100\n",
    "accep_rate.round(2) # the acceptance rate in % "
   ]
  },
  {
   "cell_type": "markdown",
   "id": "4306344f",
   "metadata": {},
   "source": [
    "# Checking the data types in the dataset"
   ]
  },
  {
   "cell_type": "code",
   "execution_count": 55,
   "id": "f16201d5",
   "metadata": {},
   "outputs": [
    {
     "name": "stdout",
     "output_type": "stream",
     "text": [
      "<class 'pandas.core.frame.DataFrame'>\n",
      "Int64Index: 5430 entries, 0 to 5429\n",
      "Columns: 14 entries, external_ref to chargeback\n",
      "dtypes: bool(4), float64(1), object(9)\n",
      "memory usage: 487.9+ KB\n"
     ]
    }
   ],
   "source": [
    "gp_merged1.info(verbose= False) "
   ]
  },
  {
   "cell_type": "markdown",
   "id": "f2856ca7",
   "metadata": {},
   "source": [
    "# Preparing our dataframe with columns required"
   ]
  },
  {
   "cell_type": "code",
   "execution_count": 56,
   "id": "1b3ce308",
   "metadata": {},
   "outputs": [
    {
     "data": {
      "text/html": [
       "<div>\n",
       "<style scoped>\n",
       "    .dataframe tbody tr th:only-of-type {\n",
       "        vertical-align: middle;\n",
       "    }\n",
       "\n",
       "    .dataframe tbody tr th {\n",
       "        vertical-align: top;\n",
       "    }\n",
       "\n",
       "    .dataframe thead th {\n",
       "        text-align: right;\n",
       "    }\n",
       "</style>\n",
       "<table border=\"1\" class=\"dataframe\">\n",
       "  <thead>\n",
       "    <tr style=\"text-align: right;\">\n",
       "      <th></th>\n",
       "      <th>status_x</th>\n",
       "      <th>date_time</th>\n",
       "      <th>state</th>\n",
       "      <th>cvv_provided</th>\n",
       "      <th>amount</th>\n",
       "      <th>country</th>\n",
       "      <th>currency</th>\n",
       "      <th>chargeback</th>\n",
       "    </tr>\n",
       "  </thead>\n",
       "  <tbody>\n",
       "    <tr>\n",
       "      <th>0</th>\n",
       "      <td>True</td>\n",
       "      <td>2019-01-01T00:00:00.000Z</td>\n",
       "      <td>DECLINED</td>\n",
       "      <td>False</td>\n",
       "      <td>1020.46</td>\n",
       "      <td>US</td>\n",
       "      <td>USD</td>\n",
       "      <td>False</td>\n",
       "    </tr>\n",
       "    <tr>\n",
       "      <th>1</th>\n",
       "      <td>True</td>\n",
       "      <td>2019-01-01T04:48:00.000Z</td>\n",
       "      <td>ACCEPTED</td>\n",
       "      <td>False</td>\n",
       "      <td>1582.57</td>\n",
       "      <td>US</td>\n",
       "      <td>USD</td>\n",
       "      <td>True</td>\n",
       "    </tr>\n",
       "    <tr>\n",
       "      <th>2</th>\n",
       "      <td>True</td>\n",
       "      <td>2019-01-01T09:36:00.000Z</td>\n",
       "      <td>DECLINED</td>\n",
       "      <td>False</td>\n",
       "      <td>1653.07</td>\n",
       "      <td>US</td>\n",
       "      <td>USD</td>\n",
       "      <td>False</td>\n",
       "    </tr>\n",
       "    <tr>\n",
       "      <th>3</th>\n",
       "      <td>True</td>\n",
       "      <td>2019-01-01T14:24:00.000Z</td>\n",
       "      <td>ACCEPTED</td>\n",
       "      <td>False</td>\n",
       "      <td>2228.17</td>\n",
       "      <td>US</td>\n",
       "      <td>USD</td>\n",
       "      <td>True</td>\n",
       "    </tr>\n",
       "    <tr>\n",
       "      <th>4</th>\n",
       "      <td>True</td>\n",
       "      <td>2019-01-01T19:12:00.000Z</td>\n",
       "      <td>ACCEPTED</td>\n",
       "      <td>False</td>\n",
       "      <td>2589.92</td>\n",
       "      <td>US</td>\n",
       "      <td>USD</td>\n",
       "      <td>True</td>\n",
       "    </tr>\n",
       "  </tbody>\n",
       "</table>\n",
       "</div>"
      ],
      "text/plain": [
       "   status_x                 date_time     state  cvv_provided   amount  \\\n",
       "0      True  2019-01-01T00:00:00.000Z  DECLINED         False  1020.46   \n",
       "1      True  2019-01-01T04:48:00.000Z  ACCEPTED         False  1582.57   \n",
       "2      True  2019-01-01T09:36:00.000Z  DECLINED         False  1653.07   \n",
       "3      True  2019-01-01T14:24:00.000Z  ACCEPTED         False  2228.17   \n",
       "4      True  2019-01-01T19:12:00.000Z  ACCEPTED         False  2589.92   \n",
       "\n",
       "  country currency  chargeback  \n",
       "0      US      USD       False  \n",
       "1      US      USD        True  \n",
       "2      US      USD       False  \n",
       "3      US      USD        True  \n",
       "4      US      USD        True  "
      ]
     },
     "execution_count": 56,
     "metadata": {},
     "output_type": "execute_result"
    }
   ],
   "source": [
    "gp_merged2 = gp_merged1.loc[:, ['status_x','date_time','state',\\\n",
    "'cvv_provided','amount','country','currency','chargeback']]\n",
    "\n",
    "gp_merged2.head()"
   ]
  },
  {
   "cell_type": "markdown",
   "id": "5d411ec3",
   "metadata": {},
   "source": [
    "# Check r/ship between cvv_provided and state(accepted or declined)"
   ]
  },
  {
   "cell_type": "code",
   "execution_count": 57,
   "id": "e27f1463",
   "metadata": {},
   "outputs": [
    {
     "data": {
      "text/html": [
       "<div>\n",
       "<style scoped>\n",
       "    .dataframe tbody tr th:only-of-type {\n",
       "        vertical-align: middle;\n",
       "    }\n",
       "\n",
       "    .dataframe tbody tr th {\n",
       "        vertical-align: top;\n",
       "    }\n",
       "\n",
       "    .dataframe thead th {\n",
       "        text-align: right;\n",
       "    }\n",
       "</style>\n",
       "<table border=\"1\" class=\"dataframe\">\n",
       "  <thead>\n",
       "    <tr style=\"text-align: right;\">\n",
       "      <th></th>\n",
       "      <th>cvv_provided</th>\n",
       "      <th>state</th>\n",
       "      <th>status_x</th>\n",
       "    </tr>\n",
       "  </thead>\n",
       "  <tbody>\n",
       "    <tr>\n",
       "      <th>0</th>\n",
       "      <td>False</td>\n",
       "      <td>DECLINED</td>\n",
       "      <td>1638</td>\n",
       "    </tr>\n",
       "    <tr>\n",
       "      <th>1</th>\n",
       "      <td>True</td>\n",
       "      <td>DECLINED</td>\n",
       "      <td>15</td>\n",
       "    </tr>\n",
       "  </tbody>\n",
       "</table>\n",
       "</div>"
      ],
      "text/plain": [
       "   cvv_provided     state  status_x\n",
       "0         False  DECLINED      1638\n",
       "1          True  DECLINED        15"
      ]
     },
     "execution_count": 57,
     "metadata": {},
     "output_type": "execute_result"
    }
   ],
   "source": [
    "# check r/ship between cvv_provided and state(accepted or declined)\n",
    "gp_merged_cvv_state = gp_merged2[gp_merged2.state.str.contains('DECLINED')]\\\n",
    ".groupby(['cvv_provided','state']).count()\n",
    "\n",
    "gp_merged_cvv_state2= gp_merged_cvv_state.loc[:,['status_x']]\n",
    "cvv = gp_merged_cvv_state2.reset_index()\n",
    "cvv"
   ]
  },
  {
   "cell_type": "code",
   "execution_count": 58,
   "id": "83f30595-285e-4197-916d-9ed7f1a20469",
   "metadata": {},
   "outputs": [
    {
     "data": {
      "text/plain": [
       "<AxesSubplot:xlabel='cvv_provided', ylabel='status_x'>"
      ]
     },
     "execution_count": 58,
     "metadata": {},
     "output_type": "execute_result"
    },
    {
     "data": {
      "image/png": "[encoded data removed]",
      "text/plain": [
       "<Figure size 432x288 with 1 Axes>"
      ]
     },
     "metadata": {
      "needs_background": "light"
     },
     "output_type": "display_data"
    }
   ],
   "source": [
    "sns.barplot(data = cvv , x = 'cvv_provided', y = 'status_x')"
   ]
  },
  {
   "cell_type": "markdown",
   "id": "b0022e16",
   "metadata": {},
   "source": [
    "# Check card decline - country relationship"
   ]
  },
  {
   "cell_type": "code",
   "execution_count": 59,
   "id": "e9f6591e",
   "metadata": {},
   "outputs": [
    {
     "data": {
      "text/html": [
       "<div>\n",
       "<style scoped>\n",
       "    .dataframe tbody tr th:only-of-type {\n",
       "        vertical-align: middle;\n",
       "    }\n",
       "\n",
       "    .dataframe tbody tr th {\n",
       "        vertical-align: top;\n",
       "    }\n",
       "\n",
       "    .dataframe thead th {\n",
       "        text-align: right;\n",
       "    }\n",
       "</style>\n",
       "<table border=\"1\" class=\"dataframe\">\n",
       "  <thead>\n",
       "    <tr style=\"text-align: right;\">\n",
       "      <th></th>\n",
       "      <th>state</th>\n",
       "      <th>country</th>\n",
       "      <th>status_x</th>\n",
       "      <th>sales_rev</th>\n",
       "    </tr>\n",
       "  </thead>\n",
       "  <tbody>\n",
       "    <tr>\n",
       "      <th>0</th>\n",
       "      <td>DECLINED</td>\n",
       "      <td>US</td>\n",
       "      <td>297</td>\n",
       "      <td>25125669.78</td>\n",
       "    </tr>\n",
       "    <tr>\n",
       "      <th>1</th>\n",
       "      <td>DECLINED</td>\n",
       "      <td>AE</td>\n",
       "      <td>291</td>\n",
       "      <td>26335152.43</td>\n",
       "    </tr>\n",
       "    <tr>\n",
       "      <th>2</th>\n",
       "      <td>DECLINED</td>\n",
       "      <td>CA</td>\n",
       "      <td>275</td>\n",
       "      <td>25583266.66</td>\n",
       "    </tr>\n",
       "    <tr>\n",
       "      <th>3</th>\n",
       "      <td>DECLINED</td>\n",
       "      <td>FR</td>\n",
       "      <td>271</td>\n",
       "      <td>24609910.18</td>\n",
       "    </tr>\n",
       "    <tr>\n",
       "      <th>4</th>\n",
       "      <td>DECLINED</td>\n",
       "      <td>MX</td>\n",
       "      <td>261</td>\n",
       "      <td>21970362.99</td>\n",
       "    </tr>\n",
       "    <tr>\n",
       "      <th>5</th>\n",
       "      <td>DECLINED</td>\n",
       "      <td>UK</td>\n",
       "      <td>258</td>\n",
       "      <td>19713233.74</td>\n",
       "    </tr>\n",
       "  </tbody>\n",
       "</table>\n",
       "</div>"
      ],
      "text/plain": [
       "      state country  status_x    sales_rev\n",
       "0  DECLINED      US       297  25125669.78\n",
       "1  DECLINED      AE       291  26335152.43\n",
       "2  DECLINED      CA       275  25583266.66\n",
       "3  DECLINED      FR       271  24609910.18\n",
       "4  DECLINED      MX       261  21970362.99\n",
       "5  DECLINED      UK       258  19713233.74"
      ]
     },
     "execution_count": 59,
     "metadata": {},
     "output_type": "execute_result"
    }
   ],
   "source": [
    "# check card decline country relationship\n",
    "ctry = gp_merged2[gp_merged2['state'].str.contains('DECLINED')]\\\n",
    ".groupby(['state','country']).\\\n",
    "sum().loc[:, ['status_x','amount']].sort_values(['status_x','amount']\\\n",
    ",ascending = [False,False]).rename({'amount' : 'sales_rev'},axis = 1).reset_index()\n",
    "ctry"
   ]
  },
  {
   "cell_type": "code",
   "execution_count": 60,
   "id": "36cef833",
   "metadata": {},
   "outputs": [
    {
     "data": {
      "image/png": "[encoded data removed]",
      "text/plain": [
       "<Figure size 360x360 with 1 Axes>"
      ]
     },
     "metadata": {
      "needs_background": "light"
     },
     "output_type": "display_data"
    }
   ],
   "source": [
    "# using seaborn to plot bar\n",
    "sns.catplot(data = ctry , x = ctry.country , y = ctry.sales_rev , kind = 'bar');"
   ]
  },
  {
   "cell_type": "markdown",
   "id": "03ec6398-b7b3-4f87-b2db-f15c967107b1",
   "metadata": {},
   "source": [
    "## **category correleation**"
   ]
  },
  {
   "cell_type": "code",
   "execution_count": 66,
   "id": "e135cea7-ffe4-42b2-804c-0084287a4124",
   "metadata": {},
   "outputs": [],
   "source": [
    "merged_corr = gp_merged1.drop(['status_x','status_y'],axis =1)"
   ]
  },
  {
   "cell_type": "code",
   "execution_count": 74,
   "id": "b40c9678-8bf7-43c2-b49d-683276c6d660",
   "metadata": {},
   "outputs": [
    {
     "data": {
      "text/plain": [
       "<AxesSubplot:>"
      ]
     },
     "execution_count": 74,
     "metadata": {},
     "output_type": "execute_result"
    },
    {
     "data": {
      "image/png": "[encoded data removed]",
      "text/plain": [
       "<Figure size 432x288 with 2 Axes>"
      ]
     },
     "metadata": {
      "needs_background": "light"
     },
     "output_type": "display_data"
    }
   ],
   "source": [
    "sns.heatmap(merged_corr.corr(),annot = True)"
   ]
  },
  {
   "cell_type": "code",
   "execution_count": 72,
   "id": "17be028b-9609-49d3-8ffa-a6e3d3dd8449",
   "metadata": {},
   "outputs": [],
   "source": [
    "merged_corr['state(a/d)'] = [1 if i == 'ACCEPTED' else 0 for i in merged_corr.state.values]"
   ]
  },
  {
   "cell_type": "code",
   "execution_count": 73,
   "id": "95ab40b7-d2ca-4d8b-8a35-216b7b4e022b",
   "metadata": {},
   "outputs": [
    {
     "data": {
      "text/html": [
       "<div>\n",
       "<style scoped>\n",
       "    .dataframe tbody tr th:only-of-type {\n",
       "        vertical-align: middle;\n",
       "    }\n",
       "\n",
       "    .dataframe tbody tr th {\n",
       "        vertical-align: top;\n",
       "    }\n",
       "\n",
       "    .dataframe thead th {\n",
       "        text-align: right;\n",
       "    }\n",
       "</style>\n",
       "<table border=\"1\" class=\"dataframe\">\n",
       "  <thead>\n",
       "    <tr style=\"text-align: right;\">\n",
       "      <th></th>\n",
       "      <th>external_ref</th>\n",
       "      <th>source_x</th>\n",
       "      <th>ref</th>\n",
       "      <th>date_time</th>\n",
       "      <th>state</th>\n",
       "      <th>cvv_provided</th>\n",
       "      <th>amount</th>\n",
       "      <th>country</th>\n",
       "      <th>currency</th>\n",
       "      <th>rates</th>\n",
       "      <th>source_y</th>\n",
       "      <th>chargeback</th>\n",
       "      <th>state(a/d)</th>\n",
       "    </tr>\n",
       "  </thead>\n",
       "  <tbody>\n",
       "    <tr>\n",
       "      <th>0</th>\n",
       "      <td>nCyEIIGaP5QQ2Wqb-_Rt8</td>\n",
       "      <td>GLOBALPAY</td>\n",
       "      <td>evt_1ESgcCOV7fY1ChY1MkZizZt</td>\n",
       "      <td>2019-01-01T00:00:00.000Z</td>\n",
       "      <td>DECLINED</td>\n",
       "      <td>False</td>\n",
       "      <td>1020.46</td>\n",
       "      <td>US</td>\n",
       "      <td>USD</td>\n",
       "      <td>{\"CAD\":1.415,\"EUR\":0.926,\"MXN\":25.103,\"USD\":1,...</td>\n",
       "      <td>GLOBALPAY</td>\n",
       "      <td>False</td>\n",
       "      <td>0</td>\n",
       "    </tr>\n",
       "    <tr>\n",
       "      <th>1</th>\n",
       "      <td>ptNiI9B7NNpK7VsMZx6zZ</td>\n",
       "      <td>GLOBALPAY</td>\n",
       "      <td>evt_1EBMGCEjEtianKMJaZXOx1y</td>\n",
       "      <td>2019-01-01T04:48:00.000Z</td>\n",
       "      <td>ACCEPTED</td>\n",
       "      <td>False</td>\n",
       "      <td>1582.57</td>\n",
       "      <td>US</td>\n",
       "      <td>USD</td>\n",
       "      <td>{\"CAD\":1.415,\"EUR\":0.926,\"MXN\":25.103,\"USD\":1,...</td>\n",
       "      <td>GLOBALPAY</td>\n",
       "      <td>True</td>\n",
       "      <td>1</td>\n",
       "    </tr>\n",
       "    <tr>\n",
       "      <th>2</th>\n",
       "      <td>1GS5BDKBnauCt-3nHPs6x</td>\n",
       "      <td>GLOBALPAY</td>\n",
       "      <td>evt_1EOALu0AZqEhZBn9ub_nbcE</td>\n",
       "      <td>2019-01-01T09:36:00.000Z</td>\n",
       "      <td>DECLINED</td>\n",
       "      <td>False</td>\n",
       "      <td>1653.07</td>\n",
       "      <td>US</td>\n",
       "      <td>USD</td>\n",
       "      <td>{\"CAD\":1.415,\"EUR\":0.926,\"MXN\":25.103,\"USD\":1,...</td>\n",
       "      <td>GLOBALPAY</td>\n",
       "      <td>False</td>\n",
       "      <td>0</td>\n",
       "    </tr>\n",
       "    <tr>\n",
       "      <th>3</th>\n",
       "      <td>Y_oecYz8GjBDaxmMqkkLQ</td>\n",
       "      <td>GLOBALPAY</td>\n",
       "      <td>evt_1ESHsWyaSPqE1mrmJ2B6rvs</td>\n",
       "      <td>2019-01-01T14:24:00.000Z</td>\n",
       "      <td>ACCEPTED</td>\n",
       "      <td>False</td>\n",
       "      <td>2228.17</td>\n",
       "      <td>US</td>\n",
       "      <td>USD</td>\n",
       "      <td>{\"CAD\":1.415,\"EUR\":0.926,\"MXN\":25.103,\"USD\":1,...</td>\n",
       "      <td>GLOBALPAY</td>\n",
       "      <td>True</td>\n",
       "      <td>1</td>\n",
       "    </tr>\n",
       "    <tr>\n",
       "      <th>4</th>\n",
       "      <td>LlEs1TnKVa2xX6PH9Zsz0</td>\n",
       "      <td>GLOBALPAY</td>\n",
       "      <td>evt_1EjzPk13qLzmvDR_4hXuMMw</td>\n",
       "      <td>2019-01-01T19:12:00.000Z</td>\n",
       "      <td>ACCEPTED</td>\n",
       "      <td>False</td>\n",
       "      <td>2589.92</td>\n",
       "      <td>US</td>\n",
       "      <td>USD</td>\n",
       "      <td>{\"CAD\":1.415,\"EUR\":0.926,\"MXN\":25.103,\"USD\":1,...</td>\n",
       "      <td>GLOBALPAY</td>\n",
       "      <td>True</td>\n",
       "      <td>1</td>\n",
       "    </tr>\n",
       "    <tr>\n",
       "      <th>...</th>\n",
       "      <td>...</td>\n",
       "      <td>...</td>\n",
       "      <td>...</td>\n",
       "      <td>...</td>\n",
       "      <td>...</td>\n",
       "      <td>...</td>\n",
       "      <td>...</td>\n",
       "      <td>...</td>\n",
       "      <td>...</td>\n",
       "      <td>...</td>\n",
       "      <td>...</td>\n",
       "      <td>...</td>\n",
       "      <td>...</td>\n",
       "    </tr>\n",
       "    <tr>\n",
       "      <th>5425</th>\n",
       "      <td>mej1WI86fIPr4fZStA1wx</td>\n",
       "      <td>GLOBALPAY</td>\n",
       "      <td>evt_1EhM7CrZvfh_Aw8H-aP-Sgu</td>\n",
       "      <td>2019-06-30T00:00:00.000Z</td>\n",
       "      <td>ACCEPTED</td>\n",
       "      <td>False</td>\n",
       "      <td>178728.10</td>\n",
       "      <td>AE</td>\n",
       "      <td>USD</td>\n",
       "      <td>{\"CAD\":1.3804492977599183,\"EUR\":0.701309191107...</td>\n",
       "      <td>GLOBALPAY</td>\n",
       "      <td>False</td>\n",
       "      <td>1</td>\n",
       "    </tr>\n",
       "    <tr>\n",
       "      <th>5426</th>\n",
       "      <td>bl5iBGuCq9zNpQDaCGWHP</td>\n",
       "      <td>GLOBALPAY</td>\n",
       "      <td>evt_1EuNMahC_lsgbRGMDHcuJdB</td>\n",
       "      <td>2019-06-30T04:48:00.000Z</td>\n",
       "      <td>DECLINED</td>\n",
       "      <td>False</td>\n",
       "      <td>179198.55</td>\n",
       "      <td>AE</td>\n",
       "      <td>USD</td>\n",
       "      <td>{\"CAD\":1.3804492977599183,\"EUR\":0.701309191107...</td>\n",
       "      <td>GLOBALPAY</td>\n",
       "      <td>False</td>\n",
       "      <td>0</td>\n",
       "    </tr>\n",
       "    <tr>\n",
       "      <th>5427</th>\n",
       "      <td>RPAQwH-O6cBXjzWqS7O6D</td>\n",
       "      <td>GLOBALPAY</td>\n",
       "      <td>evt_1EcQnLsAtP8N1mlkTN1j-A1</td>\n",
       "      <td>2019-06-30T09:36:00.000Z</td>\n",
       "      <td>ACCEPTED</td>\n",
       "      <td>False</td>\n",
       "      <td>179388.92</td>\n",
       "      <td>AE</td>\n",
       "      <td>USD</td>\n",
       "      <td>{\"CAD\":1.3804492977599183,\"EUR\":0.701309191107...</td>\n",
       "      <td>GLOBALPAY</td>\n",
       "      <td>False</td>\n",
       "      <td>1</td>\n",
       "    </tr>\n",
       "    <tr>\n",
       "      <th>5428</th>\n",
       "      <td>SHBEeyLOy4YKGAdYNfoXI</td>\n",
       "      <td>GLOBALPAY</td>\n",
       "      <td>evt_1El9nJBqeQtkSiDvhY3KrkV</td>\n",
       "      <td>2019-06-30T14:24:00.000Z</td>\n",
       "      <td>ACCEPTED</td>\n",
       "      <td>False</td>\n",
       "      <td>179982.21</td>\n",
       "      <td>AE</td>\n",
       "      <td>USD</td>\n",
       "      <td>{\"CAD\":1.3804492977599183,\"EUR\":0.701309191107...</td>\n",
       "      <td>GLOBALPAY</td>\n",
       "      <td>False</td>\n",
       "      <td>1</td>\n",
       "    </tr>\n",
       "    <tr>\n",
       "      <th>5429</th>\n",
       "      <td>9LegOM12xUBEINUmgVSbR</td>\n",
       "      <td>GLOBALPAY</td>\n",
       "      <td>evt_1Ernrs7xkWmrOF8z9ESEzGa</td>\n",
       "      <td>2019-06-30T19:12:00.000Z</td>\n",
       "      <td>DECLINED</td>\n",
       "      <td>False</td>\n",
       "      <td>180371.52</td>\n",
       "      <td>AE</td>\n",
       "      <td>USD</td>\n",
       "      <td>{\"CAD\":1.3804492977599183,\"EUR\":0.701309191107...</td>\n",
       "      <td>GLOBALPAY</td>\n",
       "      <td>False</td>\n",
       "      <td>0</td>\n",
       "    </tr>\n",
       "  </tbody>\n",
       "</table>\n",
       "<p>5430 rows × 13 columns</p>\n",
       "</div>"
      ],
      "text/plain": [
       "               external_ref   source_x                          ref  \\\n",
       "0     nCyEIIGaP5QQ2Wqb-_Rt8  GLOBALPAY  evt_1ESgcCOV7fY1ChY1MkZizZt   \n",
       "1     ptNiI9B7NNpK7VsMZx6zZ  GLOBALPAY  evt_1EBMGCEjEtianKMJaZXOx1y   \n",
       "2     1GS5BDKBnauCt-3nHPs6x  GLOBALPAY  evt_1EOALu0AZqEhZBn9ub_nbcE   \n",
       "3     Y_oecYz8GjBDaxmMqkkLQ  GLOBALPAY  evt_1ESHsWyaSPqE1mrmJ2B6rvs   \n",
       "4     LlEs1TnKVa2xX6PH9Zsz0  GLOBALPAY  evt_1EjzPk13qLzmvDR_4hXuMMw   \n",
       "...                     ...        ...                          ...   \n",
       "5425  mej1WI86fIPr4fZStA1wx  GLOBALPAY  evt_1EhM7CrZvfh_Aw8H-aP-Sgu   \n",
       "5426  bl5iBGuCq9zNpQDaCGWHP  GLOBALPAY  evt_1EuNMahC_lsgbRGMDHcuJdB   \n",
       "5427  RPAQwH-O6cBXjzWqS7O6D  GLOBALPAY  evt_1EcQnLsAtP8N1mlkTN1j-A1   \n",
       "5428  SHBEeyLOy4YKGAdYNfoXI  GLOBALPAY  evt_1El9nJBqeQtkSiDvhY3KrkV   \n",
       "5429  9LegOM12xUBEINUmgVSbR  GLOBALPAY  evt_1Ernrs7xkWmrOF8z9ESEzGa   \n",
       "\n",
       "                     date_time     state  cvv_provided     amount country  \\\n",
       "0     2019-01-01T00:00:00.000Z  DECLINED         False    1020.46      US   \n",
       "1     2019-01-01T04:48:00.000Z  ACCEPTED         False    1582.57      US   \n",
       "2     2019-01-01T09:36:00.000Z  DECLINED         False    1653.07      US   \n",
       "3     2019-01-01T14:24:00.000Z  ACCEPTED         False    2228.17      US   \n",
       "4     2019-01-01T19:12:00.000Z  ACCEPTED         False    2589.92      US   \n",
       "...                        ...       ...           ...        ...     ...   \n",
       "5425  2019-06-30T00:00:00.000Z  ACCEPTED         False  178728.10      AE   \n",
       "5426  2019-06-30T04:48:00.000Z  DECLINED         False  179198.55      AE   \n",
       "5427  2019-06-30T09:36:00.000Z  ACCEPTED         False  179388.92      AE   \n",
       "5428  2019-06-30T14:24:00.000Z  ACCEPTED         False  179982.21      AE   \n",
       "5429  2019-06-30T19:12:00.000Z  DECLINED         False  180371.52      AE   \n",
       "\n",
       "     currency                                              rates   source_y  \\\n",
       "0         USD  {\"CAD\":1.415,\"EUR\":0.926,\"MXN\":25.103,\"USD\":1,...  GLOBALPAY   \n",
       "1         USD  {\"CAD\":1.415,\"EUR\":0.926,\"MXN\":25.103,\"USD\":1,...  GLOBALPAY   \n",
       "2         USD  {\"CAD\":1.415,\"EUR\":0.926,\"MXN\":25.103,\"USD\":1,...  GLOBALPAY   \n",
       "3         USD  {\"CAD\":1.415,\"EUR\":0.926,\"MXN\":25.103,\"USD\":1,...  GLOBALPAY   \n",
       "4         USD  {\"CAD\":1.415,\"EUR\":0.926,\"MXN\":25.103,\"USD\":1,...  GLOBALPAY   \n",
       "...       ...                                                ...        ...   \n",
       "5425      USD  {\"CAD\":1.3804492977599183,\"EUR\":0.701309191107...  GLOBALPAY   \n",
       "5426      USD  {\"CAD\":1.3804492977599183,\"EUR\":0.701309191107...  GLOBALPAY   \n",
       "5427      USD  {\"CAD\":1.3804492977599183,\"EUR\":0.701309191107...  GLOBALPAY   \n",
       "5428      USD  {\"CAD\":1.3804492977599183,\"EUR\":0.701309191107...  GLOBALPAY   \n",
       "5429      USD  {\"CAD\":1.3804492977599183,\"EUR\":0.701309191107...  GLOBALPAY   \n",
       "\n",
       "      chargeback  state(a/d)  \n",
       "0          False           0  \n",
       "1           True           1  \n",
       "2          False           0  \n",
       "3           True           1  \n",
       "4           True           1  \n",
       "...          ...         ...  \n",
       "5425       False           1  \n",
       "5426       False           0  \n",
       "5427       False           1  \n",
       "5428       False           1  \n",
       "5429       False           0  \n",
       "\n",
       "[5430 rows x 13 columns]"
      ]
     },
     "execution_count": 73,
     "metadata": {},
     "output_type": "execute_result"
    }
   ],
   "source": [
    "merged_corr"
   ]
  },
  {
   "cell_type": "code",
   "execution_count": 102,
   "id": "5d92f4bc-b8de-4dd7-8719-77f6aa4c8d3e",
   "metadata": {},
   "outputs": [
    {
     "data": {
      "text/html": [
       "<div>\n",
       "<style scoped>\n",
       "    .dataframe tbody tr th:only-of-type {\n",
       "        vertical-align: middle;\n",
       "    }\n",
       "\n",
       "    .dataframe tbody tr th {\n",
       "        vertical-align: top;\n",
       "    }\n",
       "\n",
       "    .dataframe thead th {\n",
       "        text-align: right;\n",
       "    }\n",
       "</style>\n",
       "<table border=\"1\" class=\"dataframe\">\n",
       "  <thead>\n",
       "    <tr style=\"text-align: right;\">\n",
       "      <th>state</th>\n",
       "      <th>ACCEPTED</th>\n",
       "      <th>DECLINED</th>\n",
       "    </tr>\n",
       "    <tr>\n",
       "      <th>cvv_provided</th>\n",
       "      <th></th>\n",
       "      <th></th>\n",
       "    </tr>\n",
       "  </thead>\n",
       "  <tbody>\n",
       "    <tr>\n",
       "      <th>False</th>\n",
       "      <td>3752</td>\n",
       "      <td>1638</td>\n",
       "    </tr>\n",
       "    <tr>\n",
       "      <th>True</th>\n",
       "      <td>25</td>\n",
       "      <td>15</td>\n",
       "    </tr>\n",
       "  </tbody>\n",
       "</table>\n",
       "</div>"
      ],
      "text/plain": [
       "state         ACCEPTED  DECLINED\n",
       "cvv_provided                    \n",
       "False             3752      1638\n",
       "True                25        15"
      ]
     },
     "execution_count": 102,
     "metadata": {},
     "output_type": "execute_result"
    }
   ],
   "source": [
    "merged_corr.pivot_table(index ='state', columns = 'cvv_provided', values = 'chargeback',aggfunc = 'count').T"
   ]
  },
  {
   "cell_type": "code",
   "execution_count": 107,
   "id": "d7ac29a9-8a82-4848-b442-4e4108dc6df0",
   "metadata": {},
   "outputs": [
    {
     "data": {
      "text/plain": [
       "<AxesSubplot:xlabel='cvv_provided', ylabel='state'>"
      ]
     },
     "execution_count": 107,
     "metadata": {},
     "output_type": "execute_result"
    },
    {
     "data": {
      "image/png": "[encoded data removed]",
      "text/plain": [
       "<Figure size 432x288 with 2 Axes>"
      ]
     },
     "metadata": {
      "needs_background": "light"
     },
     "output_type": "display_data"
    }
   ],
   "source": [
    "sns.heatmap(merged_corr.pivot_table(index ='state', columns = 'cvv_provided', values = 'chargeback',aggfunc = 'count'),annot = True)"
   ]
  },
  {
   "cell_type": "code",
   "execution_count": null,
   "id": "5dc10083-a5ed-4d8b-976d-27fc48ab404b",
   "metadata": {},
   "outputs": [],
   "source": []
  },
  {
   "cell_type": "code",
   "execution_count": null,
   "id": "4076cf9c-d3ef-4bda-b832-3278799fec62",
   "metadata": {},
   "outputs": [],
   "source": []
  }
 ],
 "metadata": {
  "kernelspec": {
   "display_name": "Python 3",
   "language": "python",
   "name": "python3"
  },
  "language_info": {
   "codemirror_mode": {
    "name": "ipython",
    "version": 3
   },
   "file_extension": ".py",
   "mimetype": "text/x-python",
   "name": "python",
   "nbconvert_exporter": "python",
   "pygments_lexer": "ipython3",
   "version": "3.8.8"
  },
  "nteract": {
   "version": "0.28.0"
  }
 },
 "nbformat": 4,
 "nbformat_minor": 5
}
