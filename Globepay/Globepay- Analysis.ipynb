{
 "cells": [
  {
   "cell_type": "markdown",
   "id": "bf90ce00",
   "metadata": {},
   "source": [
    "# An analysis of Globepays transaction decline - Recommendations"
   ]
  },
  {
   "cell_type": "code",
   "execution_count": 3,
   "id": "2076928e",
   "metadata": {},
   "outputs": [],
   "source": [
    "import pandas as pd"
   ]
  },
  {
   "cell_type": "code",
   "execution_count": 4,
   "id": "ca6be9ad",
   "metadata": {},
   "outputs": [],
   "source": [
    "import numpy as np"
   ]
  },
  {
   "cell_type": "code",
   "execution_count": 5,
   "id": "3db0c6a9",
   "metadata": {},
   "outputs": [],
   "source": [
    "import datetime\n",
    "import matplotlib.pyplot as plt"
   ]
  },
  {
   "cell_type": "markdown",
   "id": "39026d98",
   "metadata": {},
   "source": [
    "# Importing the 1st dataset"
   ]
  },
  {
   "cell_type": "code",
   "execution_count": 6,
   "id": "11fa17f8",
   "metadata": {},
   "outputs": [],
   "source": [
    "# import the dataset\n",
    "gp_ac = pd.read_csv\\\n",
    "(r'C:\\Users\\godwi\\GitHub\\Python-Pandas\\Globepay\\Globepay Acceptance Report.csv')"
   ]
  },
  {
   "cell_type": "code",
   "execution_count": 7,
   "id": "5659df68",
   "metadata": {},
   "outputs": [
    {
     "data": {
      "text/html": [
       "<div>\n",
       "<style scoped>\n",
       "    .dataframe tbody tr th:only-of-type {\n",
       "        vertical-align: middle;\n",
       "    }\n",
       "\n",
       "    .dataframe tbody tr th {\n",
       "        vertical-align: top;\n",
       "    }\n",
       "\n",
       "    .dataframe thead th {\n",
       "        text-align: right;\n",
       "    }\n",
       "</style>\n",
       "<table border=\"1\" class=\"dataframe\">\n",
       "  <thead>\n",
       "    <tr style=\"text-align: right;\">\n",
       "      <th></th>\n",
       "      <th>external_ref</th>\n",
       "      <th>status</th>\n",
       "      <th>source</th>\n",
       "      <th>ref</th>\n",
       "      <th>date_time</th>\n",
       "      <th>state</th>\n",
       "      <th>cvv_provided</th>\n",
       "      <th>amount</th>\n",
       "      <th>country</th>\n",
       "      <th>currency</th>\n",
       "      <th>rates</th>\n",
       "    </tr>\n",
       "  </thead>\n",
       "  <tbody>\n",
       "    <tr>\n",
       "      <th>0</th>\n",
       "      <td>nCyEIIGaP5QQ2Wqb-_Rt8</td>\n",
       "      <td>True</td>\n",
       "      <td>GLOBALPAY</td>\n",
       "      <td>evt_1ESgcCOV7fY1ChY1MkZizZt</td>\n",
       "      <td>2019-01-01T00:00:00.000Z</td>\n",
       "      <td>DECLINED</td>\n",
       "      <td>False</td>\n",
       "      <td>1020.46</td>\n",
       "      <td>US</td>\n",
       "      <td>USD</td>\n",
       "      <td>{\"CAD\":1.415,\"EUR\":0.926,\"MXN\":25.103,\"USD\":1,...</td>\n",
       "    </tr>\n",
       "    <tr>\n",
       "      <th>1</th>\n",
       "      <td>ptNiI9B7NNpK7VsMZx6zZ</td>\n",
       "      <td>True</td>\n",
       "      <td>GLOBALPAY</td>\n",
       "      <td>evt_1EBMGCEjEtianKMJaZXOx1y</td>\n",
       "      <td>2019-01-01T04:48:00.000Z</td>\n",
       "      <td>ACCEPTED</td>\n",
       "      <td>False</td>\n",
       "      <td>1582.57</td>\n",
       "      <td>US</td>\n",
       "      <td>USD</td>\n",
       "      <td>{\"CAD\":1.415,\"EUR\":0.926,\"MXN\":25.103,\"USD\":1,...</td>\n",
       "    </tr>\n",
       "    <tr>\n",
       "      <th>2</th>\n",
       "      <td>1GS5BDKBnauCt-3nHPs6x</td>\n",
       "      <td>True</td>\n",
       "      <td>GLOBALPAY</td>\n",
       "      <td>evt_1EOALu0AZqEhZBn9ub_nbcE</td>\n",
       "      <td>2019-01-01T09:36:00.000Z</td>\n",
       "      <td>DECLINED</td>\n",
       "      <td>False</td>\n",
       "      <td>1653.07</td>\n",
       "      <td>US</td>\n",
       "      <td>USD</td>\n",
       "      <td>{\"CAD\":1.415,\"EUR\":0.926,\"MXN\":25.103,\"USD\":1,...</td>\n",
       "    </tr>\n",
       "    <tr>\n",
       "      <th>3</th>\n",
       "      <td>Y_oecYz8GjBDaxmMqkkLQ</td>\n",
       "      <td>True</td>\n",
       "      <td>GLOBALPAY</td>\n",
       "      <td>evt_1ESHsWyaSPqE1mrmJ2B6rvs</td>\n",
       "      <td>2019-01-01T14:24:00.000Z</td>\n",
       "      <td>ACCEPTED</td>\n",
       "      <td>False</td>\n",
       "      <td>2228.17</td>\n",
       "      <td>US</td>\n",
       "      <td>USD</td>\n",
       "      <td>{\"CAD\":1.415,\"EUR\":0.926,\"MXN\":25.103,\"USD\":1,...</td>\n",
       "    </tr>\n",
       "    <tr>\n",
       "      <th>4</th>\n",
       "      <td>LlEs1TnKVa2xX6PH9Zsz0</td>\n",
       "      <td>True</td>\n",
       "      <td>GLOBALPAY</td>\n",
       "      <td>evt_1EjzPk13qLzmvDR_4hXuMMw</td>\n",
       "      <td>2019-01-01T19:12:00.000Z</td>\n",
       "      <td>ACCEPTED</td>\n",
       "      <td>False</td>\n",
       "      <td>2589.92</td>\n",
       "      <td>US</td>\n",
       "      <td>USD</td>\n",
       "      <td>{\"CAD\":1.415,\"EUR\":0.926,\"MXN\":25.103,\"USD\":1,...</td>\n",
       "    </tr>\n",
       "    <tr>\n",
       "      <th>5</th>\n",
       "      <td>XMiBCl0zkTGdVu_IgKNbS</td>\n",
       "      <td>True</td>\n",
       "      <td>GLOBALPAY</td>\n",
       "      <td>evt_1ESWbgipcFeU4B6eW5kWMgn</td>\n",
       "      <td>2019-01-01T00:00:00.000Z</td>\n",
       "      <td>ACCEPTED</td>\n",
       "      <td>False</td>\n",
       "      <td>1509.12</td>\n",
       "      <td>MX</td>\n",
       "      <td>MXN</td>\n",
       "      <td>{\"CAD\":1.4150668250112406,\"EUR\":0.924750490289...</td>\n",
       "    </tr>\n",
       "    <tr>\n",
       "      <th>6</th>\n",
       "      <td>unSNmffbtST60mDH0WpUc</td>\n",
       "      <td>True</td>\n",
       "      <td>GLOBALPAY</td>\n",
       "      <td>evt_1Exxzo9M0d271kmuX5kNmRL</td>\n",
       "      <td>2019-01-01T04:48:00.000Z</td>\n",
       "      <td>ACCEPTED</td>\n",
       "      <td>False</td>\n",
       "      <td>1923.13</td>\n",
       "      <td>MX</td>\n",
       "      <td>MXN</td>\n",
       "      <td>{\"CAD\":1.4150668250112406,\"EUR\":0.924750490289...</td>\n",
       "    </tr>\n",
       "  </tbody>\n",
       "</table>\n",
       "</div>"
      ],
      "text/plain": [
       "            external_ref  status     source                          ref  \\\n",
       "0  nCyEIIGaP5QQ2Wqb-_Rt8    True  GLOBALPAY  evt_1ESgcCOV7fY1ChY1MkZizZt   \n",
       "1  ptNiI9B7NNpK7VsMZx6zZ    True  GLOBALPAY  evt_1EBMGCEjEtianKMJaZXOx1y   \n",
       "2  1GS5BDKBnauCt-3nHPs6x    True  GLOBALPAY  evt_1EOALu0AZqEhZBn9ub_nbcE   \n",
       "3  Y_oecYz8GjBDaxmMqkkLQ    True  GLOBALPAY  evt_1ESHsWyaSPqE1mrmJ2B6rvs   \n",
       "4  LlEs1TnKVa2xX6PH9Zsz0    True  GLOBALPAY  evt_1EjzPk13qLzmvDR_4hXuMMw   \n",
       "5  XMiBCl0zkTGdVu_IgKNbS    True  GLOBALPAY  evt_1ESWbgipcFeU4B6eW5kWMgn   \n",
       "6  unSNmffbtST60mDH0WpUc    True  GLOBALPAY  evt_1Exxzo9M0d271kmuX5kNmRL   \n",
       "\n",
       "                  date_time     state  cvv_provided   amount country currency  \\\n",
       "0  2019-01-01T00:00:00.000Z  DECLINED         False  1020.46      US      USD   \n",
       "1  2019-01-01T04:48:00.000Z  ACCEPTED         False  1582.57      US      USD   \n",
       "2  2019-01-01T09:36:00.000Z  DECLINED         False  1653.07      US      USD   \n",
       "3  2019-01-01T14:24:00.000Z  ACCEPTED         False  2228.17      US      USD   \n",
       "4  2019-01-01T19:12:00.000Z  ACCEPTED         False  2589.92      US      USD   \n",
       "5  2019-01-01T00:00:00.000Z  ACCEPTED         False  1509.12      MX      MXN   \n",
       "6  2019-01-01T04:48:00.000Z  ACCEPTED         False  1923.13      MX      MXN   \n",
       "\n",
       "                                               rates  \n",
       "0  {\"CAD\":1.415,\"EUR\":0.926,\"MXN\":25.103,\"USD\":1,...  \n",
       "1  {\"CAD\":1.415,\"EUR\":0.926,\"MXN\":25.103,\"USD\":1,...  \n",
       "2  {\"CAD\":1.415,\"EUR\":0.926,\"MXN\":25.103,\"USD\":1,...  \n",
       "3  {\"CAD\":1.415,\"EUR\":0.926,\"MXN\":25.103,\"USD\":1,...  \n",
       "4  {\"CAD\":1.415,\"EUR\":0.926,\"MXN\":25.103,\"USD\":1,...  \n",
       "5  {\"CAD\":1.4150668250112406,\"EUR\":0.924750490289...  \n",
       "6  {\"CAD\":1.4150668250112406,\"EUR\":0.924750490289...  "
      ]
     },
     "execution_count": 7,
     "metadata": {},
     "output_type": "execute_result"
    }
   ],
   "source": [
    "gp_ac.head(7)  # cchecking first 7 rows"
   ]
  },
  {
   "cell_type": "markdown",
   "id": "3405fc84",
   "metadata": {},
   "source": [
    "# Importing the 2nd dataset"
   ]
  },
  {
   "cell_type": "code",
   "execution_count": 8,
   "id": "62dc35e0",
   "metadata": {},
   "outputs": [],
   "source": [
    "# import the dataset\n",
    "gp_cb = pd.read_csv\\\n",
    "(r'C:\\Users\\godwi\\GitHub\\Python-Pandas\\Globepay\\Globepay Chargeback Report.csv')"
   ]
  },
  {
   "cell_type": "code",
   "execution_count": 9,
   "id": "fd420dc3",
   "metadata": {},
   "outputs": [
    {
     "data": {
      "text/html": [
       "<div>\n",
       "<style scoped>\n",
       "    .dataframe tbody tr th:only-of-type {\n",
       "        vertical-align: middle;\n",
       "    }\n",
       "\n",
       "    .dataframe tbody tr th {\n",
       "        vertical-align: top;\n",
       "    }\n",
       "\n",
       "    .dataframe thead th {\n",
       "        text-align: right;\n",
       "    }\n",
       "</style>\n",
       "<table border=\"1\" class=\"dataframe\">\n",
       "  <thead>\n",
       "    <tr style=\"text-align: right;\">\n",
       "      <th></th>\n",
       "      <th>external_ref</th>\n",
       "      <th>status</th>\n",
       "      <th>source</th>\n",
       "      <th>chargeback</th>\n",
       "    </tr>\n",
       "  </thead>\n",
       "  <tbody>\n",
       "    <tr>\n",
       "      <th>0</th>\n",
       "      <td>_-UTDS0dMlagMWEtQKMy-</td>\n",
       "      <td>True</td>\n",
       "      <td>GLOBALPAY</td>\n",
       "      <td>False</td>\n",
       "    </tr>\n",
       "    <tr>\n",
       "      <th>1</th>\n",
       "      <td>_0fqf75KiPa0iiviKCSsU</td>\n",
       "      <td>True</td>\n",
       "      <td>GLOBALPAY</td>\n",
       "      <td>False</td>\n",
       "    </tr>\n",
       "    <tr>\n",
       "      <th>2</th>\n",
       "      <td>_0H9Ecd_RctsLetId-p14</td>\n",
       "      <td>True</td>\n",
       "      <td>GLOBALPAY</td>\n",
       "      <td>False</td>\n",
       "    </tr>\n",
       "    <tr>\n",
       "      <th>3</th>\n",
       "      <td>_0wBrMzAzIhO3fQRWUcBH</td>\n",
       "      <td>True</td>\n",
       "      <td>GLOBALPAY</td>\n",
       "      <td>False</td>\n",
       "    </tr>\n",
       "    <tr>\n",
       "      <th>4</th>\n",
       "      <td>_25jZuGDrmwUEdAwKp1xV</td>\n",
       "      <td>True</td>\n",
       "      <td>GLOBALPAY</td>\n",
       "      <td>False</td>\n",
       "    </tr>\n",
       "    <tr>\n",
       "      <th>5</th>\n",
       "      <td>_2TnPB1sTeVMRGgPeJgPq</td>\n",
       "      <td>True</td>\n",
       "      <td>GLOBALPAY</td>\n",
       "      <td>False</td>\n",
       "    </tr>\n",
       "    <tr>\n",
       "      <th>6</th>\n",
       "      <td>_37I67fDT_R1JwRLapxub</td>\n",
       "      <td>True</td>\n",
       "      <td>GLOBALPAY</td>\n",
       "      <td>False</td>\n",
       "    </tr>\n",
       "  </tbody>\n",
       "</table>\n",
       "</div>"
      ],
      "text/plain": [
       "            external_ref  status     source  chargeback\n",
       "0  _-UTDS0dMlagMWEtQKMy-    True  GLOBALPAY       False\n",
       "1  _0fqf75KiPa0iiviKCSsU    True  GLOBALPAY       False\n",
       "2  _0H9Ecd_RctsLetId-p14    True  GLOBALPAY       False\n",
       "3  _0wBrMzAzIhO3fQRWUcBH    True  GLOBALPAY       False\n",
       "4  _25jZuGDrmwUEdAwKp1xV    True  GLOBALPAY       False\n",
       "5  _2TnPB1sTeVMRGgPeJgPq    True  GLOBALPAY       False\n",
       "6  _37I67fDT_R1JwRLapxub    True  GLOBALPAY       False"
      ]
     },
     "execution_count": 9,
     "metadata": {},
     "output_type": "execute_result"
    }
   ],
   "source": [
    "gp_cb.head(7)  # cchecking first 7 rows"
   ]
  },
  {
   "cell_type": "markdown",
   "id": "02109046",
   "metadata": {},
   "source": [
    "# Merging the two datasets 'inner join'"
   ]
  },
  {
   "cell_type": "code",
   "execution_count": 10,
   "id": "05c4c6e5",
   "metadata": {},
   "outputs": [],
   "source": [
    "#merging the two datasets\n",
    "gp_merged1 = pd.merge(gp_ac, gp_cb, left_on = 'external_ref',right_on = 'external_ref',how = 'inner')"
   ]
  },
  {
   "cell_type": "code",
   "execution_count": 11,
   "id": "70d3056a",
   "metadata": {},
   "outputs": [
    {
     "data": {
      "text/html": [
       "<div>\n",
       "<style scoped>\n",
       "    .dataframe tbody tr th:only-of-type {\n",
       "        vertical-align: middle;\n",
       "    }\n",
       "\n",
       "    .dataframe tbody tr th {\n",
       "        vertical-align: top;\n",
       "    }\n",
       "\n",
       "    .dataframe thead th {\n",
       "        text-align: right;\n",
       "    }\n",
       "</style>\n",
       "<table border=\"1\" class=\"dataframe\">\n",
       "  <thead>\n",
       "    <tr style=\"text-align: right;\">\n",
       "      <th></th>\n",
       "      <th>external_ref</th>\n",
       "      <th>status_x</th>\n",
       "      <th>source_x</th>\n",
       "      <th>ref</th>\n",
       "      <th>date_time</th>\n",
       "      <th>state</th>\n",
       "      <th>cvv_provided</th>\n",
       "      <th>amount</th>\n",
       "      <th>country</th>\n",
       "      <th>currency</th>\n",
       "      <th>rates</th>\n",
       "      <th>status_y</th>\n",
       "      <th>source_y</th>\n",
       "      <th>chargeback</th>\n",
       "    </tr>\n",
       "  </thead>\n",
       "  <tbody>\n",
       "    <tr>\n",
       "      <th>0</th>\n",
       "      <td>nCyEIIGaP5QQ2Wqb-_Rt8</td>\n",
       "      <td>True</td>\n",
       "      <td>GLOBALPAY</td>\n",
       "      <td>evt_1ESgcCOV7fY1ChY1MkZizZt</td>\n",
       "      <td>2019-01-01T00:00:00.000Z</td>\n",
       "      <td>DECLINED</td>\n",
       "      <td>False</td>\n",
       "      <td>1020.46</td>\n",
       "      <td>US</td>\n",
       "      <td>USD</td>\n",
       "      <td>{\"CAD\":1.415,\"EUR\":0.926,\"MXN\":25.103,\"USD\":1,...</td>\n",
       "      <td>True</td>\n",
       "      <td>GLOBALPAY</td>\n",
       "      <td>False</td>\n",
       "    </tr>\n",
       "    <tr>\n",
       "      <th>1</th>\n",
       "      <td>ptNiI9B7NNpK7VsMZx6zZ</td>\n",
       "      <td>True</td>\n",
       "      <td>GLOBALPAY</td>\n",
       "      <td>evt_1EBMGCEjEtianKMJaZXOx1y</td>\n",
       "      <td>2019-01-01T04:48:00.000Z</td>\n",
       "      <td>ACCEPTED</td>\n",
       "      <td>False</td>\n",
       "      <td>1582.57</td>\n",
       "      <td>US</td>\n",
       "      <td>USD</td>\n",
       "      <td>{\"CAD\":1.415,\"EUR\":0.926,\"MXN\":25.103,\"USD\":1,...</td>\n",
       "      <td>True</td>\n",
       "      <td>GLOBALPAY</td>\n",
       "      <td>True</td>\n",
       "    </tr>\n",
       "    <tr>\n",
       "      <th>2</th>\n",
       "      <td>1GS5BDKBnauCt-3nHPs6x</td>\n",
       "      <td>True</td>\n",
       "      <td>GLOBALPAY</td>\n",
       "      <td>evt_1EOALu0AZqEhZBn9ub_nbcE</td>\n",
       "      <td>2019-01-01T09:36:00.000Z</td>\n",
       "      <td>DECLINED</td>\n",
       "      <td>False</td>\n",
       "      <td>1653.07</td>\n",
       "      <td>US</td>\n",
       "      <td>USD</td>\n",
       "      <td>{\"CAD\":1.415,\"EUR\":0.926,\"MXN\":25.103,\"USD\":1,...</td>\n",
       "      <td>True</td>\n",
       "      <td>GLOBALPAY</td>\n",
       "      <td>False</td>\n",
       "    </tr>\n",
       "    <tr>\n",
       "      <th>3</th>\n",
       "      <td>Y_oecYz8GjBDaxmMqkkLQ</td>\n",
       "      <td>True</td>\n",
       "      <td>GLOBALPAY</td>\n",
       "      <td>evt_1ESHsWyaSPqE1mrmJ2B6rvs</td>\n",
       "      <td>2019-01-01T14:24:00.000Z</td>\n",
       "      <td>ACCEPTED</td>\n",
       "      <td>False</td>\n",
       "      <td>2228.17</td>\n",
       "      <td>US</td>\n",
       "      <td>USD</td>\n",
       "      <td>{\"CAD\":1.415,\"EUR\":0.926,\"MXN\":25.103,\"USD\":1,...</td>\n",
       "      <td>True</td>\n",
       "      <td>GLOBALPAY</td>\n",
       "      <td>True</td>\n",
       "    </tr>\n",
       "    <tr>\n",
       "      <th>4</th>\n",
       "      <td>LlEs1TnKVa2xX6PH9Zsz0</td>\n",
       "      <td>True</td>\n",
       "      <td>GLOBALPAY</td>\n",
       "      <td>evt_1EjzPk13qLzmvDR_4hXuMMw</td>\n",
       "      <td>2019-01-01T19:12:00.000Z</td>\n",
       "      <td>ACCEPTED</td>\n",
       "      <td>False</td>\n",
       "      <td>2589.92</td>\n",
       "      <td>US</td>\n",
       "      <td>USD</td>\n",
       "      <td>{\"CAD\":1.415,\"EUR\":0.926,\"MXN\":25.103,\"USD\":1,...</td>\n",
       "      <td>True</td>\n",
       "      <td>GLOBALPAY</td>\n",
       "      <td>True</td>\n",
       "    </tr>\n",
       "    <tr>\n",
       "      <th>5</th>\n",
       "      <td>XMiBCl0zkTGdVu_IgKNbS</td>\n",
       "      <td>True</td>\n",
       "      <td>GLOBALPAY</td>\n",
       "      <td>evt_1ESWbgipcFeU4B6eW5kWMgn</td>\n",
       "      <td>2019-01-01T00:00:00.000Z</td>\n",
       "      <td>ACCEPTED</td>\n",
       "      <td>False</td>\n",
       "      <td>1509.12</td>\n",
       "      <td>MX</td>\n",
       "      <td>MXN</td>\n",
       "      <td>{\"CAD\":1.4150668250112406,\"EUR\":0.924750490289...</td>\n",
       "      <td>True</td>\n",
       "      <td>GLOBALPAY</td>\n",
       "      <td>True</td>\n",
       "    </tr>\n",
       "    <tr>\n",
       "      <th>6</th>\n",
       "      <td>unSNmffbtST60mDH0WpUc</td>\n",
       "      <td>True</td>\n",
       "      <td>GLOBALPAY</td>\n",
       "      <td>evt_1Exxzo9M0d271kmuX5kNmRL</td>\n",
       "      <td>2019-01-01T04:48:00.000Z</td>\n",
       "      <td>ACCEPTED</td>\n",
       "      <td>False</td>\n",
       "      <td>1923.13</td>\n",
       "      <td>MX</td>\n",
       "      <td>MXN</td>\n",
       "      <td>{\"CAD\":1.4150668250112406,\"EUR\":0.924750490289...</td>\n",
       "      <td>True</td>\n",
       "      <td>GLOBALPAY</td>\n",
       "      <td>True</td>\n",
       "    </tr>\n",
       "  </tbody>\n",
       "</table>\n",
       "</div>"
      ],
      "text/plain": [
       "            external_ref  status_x   source_x                          ref  \\\n",
       "0  nCyEIIGaP5QQ2Wqb-_Rt8      True  GLOBALPAY  evt_1ESgcCOV7fY1ChY1MkZizZt   \n",
       "1  ptNiI9B7NNpK7VsMZx6zZ      True  GLOBALPAY  evt_1EBMGCEjEtianKMJaZXOx1y   \n",
       "2  1GS5BDKBnauCt-3nHPs6x      True  GLOBALPAY  evt_1EOALu0AZqEhZBn9ub_nbcE   \n",
       "3  Y_oecYz8GjBDaxmMqkkLQ      True  GLOBALPAY  evt_1ESHsWyaSPqE1mrmJ2B6rvs   \n",
       "4  LlEs1TnKVa2xX6PH9Zsz0      True  GLOBALPAY  evt_1EjzPk13qLzmvDR_4hXuMMw   \n",
       "5  XMiBCl0zkTGdVu_IgKNbS      True  GLOBALPAY  evt_1ESWbgipcFeU4B6eW5kWMgn   \n",
       "6  unSNmffbtST60mDH0WpUc      True  GLOBALPAY  evt_1Exxzo9M0d271kmuX5kNmRL   \n",
       "\n",
       "                  date_time     state  cvv_provided   amount country currency  \\\n",
       "0  2019-01-01T00:00:00.000Z  DECLINED         False  1020.46      US      USD   \n",
       "1  2019-01-01T04:48:00.000Z  ACCEPTED         False  1582.57      US      USD   \n",
       "2  2019-01-01T09:36:00.000Z  DECLINED         False  1653.07      US      USD   \n",
       "3  2019-01-01T14:24:00.000Z  ACCEPTED         False  2228.17      US      USD   \n",
       "4  2019-01-01T19:12:00.000Z  ACCEPTED         False  2589.92      US      USD   \n",
       "5  2019-01-01T00:00:00.000Z  ACCEPTED         False  1509.12      MX      MXN   \n",
       "6  2019-01-01T04:48:00.000Z  ACCEPTED         False  1923.13      MX      MXN   \n",
       "\n",
       "                                               rates  status_y   source_y  \\\n",
       "0  {\"CAD\":1.415,\"EUR\":0.926,\"MXN\":25.103,\"USD\":1,...      True  GLOBALPAY   \n",
       "1  {\"CAD\":1.415,\"EUR\":0.926,\"MXN\":25.103,\"USD\":1,...      True  GLOBALPAY   \n",
       "2  {\"CAD\":1.415,\"EUR\":0.926,\"MXN\":25.103,\"USD\":1,...      True  GLOBALPAY   \n",
       "3  {\"CAD\":1.415,\"EUR\":0.926,\"MXN\":25.103,\"USD\":1,...      True  GLOBALPAY   \n",
       "4  {\"CAD\":1.415,\"EUR\":0.926,\"MXN\":25.103,\"USD\":1,...      True  GLOBALPAY   \n",
       "5  {\"CAD\":1.4150668250112406,\"EUR\":0.924750490289...      True  GLOBALPAY   \n",
       "6  {\"CAD\":1.4150668250112406,\"EUR\":0.924750490289...      True  GLOBALPAY   \n",
       "\n",
       "   chargeback  \n",
       "0       False  \n",
       "1        True  \n",
       "2       False  \n",
       "3        True  \n",
       "4        True  \n",
       "5        True  \n",
       "6        True  "
      ]
     },
     "execution_count": 11,
     "metadata": {},
     "output_type": "execute_result"
    }
   ],
   "source": [
    "gp_merged1.head(7) # cchecking first 7 rows"
   ]
  },
  {
   "cell_type": "markdown",
   "id": "0d661eaf",
   "metadata": {},
   "source": [
    "# Checking the shape / number or rows and columns"
   ]
  },
  {
   "cell_type": "code",
   "execution_count": 12,
   "id": "7d015d45",
   "metadata": {},
   "outputs": [
    {
     "data": {
      "text/plain": [
       "(5430, 14)"
      ]
     },
     "execution_count": 12,
     "metadata": {},
     "output_type": "execute_result"
    }
   ],
   "source": [
    "gp_merged1.shape  # 5430 rows and 14 columns"
   ]
  },
  {
   "cell_type": "markdown",
   "id": "29a58c14",
   "metadata": {},
   "source": [
    "# Find count of declined vs accepted"
   ]
  },
  {
   "cell_type": "code",
   "execution_count": 25,
   "id": "23eb22a1",
   "metadata": {},
   "outputs": [
    {
     "data": {
      "text/html": [
       "<div>\n",
       "<style scoped>\n",
       "    .dataframe tbody tr th:only-of-type {\n",
       "        vertical-align: middle;\n",
       "    }\n",
       "\n",
       "    .dataframe tbody tr th {\n",
       "        vertical-align: top;\n",
       "    }\n",
       "\n",
       "    .dataframe thead th {\n",
       "        text-align: right;\n",
       "    }\n",
       "</style>\n",
       "<table border=\"1\" class=\"dataframe\">\n",
       "  <thead>\n",
       "    <tr style=\"text-align: right;\">\n",
       "      <th></th>\n",
       "      <th>status_x</th>\n",
       "    </tr>\n",
       "    <tr>\n",
       "      <th>state</th>\n",
       "      <th></th>\n",
       "    </tr>\n",
       "  </thead>\n",
       "  <tbody>\n",
       "    <tr>\n",
       "      <th>ACCEPTED</th>\n",
       "      <td>3777</td>\n",
       "    </tr>\n",
       "    <tr>\n",
       "      <th>DECLINED</th>\n",
       "      <td>1653</td>\n",
       "    </tr>\n",
       "  </tbody>\n",
       "</table>\n",
       "</div>"
      ],
      "text/plain": [
       "          status_x\n",
       "state             \n",
       "ACCEPTED      3777\n",
       "DECLINED      1653"
      ]
     },
     "execution_count": 25,
     "metadata": {},
     "output_type": "execute_result"
    }
   ],
   "source": [
    "# find count of declined and accepted\n",
    "dec_rate =gp_merged1.groupby('state').count()['status_x'].to_frame()\n",
    "dec_rate"
   ]
  },
  {
   "cell_type": "code",
   "execution_count": 32,
   "id": "19bdee1e-6c6a-4c43-97c3-45e2a367c9eb",
   "metadata": {},
   "outputs": [
    {
     "data": {
      "text/plain": [
       "array([[<AxesSubplot:title={'center':'status_x'}>]], dtype=object)"
      ]
     },
     "execution_count": 32,
     "metadata": {},
     "output_type": "execute_result"
    },
    {
     "data": {
      "image/png": "[encoded data removed]",
      "text/plain": [
       "<Figure size 432x288 with 1 Axes>"
      ]
     },
     "metadata": {
      "needs_background": "light"
     },
     "output_type": "display_data"
    }
   ],
   "source": [
    "dec_rate.hist()"
   ]
  },
  {
   "cell_type": "markdown",
   "id": "2fe32ee1",
   "metadata": {},
   "source": [
    "# Compute the acceptance rate”  defined as the number of accepted transactions divided by the total attempted transactions"
   ]
  },
  {
   "cell_type": "code",
   "execution_count": null,
   "id": "3737dc50",
   "metadata": {},
   "outputs": [],
   "source": [
    "accep_rate = gp_merged1.groupby('state').count().loc[:,['status_x']]  \n",
    "\n",
    "accep_rate = (accep_rate.iloc[0,0]) / (accep_rate.iloc[0,0]  + accep_rate.iloc[1,0] ) *100\n",
    "accep_rate.round(2) # the acceptance rate in % "
   ]
  },
  {
   "cell_type": "markdown",
   "id": "4306344f",
   "metadata": {},
   "source": [
    "# Checking the data types in the dataset"
   ]
  },
  {
   "cell_type": "code",
   "execution_count": null,
   "id": "f16201d5",
   "metadata": {},
   "outputs": [],
   "source": [
    "gp_merged1.info(verbose= False) "
   ]
  },
  {
   "cell_type": "markdown",
   "id": "f2856ca7",
   "metadata": {},
   "source": [
    "# Preparing our dataframe with columns required"
   ]
  },
  {
   "cell_type": "code",
   "execution_count": null,
   "id": "1b3ce308",
   "metadata": {},
   "outputs": [],
   "source": [
    "gp_merged2 = gp_merged1.loc[:, ['status_x','date_time','state',\\\n",
    "'cvv_provided','amount','country','currency','chargeback']]\n",
    "\n",
    "gp_merged2.head()"
   ]
  },
  {
   "cell_type": "markdown",
   "id": "5d411ec3",
   "metadata": {},
   "source": [
    "# Check r/ship between cvv_provided and state(accepted or declined)"
   ]
  },
  {
   "cell_type": "code",
   "execution_count": null,
   "id": "e27f1463",
   "metadata": {},
   "outputs": [],
   "source": [
    "# check r/ship between cvv_provided and state(accepted or declined)\n",
    "gp_merged_cvv_state = gp_merged2[gp_merged2.state.str.contains('DECLINED')]\\\n",
    ".groupby(['cvv_provided','state']).count()\n",
    "\n",
    "gp_merged_cvv_state2= gp_merged_cvv_state.loc[:,['status_x']]\n",
    "gp_merged_cvv_state2"
   ]
  },
  {
   "cell_type": "markdown",
   "id": "b0022e16",
   "metadata": {},
   "source": [
    "# Check card decline - country relationship"
   ]
  },
  {
   "cell_type": "code",
   "execution_count": null,
   "id": "e9f6591e",
   "metadata": {},
   "outputs": [],
   "source": [
    "# check card decline country relationship\n",
    "gp_merged2[gp_merged2['state'].str.contains('DECLINED')]\\\n",
    ".groupby(['state','country']).\\\n",
    "sum().loc[:, ['status_x','amount']].sort_values(['status_x','amount']\\\n",
    ",ascending = [False,False]).rename({'amount' : 'sales_rev'},axis = 1)"
   ]
  },
  {
   "cell_type": "markdown",
   "id": "9200e0ec",
   "metadata": {},
   "source": [
    "# Check chargebacks "
   ]
  },
  {
   "cell_type": "code",
   "execution_count": null,
   "id": "36cef833",
   "metadata": {},
   "outputs": [],
   "source": []
  },
  {
   "cell_type": "code",
   "execution_count": null,
   "id": "35aac8c0",
   "metadata": {},
   "outputs": [],
   "source": []
  },
  {
   "cell_type": "code",
   "execution_count": null,
   "id": "7e333a3b",
   "metadata": {},
   "outputs": [],
   "source": []
  }
 ],
 "metadata": {
  "kernelspec": {
   "display_name": "Python 3",
   "language": "python",
   "name": "python3"
  },
  "language_info": {
   "codemirror_mode": {
    "name": "ipython",
    "version": 3
   },
   "file_extension": ".py",
   "mimetype": "text/x-python",
   "name": "python",
   "nbconvert_exporter": "python",
   "pygments_lexer": "ipython3",
   "version": "3.8.8"
  },
  "nteract": {
   "version": "0.28.0"
  }
 },
 "nbformat": 4,
 "nbformat_minor": 5
}
