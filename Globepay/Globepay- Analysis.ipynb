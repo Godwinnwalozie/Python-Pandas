{
  "cells": [
    {
      "cell_type": "markdown",
      "source": [
        "# An analysis of Globepays transaction decline - Recommendations"
      ],
      "metadata": {},
      "id": "bf90ce00"
    },
    {
      "cell_type": "code",
      "source": [
        "import pandas as pd"
      ],
      "outputs": [],
      "execution_count": 15,
      "metadata": {},
      "id": "2076928e"
    },
    {
      "cell_type": "code",
      "source": [
        "import numpy as np"
      ],
      "outputs": [],
      "execution_count": 16,
      "metadata": {},
      "id": "ca6be9ad"
    },
    {
      "cell_type": "code",
      "source": [
        "import datetime"
      ],
      "outputs": [],
      "execution_count": 17,
      "metadata": {},
      "id": "3db0c6a9"
    },
    {
      "cell_type": "markdown",
      "source": [
        "# Importing the 1st dataset"
      ],
      "metadata": {},
      "id": "39026d98"
    },
    {
      "cell_type": "code",
      "source": [
        "# import the dataset\n",
        "gp_ac = pd.read_csv\\\n",
        "(r'C:\\Users\\godwi\\OneDrive\\Documents\\Data Science\\GitHub\\Python-Pandas\\Globepay\\Globepay Acceptance Report.csv')"
      ],
      "outputs": [],
      "execution_count": 42,
      "metadata": {},
      "id": "11fa17f8"
    },
    {
      "cell_type": "code",
      "source": [
        "gp_ac.head(7)  # cchecking first 7 rows"
      ],
      "outputs": [
        {
          "output_type": "execute_result",
          "execution_count": 316,
          "data": {
            "text/html": "<div>\n<style scoped>\n    .dataframe tbody tr th:only-of-type {\n        vertical-align: middle;\n    }\n\n    .dataframe tbody tr th {\n        vertical-align: top;\n    }\n\n    .dataframe thead th {\n        text-align: right;\n    }\n</style>\n<table border=\"1\" class=\"dataframe\">\n  <thead>\n    <tr style=\"text-align: right;\">\n      <th></th>\n      <th>external_ref</th>\n      <th>status</th>\n      <th>source</th>\n      <th>ref</th>\n      <th>date_time</th>\n      <th>state</th>\n      <th>cvv_provided</th>\n      <th>amount</th>\n      <th>country</th>\n      <th>currency</th>\n      <th>rates</th>\n    </tr>\n  </thead>\n  <tbody>\n    <tr>\n      <th>0</th>\n      <td>nCyEIIGaP5QQ2Wqb-_Rt8</td>\n      <td>True</td>\n      <td>GLOBALPAY</td>\n      <td>evt_1ESgcCOV7fY1ChY1MkZizZt</td>\n      <td>2019-01-01T00:00:00.000Z</td>\n      <td>DECLINED</td>\n      <td>False</td>\n      <td>1020.46</td>\n      <td>US</td>\n      <td>USD</td>\n      <td>{\"CAD\":1.415,\"EUR\":0.926,\"MXN\":25.103,\"USD\":1,...</td>\n    </tr>\n    <tr>\n      <th>1</th>\n      <td>ptNiI9B7NNpK7VsMZx6zZ</td>\n      <td>True</td>\n      <td>GLOBALPAY</td>\n      <td>evt_1EBMGCEjEtianKMJaZXOx1y</td>\n      <td>2019-01-01T04:48:00.000Z</td>\n      <td>ACCEPTED</td>\n      <td>False</td>\n      <td>1582.57</td>\n      <td>US</td>\n      <td>USD</td>\n      <td>{\"CAD\":1.415,\"EUR\":0.926,\"MXN\":25.103,\"USD\":1,...</td>\n    </tr>\n    <tr>\n      <th>2</th>\n      <td>1GS5BDKBnauCt-3nHPs6x</td>\n      <td>True</td>\n      <td>GLOBALPAY</td>\n      <td>evt_1EOALu0AZqEhZBn9ub_nbcE</td>\n      <td>2019-01-01T09:36:00.000Z</td>\n      <td>DECLINED</td>\n      <td>False</td>\n      <td>1653.07</td>\n      <td>US</td>\n      <td>USD</td>\n      <td>{\"CAD\":1.415,\"EUR\":0.926,\"MXN\":25.103,\"USD\":1,...</td>\n    </tr>\n    <tr>\n      <th>3</th>\n      <td>Y_oecYz8GjBDaxmMqkkLQ</td>\n      <td>True</td>\n      <td>GLOBALPAY</td>\n      <td>evt_1ESHsWyaSPqE1mrmJ2B6rvs</td>\n      <td>2019-01-01T14:24:00.000Z</td>\n      <td>ACCEPTED</td>\n      <td>False</td>\n      <td>2228.17</td>\n      <td>US</td>\n      <td>USD</td>\n      <td>{\"CAD\":1.415,\"EUR\":0.926,\"MXN\":25.103,\"USD\":1,...</td>\n    </tr>\n    <tr>\n      <th>4</th>\n      <td>LlEs1TnKVa2xX6PH9Zsz0</td>\n      <td>True</td>\n      <td>GLOBALPAY</td>\n      <td>evt_1EjzPk13qLzmvDR_4hXuMMw</td>\n      <td>2019-01-01T19:12:00.000Z</td>\n      <td>ACCEPTED</td>\n      <td>False</td>\n      <td>2589.92</td>\n      <td>US</td>\n      <td>USD</td>\n      <td>{\"CAD\":1.415,\"EUR\":0.926,\"MXN\":25.103,\"USD\":1,...</td>\n    </tr>\n    <tr>\n      <th>5</th>\n      <td>XMiBCl0zkTGdVu_IgKNbS</td>\n      <td>True</td>\n      <td>GLOBALPAY</td>\n      <td>evt_1ESWbgipcFeU4B6eW5kWMgn</td>\n      <td>2019-01-01T00:00:00.000Z</td>\n      <td>ACCEPTED</td>\n      <td>False</td>\n      <td>1509.12</td>\n      <td>MX</td>\n      <td>MXN</td>\n      <td>{\"CAD\":1.4150668250112406,\"EUR\":0.924750490289...</td>\n    </tr>\n    <tr>\n      <th>6</th>\n      <td>unSNmffbtST60mDH0WpUc</td>\n      <td>True</td>\n      <td>GLOBALPAY</td>\n      <td>evt_1Exxzo9M0d271kmuX5kNmRL</td>\n      <td>2019-01-01T04:48:00.000Z</td>\n      <td>ACCEPTED</td>\n      <td>False</td>\n      <td>1923.13</td>\n      <td>MX</td>\n      <td>MXN</td>\n      <td>{\"CAD\":1.4150668250112406,\"EUR\":0.924750490289...</td>\n    </tr>\n  </tbody>\n</table>\n</div>",
            "text/plain": "            external_ref  status     source                          ref  \\\n0  nCyEIIGaP5QQ2Wqb-_Rt8    True  GLOBALPAY  evt_1ESgcCOV7fY1ChY1MkZizZt   \n1  ptNiI9B7NNpK7VsMZx6zZ    True  GLOBALPAY  evt_1EBMGCEjEtianKMJaZXOx1y   \n2  1GS5BDKBnauCt-3nHPs6x    True  GLOBALPAY  evt_1EOALu0AZqEhZBn9ub_nbcE   \n3  Y_oecYz8GjBDaxmMqkkLQ    True  GLOBALPAY  evt_1ESHsWyaSPqE1mrmJ2B6rvs   \n4  LlEs1TnKVa2xX6PH9Zsz0    True  GLOBALPAY  evt_1EjzPk13qLzmvDR_4hXuMMw   \n5  XMiBCl0zkTGdVu_IgKNbS    True  GLOBALPAY  evt_1ESWbgipcFeU4B6eW5kWMgn   \n6  unSNmffbtST60mDH0WpUc    True  GLOBALPAY  evt_1Exxzo9M0d271kmuX5kNmRL   \n\n                  date_time     state  cvv_provided   amount country currency  \\\n0  2019-01-01T00:00:00.000Z  DECLINED         False  1020.46      US      USD   \n1  2019-01-01T04:48:00.000Z  ACCEPTED         False  1582.57      US      USD   \n2  2019-01-01T09:36:00.000Z  DECLINED         False  1653.07      US      USD   \n3  2019-01-01T14:24:00.000Z  ACCEPTED         False  2228.17      US      USD   \n4  2019-01-01T19:12:00.000Z  ACCEPTED         False  2589.92      US      USD   \n5  2019-01-01T00:00:00.000Z  ACCEPTED         False  1509.12      MX      MXN   \n6  2019-01-01T04:48:00.000Z  ACCEPTED         False  1923.13      MX      MXN   \n\n                                               rates  \n0  {\"CAD\":1.415,\"EUR\":0.926,\"MXN\":25.103,\"USD\":1,...  \n1  {\"CAD\":1.415,\"EUR\":0.926,\"MXN\":25.103,\"USD\":1,...  \n2  {\"CAD\":1.415,\"EUR\":0.926,\"MXN\":25.103,\"USD\":1,...  \n3  {\"CAD\":1.415,\"EUR\":0.926,\"MXN\":25.103,\"USD\":1,...  \n4  {\"CAD\":1.415,\"EUR\":0.926,\"MXN\":25.103,\"USD\":1,...  \n5  {\"CAD\":1.4150668250112406,\"EUR\":0.924750490289...  \n6  {\"CAD\":1.4150668250112406,\"EUR\":0.924750490289...  "
          },
          "metadata": {}
        }
      ],
      "execution_count": 316,
      "metadata": {},
      "id": "5659df68"
    },
    {
      "cell_type": "markdown",
      "source": [
        "# Importing the 2nd dataset"
      ],
      "metadata": {},
      "id": "3405fc84"
    },
    {
      "cell_type": "code",
      "source": [
        "# import the dataset\n",
        "gp_cb = pd.read_csv\\\n",
        "(r'C:\\Users\\godwi\\OneDrive\\Documents\\Data Science\\GitHub\\Python-Pandas\\Globepay\\Globepay Chargeback Report.csv')"
      ],
      "outputs": [],
      "execution_count": 44,
      "metadata": {},
      "id": "62dc35e0"
    },
    {
      "cell_type": "code",
      "source": [
        "gp_cb.head(7)  # cchecking first 7 rows"
      ],
      "outputs": [
        {
          "output_type": "execute_result",
          "execution_count": 315,
          "data": {
            "text/html": "<div>\n<style scoped>\n    .dataframe tbody tr th:only-of-type {\n        vertical-align: middle;\n    }\n\n    .dataframe tbody tr th {\n        vertical-align: top;\n    }\n\n    .dataframe thead th {\n        text-align: right;\n    }\n</style>\n<table border=\"1\" class=\"dataframe\">\n  <thead>\n    <tr style=\"text-align: right;\">\n      <th></th>\n      <th>external_ref</th>\n      <th>status</th>\n      <th>source</th>\n      <th>chargeback</th>\n    </tr>\n  </thead>\n  <tbody>\n    <tr>\n      <th>0</th>\n      <td>_-UTDS0dMlagMWEtQKMy-</td>\n      <td>True</td>\n      <td>GLOBALPAY</td>\n      <td>False</td>\n    </tr>\n    <tr>\n      <th>1</th>\n      <td>_0fqf75KiPa0iiviKCSsU</td>\n      <td>True</td>\n      <td>GLOBALPAY</td>\n      <td>False</td>\n    </tr>\n    <tr>\n      <th>2</th>\n      <td>_0H9Ecd_RctsLetId-p14</td>\n      <td>True</td>\n      <td>GLOBALPAY</td>\n      <td>False</td>\n    </tr>\n    <tr>\n      <th>3</th>\n      <td>_0wBrMzAzIhO3fQRWUcBH</td>\n      <td>True</td>\n      <td>GLOBALPAY</td>\n      <td>False</td>\n    </tr>\n    <tr>\n      <th>4</th>\n      <td>_25jZuGDrmwUEdAwKp1xV</td>\n      <td>True</td>\n      <td>GLOBALPAY</td>\n      <td>False</td>\n    </tr>\n    <tr>\n      <th>5</th>\n      <td>_2TnPB1sTeVMRGgPeJgPq</td>\n      <td>True</td>\n      <td>GLOBALPAY</td>\n      <td>False</td>\n    </tr>\n    <tr>\n      <th>6</th>\n      <td>_37I67fDT_R1JwRLapxub</td>\n      <td>True</td>\n      <td>GLOBALPAY</td>\n      <td>False</td>\n    </tr>\n  </tbody>\n</table>\n</div>",
            "text/plain": "            external_ref  status     source  chargeback\n0  _-UTDS0dMlagMWEtQKMy-    True  GLOBALPAY       False\n1  _0fqf75KiPa0iiviKCSsU    True  GLOBALPAY       False\n2  _0H9Ecd_RctsLetId-p14    True  GLOBALPAY       False\n3  _0wBrMzAzIhO3fQRWUcBH    True  GLOBALPAY       False\n4  _25jZuGDrmwUEdAwKp1xV    True  GLOBALPAY       False\n5  _2TnPB1sTeVMRGgPeJgPq    True  GLOBALPAY       False\n6  _37I67fDT_R1JwRLapxub    True  GLOBALPAY       False"
          },
          "metadata": {}
        }
      ],
      "execution_count": 315,
      "metadata": {},
      "id": "fd420dc3"
    },
    {
      "cell_type": "markdown",
      "source": [
        "# Merging the two datasets 'inner join'"
      ],
      "metadata": {},
      "id": "02109046"
    },
    {
      "cell_type": "code",
      "source": [
        "#merging the two datasets\n",
        "gp_merged1 = pd.merge(gp_ac, gp_cb, left_on = 'external_ref',right_on = 'external_ref',how = 'inner')"
      ],
      "outputs": [],
      "execution_count": 106,
      "metadata": {},
      "id": "05c4c6e5"
    },
    {
      "cell_type": "code",
      "source": [
        "gp_merged1.head(7) # cchecking first 7 rows"
      ],
      "outputs": [
        {
          "output_type": "execute_result",
          "execution_count": 317,
          "data": {
            "text/html": "<div>\n<style scoped>\n    .dataframe tbody tr th:only-of-type {\n        vertical-align: middle;\n    }\n\n    .dataframe tbody tr th {\n        vertical-align: top;\n    }\n\n    .dataframe thead th {\n        text-align: right;\n    }\n</style>\n<table border=\"1\" class=\"dataframe\">\n  <thead>\n    <tr style=\"text-align: right;\">\n      <th></th>\n      <th>external_ref</th>\n      <th>status_x</th>\n      <th>source_x</th>\n      <th>ref</th>\n      <th>date_time</th>\n      <th>state</th>\n      <th>cvv_provided</th>\n      <th>amount</th>\n      <th>country</th>\n      <th>currency</th>\n      <th>rates</th>\n      <th>status_y</th>\n      <th>source_y</th>\n      <th>chargeback</th>\n    </tr>\n  </thead>\n  <tbody>\n    <tr>\n      <th>0</th>\n      <td>nCyEIIGaP5QQ2Wqb-_Rt8</td>\n      <td>True</td>\n      <td>GLOBALPAY</td>\n      <td>evt_1ESgcCOV7fY1ChY1MkZizZt</td>\n      <td>2019-01-01T00:00:00.000Z</td>\n      <td>DECLINED</td>\n      <td>False</td>\n      <td>1020.46</td>\n      <td>US</td>\n      <td>USD</td>\n      <td>{\"CAD\":1.415,\"EUR\":0.926,\"MXN\":25.103,\"USD\":1,...</td>\n      <td>True</td>\n      <td>GLOBALPAY</td>\n      <td>False</td>\n    </tr>\n    <tr>\n      <th>1</th>\n      <td>ptNiI9B7NNpK7VsMZx6zZ</td>\n      <td>True</td>\n      <td>GLOBALPAY</td>\n      <td>evt_1EBMGCEjEtianKMJaZXOx1y</td>\n      <td>2019-01-01T04:48:00.000Z</td>\n      <td>ACCEPTED</td>\n      <td>False</td>\n      <td>1582.57</td>\n      <td>US</td>\n      <td>USD</td>\n      <td>{\"CAD\":1.415,\"EUR\":0.926,\"MXN\":25.103,\"USD\":1,...</td>\n      <td>True</td>\n      <td>GLOBALPAY</td>\n      <td>True</td>\n    </tr>\n    <tr>\n      <th>2</th>\n      <td>1GS5BDKBnauCt-3nHPs6x</td>\n      <td>True</td>\n      <td>GLOBALPAY</td>\n      <td>evt_1EOALu0AZqEhZBn9ub_nbcE</td>\n      <td>2019-01-01T09:36:00.000Z</td>\n      <td>DECLINED</td>\n      <td>False</td>\n      <td>1653.07</td>\n      <td>US</td>\n      <td>USD</td>\n      <td>{\"CAD\":1.415,\"EUR\":0.926,\"MXN\":25.103,\"USD\":1,...</td>\n      <td>True</td>\n      <td>GLOBALPAY</td>\n      <td>False</td>\n    </tr>\n    <tr>\n      <th>3</th>\n      <td>Y_oecYz8GjBDaxmMqkkLQ</td>\n      <td>True</td>\n      <td>GLOBALPAY</td>\n      <td>evt_1ESHsWyaSPqE1mrmJ2B6rvs</td>\n      <td>2019-01-01T14:24:00.000Z</td>\n      <td>ACCEPTED</td>\n      <td>False</td>\n      <td>2228.17</td>\n      <td>US</td>\n      <td>USD</td>\n      <td>{\"CAD\":1.415,\"EUR\":0.926,\"MXN\":25.103,\"USD\":1,...</td>\n      <td>True</td>\n      <td>GLOBALPAY</td>\n      <td>True</td>\n    </tr>\n    <tr>\n      <th>4</th>\n      <td>LlEs1TnKVa2xX6PH9Zsz0</td>\n      <td>True</td>\n      <td>GLOBALPAY</td>\n      <td>evt_1EjzPk13qLzmvDR_4hXuMMw</td>\n      <td>2019-01-01T19:12:00.000Z</td>\n      <td>ACCEPTED</td>\n      <td>False</td>\n      <td>2589.92</td>\n      <td>US</td>\n      <td>USD</td>\n      <td>{\"CAD\":1.415,\"EUR\":0.926,\"MXN\":25.103,\"USD\":1,...</td>\n      <td>True</td>\n      <td>GLOBALPAY</td>\n      <td>True</td>\n    </tr>\n    <tr>\n      <th>5</th>\n      <td>XMiBCl0zkTGdVu_IgKNbS</td>\n      <td>True</td>\n      <td>GLOBALPAY</td>\n      <td>evt_1ESWbgipcFeU4B6eW5kWMgn</td>\n      <td>2019-01-01T00:00:00.000Z</td>\n      <td>ACCEPTED</td>\n      <td>False</td>\n      <td>1509.12</td>\n      <td>MX</td>\n      <td>MXN</td>\n      <td>{\"CAD\":1.4150668250112406,\"EUR\":0.924750490289...</td>\n      <td>True</td>\n      <td>GLOBALPAY</td>\n      <td>True</td>\n    </tr>\n    <tr>\n      <th>6</th>\n      <td>unSNmffbtST60mDH0WpUc</td>\n      <td>True</td>\n      <td>GLOBALPAY</td>\n      <td>evt_1Exxzo9M0d271kmuX5kNmRL</td>\n      <td>2019-01-01T04:48:00.000Z</td>\n      <td>ACCEPTED</td>\n      <td>False</td>\n      <td>1923.13</td>\n      <td>MX</td>\n      <td>MXN</td>\n      <td>{\"CAD\":1.4150668250112406,\"EUR\":0.924750490289...</td>\n      <td>True</td>\n      <td>GLOBALPAY</td>\n      <td>True</td>\n    </tr>\n  </tbody>\n</table>\n</div>",
            "text/plain": "            external_ref  status_x   source_x                          ref  \\\n0  nCyEIIGaP5QQ2Wqb-_Rt8      True  GLOBALPAY  evt_1ESgcCOV7fY1ChY1MkZizZt   \n1  ptNiI9B7NNpK7VsMZx6zZ      True  GLOBALPAY  evt_1EBMGCEjEtianKMJaZXOx1y   \n2  1GS5BDKBnauCt-3nHPs6x      True  GLOBALPAY  evt_1EOALu0AZqEhZBn9ub_nbcE   \n3  Y_oecYz8GjBDaxmMqkkLQ      True  GLOBALPAY  evt_1ESHsWyaSPqE1mrmJ2B6rvs   \n4  LlEs1TnKVa2xX6PH9Zsz0      True  GLOBALPAY  evt_1EjzPk13qLzmvDR_4hXuMMw   \n5  XMiBCl0zkTGdVu_IgKNbS      True  GLOBALPAY  evt_1ESWbgipcFeU4B6eW5kWMgn   \n6  unSNmffbtST60mDH0WpUc      True  GLOBALPAY  evt_1Exxzo9M0d271kmuX5kNmRL   \n\n                  date_time     state  cvv_provided   amount country currency  \\\n0  2019-01-01T00:00:00.000Z  DECLINED         False  1020.46      US      USD   \n1  2019-01-01T04:48:00.000Z  ACCEPTED         False  1582.57      US      USD   \n2  2019-01-01T09:36:00.000Z  DECLINED         False  1653.07      US      USD   \n3  2019-01-01T14:24:00.000Z  ACCEPTED         False  2228.17      US      USD   \n4  2019-01-01T19:12:00.000Z  ACCEPTED         False  2589.92      US      USD   \n5  2019-01-01T00:00:00.000Z  ACCEPTED         False  1509.12      MX      MXN   \n6  2019-01-01T04:48:00.000Z  ACCEPTED         False  1923.13      MX      MXN   \n\n                                               rates  status_y   source_y  \\\n0  {\"CAD\":1.415,\"EUR\":0.926,\"MXN\":25.103,\"USD\":1,...      True  GLOBALPAY   \n1  {\"CAD\":1.415,\"EUR\":0.926,\"MXN\":25.103,\"USD\":1,...      True  GLOBALPAY   \n2  {\"CAD\":1.415,\"EUR\":0.926,\"MXN\":25.103,\"USD\":1,...      True  GLOBALPAY   \n3  {\"CAD\":1.415,\"EUR\":0.926,\"MXN\":25.103,\"USD\":1,...      True  GLOBALPAY   \n4  {\"CAD\":1.415,\"EUR\":0.926,\"MXN\":25.103,\"USD\":1,...      True  GLOBALPAY   \n5  {\"CAD\":1.4150668250112406,\"EUR\":0.924750490289...      True  GLOBALPAY   \n6  {\"CAD\":1.4150668250112406,\"EUR\":0.924750490289...      True  GLOBALPAY   \n\n   chargeback  \n0       False  \n1        True  \n2       False  \n3        True  \n4        True  \n5        True  \n6        True  "
          },
          "metadata": {}
        }
      ],
      "execution_count": 317,
      "metadata": {},
      "id": "70d3056a"
    },
    {
      "cell_type": "markdown",
      "source": [
        "# Checking the shape / number or rows and columns"
      ],
      "metadata": {},
      "id": "0d661eaf"
    },
    {
      "cell_type": "code",
      "source": [
        "gp_merged1.shape  # 5430 rows and 14 columns"
      ],
      "outputs": [
        {
          "output_type": "execute_result",
          "execution_count": 318,
          "data": {
            "text/plain": "(5430, 14)"
          },
          "metadata": {}
        }
      ],
      "execution_count": 318,
      "metadata": {},
      "id": "7d015d45"
    },
    {
      "cell_type": "markdown",
      "source": [
        "# Find count of declined vs accepted"
      ],
      "metadata": {},
      "id": "29a58c14"
    },
    {
      "cell_type": "code",
      "source": [
        "# find count of declined and accepted\n",
        "gp_merged1.groupby('state').count()['status_x'].to_frame()"
      ],
      "outputs": [
        {
          "output_type": "execute_result",
          "execution_count": 321,
          "data": {
            "text/html": "<div>\n<style scoped>\n    .dataframe tbody tr th:only-of-type {\n        vertical-align: middle;\n    }\n\n    .dataframe tbody tr th {\n        vertical-align: top;\n    }\n\n    .dataframe thead th {\n        text-align: right;\n    }\n</style>\n<table border=\"1\" class=\"dataframe\">\n  <thead>\n    <tr style=\"text-align: right;\">\n      <th></th>\n      <th>status_x</th>\n    </tr>\n    <tr>\n      <th>state</th>\n      <th></th>\n    </tr>\n  </thead>\n  <tbody>\n    <tr>\n      <th>ACCEPTED</th>\n      <td>3777</td>\n    </tr>\n    <tr>\n      <th>DECLINED</th>\n      <td>1653</td>\n    </tr>\n  </tbody>\n</table>\n</div>",
            "text/plain": "          status_x\nstate             \nACCEPTED      3777\nDECLINED      1653"
          },
          "metadata": {}
        }
      ],
      "execution_count": 321,
      "metadata": {},
      "id": "23eb22a1"
    },
    {
      "cell_type": "markdown",
      "source": [
        "# Compute the acceptance rate”  defined as the number of accepted transactions divided by the total attempted transactions"
      ],
      "metadata": {},
      "id": "2fe32ee1"
    },
    {
      "cell_type": "code",
      "source": [
        "accep_rate = gp_merged.groupby('state').count().loc[:,['status_x']]  \n",
        "\n",
        "accep_rate = (accep_rate.iloc[0,0]) / (accep_rate.iloc[0,0]  + accep_rate.iloc[1,0] ) *100\n",
        "accep_rate.round(2) # the acceptance rate in % "
      ],
      "outputs": [
        {
          "output_type": "execute_result",
          "execution_count": 325,
          "data": {
            "text/plain": "69.56"
          },
          "metadata": {}
        }
      ],
      "execution_count": 325,
      "metadata": {},
      "id": "3737dc50"
    },
    {
      "cell_type": "markdown",
      "source": [
        "# Checking the data types in the dataset"
      ],
      "metadata": {},
      "id": "4306344f"
    },
    {
      "cell_type": "code",
      "source": [
        "gp_merged1.info(verbose= False) "
      ],
      "outputs": [
        {
          "output_type": "stream",
          "name": "stdout",
          "text": [
            "<class 'pandas.core.frame.DataFrame'>\n",
            "Int64Index: 5430 entries, 0 to 5429\n",
            "Columns: 14 entries, external_ref to chargeback\n",
            "dtypes: bool(4), float64(1), object(9)\n",
            "memory usage: 487.9+ KB\n"
          ]
        }
      ],
      "execution_count": 292,
      "metadata": {},
      "id": "f16201d5"
    },
    {
      "cell_type": "markdown",
      "source": [
        "# Preparing our dataframe with columns required"
      ],
      "metadata": {},
      "id": "f2856ca7"
    },
    {
      "cell_type": "code",
      "source": [
        "gp_merged2 = gp_merged1.loc[:, ['status_x','date_time','state',\\\n",
        "'cvv_provided','amount','country','currency','chargeback']]\n",
        "\n",
        "gp_merged2.head()"
      ],
      "outputs": [
        {
          "output_type": "execute_result",
          "execution_count": 185,
          "data": {
            "text/html": "<div>\n<style scoped>\n    .dataframe tbody tr th:only-of-type {\n        vertical-align: middle;\n    }\n\n    .dataframe tbody tr th {\n        vertical-align: top;\n    }\n\n    .dataframe thead th {\n        text-align: right;\n    }\n</style>\n<table border=\"1\" class=\"dataframe\">\n  <thead>\n    <tr style=\"text-align: right;\">\n      <th></th>\n      <th>status_x</th>\n      <th>date_time</th>\n      <th>state</th>\n      <th>cvv_provided</th>\n      <th>amount</th>\n      <th>country</th>\n      <th>currency</th>\n      <th>chargeback</th>\n    </tr>\n  </thead>\n  <tbody>\n    <tr>\n      <th>0</th>\n      <td>True</td>\n      <td>2019-01-01T00:00:00.000Z</td>\n      <td>DECLINED</td>\n      <td>False</td>\n      <td>1020.46</td>\n      <td>US</td>\n      <td>USD</td>\n      <td>False</td>\n    </tr>\n    <tr>\n      <th>1</th>\n      <td>True</td>\n      <td>2019-01-01T04:48:00.000Z</td>\n      <td>ACCEPTED</td>\n      <td>False</td>\n      <td>1582.57</td>\n      <td>US</td>\n      <td>USD</td>\n      <td>True</td>\n    </tr>\n    <tr>\n      <th>2</th>\n      <td>True</td>\n      <td>2019-01-01T09:36:00.000Z</td>\n      <td>DECLINED</td>\n      <td>False</td>\n      <td>1653.07</td>\n      <td>US</td>\n      <td>USD</td>\n      <td>False</td>\n    </tr>\n    <tr>\n      <th>3</th>\n      <td>True</td>\n      <td>2019-01-01T14:24:00.000Z</td>\n      <td>ACCEPTED</td>\n      <td>False</td>\n      <td>2228.17</td>\n      <td>US</td>\n      <td>USD</td>\n      <td>True</td>\n    </tr>\n    <tr>\n      <th>4</th>\n      <td>True</td>\n      <td>2019-01-01T19:12:00.000Z</td>\n      <td>ACCEPTED</td>\n      <td>False</td>\n      <td>2589.92</td>\n      <td>US</td>\n      <td>USD</td>\n      <td>True</td>\n    </tr>\n  </tbody>\n</table>\n</div>",
            "text/plain": "   status_x                 date_time     state  cvv_provided   amount  \\\n0      True  2019-01-01T00:00:00.000Z  DECLINED         False  1020.46   \n1      True  2019-01-01T04:48:00.000Z  ACCEPTED         False  1582.57   \n2      True  2019-01-01T09:36:00.000Z  DECLINED         False  1653.07   \n3      True  2019-01-01T14:24:00.000Z  ACCEPTED         False  2228.17   \n4      True  2019-01-01T19:12:00.000Z  ACCEPTED         False  2589.92   \n\n  country currency  chargeback  \n0      US      USD       False  \n1      US      USD        True  \n2      US      USD       False  \n3      US      USD        True  \n4      US      USD        True  "
          },
          "metadata": {}
        }
      ],
      "execution_count": 185,
      "metadata": {},
      "id": "1b3ce308"
    },
    {
      "cell_type": "markdown",
      "source": [
        "# Check r/ship between cvv_provided and state(accepted or declined)"
      ],
      "metadata": {},
      "id": "5d411ec3"
    },
    {
      "cell_type": "code",
      "source": [
        "# check r/ship between cvv_provided and state(accepted or declined)\n",
        "gp_merged_cvv_state = gp_merged2[gp_merged2.state.str.contains('DECLINED')]\\\n",
        ".groupby(['cvv_provided','state']).count()\n",
        "\n",
        "gp_merged_cvv_state2= gp_merged_cvv_state.loc[:,['status_x']]\n",
        "gp_merged_cvv_state2"
      ],
      "outputs": [
        {
          "output_type": "execute_result",
          "execution_count": 267,
          "data": {
            "text/html": "<div>\n<style scoped>\n    .dataframe tbody tr th:only-of-type {\n        vertical-align: middle;\n    }\n\n    .dataframe tbody tr th {\n        vertical-align: top;\n    }\n\n    .dataframe thead th {\n        text-align: right;\n    }\n</style>\n<table border=\"1\" class=\"dataframe\">\n  <thead>\n    <tr style=\"text-align: right;\">\n      <th></th>\n      <th></th>\n      <th>status_x</th>\n    </tr>\n    <tr>\n      <th>cvv_provided</th>\n      <th>state</th>\n      <th></th>\n    </tr>\n  </thead>\n  <tbody>\n    <tr>\n      <th>False</th>\n      <th>DECLINED</th>\n      <td>1638</td>\n    </tr>\n    <tr>\n      <th>True</th>\n      <th>DECLINED</th>\n      <td>15</td>\n    </tr>\n  </tbody>\n</table>\n</div>",
            "text/plain": "                       status_x\ncvv_provided state             \nFalse        DECLINED      1638\nTrue         DECLINED        15"
          },
          "metadata": {}
        }
      ],
      "execution_count": 267,
      "metadata": {},
      "id": "e27f1463"
    },
    {
      "cell_type": "markdown",
      "source": [
        "# Check card decline - country relationship"
      ],
      "metadata": {},
      "id": "b0022e16"
    },
    {
      "cell_type": "code",
      "source": [
        "# check card decline country relationship\n",
        "gp_merged2[gp_merged2['state'].str.contains('DECLINED')]\\\n",
        ".groupby(['state','country']).\\\n",
        "sum().loc[:, ['status_x','amount']].sort_values(['status_x','amount']\\\n",
        ",ascending = [False,False]).rename({'amount' : 'sales_rev'},axis = 1)"
      ],
      "outputs": [
        {
          "output_type": "execute_result",
          "execution_count": 326,
          "data": {
            "text/html": "<div>\n<style scoped>\n    .dataframe tbody tr th:only-of-type {\n        vertical-align: middle;\n    }\n\n    .dataframe tbody tr th {\n        vertical-align: top;\n    }\n\n    .dataframe thead th {\n        text-align: right;\n    }\n</style>\n<table border=\"1\" class=\"dataframe\">\n  <thead>\n    <tr style=\"text-align: right;\">\n      <th></th>\n      <th></th>\n      <th>status_x</th>\n      <th>sales_rev</th>\n    </tr>\n    <tr>\n      <th>state</th>\n      <th>country</th>\n      <th></th>\n      <th></th>\n    </tr>\n  </thead>\n  <tbody>\n    <tr>\n      <th rowspan=\"6\" valign=\"top\">DECLINED</th>\n      <th>US</th>\n      <td>297</td>\n      <td>25125669.78</td>\n    </tr>\n    <tr>\n      <th>AE</th>\n      <td>291</td>\n      <td>26335152.43</td>\n    </tr>\n    <tr>\n      <th>CA</th>\n      <td>275</td>\n      <td>25583266.66</td>\n    </tr>\n    <tr>\n      <th>FR</th>\n      <td>271</td>\n      <td>24609910.18</td>\n    </tr>\n    <tr>\n      <th>MX</th>\n      <td>261</td>\n      <td>21970362.99</td>\n    </tr>\n    <tr>\n      <th>UK</th>\n      <td>258</td>\n      <td>19713233.74</td>\n    </tr>\n  </tbody>\n</table>\n</div>",
            "text/plain": "                  status_x    sales_rev\nstate    country                       \nDECLINED US            297  25125669.78\n         AE            291  26335152.43\n         CA            275  25583266.66\n         FR            271  24609910.18\n         MX            261  21970362.99\n         UK            258  19713233.74"
          },
          "metadata": {}
        }
      ],
      "execution_count": 326,
      "metadata": {},
      "id": "e9f6591e"
    },
    {
      "cell_type": "markdown",
      "source": [
        "# Check chargebacks "
      ],
      "metadata": {},
      "id": "9200e0ec"
    },
    {
      "cell_type": "code",
      "source": [
        "gp_cbks = gp_merged2.groupby(['state', 'chargeback']).sum()"
      ],
      "outputs": [],
      "execution_count": 346,
      "metadata": {},
      "id": "aa2d0790"
    },
    {
      "cell_type": "code",
      "source": [
        "gp_cbks.amount = gp_cbks.amount.apply(lambda x: '%.2f' % x)"
      ],
      "outputs": [],
      "execution_count": 347,
      "metadata": {},
      "id": "2c7ac188"
    },
    {
      "cell_type": "code",
      "source": [
        "gp_cbks"
      ],
      "outputs": [
        {
          "output_type": "execute_result",
          "execution_count": 350,
          "data": {
            "text/html": "<div>\n<style scoped>\n    .dataframe tbody tr th:only-of-type {\n        vertical-align: middle;\n    }\n\n    .dataframe tbody tr th {\n        vertical-align: top;\n    }\n\n    .dataframe thead th {\n        text-align: right;\n    }\n</style>\n<table border=\"1\" class=\"dataframe\">\n  <thead>\n    <tr style=\"text-align: right;\">\n      <th></th>\n      <th></th>\n      <th>status_x</th>\n      <th>cvv_provided</th>\n      <th>amount</th>\n    </tr>\n    <tr>\n      <th>state</th>\n      <th>chargeback</th>\n      <th></th>\n      <th></th>\n      <th></th>\n    </tr>\n  </thead>\n  <tbody>\n    <tr>\n      <th rowspan=\"2\" valign=\"top\">ACCEPTED</th>\n      <th>False</th>\n      <td>3554</td>\n      <td>24</td>\n      <td>326952410.18</td>\n    </tr>\n    <tr>\n      <th>True</th>\n      <td>223</td>\n      <td>1</td>\n      <td>1786623.30</td>\n    </tr>\n    <tr>\n      <th>DECLINED</th>\n      <th>False</th>\n      <td>1653</td>\n      <td>15</td>\n      <td>143337595.78</td>\n    </tr>\n  </tbody>\n</table>\n</div>",
            "text/plain": "                     status_x  cvv_provided        amount\nstate    chargeback                                      \nACCEPTED False           3554            24  326952410.18\n         True             223             1    1786623.30\nDECLINED False           1653            15  143337595.78"
          },
          "metadata": {}
        }
      ],
      "execution_count": 350,
      "metadata": {},
      "id": "55f4e0f9"
    },
    {
      "cell_type": "code",
      "source": [],
      "outputs": [],
      "execution_count": null,
      "metadata": {},
      "id": "36cef833"
    },
    {
      "cell_type": "code",
      "source": [],
      "outputs": [],
      "execution_count": null,
      "metadata": {},
      "id": "35aac8c0"
    },
    {
      "cell_type": "code",
      "source": [],
      "outputs": [],
      "execution_count": null,
      "metadata": {},
      "id": "7e333a3b"
    }
  ],
  "metadata": {
    "kernelspec": {
      "display_name": "Python 3",
      "language": "python",
      "name": "python3"
    },
    "language_info": {
      "codemirror_mode": {
        "name": "ipython",
        "version": 3
      },
      "file_extension": ".py",
      "mimetype": "text/x-python",
      "name": "python",
      "nbconvert_exporter": "python",
      "pygments_lexer": "ipython3",
      "version": "3.8.8"
    },
    "nteract": {
      "version": "0.28.0"
    }
  },
  "nbformat": 4,
  "nbformat_minor": 5
}