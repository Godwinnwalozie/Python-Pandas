{
 "cells": [
  {
   "cell_type": "code",
   "execution_count": 1,
   "metadata": {},
   "outputs": [],
   "source": [
    "import pandas as pd\n",
    "import numpy as np\n",
    "import matplotlib.pyplot as plt\n",
    "import plotly.express as px \n",
    "import datetime\n",
    "import seaborn as sns"
   ]
  },
  {
   "cell_type": "code",
   "execution_count": 2,
   "metadata": {},
   "outputs": [],
   "source": [
    "sd_21 = pd.read_excel(r'C:\\Users\\godwi\\Data_Science_ML\\Exploratory_Analysis_Pandas\\tonia_datasets\\company_sales_data.xlsx','2021', parse_dates=[1])\n",
    "sd_22 = pd.read_excel(r'C:\\Users\\godwi\\Data_Science_ML\\Exploratory_Analysis_Pandas\\tonia_datasets\\company_sales_data.xlsx','2022', parse_dates=[1])\n",
    "sd_23 = pd.read_excel(r'C:\\Users\\godwi\\Data_Science_ML\\Exploratory_Analysis_Pandas\\tonia_datasets\\company_sales_data.xlsx','2023',parse_dates=[1])"
   ]
  },
  {
   "cell_type": "code",
   "execution_count": 3,
   "metadata": {},
   "outputs": [
    {
     "name": "stdout",
     "output_type": "stream",
     "text": [
      "(19500, 13)\n",
      "(21642, 13)\n",
      "(22189, 13)\n"
     ]
    }
   ],
   "source": [
    "print(sd_21.shape)\n",
    "print(sd_22.shape)\n",
    "print(sd_23.shape)"
   ]
  },
  {
   "cell_type": "code",
   "execution_count": 4,
   "metadata": {},
   "outputs": [
    {
     "data": {
      "text/html": [
       "<div>\n",
       "<style scoped>\n",
       "    .dataframe tbody tr th:only-of-type {\n",
       "        vertical-align: middle;\n",
       "    }\n",
       "\n",
       "    .dataframe tbody tr th {\n",
       "        vertical-align: top;\n",
       "    }\n",
       "\n",
       "    .dataframe thead th {\n",
       "        text-align: right;\n",
       "    }\n",
       "</style>\n",
       "<table border=\"1\" class=\"dataframe\">\n",
       "  <thead>\n",
       "    <tr style=\"text-align: right;\">\n",
       "      <th></th>\n",
       "      <th>Salesman</th>\n",
       "      <th>Date</th>\n",
       "      <th>Vch/Bill No</th>\n",
       "      <th>Customer</th>\n",
       "      <th>Item Details</th>\n",
       "      <th>Category</th>\n",
       "      <th>Cat LV1</th>\n",
       "      <th>Cat LV2</th>\n",
       "      <th>Cat LV3</th>\n",
       "      <th>QTY</th>\n",
       "      <th>Unit</th>\n",
       "      <th>Price</th>\n",
       "      <th>Amount</th>\n",
       "    </tr>\n",
       "  </thead>\n",
       "  <tbody>\n",
       "    <tr>\n",
       "      <th>0</th>\n",
       "      <td>Gbolahan Alubankudi</td>\n",
       "      <td>2021-03-11 00:00:00</td>\n",
       "      <td>DST/1936</td>\n",
       "      <td>HENOX TECHNOLOGIES</td>\n",
       "      <td>HP 450 G7 (2D347EA)</td>\n",
       "      <td>HP NEW - CONSUMER</td>\n",
       "      <td>HP channel</td>\n",
       "      <td>Laptop</td>\n",
       "      <td>Commercial</td>\n",
       "      <td>100.0</td>\n",
       "      <td>Pcs.</td>\n",
       "      <td>355000.0</td>\n",
       "      <td>35500000.0</td>\n",
       "    </tr>\n",
       "    <tr>\n",
       "      <th>1</th>\n",
       "      <td>GIDEON ONONUGBOR</td>\n",
       "      <td>2021-04-19 00:00:00</td>\n",
       "      <td>DST/2874</td>\n",
       "      <td>Blessing Computers</td>\n",
       "      <td>HP 440 G7 (2D348EA)</td>\n",
       "      <td>HP NEW - CONSUMER</td>\n",
       "      <td>HP channel</td>\n",
       "      <td>Laptop</td>\n",
       "      <td>Commercial</td>\n",
       "      <td>55.0</td>\n",
       "      <td>Pcs.</td>\n",
       "      <td>370000.0</td>\n",
       "      <td>20350000.0</td>\n",
       "    </tr>\n",
       "  </tbody>\n",
       "</table>\n",
       "</div>"
      ],
      "text/plain": [
       "              Salesman                 Date Vch/Bill No            Customer  \\\n",
       "0  Gbolahan Alubankudi  2021-03-11 00:00:00    DST/1936  HENOX TECHNOLOGIES   \n",
       "1     GIDEON ONONUGBOR  2021-04-19 00:00:00    DST/2874  Blessing Computers   \n",
       "\n",
       "          Item Details           Category     Cat LV1 Cat LV2     Cat LV3  \\\n",
       "0  HP 450 G7 (2D347EA)  HP NEW - CONSUMER  HP channel  Laptop  Commercial   \n",
       "1  HP 440 G7 (2D348EA)  HP NEW - CONSUMER  HP channel  Laptop  Commercial   \n",
       "\n",
       "     QTY  Unit     Price      Amount  \n",
       "0  100.0  Pcs.  355000.0  35500000.0  \n",
       "1   55.0  Pcs.  370000.0  20350000.0  "
      ]
     },
     "execution_count": 4,
     "metadata": {},
     "output_type": "execute_result"
    }
   ],
   "source": [
    "sd_21.head(2)"
   ]
  },
  {
   "cell_type": "code",
   "execution_count": 5,
   "metadata": {},
   "outputs": [
    {
     "data": {
      "text/html": [
       "<div>\n",
       "<style scoped>\n",
       "    .dataframe tbody tr th:only-of-type {\n",
       "        vertical-align: middle;\n",
       "    }\n",
       "\n",
       "    .dataframe tbody tr th {\n",
       "        vertical-align: top;\n",
       "    }\n",
       "\n",
       "    .dataframe thead th {\n",
       "        text-align: right;\n",
       "    }\n",
       "</style>\n",
       "<table border=\"1\" class=\"dataframe\">\n",
       "  <thead>\n",
       "    <tr style=\"text-align: right;\">\n",
       "      <th></th>\n",
       "      <th>Salesman</th>\n",
       "      <th>Date</th>\n",
       "      <th>Vch/Bill No</th>\n",
       "      <th>Customer</th>\n",
       "      <th>Item Details</th>\n",
       "      <th>Category</th>\n",
       "      <th>Cat LV1</th>\n",
       "      <th>Cat LV2</th>\n",
       "      <th>Cat LV3</th>\n",
       "      <th>QTY</th>\n",
       "      <th>Unit</th>\n",
       "      <th>Price</th>\n",
       "      <th>Amount</th>\n",
       "    </tr>\n",
       "  </thead>\n",
       "  <tbody>\n",
       "    <tr>\n",
       "      <th>0</th>\n",
       "      <td>HQ Ground Floor</td>\n",
       "      <td>2022-01-02</td>\n",
       "      <td>DST/789</td>\n",
       "      <td>NIRAN CUSTOMER</td>\n",
       "      <td>IPHONE 13 128GB</td>\n",
       "      <td>MOBILE</td>\n",
       "      <td>Mobile and Tablets</td>\n",
       "      <td>Mobile phones</td>\n",
       "      <td>Apple</td>\n",
       "      <td>1</td>\n",
       "      <td>Pcs.</td>\n",
       "      <td>515000.0</td>\n",
       "      <td>515000.0</td>\n",
       "    </tr>\n",
       "    <tr>\n",
       "      <th>1</th>\n",
       "      <td>Ikhide Inyemifuokha</td>\n",
       "      <td>2022-01-03</td>\n",
       "      <td>DST/1</td>\n",
       "      <td>Kabiru Umar</td>\n",
       "      <td>HP 15t-DW200 (8VX87AV)</td>\n",
       "      <td>COMPUTING</td>\n",
       "      <td>HP NEW - CONSUMER</td>\n",
       "      <td>Laptop</td>\n",
       "      <td>Consumer</td>\n",
       "      <td>1</td>\n",
       "      <td>Pcs.</td>\n",
       "      <td>372000.0</td>\n",
       "      <td>372000.0</td>\n",
       "    </tr>\n",
       "  </tbody>\n",
       "</table>\n",
       "</div>"
      ],
      "text/plain": [
       "              Salesman       Date Vch/Bill No        Customer  \\\n",
       "0      HQ Ground Floor 2022-01-02     DST/789  NIRAN CUSTOMER   \n",
       "1  Ikhide Inyemifuokha 2022-01-03       DST/1     Kabiru Umar   \n",
       "\n",
       "             Item Details   Category             Cat LV1        Cat LV2  \\\n",
       "0         IPHONE 13 128GB     MOBILE  Mobile and Tablets  Mobile phones   \n",
       "1  HP 15t-DW200 (8VX87AV)  COMPUTING   HP NEW - CONSUMER         Laptop   \n",
       "\n",
       "    Cat LV3  QTY  Unit     Price    Amount  \n",
       "0     Apple    1  Pcs.  515000.0  515000.0  \n",
       "1  Consumer    1  Pcs.  372000.0  372000.0  "
      ]
     },
     "execution_count": 5,
     "metadata": {},
     "output_type": "execute_result"
    }
   ],
   "source": [
    "sd_22.head(2)"
   ]
  },
  {
   "cell_type": "code",
   "execution_count": 6,
   "metadata": {},
   "outputs": [
    {
     "data": {
      "text/html": [
       "<div>\n",
       "<style scoped>\n",
       "    .dataframe tbody tr th:only-of-type {\n",
       "        vertical-align: middle;\n",
       "    }\n",
       "\n",
       "    .dataframe tbody tr th {\n",
       "        vertical-align: top;\n",
       "    }\n",
       "\n",
       "    .dataframe thead th {\n",
       "        text-align: right;\n",
       "    }\n",
       "</style>\n",
       "<table border=\"1\" class=\"dataframe\">\n",
       "  <thead>\n",
       "    <tr style=\"text-align: right;\">\n",
       "      <th></th>\n",
       "      <th>Salesman</th>\n",
       "      <th>Date</th>\n",
       "      <th>Vch/Bill No</th>\n",
       "      <th>Customer</th>\n",
       "      <th>Item Details</th>\n",
       "      <th>Category</th>\n",
       "      <th>CAT LV1</th>\n",
       "      <th>Cat LV2</th>\n",
       "      <th>Cat LV3</th>\n",
       "      <th>QTY</th>\n",
       "      <th>Unit</th>\n",
       "      <th>Price</th>\n",
       "      <th>Amount</th>\n",
       "    </tr>\n",
       "  </thead>\n",
       "  <tbody>\n",
       "    <tr>\n",
       "      <th>0</th>\n",
       "      <td>IZUCHUKWU UWANDU</td>\n",
       "      <td>2023-01-02</td>\n",
       "      <td>DST/4</td>\n",
       "      <td>YOMILINCON BRAND ENTERPRICES</td>\n",
       "      <td>AMAZON KINDLE PAPERWHITE 2018 32GB PLUM</td>\n",
       "      <td>MOBILE DEVICES &amp; ACCESSORIES</td>\n",
       "      <td>TABLETS</td>\n",
       "      <td>Tablets</td>\n",
       "      <td></td>\n",
       "      <td>1</td>\n",
       "      <td>Pcs.</td>\n",
       "      <td>81300.0</td>\n",
       "      <td>81300.0</td>\n",
       "    </tr>\n",
       "    <tr>\n",
       "      <th>1</th>\n",
       "      <td>BLESSING WISDOM</td>\n",
       "      <td>2023-01-02</td>\n",
       "      <td>DST/5</td>\n",
       "      <td>Akinlotan Olayinka</td>\n",
       "      <td>HP 15 Dw1212nia (258K3EA)</td>\n",
       "      <td>COMPUTING</td>\n",
       "      <td>HP NEW - CONSUMER</td>\n",
       "      <td>Laptop</td>\n",
       "      <td>non channel</td>\n",
       "      <td>1</td>\n",
       "      <td>Pcs.</td>\n",
       "      <td>155000.0</td>\n",
       "      <td>155000.0</td>\n",
       "    </tr>\n",
       "  </tbody>\n",
       "</table>\n",
       "</div>"
      ],
      "text/plain": [
       "           Salesman       Date Vch/Bill No                      Customer  \\\n",
       "0  IZUCHUKWU UWANDU 2023-01-02       DST/4  YOMILINCON BRAND ENTERPRICES   \n",
       "1   BLESSING WISDOM 2023-01-02       DST/5            Akinlotan Olayinka   \n",
       "\n",
       "                              Item Details                      Category  \\\n",
       "0  AMAZON KINDLE PAPERWHITE 2018 32GB PLUM  MOBILE DEVICES & ACCESSORIES   \n",
       "1                HP 15 Dw1212nia (258K3EA)                     COMPUTING   \n",
       "\n",
       "             CAT LV1  Cat LV2      Cat LV3  QTY  Unit     Price    Amount  \n",
       "0            TABLETS  Tablets                 1  Pcs.   81300.0   81300.0  \n",
       "1  HP NEW - CONSUMER   Laptop  non channel    1  Pcs.  155000.0  155000.0  "
      ]
     },
     "execution_count": 6,
     "metadata": {},
     "output_type": "execute_result"
    }
   ],
   "source": [
    "sd_23.head(2)"
   ]
  },
  {
   "cell_type": "code",
   "execution_count": 7,
   "metadata": {},
   "outputs": [],
   "source": [
    "sd_21['Date']= pd.to_datetime(sd_21['Date'],errors='coerce')\n",
    "sd_22['Date']= pd.to_datetime(sd_22['Date'],errors='coerce')\n",
    "sd_23['Date']= pd.to_datetime(sd_23['Date'],errors='coerce')"
   ]
  },
  {
   "cell_type": "code",
   "execution_count": 8,
   "metadata": {},
   "outputs": [],
   "source": [
    "# merge the dataset\n",
    "sd = pd.concat([sd_21,sd_22,sd_23],join='inner')"
   ]
  },
  {
   "cell_type": "code",
   "execution_count": 9,
   "metadata": {},
   "outputs": [
    {
     "data": {
      "text/html": [
       "<div>\n",
       "<style scoped>\n",
       "    .dataframe tbody tr th:only-of-type {\n",
       "        vertical-align: middle;\n",
       "    }\n",
       "\n",
       "    .dataframe tbody tr th {\n",
       "        vertical-align: top;\n",
       "    }\n",
       "\n",
       "    .dataframe thead th {\n",
       "        text-align: right;\n",
       "    }\n",
       "</style>\n",
       "<table border=\"1\" class=\"dataframe\">\n",
       "  <thead>\n",
       "    <tr style=\"text-align: right;\">\n",
       "      <th></th>\n",
       "      <th>Salesman</th>\n",
       "      <th>Date</th>\n",
       "      <th>Vch/Bill No</th>\n",
       "      <th>Customer</th>\n",
       "      <th>Item Details</th>\n",
       "      <th>Category</th>\n",
       "      <th>Cat LV2</th>\n",
       "      <th>Cat LV3</th>\n",
       "      <th>QTY</th>\n",
       "      <th>Unit</th>\n",
       "      <th>Price</th>\n",
       "      <th>Amount</th>\n",
       "    </tr>\n",
       "  </thead>\n",
       "  <tbody>\n",
       "    <tr>\n",
       "      <th>0</th>\n",
       "      <td>Gbolahan Alubankudi</td>\n",
       "      <td>2021-03-11</td>\n",
       "      <td>DST/1936</td>\n",
       "      <td>HENOX TECHNOLOGIES</td>\n",
       "      <td>HP 450 G7 (2D347EA)</td>\n",
       "      <td>HP NEW - CONSUMER</td>\n",
       "      <td>Laptop</td>\n",
       "      <td>Commercial</td>\n",
       "      <td>100.0</td>\n",
       "      <td>Pcs.</td>\n",
       "      <td>355000.0</td>\n",
       "      <td>35500000.0</td>\n",
       "    </tr>\n",
       "    <tr>\n",
       "      <th>1</th>\n",
       "      <td>GIDEON ONONUGBOR</td>\n",
       "      <td>2021-04-19</td>\n",
       "      <td>DST/2874</td>\n",
       "      <td>Blessing Computers</td>\n",
       "      <td>HP 440 G7 (2D348EA)</td>\n",
       "      <td>HP NEW - CONSUMER</td>\n",
       "      <td>Laptop</td>\n",
       "      <td>Commercial</td>\n",
       "      <td>55.0</td>\n",
       "      <td>Pcs.</td>\n",
       "      <td>370000.0</td>\n",
       "      <td>20350000.0</td>\n",
       "    </tr>\n",
       "    <tr>\n",
       "      <th>2</th>\n",
       "      <td>PAMELA MBANUGO</td>\n",
       "      <td>2021-04-30</td>\n",
       "      <td>DST/3132</td>\n",
       "      <td>HENRI HILLS INTEGRATED CONCEPT LTD</td>\n",
       "      <td>HP 440 G7 (2D348EA)</td>\n",
       "      <td>HP NEW - CONSUMER</td>\n",
       "      <td>Laptop</td>\n",
       "      <td>Commercial</td>\n",
       "      <td>54.0</td>\n",
       "      <td>Pcs.</td>\n",
       "      <td>370000.0</td>\n",
       "      <td>19980000.0</td>\n",
       "    </tr>\n",
       "    <tr>\n",
       "      <th>3</th>\n",
       "      <td>GIDEON ONONUGBOR</td>\n",
       "      <td>2021-03-26</td>\n",
       "      <td>DST/2327</td>\n",
       "      <td>KONGA ONLINE SHOPPING LTD</td>\n",
       "      <td>HP 255 G7 (197U3EA)</td>\n",
       "      <td>HP NEW - CONSUMER</td>\n",
       "      <td>Laptop</td>\n",
       "      <td>Commercial</td>\n",
       "      <td>100.0</td>\n",
       "      <td>Pcs.</td>\n",
       "      <td>177500.0</td>\n",
       "      <td>17750000.0</td>\n",
       "    </tr>\n",
       "    <tr>\n",
       "      <th>4</th>\n",
       "      <td>MD'S SALE</td>\n",
       "      <td>2021-01-20</td>\n",
       "      <td>DST/543</td>\n",
       "      <td>PARK N SHOP</td>\n",
       "      <td>HP Pav 15 DQ1017NIA (2Q870EA)</td>\n",
       "      <td>HP NEW - CONSUMER</td>\n",
       "      <td>Laptop</td>\n",
       "      <td>Consumer</td>\n",
       "      <td>50.0</td>\n",
       "      <td>Pcs.</td>\n",
       "      <td>315000.0</td>\n",
       "      <td>15750000.0</td>\n",
       "    </tr>\n",
       "  </tbody>\n",
       "</table>\n",
       "</div>"
      ],
      "text/plain": [
       "              Salesman       Date Vch/Bill No  \\\n",
       "0  Gbolahan Alubankudi 2021-03-11    DST/1936   \n",
       "1     GIDEON ONONUGBOR 2021-04-19    DST/2874   \n",
       "2       PAMELA MBANUGO 2021-04-30    DST/3132   \n",
       "3     GIDEON ONONUGBOR 2021-03-26    DST/2327   \n",
       "4            MD'S SALE 2021-01-20     DST/543   \n",
       "\n",
       "                             Customer                   Item Details  \\\n",
       "0                  HENOX TECHNOLOGIES            HP 450 G7 (2D347EA)   \n",
       "1                  Blessing Computers            HP 440 G7 (2D348EA)   \n",
       "2  HENRI HILLS INTEGRATED CONCEPT LTD            HP 440 G7 (2D348EA)   \n",
       "3           KONGA ONLINE SHOPPING LTD            HP 255 G7 (197U3EA)   \n",
       "4                         PARK N SHOP  HP Pav 15 DQ1017NIA (2Q870EA)   \n",
       "\n",
       "            Category Cat LV2     Cat LV3    QTY  Unit     Price      Amount  \n",
       "0  HP NEW - CONSUMER  Laptop  Commercial  100.0  Pcs.  355000.0  35500000.0  \n",
       "1  HP NEW - CONSUMER  Laptop  Commercial   55.0  Pcs.  370000.0  20350000.0  \n",
       "2  HP NEW - CONSUMER  Laptop  Commercial   54.0  Pcs.  370000.0  19980000.0  \n",
       "3  HP NEW - CONSUMER  Laptop  Commercial  100.0  Pcs.  177500.0  17750000.0  \n",
       "4  HP NEW - CONSUMER  Laptop    Consumer   50.0  Pcs.  315000.0  15750000.0  "
      ]
     },
     "execution_count": 9,
     "metadata": {},
     "output_type": "execute_result"
    }
   ],
   "source": [
    "sd.head()"
   ]
  },
  {
   "cell_type": "code",
   "execution_count": 10,
   "metadata": {},
   "outputs": [],
   "source": [
    "sd['Year']= sd['Date'].dt.to_period('y')\n",
    "sd['Month']= pd.DatetimeIndex(sd['Date']).month"
   ]
  },
  {
   "cell_type": "code",
   "execution_count": 11,
   "metadata": {},
   "outputs": [],
   "source": [
    "Qtr = []\n",
    "for i in sd.Month:\n",
    "    if i in [1,2,3]:\n",
    "        Qtr.append('Q1')\n",
    "    elif i in [4,5,6]:\n",
    "        Qtr.append('Q2')\n",
    "    elif i in [7,8,9]:\n",
    "        Qtr.append('Q3')\n",
    "    else:\n",
    "        Qtr.append('Q4')"
   ]
  },
  {
   "cell_type": "code",
   "execution_count": 12,
   "metadata": {},
   "outputs": [],
   "source": [
    "sd_new =sd.join(pd.DataFrame(Qtr)).rename({0:'Qtr'},axis =1).fillna(0)"
   ]
  },
  {
   "cell_type": "markdown",
   "metadata": {},
   "source": [
    "merge2.Year.value_counts()"
   ]
  },
  {
   "cell_type": "code",
   "execution_count": 13,
   "metadata": {},
   "outputs": [],
   "source": [
    "sd_new_01 = sd_new.loc[:,['Customer','Category','QTY','Amount','Year','Month']]"
   ]
  },
  {
   "cell_type": "code",
   "execution_count": 14,
   "metadata": {},
   "outputs": [],
   "source": [
    "sd_new_01.Customer = sd_new_01.Customer.astype('object')\n",
    "sd_new_01.Month = sd_new_01.Month.astype('int')"
   ]
  },
  {
   "cell_type": "code",
   "execution_count": 15,
   "metadata": {},
   "outputs": [
    {
     "data": {
      "text/plain": [
       "Customer    0\n",
       "Category    0\n",
       "QTY         0\n",
       "Amount      0\n",
       "Year        0\n",
       "Month       0\n",
       "dtype: int64"
      ]
     },
     "execution_count": 15,
     "metadata": {},
     "output_type": "execute_result"
    }
   ],
   "source": [
    "sd_new_01.isnull().sum()"
   ]
  },
  {
   "cell_type": "code",
   "execution_count": 16,
   "metadata": {},
   "outputs": [
    {
     "data": {
      "text/plain": [
       "Customer     object\n",
       "Category     object\n",
       "QTY         float64\n",
       "Amount      float64\n",
       "Year         object\n",
       "Month         int32\n",
       "dtype: object"
      ]
     },
     "execution_count": 16,
     "metadata": {},
     "output_type": "execute_result"
    }
   ],
   "source": [
    "sd_new_01.dtypes"
   ]
  },
  {
   "cell_type": "code",
   "execution_count": 17,
   "metadata": {},
   "outputs": [
    {
     "data": {
      "text/plain": [
       "Customer\n",
       "                                2233\n",
       "MikiEnt Solutions                907\n",
       "Dreamworks                       775\n",
       "YOMILINCON BRAND ENTERPRICES     755\n",
       "DREAMWORKS WORKSHOP              619\n",
       "                                ... \n",
       "DAINI ADETOLA                      1\n",
       "MR OWOLABI                         1\n",
       "JAMES MOSES                        1\n",
       "KAYODE OMOTUNDE                    1\n",
       "ITUNU OLAPOSI                      1\n",
       "Name: count, Length: 17422, dtype: int64"
      ]
     },
     "execution_count": 17,
     "metadata": {},
     "output_type": "execute_result"
    }
   ],
   "source": [
    "sd_new_01.Customer.value_counts()"
   ]
  },
  {
   "cell_type": "code",
   "execution_count": 18,
   "metadata": {},
   "outputs": [
    {
     "data": {
      "text/html": [
       "<div>\n",
       "<style scoped>\n",
       "    .dataframe tbody tr th:only-of-type {\n",
       "        vertical-align: middle;\n",
       "    }\n",
       "\n",
       "    .dataframe tbody tr th {\n",
       "        vertical-align: top;\n",
       "    }\n",
       "\n",
       "    .dataframe thead th {\n",
       "        text-align: right;\n",
       "    }\n",
       "</style>\n",
       "<table border=\"1\" class=\"dataframe\">\n",
       "  <thead>\n",
       "    <tr style=\"text-align: right;\">\n",
       "      <th></th>\n",
       "      <th>Customer</th>\n",
       "      <th>Category</th>\n",
       "      <th>QTY</th>\n",
       "      <th>Amount</th>\n",
       "      <th>Year</th>\n",
       "      <th>Month</th>\n",
       "    </tr>\n",
       "  </thead>\n",
       "  <tbody>\n",
       "    <tr>\n",
       "      <th>8</th>\n",
       "      <td>MikiEnt Solutions</td>\n",
       "      <td>MOBILE DEVICES &amp; ACCESSORIES</td>\n",
       "      <td>2.0</td>\n",
       "      <td>1800.0</td>\n",
       "      <td>2023</td>\n",
       "      <td>1</td>\n",
       "    </tr>\n",
       "    <tr>\n",
       "      <th>21</th>\n",
       "      <td>MikiEnt Solutions</td>\n",
       "      <td>SMART DEVICES, SECURITY AND WIFI</td>\n",
       "      <td>1.0</td>\n",
       "      <td>42800.0</td>\n",
       "      <td>2023</td>\n",
       "      <td>1</td>\n",
       "    </tr>\n",
       "    <tr>\n",
       "      <th>29</th>\n",
       "      <td>MikiEnt Solutions</td>\n",
       "      <td>COMPUTING</td>\n",
       "      <td>1.0</td>\n",
       "      <td>8600.0</td>\n",
       "      <td>2022</td>\n",
       "      <td>1</td>\n",
       "    </tr>\n",
       "    <tr>\n",
       "      <th>113</th>\n",
       "      <td>MikiEnt Solutions</td>\n",
       "      <td>MOBILE DEVICES &amp; ACCESSORIES</td>\n",
       "      <td>1.0</td>\n",
       "      <td>1200.0</td>\n",
       "      <td>2023</td>\n",
       "      <td>1</td>\n",
       "    </tr>\n",
       "    <tr>\n",
       "      <th>150</th>\n",
       "      <td>MikiEnt Solutions</td>\n",
       "      <td>CONSUMER ELECTRONICS</td>\n",
       "      <td>1.0</td>\n",
       "      <td>8800.0</td>\n",
       "      <td>2022</td>\n",
       "      <td>1</td>\n",
       "    </tr>\n",
       "    <tr>\n",
       "      <th>...</th>\n",
       "      <td>...</td>\n",
       "      <td>...</td>\n",
       "      <td>...</td>\n",
       "      <td>...</td>\n",
       "      <td>...</td>\n",
       "      <td>...</td>\n",
       "    </tr>\n",
       "    <tr>\n",
       "      <th>21550</th>\n",
       "      <td>MikiEnt Solutions</td>\n",
       "      <td>CONSUMER ELECTRONICS</td>\n",
       "      <td>1.0</td>\n",
       "      <td>249300.0</td>\n",
       "      <td>2023</td>\n",
       "      <td>11</td>\n",
       "    </tr>\n",
       "    <tr>\n",
       "      <th>21551</th>\n",
       "      <td>MikiEnt Solutions</td>\n",
       "      <td>SMART DEVICES, SECURITY AND WIFI</td>\n",
       "      <td>1.0</td>\n",
       "      <td>96500.0</td>\n",
       "      <td>2023</td>\n",
       "      <td>11</td>\n",
       "    </tr>\n",
       "    <tr>\n",
       "      <th>21553</th>\n",
       "      <td>MikiEnt Solutions</td>\n",
       "      <td>SMART DEVICES, SECURITY AND WIFI</td>\n",
       "      <td>1.0</td>\n",
       "      <td>10200.0</td>\n",
       "      <td>2023</td>\n",
       "      <td>11</td>\n",
       "    </tr>\n",
       "    <tr>\n",
       "      <th>21621</th>\n",
       "      <td>MikiEnt Solutions</td>\n",
       "      <td>SMART DEVICES, SECURITY AND WIFI</td>\n",
       "      <td>5.0</td>\n",
       "      <td>275000.0</td>\n",
       "      <td>2023</td>\n",
       "      <td>11</td>\n",
       "    </tr>\n",
       "    <tr>\n",
       "      <th>21912</th>\n",
       "      <td>MikiEnt Solutions</td>\n",
       "      <td>SMART DEVICES, SECURITY AND WIFI</td>\n",
       "      <td>1.0</td>\n",
       "      <td>38100.0</td>\n",
       "      <td>2023</td>\n",
       "      <td>12</td>\n",
       "    </tr>\n",
       "  </tbody>\n",
       "</table>\n",
       "<p>907 rows × 6 columns</p>\n",
       "</div>"
      ],
      "text/plain": [
       "                Customer                          Category  QTY    Amount  \\\n",
       "8      MikiEnt Solutions      MOBILE DEVICES & ACCESSORIES  2.0    1800.0   \n",
       "21     MikiEnt Solutions  SMART DEVICES, SECURITY AND WIFI  1.0   42800.0   \n",
       "29     MikiEnt Solutions                         COMPUTING  1.0    8600.0   \n",
       "113    MikiEnt Solutions      MOBILE DEVICES & ACCESSORIES  1.0    1200.0   \n",
       "150    MikiEnt Solutions              CONSUMER ELECTRONICS  1.0    8800.0   \n",
       "...                  ...                               ...  ...       ...   \n",
       "21550  MikiEnt Solutions              CONSUMER ELECTRONICS  1.0  249300.0   \n",
       "21551  MikiEnt Solutions  SMART DEVICES, SECURITY AND WIFI  1.0   96500.0   \n",
       "21553  MikiEnt Solutions  SMART DEVICES, SECURITY AND WIFI  1.0   10200.0   \n",
       "21621  MikiEnt Solutions  SMART DEVICES, SECURITY AND WIFI  5.0  275000.0   \n",
       "21912  MikiEnt Solutions  SMART DEVICES, SECURITY AND WIFI  1.0   38100.0   \n",
       "\n",
       "       Year  Month  \n",
       "8      2023      1  \n",
       "21     2023      1  \n",
       "29     2022      1  \n",
       "113    2023      1  \n",
       "150    2022      1  \n",
       "...     ...    ...  \n",
       "21550  2023     11  \n",
       "21551  2023     11  \n",
       "21553  2023     11  \n",
       "21621  2023     11  \n",
       "21912  2023     12  \n",
       "\n",
       "[907 rows x 6 columns]"
      ]
     },
     "execution_count": 18,
     "metadata": {},
     "output_type": "execute_result"
    }
   ],
   "source": [
    "sd_new_01[sd_new_01.Customer == 'MikiEnt Solutions']"
   ]
  },
  {
   "cell_type": "code",
   "execution_count": 32,
   "metadata": {},
   "outputs": [],
   "source": [
    "def ocur (x):\n",
    "    for i in sd_new_01.Customer:\n",
    "        sd_new_01.Customer.value_counts()\n",
    "        return (x)"
   ]
  },
  {
   "cell_type": "code",
   "execution_count": 33,
   "metadata": {},
   "outputs": [
    {
     "name": "stdout",
     "output_type": "stream",
     "text": [
      "MikiEnt Solutions\n"
     ]
    }
   ],
   "source": [
    "print(ocur ('MikiEnt Solutions'))"
   ]
  },
  {
   "cell_type": "code",
   "execution_count": 44,
   "metadata": {},
   "outputs": [],
   "source": [
    "sd_new_01['Number']= sd_new_01.Customer.apply(lambda x: str(x)+'nn')"
   ]
  },
  {
   "cell_type": "code",
   "execution_count": null,
   "metadata": {},
   "outputs": [],
   "source": [
    "from sklearn.preprocessing import LabelEncoder, StandardScaler\n",
    "from sklearn.compose import ColumnTransformer\n",
    "from sklearn.pipeline import Pipeline"
   ]
  },
  {
   "cell_type": "code",
   "execution_count": null,
   "metadata": {},
   "outputs": [],
   "source": [
    "le= LabelEncoder()\n",
    "sc= StandardScaler()"
   ]
  },
  {
   "cell_type": "code",
   "execution_count": null,
   "metadata": {},
   "outputs": [],
   "source": [
    "scale_col= ['Amount']"
   ]
  },
  {
   "cell_type": "code",
   "execution_count": null,
   "metadata": {},
   "outputs": [],
   "source": [
    "scale_col_pipe =Pipeline([\n",
    "    ('scale',sc)\n",
    "])"
   ]
  },
  {
   "cell_type": "code",
   "execution_count": null,
   "metadata": {},
   "outputs": [],
   "source": [
    "trans = ColumnTransformer([\n",
    "    ('scale',sc,scale_col)\n",
    "],remainder='passthrough')"
   ]
  },
  {
   "cell_type": "code",
   "execution_count": null,
   "metadata": {},
   "outputs": [
    {
     "data": {
      "text/plain": [
       "array([[ 31.8263142 ,   6.        , 100.        ],\n",
       "       [  0.17788335,   9.        ,   1.        ],\n",
       "       [ -0.21445406,  11.        ,   1.        ],\n",
       "       ...,\n",
       "       [ -0.16723245,  11.        ,   1.        ],\n",
       "       [  0.11863018,   3.        ,   1.        ],\n",
       "       [ -0.28800036,   3.        ,   1.        ]])"
      ]
     },
     "execution_count": 86,
     "metadata": {},
     "output_type": "execute_result"
    }
   ],
   "source": [
    "trans.fit_transform(merge3)"
   ]
  },
  {
   "cell_type": "code",
   "execution_count": null,
   "metadata": {},
   "outputs": [],
   "source": [
    "transformer =pd.DataFrame(trans.fit_transform(merge3),columns=['Amount','Category','QTY'])"
   ]
  },
  {
   "cell_type": "code",
   "execution_count": null,
   "metadata": {},
   "outputs": [
    {
     "data": {
      "text/html": [
       "<div>\n",
       "<style scoped>\n",
       "    .dataframe tbody tr th:only-of-type {\n",
       "        vertical-align: middle;\n",
       "    }\n",
       "\n",
       "    .dataframe tbody tr th {\n",
       "        vertical-align: top;\n",
       "    }\n",
       "\n",
       "    .dataframe thead th {\n",
       "        text-align: right;\n",
       "    }\n",
       "</style>\n",
       "<table border=\"1\" class=\"dataframe\">\n",
       "  <thead>\n",
       "    <tr style=\"text-align: right;\">\n",
       "      <th></th>\n",
       "      <th>Amount</th>\n",
       "      <th>Category</th>\n",
       "      <th>QTY</th>\n",
       "    </tr>\n",
       "  </thead>\n",
       "  <tbody>\n",
       "    <tr>\n",
       "      <th>0</th>\n",
       "      <td>31.826314</td>\n",
       "      <td>6</td>\n",
       "      <td>100.0</td>\n",
       "    </tr>\n",
       "    <tr>\n",
       "      <th>1</th>\n",
       "      <td>0.177883</td>\n",
       "      <td>9</td>\n",
       "      <td>1.0</td>\n",
       "    </tr>\n",
       "    <tr>\n",
       "      <th>2</th>\n",
       "      <td>-0.214454</td>\n",
       "      <td>11</td>\n",
       "      <td>1.0</td>\n",
       "    </tr>\n",
       "    <tr>\n",
       "      <th>3</th>\n",
       "      <td>18.121191</td>\n",
       "      <td>6</td>\n",
       "      <td>55.0</td>\n",
       "    </tr>\n",
       "    <tr>\n",
       "      <th>4</th>\n",
       "      <td>0.048521</td>\n",
       "      <td>2</td>\n",
       "      <td>1.0</td>\n",
       "    </tr>\n",
       "    <tr>\n",
       "      <th>...</th>\n",
       "      <td>...</td>\n",
       "      <td>...</td>\n",
       "      <td>...</td>\n",
       "    </tr>\n",
       "    <tr>\n",
       "      <th>63326</th>\n",
       "      <td>-0.285196</td>\n",
       "      <td>11</td>\n",
       "      <td>1.0</td>\n",
       "    </tr>\n",
       "    <tr>\n",
       "      <th>63327</th>\n",
       "      <td>-0.285558</td>\n",
       "      <td>11</td>\n",
       "      <td>1.0</td>\n",
       "    </tr>\n",
       "    <tr>\n",
       "      <th>63328</th>\n",
       "      <td>-0.167232</td>\n",
       "      <td>11</td>\n",
       "      <td>1.0</td>\n",
       "    </tr>\n",
       "    <tr>\n",
       "      <th>63329</th>\n",
       "      <td>0.11863</td>\n",
       "      <td>3</td>\n",
       "      <td>1.0</td>\n",
       "    </tr>\n",
       "    <tr>\n",
       "      <th>63330</th>\n",
       "      <td>-0.288</td>\n",
       "      <td>3</td>\n",
       "      <td>1.0</td>\n",
       "    </tr>\n",
       "  </tbody>\n",
       "</table>\n",
       "<p>63331 rows × 3 columns</p>\n",
       "</div>"
      ],
      "text/plain": [
       "          Amount Category    QTY\n",
       "0      31.826314        6  100.0\n",
       "1       0.177883        9    1.0\n",
       "2      -0.214454       11    1.0\n",
       "3      18.121191        6   55.0\n",
       "4       0.048521        2    1.0\n",
       "...          ...      ...    ...\n",
       "63326  -0.285196       11    1.0\n",
       "63327  -0.285558       11    1.0\n",
       "63328  -0.167232       11    1.0\n",
       "63329    0.11863        3    1.0\n",
       "63330     -0.288        3    1.0\n",
       "\n",
       "[63331 rows x 3 columns]"
      ]
     },
     "execution_count": 100,
     "metadata": {},
     "output_type": "execute_result"
    }
   ],
   "source": [
    "transformer"
   ]
  },
  {
   "cell_type": "code",
   "execution_count": null,
   "metadata": {},
   "outputs": [],
   "source": [
    "merge3.Category= merge3.Category.astype('object')"
   ]
  },
  {
   "cell_type": "code",
   "execution_count": null,
   "metadata": {},
   "outputs": [
    {
     "data": {
      "text/plain": [
       "Category     object\n",
       "QTY         float64\n",
       "Amount      float64\n",
       "dtype: object"
      ]
     },
     "execution_count": 88,
     "metadata": {},
     "output_type": "execute_result"
    }
   ],
   "source": [
    "merge3.dtypes"
   ]
  },
  {
   "cell_type": "code",
   "execution_count": null,
   "metadata": {},
   "outputs": [
    {
     "data": {
      "text/plain": [
       "Category    False\n",
       "QTY         False\n",
       "Amount      False\n",
       "dtype: bool"
      ]
     },
     "execution_count": 89,
     "metadata": {},
     "output_type": "execute_result"
    }
   ],
   "source": [
    "merge3.isna().any()"
   ]
  },
  {
   "cell_type": "code",
   "execution_count": null,
   "metadata": {},
   "outputs": [
    {
     "data": {
      "text/plain": [
       "Category\n",
       "11    18925\n",
       "2     16361\n",
       "18     9263\n",
       "3      8593\n",
       "6      2651\n",
       "15     2210\n",
       "1      1709\n",
       "13      910\n",
       "9       886\n",
       "12      704\n",
       "16      523\n",
       "5       428\n",
       "0        83\n",
       "17       30\n",
       "4        24\n",
       "7        14\n",
       "14       13\n",
       "8         2\n",
       "10        2\n",
       "Name: count, dtype: int64"
      ]
     },
     "execution_count": 90,
     "metadata": {},
     "output_type": "execute_result"
    }
   ],
   "source": [
    "merge3.Category.value_counts()"
   ]
  },
  {
   "cell_type": "code",
   "execution_count": null,
   "metadata": {},
   "outputs": [
    {
     "data": {
      "text/html": [
       "<div>\n",
       "<style scoped>\n",
       "    .dataframe tbody tr th:only-of-type {\n",
       "        vertical-align: middle;\n",
       "    }\n",
       "\n",
       "    .dataframe tbody tr th {\n",
       "        vertical-align: top;\n",
       "    }\n",
       "\n",
       "    .dataframe thead th {\n",
       "        text-align: right;\n",
       "    }\n",
       "</style>\n",
       "<table border=\"1\" class=\"dataframe\">\n",
       "  <thead>\n",
       "    <tr style=\"text-align: right;\">\n",
       "      <th></th>\n",
       "      <th>Amount</th>\n",
       "      <th>Category</th>\n",
       "      <th>QTY</th>\n",
       "    </tr>\n",
       "  </thead>\n",
       "  <tbody>\n",
       "    <tr>\n",
       "      <th>0</th>\n",
       "      <td>31.826314</td>\n",
       "      <td>6</td>\n",
       "      <td>100.0</td>\n",
       "    </tr>\n",
       "    <tr>\n",
       "      <th>1</th>\n",
       "      <td>0.177883</td>\n",
       "      <td>9</td>\n",
       "      <td>1.0</td>\n",
       "    </tr>\n",
       "    <tr>\n",
       "      <th>2</th>\n",
       "      <td>-0.214454</td>\n",
       "      <td>11</td>\n",
       "      <td>1.0</td>\n",
       "    </tr>\n",
       "    <tr>\n",
       "      <th>3</th>\n",
       "      <td>18.121191</td>\n",
       "      <td>6</td>\n",
       "      <td>55.0</td>\n",
       "    </tr>\n",
       "    <tr>\n",
       "      <th>4</th>\n",
       "      <td>0.048521</td>\n",
       "      <td>2</td>\n",
       "      <td>1.0</td>\n",
       "    </tr>\n",
       "    <tr>\n",
       "      <th>...</th>\n",
       "      <td>...</td>\n",
       "      <td>...</td>\n",
       "      <td>...</td>\n",
       "    </tr>\n",
       "    <tr>\n",
       "      <th>63326</th>\n",
       "      <td>-0.285196</td>\n",
       "      <td>11</td>\n",
       "      <td>1.0</td>\n",
       "    </tr>\n",
       "    <tr>\n",
       "      <th>63327</th>\n",
       "      <td>-0.285558</td>\n",
       "      <td>11</td>\n",
       "      <td>1.0</td>\n",
       "    </tr>\n",
       "    <tr>\n",
       "      <th>63328</th>\n",
       "      <td>-0.167232</td>\n",
       "      <td>11</td>\n",
       "      <td>1.0</td>\n",
       "    </tr>\n",
       "    <tr>\n",
       "      <th>63329</th>\n",
       "      <td>0.11863</td>\n",
       "      <td>3</td>\n",
       "      <td>1.0</td>\n",
       "    </tr>\n",
       "    <tr>\n",
       "      <th>63330</th>\n",
       "      <td>-0.288</td>\n",
       "      <td>3</td>\n",
       "      <td>1.0</td>\n",
       "    </tr>\n",
       "  </tbody>\n",
       "</table>\n",
       "<p>63331 rows × 3 columns</p>\n",
       "</div>"
      ],
      "text/plain": [
       "          Amount Category    QTY\n",
       "0      31.826314        6  100.0\n",
       "1       0.177883        9    1.0\n",
       "2      -0.214454       11    1.0\n",
       "3      18.121191        6   55.0\n",
       "4       0.048521        2    1.0\n",
       "...          ...      ...    ...\n",
       "63326  -0.285196       11    1.0\n",
       "63327  -0.285558       11    1.0\n",
       "63328  -0.167232       11    1.0\n",
       "63329    0.11863        3    1.0\n",
       "63330     -0.288        3    1.0\n",
       "\n",
       "[63331 rows x 3 columns]"
      ]
     },
     "execution_count": 101,
     "metadata": {},
     "output_type": "execute_result"
    }
   ],
   "source": [
    "transformer"
   ]
  },
  {
   "cell_type": "code",
   "execution_count": null,
   "metadata": {},
   "outputs": [
    {
     "name": "stderr",
     "output_type": "stream",
     "text": [
      "c:\\Users\\godwi\\anaconda3\\envs\\ML\\lib\\site-packages\\seaborn\\_decorators.py:36: FutureWarning: Pass the following variables as keyword args: x, y. From version 0.12, the only valid positional argument will be `data`, and passing other arguments without an explicit keyword will result in an error or misinterpretation.\n",
      "  warnings.warn(\n",
      "c:\\Users\\godwi\\anaconda3\\envs\\ML\\lib\\site-packages\\seaborn\\_core.py:1225: FutureWarning: is_categorical_dtype is deprecated and will be removed in a future version. Use isinstance(dtype, CategoricalDtype) instead\n",
      "  if pd.api.types.is_categorical_dtype(vector):\n",
      "c:\\Users\\godwi\\anaconda3\\envs\\ML\\lib\\site-packages\\seaborn\\_core.py:1225: FutureWarning: is_categorical_dtype is deprecated and will be removed in a future version. Use isinstance(dtype, CategoricalDtype) instead\n",
      "  if pd.api.types.is_categorical_dtype(vector):\n"
     ]
    },
    {
     "data": {
      "text/plain": [
       "<AxesSubplot:xlabel='QTY', ylabel='Amount'>"
      ]
     },
     "execution_count": 104,
     "metadata": {},
     "output_type": "execute_result"
    },
    {
     "data": {
      "image/png": "[encoded data removed]",
      "text/plain": [
       "<Figure size 432x288 with 1 Axes>"
      ]
     },
     "metadata": {
      "needs_background": "light"
     },
     "output_type": "display_data"
    }
   ],
   "source": [
    "sns.scatterplot(transformer.QTY, transformer.Amount)"
   ]
  },
  {
   "cell_type": "code",
   "execution_count": null,
   "metadata": {},
   "outputs": [
    {
     "data": {
      "text/plain": [
       "Category\n",
       "11         18925\n",
       "2          16361\n",
       "18          9263\n",
       "3           8593\n",
       "6           2651\n",
       "15          2210\n",
       "1           1709\n",
       "13           910\n",
       "9            886\n",
       "12           704\n",
       "16           523\n",
       "5            428\n",
       "unknown       83\n",
       "17            30\n",
       "4             24\n",
       "7             14\n",
       "14            13\n",
       "8              2\n",
       "10             2\n",
       "Name: count, dtype: int64"
      ]
     },
     "execution_count": 115,
     "metadata": {},
     "output_type": "execute_result"
    }
   ],
   "source": [
    "transformer.Category.value_counts()"
   ]
  },
  {
   "cell_type": "code",
   "execution_count": null,
   "metadata": {},
   "outputs": [
    {
     "ename": "TypeError",
     "evalue": "Encoders require their input argument must be uniformly strings or numbers. Got ['int', 'str']",
     "output_type": "error",
     "traceback": [
      "\u001b[1;31m---------------------------------------------------------------------------\u001b[0m",
      "\u001b[1;31mTypeError\u001b[0m                                 Traceback (most recent call last)",
      "File \u001b[1;32mc:\\Users\\godwi\\anaconda3\\envs\\ML\\lib\\site-packages\\sklearn\\utils\\_encode.py:174\u001b[0m, in \u001b[0;36m_unique_python\u001b[1;34m(values, return_inverse, return_counts)\u001b[0m\n\u001b[0;32m    172\u001b[0m uniques_set, missing_values \u001b[38;5;241m=\u001b[39m _extract_missing(uniques_set)\n\u001b[1;32m--> 174\u001b[0m uniques \u001b[38;5;241m=\u001b[39m \u001b[38;5;28;43msorted\u001b[39;49m\u001b[43m(\u001b[49m\u001b[43muniques_set\u001b[49m\u001b[43m)\u001b[49m\n\u001b[0;32m    175\u001b[0m uniques\u001b[38;5;241m.\u001b[39mextend(missing_values\u001b[38;5;241m.\u001b[39mto_list())\n",
      "\u001b[1;31mTypeError\u001b[0m: '<' not supported between instances of 'str' and 'int'",
      "\nDuring handling of the above exception, another exception occurred:\n",
      "\u001b[1;31mTypeError\u001b[0m                                 Traceback (most recent call last)",
      "Input \u001b[1;32mIn [116]\u001b[0m, in \u001b[0;36m<cell line: 1>\u001b[1;34m()\u001b[0m\n\u001b[1;32m----> 1\u001b[0m transformer\u001b[38;5;241m.\u001b[39mCategory\u001b[38;5;241m=\u001b[39m\u001b[43mle\u001b[49m\u001b[38;5;241;43m.\u001b[39;49m\u001b[43mfit_transform\u001b[49m\u001b[43m(\u001b[49m\u001b[43mtransformer\u001b[49m\u001b[38;5;241;43m.\u001b[39;49m\u001b[43mCategory\u001b[49m\u001b[43m)\u001b[49m\n",
      "File \u001b[1;32mc:\\Users\\godwi\\anaconda3\\envs\\ML\\lib\\site-packages\\sklearn\\preprocessing\\_label.py:115\u001b[0m, in \u001b[0;36mLabelEncoder.fit_transform\u001b[1;34m(self, y)\u001b[0m\n\u001b[0;32m    102\u001b[0m \u001b[38;5;124;03m\"\"\"Fit label encoder and return encoded labels.\u001b[39;00m\n\u001b[0;32m    103\u001b[0m \n\u001b[0;32m    104\u001b[0m \u001b[38;5;124;03mParameters\u001b[39;00m\n\u001b[1;32m   (...)\u001b[0m\n\u001b[0;32m    112\u001b[0m \u001b[38;5;124;03m    Encoded labels.\u001b[39;00m\n\u001b[0;32m    113\u001b[0m \u001b[38;5;124;03m\"\"\"\u001b[39;00m\n\u001b[0;32m    114\u001b[0m y \u001b[38;5;241m=\u001b[39m column_or_1d(y, warn\u001b[38;5;241m=\u001b[39m\u001b[38;5;28;01mTrue\u001b[39;00m)\n\u001b[1;32m--> 115\u001b[0m \u001b[38;5;28mself\u001b[39m\u001b[38;5;241m.\u001b[39mclasses_, y \u001b[38;5;241m=\u001b[39m \u001b[43m_unique\u001b[49m\u001b[43m(\u001b[49m\u001b[43my\u001b[49m\u001b[43m,\u001b[49m\u001b[43m \u001b[49m\u001b[43mreturn_inverse\u001b[49m\u001b[38;5;241;43m=\u001b[39;49m\u001b[38;5;28;43;01mTrue\u001b[39;49;00m\u001b[43m)\u001b[49m\n\u001b[0;32m    116\u001b[0m \u001b[38;5;28;01mreturn\u001b[39;00m y\n",
      "File \u001b[1;32mc:\\Users\\godwi\\anaconda3\\envs\\ML\\lib\\site-packages\\sklearn\\utils\\_encode.py:42\u001b[0m, in \u001b[0;36m_unique\u001b[1;34m(values, return_inverse, return_counts)\u001b[0m\n\u001b[0;32m     11\u001b[0m \u001b[38;5;124;03m\"\"\"Helper function to find unique values with support for python objects.\u001b[39;00m\n\u001b[0;32m     12\u001b[0m \n\u001b[0;32m     13\u001b[0m \u001b[38;5;124;03mUses pure python method for object dtype, and numpy method for\u001b[39;00m\n\u001b[1;32m   (...)\u001b[0m\n\u001b[0;32m     39\u001b[0m \u001b[38;5;124;03m    array. Only provided if `return_counts` is True.\u001b[39;00m\n\u001b[0;32m     40\u001b[0m \u001b[38;5;124;03m\"\"\"\u001b[39;00m\n\u001b[0;32m     41\u001b[0m \u001b[38;5;28;01mif\u001b[39;00m values\u001b[38;5;241m.\u001b[39mdtype \u001b[38;5;241m==\u001b[39m \u001b[38;5;28mobject\u001b[39m:\n\u001b[1;32m---> 42\u001b[0m     \u001b[38;5;28;01mreturn\u001b[39;00m \u001b[43m_unique_python\u001b[49m\u001b[43m(\u001b[49m\n\u001b[0;32m     43\u001b[0m \u001b[43m        \u001b[49m\u001b[43mvalues\u001b[49m\u001b[43m,\u001b[49m\u001b[43m \u001b[49m\u001b[43mreturn_inverse\u001b[49m\u001b[38;5;241;43m=\u001b[39;49m\u001b[43mreturn_inverse\u001b[49m\u001b[43m,\u001b[49m\u001b[43m \u001b[49m\u001b[43mreturn_counts\u001b[49m\u001b[38;5;241;43m=\u001b[39;49m\u001b[43mreturn_counts\u001b[49m\n\u001b[0;32m     44\u001b[0m \u001b[43m    \u001b[49m\u001b[43m)\u001b[49m\n\u001b[0;32m     45\u001b[0m \u001b[38;5;66;03m# numerical\u001b[39;00m\n\u001b[0;32m     46\u001b[0m \u001b[38;5;28;01mreturn\u001b[39;00m _unique_np(\n\u001b[0;32m     47\u001b[0m     values, return_inverse\u001b[38;5;241m=\u001b[39mreturn_inverse, return_counts\u001b[38;5;241m=\u001b[39mreturn_counts\n\u001b[0;32m     48\u001b[0m )\n",
      "File \u001b[1;32mc:\\Users\\godwi\\anaconda3\\envs\\ML\\lib\\site-packages\\sklearn\\utils\\_encode.py:179\u001b[0m, in \u001b[0;36m_unique_python\u001b[1;34m(values, return_inverse, return_counts)\u001b[0m\n\u001b[0;32m    177\u001b[0m \u001b[38;5;28;01mexcept\u001b[39;00m \u001b[38;5;167;01mTypeError\u001b[39;00m:\n\u001b[0;32m    178\u001b[0m     types \u001b[38;5;241m=\u001b[39m \u001b[38;5;28msorted\u001b[39m(t\u001b[38;5;241m.\u001b[39m\u001b[38;5;18m__qualname__\u001b[39m \u001b[38;5;28;01mfor\u001b[39;00m t \u001b[38;5;129;01min\u001b[39;00m \u001b[38;5;28mset\u001b[39m(\u001b[38;5;28mtype\u001b[39m(v) \u001b[38;5;28;01mfor\u001b[39;00m v \u001b[38;5;129;01min\u001b[39;00m values))\n\u001b[1;32m--> 179\u001b[0m     \u001b[38;5;28;01mraise\u001b[39;00m \u001b[38;5;167;01mTypeError\u001b[39;00m(\n\u001b[0;32m    180\u001b[0m         \u001b[38;5;124m\"\u001b[39m\u001b[38;5;124mEncoders require their input argument must be uniformly \u001b[39m\u001b[38;5;124m\"\u001b[39m\n\u001b[0;32m    181\u001b[0m         \u001b[38;5;124mf\u001b[39m\u001b[38;5;124m\"\u001b[39m\u001b[38;5;124mstrings or numbers. Got \u001b[39m\u001b[38;5;132;01m{\u001b[39;00mtypes\u001b[38;5;132;01m}\u001b[39;00m\u001b[38;5;124m\"\u001b[39m\n\u001b[0;32m    182\u001b[0m     )\n\u001b[0;32m    183\u001b[0m ret \u001b[38;5;241m=\u001b[39m (uniques,)\n\u001b[0;32m    185\u001b[0m \u001b[38;5;28;01mif\u001b[39;00m return_inverse:\n",
      "\u001b[1;31mTypeError\u001b[0m: Encoders require their input argument must be uniformly strings or numbers. Got ['int', 'str']"
     ]
    }
   ],
   "source": [
    "transformer.Category=le.fit_transform(transformer.Category)"
   ]
  },
  {
   "cell_type": "code",
   "execution_count": null,
   "metadata": {},
   "outputs": [],
   "source": [
    "from sklearn.decomposition import PCA\n"
   ]
  },
  {
   "cell_type": "code",
   "execution_count": null,
   "metadata": {},
   "outputs": [],
   "source": [
    "pca = PCA(n_components=2)"
   ]
  },
  {
   "cell_type": "code",
   "execution_count": null,
   "metadata": {},
   "outputs": [
    {
     "ename": "ValueError",
     "evalue": "could not convert string to float: 'unknown'",
     "output_type": "error",
     "traceback": [
      "\u001b[1;31m---------------------------------------------------------------------------\u001b[0m",
      "\u001b[1;31mValueError\u001b[0m                                Traceback (most recent call last)",
      "Input \u001b[1;32mIn [111]\u001b[0m, in \u001b[0;36m<cell line: 1>\u001b[1;34m()\u001b[0m\n\u001b[1;32m----> 1\u001b[0m merge_pca\u001b[38;5;241m=\u001b[39m \u001b[43mpca\u001b[49m\u001b[38;5;241;43m.\u001b[39;49m\u001b[43mfit_transform\u001b[49m\u001b[43m(\u001b[49m\u001b[43mtransformer\u001b[49m\u001b[43m)\u001b[49m\n",
      "File \u001b[1;32mc:\\Users\\godwi\\anaconda3\\envs\\ML\\lib\\site-packages\\sklearn\\utils\\_set_output.py:157\u001b[0m, in \u001b[0;36m_wrap_method_output.<locals>.wrapped\u001b[1;34m(self, X, *args, **kwargs)\u001b[0m\n\u001b[0;32m    155\u001b[0m \u001b[38;5;129m@wraps\u001b[39m(f)\n\u001b[0;32m    156\u001b[0m \u001b[38;5;28;01mdef\u001b[39;00m \u001b[38;5;21mwrapped\u001b[39m(\u001b[38;5;28mself\u001b[39m, X, \u001b[38;5;241m*\u001b[39margs, \u001b[38;5;241m*\u001b[39m\u001b[38;5;241m*\u001b[39mkwargs):\n\u001b[1;32m--> 157\u001b[0m     data_to_wrap \u001b[38;5;241m=\u001b[39m f(\u001b[38;5;28mself\u001b[39m, X, \u001b[38;5;241m*\u001b[39margs, \u001b[38;5;241m*\u001b[39m\u001b[38;5;241m*\u001b[39mkwargs)\n\u001b[0;32m    158\u001b[0m     \u001b[38;5;28;01mif\u001b[39;00m \u001b[38;5;28misinstance\u001b[39m(data_to_wrap, \u001b[38;5;28mtuple\u001b[39m):\n\u001b[0;32m    159\u001b[0m         \u001b[38;5;66;03m# only wrap the first output for cross decomposition\u001b[39;00m\n\u001b[0;32m    160\u001b[0m         return_tuple \u001b[38;5;241m=\u001b[39m (\n\u001b[0;32m    161\u001b[0m             _wrap_data_with_container(method, data_to_wrap[\u001b[38;5;241m0\u001b[39m], X, \u001b[38;5;28mself\u001b[39m),\n\u001b[0;32m    162\u001b[0m             \u001b[38;5;241m*\u001b[39mdata_to_wrap[\u001b[38;5;241m1\u001b[39m:],\n\u001b[0;32m    163\u001b[0m         )\n",
      "File \u001b[1;32mc:\\Users\\godwi\\anaconda3\\envs\\ML\\lib\\site-packages\\sklearn\\base.py:1152\u001b[0m, in \u001b[0;36m_fit_context.<locals>.decorator.<locals>.wrapper\u001b[1;34m(estimator, *args, **kwargs)\u001b[0m\n\u001b[0;32m   1145\u001b[0m     estimator\u001b[38;5;241m.\u001b[39m_validate_params()\n\u001b[0;32m   1147\u001b[0m \u001b[38;5;28;01mwith\u001b[39;00m config_context(\n\u001b[0;32m   1148\u001b[0m     skip_parameter_validation\u001b[38;5;241m=\u001b[39m(\n\u001b[0;32m   1149\u001b[0m         prefer_skip_nested_validation \u001b[38;5;129;01mor\u001b[39;00m global_skip_validation\n\u001b[0;32m   1150\u001b[0m     )\n\u001b[0;32m   1151\u001b[0m ):\n\u001b[1;32m-> 1152\u001b[0m     \u001b[38;5;28;01mreturn\u001b[39;00m fit_method(estimator, \u001b[38;5;241m*\u001b[39margs, \u001b[38;5;241m*\u001b[39m\u001b[38;5;241m*\u001b[39mkwargs)\n",
      "File \u001b[1;32mc:\\Users\\godwi\\anaconda3\\envs\\ML\\lib\\site-packages\\sklearn\\decomposition\\_pca.py:460\u001b[0m, in \u001b[0;36mPCA.fit_transform\u001b[1;34m(self, X, y)\u001b[0m\n\u001b[0;32m    437\u001b[0m \u001b[38;5;129m@_fit_context\u001b[39m(prefer_skip_nested_validation\u001b[38;5;241m=\u001b[39m\u001b[38;5;28;01mTrue\u001b[39;00m)\n\u001b[0;32m    438\u001b[0m \u001b[38;5;28;01mdef\u001b[39;00m \u001b[38;5;21mfit_transform\u001b[39m(\u001b[38;5;28mself\u001b[39m, X, y\u001b[38;5;241m=\u001b[39m\u001b[38;5;28;01mNone\u001b[39;00m):\n\u001b[0;32m    439\u001b[0m     \u001b[38;5;124;03m\"\"\"Fit the model with X and apply the dimensionality reduction on X.\u001b[39;00m\n\u001b[0;32m    440\u001b[0m \n\u001b[0;32m    441\u001b[0m \u001b[38;5;124;03m    Parameters\u001b[39;00m\n\u001b[1;32m   (...)\u001b[0m\n\u001b[0;32m    458\u001b[0m \u001b[38;5;124;03m    C-ordered array, use 'np.ascontiguousarray'.\u001b[39;00m\n\u001b[0;32m    459\u001b[0m \u001b[38;5;124;03m    \"\"\"\u001b[39;00m\n\u001b[1;32m--> 460\u001b[0m     U, S, Vt \u001b[38;5;241m=\u001b[39m \u001b[38;5;28;43mself\u001b[39;49m\u001b[38;5;241;43m.\u001b[39;49m\u001b[43m_fit\u001b[49m\u001b[43m(\u001b[49m\u001b[43mX\u001b[49m\u001b[43m)\u001b[49m\n\u001b[0;32m    461\u001b[0m     U \u001b[38;5;241m=\u001b[39m U[:, : \u001b[38;5;28mself\u001b[39m\u001b[38;5;241m.\u001b[39mn_components_]\n\u001b[0;32m    463\u001b[0m     \u001b[38;5;28;01mif\u001b[39;00m \u001b[38;5;28mself\u001b[39m\u001b[38;5;241m.\u001b[39mwhiten:\n\u001b[0;32m    464\u001b[0m         \u001b[38;5;66;03m# X_new = X * V / S * sqrt(n_samples) = U * sqrt(n_samples)\u001b[39;00m\n",
      "File \u001b[1;32mc:\\Users\\godwi\\anaconda3\\envs\\ML\\lib\\site-packages\\sklearn\\decomposition\\_pca.py:483\u001b[0m, in \u001b[0;36mPCA._fit\u001b[1;34m(self, X)\u001b[0m\n\u001b[0;32m    477\u001b[0m \u001b[38;5;28;01mif\u001b[39;00m issparse(X):\n\u001b[0;32m    478\u001b[0m     \u001b[38;5;28;01mraise\u001b[39;00m \u001b[38;5;167;01mTypeError\u001b[39;00m(\n\u001b[0;32m    479\u001b[0m         \u001b[38;5;124m\"\u001b[39m\u001b[38;5;124mPCA does not support sparse input. See \u001b[39m\u001b[38;5;124m\"\u001b[39m\n\u001b[0;32m    480\u001b[0m         \u001b[38;5;124m\"\u001b[39m\u001b[38;5;124mTruncatedSVD for a possible alternative.\u001b[39m\u001b[38;5;124m\"\u001b[39m\n\u001b[0;32m    481\u001b[0m     )\n\u001b[1;32m--> 483\u001b[0m X \u001b[38;5;241m=\u001b[39m \u001b[38;5;28;43mself\u001b[39;49m\u001b[38;5;241;43m.\u001b[39;49m\u001b[43m_validate_data\u001b[49m\u001b[43m(\u001b[49m\n\u001b[0;32m    484\u001b[0m \u001b[43m    \u001b[49m\u001b[43mX\u001b[49m\u001b[43m,\u001b[49m\u001b[43m \u001b[49m\u001b[43mdtype\u001b[49m\u001b[38;5;241;43m=\u001b[39;49m\u001b[43m[\u001b[49m\u001b[43mnp\u001b[49m\u001b[38;5;241;43m.\u001b[39;49m\u001b[43mfloat64\u001b[49m\u001b[43m,\u001b[49m\u001b[43m \u001b[49m\u001b[43mnp\u001b[49m\u001b[38;5;241;43m.\u001b[39;49m\u001b[43mfloat32\u001b[49m\u001b[43m]\u001b[49m\u001b[43m,\u001b[49m\u001b[43m \u001b[49m\u001b[43mensure_2d\u001b[49m\u001b[38;5;241;43m=\u001b[39;49m\u001b[38;5;28;43;01mTrue\u001b[39;49;00m\u001b[43m,\u001b[49m\u001b[43m \u001b[49m\u001b[43mcopy\u001b[49m\u001b[38;5;241;43m=\u001b[39;49m\u001b[38;5;28;43mself\u001b[39;49m\u001b[38;5;241;43m.\u001b[39;49m\u001b[43mcopy\u001b[49m\n\u001b[0;32m    485\u001b[0m \u001b[43m\u001b[49m\u001b[43m)\u001b[49m\n\u001b[0;32m    487\u001b[0m \u001b[38;5;66;03m# Handle n_components==None\u001b[39;00m\n\u001b[0;32m    488\u001b[0m \u001b[38;5;28;01mif\u001b[39;00m \u001b[38;5;28mself\u001b[39m\u001b[38;5;241m.\u001b[39mn_components \u001b[38;5;129;01mis\u001b[39;00m \u001b[38;5;28;01mNone\u001b[39;00m:\n",
      "File \u001b[1;32mc:\\Users\\godwi\\anaconda3\\envs\\ML\\lib\\site-packages\\sklearn\\base.py:605\u001b[0m, in \u001b[0;36mBaseEstimator._validate_data\u001b[1;34m(self, X, y, reset, validate_separately, cast_to_ndarray, **check_params)\u001b[0m\n\u001b[0;32m    603\u001b[0m         out \u001b[38;5;241m=\u001b[39m X, y\n\u001b[0;32m    604\u001b[0m \u001b[38;5;28;01melif\u001b[39;00m \u001b[38;5;129;01mnot\u001b[39;00m no_val_X \u001b[38;5;129;01mand\u001b[39;00m no_val_y:\n\u001b[1;32m--> 605\u001b[0m     out \u001b[38;5;241m=\u001b[39m check_array(X, input_name\u001b[38;5;241m=\u001b[39m\u001b[38;5;124m\"\u001b[39m\u001b[38;5;124mX\u001b[39m\u001b[38;5;124m\"\u001b[39m, \u001b[38;5;241m*\u001b[39m\u001b[38;5;241m*\u001b[39mcheck_params)\n\u001b[0;32m    606\u001b[0m \u001b[38;5;28;01melif\u001b[39;00m no_val_X \u001b[38;5;129;01mand\u001b[39;00m \u001b[38;5;129;01mnot\u001b[39;00m no_val_y:\n\u001b[0;32m    607\u001b[0m     out \u001b[38;5;241m=\u001b[39m _check_y(y, \u001b[38;5;241m*\u001b[39m\u001b[38;5;241m*\u001b[39mcheck_params)\n",
      "File \u001b[1;32mc:\\Users\\godwi\\anaconda3\\envs\\ML\\lib\\site-packages\\sklearn\\utils\\validation.py:915\u001b[0m, in \u001b[0;36mcheck_array\u001b[1;34m(array, accept_sparse, accept_large_sparse, dtype, order, copy, force_all_finite, ensure_2d, allow_nd, ensure_min_samples, ensure_min_features, estimator, input_name)\u001b[0m\n\u001b[0;32m    913\u001b[0m         array \u001b[38;5;241m=\u001b[39m xp\u001b[38;5;241m.\u001b[39mastype(array, dtype, copy\u001b[38;5;241m=\u001b[39m\u001b[38;5;28;01mFalse\u001b[39;00m)\n\u001b[0;32m    914\u001b[0m     \u001b[38;5;28;01melse\u001b[39;00m:\n\u001b[1;32m--> 915\u001b[0m         array \u001b[38;5;241m=\u001b[39m \u001b[43m_asarray_with_order\u001b[49m\u001b[43m(\u001b[49m\u001b[43marray\u001b[49m\u001b[43m,\u001b[49m\u001b[43m \u001b[49m\u001b[43morder\u001b[49m\u001b[38;5;241;43m=\u001b[39;49m\u001b[43morder\u001b[49m\u001b[43m,\u001b[49m\u001b[43m \u001b[49m\u001b[43mdtype\u001b[49m\u001b[38;5;241;43m=\u001b[39;49m\u001b[43mdtype\u001b[49m\u001b[43m,\u001b[49m\u001b[43m \u001b[49m\u001b[43mxp\u001b[49m\u001b[38;5;241;43m=\u001b[39;49m\u001b[43mxp\u001b[49m\u001b[43m)\u001b[49m\n\u001b[0;32m    916\u001b[0m \u001b[38;5;28;01mexcept\u001b[39;00m ComplexWarning \u001b[38;5;28;01mas\u001b[39;00m complex_warning:\n\u001b[0;32m    917\u001b[0m     \u001b[38;5;28;01mraise\u001b[39;00m \u001b[38;5;167;01mValueError\u001b[39;00m(\n\u001b[0;32m    918\u001b[0m         \u001b[38;5;124m\"\u001b[39m\u001b[38;5;124mComplex data not supported\u001b[39m\u001b[38;5;130;01m\\n\u001b[39;00m\u001b[38;5;132;01m{}\u001b[39;00m\u001b[38;5;130;01m\\n\u001b[39;00m\u001b[38;5;124m\"\u001b[39m\u001b[38;5;241m.\u001b[39mformat(array)\n\u001b[0;32m    919\u001b[0m     ) \u001b[38;5;28;01mfrom\u001b[39;00m \u001b[38;5;21;01mcomplex_warning\u001b[39;00m\n",
      "File \u001b[1;32mc:\\Users\\godwi\\anaconda3\\envs\\ML\\lib\\site-packages\\sklearn\\utils\\_array_api.py:380\u001b[0m, in \u001b[0;36m_asarray_with_order\u001b[1;34m(array, dtype, order, copy, xp)\u001b[0m\n\u001b[0;32m    378\u001b[0m     array \u001b[38;5;241m=\u001b[39m numpy\u001b[38;5;241m.\u001b[39marray(array, order\u001b[38;5;241m=\u001b[39morder, dtype\u001b[38;5;241m=\u001b[39mdtype)\n\u001b[0;32m    379\u001b[0m \u001b[38;5;28;01melse\u001b[39;00m:\n\u001b[1;32m--> 380\u001b[0m     array \u001b[38;5;241m=\u001b[39m \u001b[43mnumpy\u001b[49m\u001b[38;5;241;43m.\u001b[39;49m\u001b[43masarray\u001b[49m\u001b[43m(\u001b[49m\u001b[43marray\u001b[49m\u001b[43m,\u001b[49m\u001b[43m \u001b[49m\u001b[43morder\u001b[49m\u001b[38;5;241;43m=\u001b[39;49m\u001b[43morder\u001b[49m\u001b[43m,\u001b[49m\u001b[43m \u001b[49m\u001b[43mdtype\u001b[49m\u001b[38;5;241;43m=\u001b[39;49m\u001b[43mdtype\u001b[49m\u001b[43m)\u001b[49m\n\u001b[0;32m    382\u001b[0m \u001b[38;5;66;03m# At this point array is a NumPy ndarray. We convert it to an array\u001b[39;00m\n\u001b[0;32m    383\u001b[0m \u001b[38;5;66;03m# container that is consistent with the input's namespace.\u001b[39;00m\n\u001b[0;32m    384\u001b[0m \u001b[38;5;28;01mreturn\u001b[39;00m xp\u001b[38;5;241m.\u001b[39masarray(array)\n",
      "File \u001b[1;32mc:\\Users\\godwi\\anaconda3\\envs\\ML\\lib\\site-packages\\pandas\\core\\generic.py:2084\u001b[0m, in \u001b[0;36mNDFrame.__array__\u001b[1;34m(self, dtype)\u001b[0m\n\u001b[0;32m   2082\u001b[0m \u001b[38;5;28;01mdef\u001b[39;00m \u001b[38;5;21m__array__\u001b[39m(\u001b[38;5;28mself\u001b[39m, dtype: npt\u001b[38;5;241m.\u001b[39mDTypeLike \u001b[38;5;241m|\u001b[39m \u001b[38;5;28;01mNone\u001b[39;00m \u001b[38;5;241m=\u001b[39m \u001b[38;5;28;01mNone\u001b[39;00m) \u001b[38;5;241m-\u001b[39m\u001b[38;5;241m>\u001b[39m np\u001b[38;5;241m.\u001b[39mndarray:\n\u001b[0;32m   2083\u001b[0m     values \u001b[38;5;241m=\u001b[39m \u001b[38;5;28mself\u001b[39m\u001b[38;5;241m.\u001b[39m_values\n\u001b[1;32m-> 2084\u001b[0m     arr \u001b[38;5;241m=\u001b[39m \u001b[43mnp\u001b[49m\u001b[38;5;241;43m.\u001b[39;49m\u001b[43masarray\u001b[49m\u001b[43m(\u001b[49m\u001b[43mvalues\u001b[49m\u001b[43m,\u001b[49m\u001b[43m \u001b[49m\u001b[43mdtype\u001b[49m\u001b[38;5;241;43m=\u001b[39;49m\u001b[43mdtype\u001b[49m\u001b[43m)\u001b[49m\n\u001b[0;32m   2085\u001b[0m     \u001b[38;5;28;01mif\u001b[39;00m (\n\u001b[0;32m   2086\u001b[0m         astype_is_view(values\u001b[38;5;241m.\u001b[39mdtype, arr\u001b[38;5;241m.\u001b[39mdtype)\n\u001b[0;32m   2087\u001b[0m         \u001b[38;5;129;01mand\u001b[39;00m using_copy_on_write()\n\u001b[0;32m   2088\u001b[0m         \u001b[38;5;129;01mand\u001b[39;00m \u001b[38;5;28mself\u001b[39m\u001b[38;5;241m.\u001b[39m_mgr\u001b[38;5;241m.\u001b[39mis_single_block\n\u001b[0;32m   2089\u001b[0m     ):\n\u001b[0;32m   2090\u001b[0m         \u001b[38;5;66;03m# Check if both conversions can be done without a copy\u001b[39;00m\n\u001b[0;32m   2091\u001b[0m         \u001b[38;5;28;01mif\u001b[39;00m astype_is_view(\u001b[38;5;28mself\u001b[39m\u001b[38;5;241m.\u001b[39mdtypes\u001b[38;5;241m.\u001b[39miloc[\u001b[38;5;241m0\u001b[39m], values\u001b[38;5;241m.\u001b[39mdtype) \u001b[38;5;129;01mand\u001b[39;00m astype_is_view(\n\u001b[0;32m   2092\u001b[0m             values\u001b[38;5;241m.\u001b[39mdtype, arr\u001b[38;5;241m.\u001b[39mdtype\n\u001b[0;32m   2093\u001b[0m         ):\n",
      "\u001b[1;31mValueError\u001b[0m: could not convert string to float: 'unknown'"
     ]
    }
   ],
   "source": [
    "merge_pca= pca.fit_transform(transformer)"
   ]
  },
  {
   "cell_type": "code",
   "execution_count": null,
   "metadata": {},
   "outputs": [
    {
     "data": {
      "text/plain": [
       "array([[ 3.51816369e+07,  1.68381060e+01],\n",
       "       [ 1.96636894e+05,  7.94794185e-01],\n",
       "       [-2.37063106e+05,  2.58783139e+00],\n",
       "       ...,\n",
       "       [-1.84863106e+05,  2.61267094e+00],\n",
       "       [ 1.31136894e+05, -5.23461864e+00],\n",
       "       [-3.18363106e+05, -5.44851472e+00]])"
      ]
     },
     "execution_count": 42,
     "metadata": {},
     "output_type": "execute_result"
    }
   ],
   "source": [
    "merge_pca"
   ]
  },
  {
   "cell_type": "code",
   "execution_count": null,
   "metadata": {},
   "outputs": [],
   "source": [
    "merge_pca= pd.DataFrame(merge_pca, columns=['pca1','pca2'])"
   ]
  },
  {
   "cell_type": "code",
   "execution_count": null,
   "metadata": {},
   "outputs": [
    {
     "data": {
      "text/html": [
       "<div>\n",
       "<style scoped>\n",
       "    .dataframe tbody tr th:only-of-type {\n",
       "        vertical-align: middle;\n",
       "    }\n",
       "\n",
       "    .dataframe tbody tr th {\n",
       "        vertical-align: top;\n",
       "    }\n",
       "\n",
       "    .dataframe thead th {\n",
       "        text-align: right;\n",
       "    }\n",
       "</style>\n",
       "<table border=\"1\" class=\"dataframe\">\n",
       "  <thead>\n",
       "    <tr style=\"text-align: right;\">\n",
       "      <th></th>\n",
       "      <th>pca1</th>\n",
       "      <th>pca2</th>\n",
       "    </tr>\n",
       "  </thead>\n",
       "  <tbody>\n",
       "    <tr>\n",
       "      <th>0</th>\n",
       "      <td>3.518164e+07</td>\n",
       "      <td>16.838106</td>\n",
       "    </tr>\n",
       "    <tr>\n",
       "      <th>1</th>\n",
       "      <td>1.966369e+05</td>\n",
       "      <td>0.794794</td>\n",
       "    </tr>\n",
       "    <tr>\n",
       "      <th>2</th>\n",
       "      <td>-2.370631e+05</td>\n",
       "      <td>2.587831</td>\n",
       "    </tr>\n",
       "    <tr>\n",
       "      <th>3</th>\n",
       "      <td>2.003164e+07</td>\n",
       "      <td>8.540426</td>\n",
       "    </tr>\n",
       "    <tr>\n",
       "      <th>4</th>\n",
       "      <td>5.363689e+04</td>\n",
       "      <td>-6.271205</td>\n",
       "    </tr>\n",
       "    <tr>\n",
       "      <th>...</th>\n",
       "      <td>...</td>\n",
       "      <td>...</td>\n",
       "    </tr>\n",
       "    <tr>\n",
       "      <th>63326</th>\n",
       "      <td>-3.152631e+05</td>\n",
       "      <td>2.550620</td>\n",
       "    </tr>\n",
       "    <tr>\n",
       "      <th>63327</th>\n",
       "      <td>-3.156631e+05</td>\n",
       "      <td>2.550429</td>\n",
       "    </tr>\n",
       "    <tr>\n",
       "      <th>63328</th>\n",
       "      <td>-1.848631e+05</td>\n",
       "      <td>2.612671</td>\n",
       "    </tr>\n",
       "    <tr>\n",
       "      <th>63329</th>\n",
       "      <td>1.311369e+05</td>\n",
       "      <td>-5.234619</td>\n",
       "    </tr>\n",
       "    <tr>\n",
       "      <th>63330</th>\n",
       "      <td>-3.183631e+05</td>\n",
       "      <td>-5.448515</td>\n",
       "    </tr>\n",
       "  </tbody>\n",
       "</table>\n",
       "<p>63331 rows × 2 columns</p>\n",
       "</div>"
      ],
      "text/plain": [
       "               pca1       pca2\n",
       "0      3.518164e+07  16.838106\n",
       "1      1.966369e+05   0.794794\n",
       "2     -2.370631e+05   2.587831\n",
       "3      2.003164e+07   8.540426\n",
       "4      5.363689e+04  -6.271205\n",
       "...             ...        ...\n",
       "63326 -3.152631e+05   2.550620\n",
       "63327 -3.156631e+05   2.550429\n",
       "63328 -1.848631e+05   2.612671\n",
       "63329  1.311369e+05  -5.234619\n",
       "63330 -3.183631e+05  -5.448515\n",
       "\n",
       "[63331 rows x 2 columns]"
      ]
     },
     "execution_count": 45,
     "metadata": {},
     "output_type": "execute_result"
    }
   ],
   "source": [
    "merge_pca"
   ]
  },
  {
   "cell_type": "code",
   "execution_count": null,
   "metadata": {},
   "outputs": [],
   "source": [
    "from sklearn.cluster import KMeans"
   ]
  },
  {
   "cell_type": "code",
   "execution_count": null,
   "metadata": {},
   "outputs": [
    {
     "name": "stderr",
     "output_type": "stream",
     "text": [
      "c:\\Users\\godwi\\anaconda3\\envs\\ML\\lib\\site-packages\\sklearn\\cluster\\_kmeans.py:1416: FutureWarning: The default value of `n_init` will change from 10 to 'auto' in 1.4. Set the value of `n_init` explicitly to suppress the warning\n",
      "  super()._check_params_vs_input(X, default_n_init=10)\n"
     ]
    },
    {
     "data": {
      "text/html": [
       "<div>\n",
       "<style scoped>\n",
       "    .dataframe tbody tr th:only-of-type {\n",
       "        vertical-align: middle;\n",
       "    }\n",
       "\n",
       "    .dataframe tbody tr th {\n",
       "        vertical-align: top;\n",
       "    }\n",
       "\n",
       "    .dataframe thead th {\n",
       "        text-align: right;\n",
       "    }\n",
       "</style>\n",
       "<table border=\"1\" class=\"dataframe\">\n",
       "  <thead>\n",
       "    <tr style=\"text-align: right;\">\n",
       "      <th></th>\n",
       "      <th>pca1</th>\n",
       "      <th>pca2</th>\n",
       "      <th>clusters</th>\n",
       "    </tr>\n",
       "  </thead>\n",
       "  <tbody>\n",
       "    <tr>\n",
       "      <th>0</th>\n",
       "      <td>3.518164e+07</td>\n",
       "      <td>16.838106</td>\n",
       "      <td>3</td>\n",
       "    </tr>\n",
       "    <tr>\n",
       "      <th>1</th>\n",
       "      <td>1.966369e+05</td>\n",
       "      <td>0.794794</td>\n",
       "      <td>0</td>\n",
       "    </tr>\n",
       "    <tr>\n",
       "      <th>2</th>\n",
       "      <td>-2.370631e+05</td>\n",
       "      <td>2.587831</td>\n",
       "      <td>0</td>\n",
       "    </tr>\n",
       "    <tr>\n",
       "      <th>3</th>\n",
       "      <td>2.003164e+07</td>\n",
       "      <td>8.540426</td>\n",
       "      <td>3</td>\n",
       "    </tr>\n",
       "    <tr>\n",
       "      <th>4</th>\n",
       "      <td>5.363689e+04</td>\n",
       "      <td>-6.271205</td>\n",
       "      <td>0</td>\n",
       "    </tr>\n",
       "    <tr>\n",
       "      <th>...</th>\n",
       "      <td>...</td>\n",
       "      <td>...</td>\n",
       "      <td>...</td>\n",
       "    </tr>\n",
       "    <tr>\n",
       "      <th>63326</th>\n",
       "      <td>-3.152631e+05</td>\n",
       "      <td>2.550620</td>\n",
       "      <td>0</td>\n",
       "    </tr>\n",
       "    <tr>\n",
       "      <th>63327</th>\n",
       "      <td>-3.156631e+05</td>\n",
       "      <td>2.550429</td>\n",
       "      <td>0</td>\n",
       "    </tr>\n",
       "    <tr>\n",
       "      <th>63328</th>\n",
       "      <td>-1.848631e+05</td>\n",
       "      <td>2.612671</td>\n",
       "      <td>0</td>\n",
       "    </tr>\n",
       "    <tr>\n",
       "      <th>63329</th>\n",
       "      <td>1.311369e+05</td>\n",
       "      <td>-5.234619</td>\n",
       "      <td>0</td>\n",
       "    </tr>\n",
       "    <tr>\n",
       "      <th>63330</th>\n",
       "      <td>-3.183631e+05</td>\n",
       "      <td>-5.448515</td>\n",
       "      <td>0</td>\n",
       "    </tr>\n",
       "  </tbody>\n",
       "</table>\n",
       "<p>63331 rows × 3 columns</p>\n",
       "</div>"
      ],
      "text/plain": [
       "               pca1       pca2  clusters\n",
       "0      3.518164e+07  16.838106         3\n",
       "1      1.966369e+05   0.794794         0\n",
       "2     -2.370631e+05   2.587831         0\n",
       "3      2.003164e+07   8.540426         3\n",
       "4      5.363689e+04  -6.271205         0\n",
       "...             ...        ...       ...\n",
       "63326 -3.152631e+05   2.550620         0\n",
       "63327 -3.156631e+05   2.550429         0\n",
       "63328 -1.848631e+05   2.612671         0\n",
       "63329  1.311369e+05  -5.234619         0\n",
       "63330 -3.183631e+05  -5.448515         0\n",
       "\n",
       "[63331 rows x 3 columns]"
      ]
     },
     "execution_count": 68,
     "metadata": {},
     "output_type": "execute_result"
    }
   ],
   "source": [
    "km =KMeans(n_clusters=4, max_iter=300, random_state=42)\n",
    "km.fit_transform(merge_pca)\n",
    "final_kmeans = pd.concat([merge_pca , pd.DataFrame({'clusters' : km.labels_})],axis = 1)\n",
    "final_kmeans  "
   ]
  },
  {
   "cell_type": "code",
   "execution_count": null,
   "metadata": {},
   "outputs": [
    {
     "name": "stderr",
     "output_type": "stream",
     "text": [
      "c:\\Users\\godwi\\anaconda3\\envs\\ML\\lib\\site-packages\\seaborn\\_core.py:1225: FutureWarning: is_categorical_dtype is deprecated and will be removed in a future version. Use isinstance(dtype, CategoricalDtype) instead\n",
      "  if pd.api.types.is_categorical_dtype(vector):\n",
      "c:\\Users\\godwi\\anaconda3\\envs\\ML\\lib\\site-packages\\seaborn\\_core.py:1225: FutureWarning: is_categorical_dtype is deprecated and will be removed in a future version. Use isinstance(dtype, CategoricalDtype) instead\n",
      "  if pd.api.types.is_categorical_dtype(vector):\n",
      "c:\\Users\\godwi\\anaconda3\\envs\\ML\\lib\\site-packages\\seaborn\\_core.py:1225: FutureWarning: is_categorical_dtype is deprecated and will be removed in a future version. Use isinstance(dtype, CategoricalDtype) instead\n",
      "  if pd.api.types.is_categorical_dtype(vector):\n",
      "c:\\Users\\godwi\\anaconda3\\envs\\ML\\lib\\site-packages\\seaborn\\_core.py:1225: FutureWarning: is_categorical_dtype is deprecated and will be removed in a future version. Use isinstance(dtype, CategoricalDtype) instead\n",
      "  if pd.api.types.is_categorical_dtype(vector):\n",
      "c:\\Users\\godwi\\anaconda3\\envs\\ML\\lib\\site-packages\\seaborn\\_core.py:1225: FutureWarning: is_categorical_dtype is deprecated and will be removed in a future version. Use isinstance(dtype, CategoricalDtype) instead\n",
      "  if pd.api.types.is_categorical_dtype(vector):\n",
      "c:\\Users\\godwi\\anaconda3\\envs\\ML\\lib\\site-packages\\seaborn\\_core.py:1225: FutureWarning: is_categorical_dtype is deprecated and will be removed in a future version. Use isinstance(dtype, CategoricalDtype) instead\n",
      "  if pd.api.types.is_categorical_dtype(vector):\n",
      "c:\\Users\\godwi\\anaconda3\\envs\\ML\\lib\\site-packages\\seaborn\\_core.py:1225: FutureWarning: is_categorical_dtype is deprecated and will be removed in a future version. Use isinstance(dtype, CategoricalDtype) instead\n",
      "  if pd.api.types.is_categorical_dtype(vector):\n",
      "c:\\Users\\godwi\\anaconda3\\envs\\ML\\lib\\site-packages\\seaborn\\_core.py:1225: FutureWarning: is_categorical_dtype is deprecated and will be removed in a future version. Use isinstance(dtype, CategoricalDtype) instead\n",
      "  if pd.api.types.is_categorical_dtype(vector):\n"
     ]
    },
    {
     "data": {
      "image/png": "[encoded data removed]",
      "text/plain": [
       "<Figure size 720x504 with 1 Axes>"
      ]
     },
     "metadata": {
      "needs_background": "light"
     },
     "output_type": "display_data"
    }
   ],
   "source": [
    "c =['red', 'blue',\"black\",'green']\n",
    "fig, ax = plt.subplots(figsize =( 10, 7))\n",
    "sns.scatterplot(data = final_kmeans, x= 'pca1', y='pca2', palette= c, hue = 'clusters',alpha=0.8, s = 100)\n",
    "sns.scatterplot(x= km.cluster_centers_[:, 0], y=km.cluster_centers_[:, 1], \n",
    "                hue= range(4), palette=c, s=180, ec='brown', marker = \"*\",  legend = False, ax=ax)\n",
    "plt.grid(False)\n",
    "plt.show()"
   ]
  },
  {
   "cell_type": "code",
   "execution_count": null,
   "metadata": {},
   "outputs": [],
   "source": [
    "segment = merge2.loc[:, ['Customer','Category','Amount']].join(final_kmeans.clusters)"
   ]
  },
  {
   "cell_type": "code",
   "execution_count": null,
   "metadata": {},
   "outputs": [],
   "source": [
    "segment.to_csv('segment.csv')"
   ]
  },
  {
   "cell_type": "code",
   "execution_count": null,
   "metadata": {},
   "outputs": [],
   "source": []
  }
 ],
 "metadata": {
  "kernelspec": {
   "display_name": "ML",
   "language": "python",
   "name": "python3"
  },
  "language_info": {
   "codemirror_mode": {
    "name": "ipython",
    "version": 3
   },
   "file_extension": ".py",
   "mimetype": "text/x-python",
   "name": "python",
   "nbconvert_exporter": "python",
   "pygments_lexer": "ipython3",
   "version": "0.0.0"
  }
 },
 "nbformat": 4,
 "nbformat_minor": 2
}
