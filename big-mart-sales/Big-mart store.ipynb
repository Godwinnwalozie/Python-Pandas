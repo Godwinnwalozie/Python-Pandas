{
 "cells": [
  {
   "cell_type": "raw",
   "id": "4d3f3eb9-9027-412d-b00a-6e91763a6653",
   "metadata": {},
   "source": [
    "The data scientists at Big Mart have collected 2013 sales data for 1559 products across 10 stores in different cities. Also, certain attributes of each product and store have been defined. The aim is to build a predictive model and predict the sales of each product at a particular outlet.\n",
    "\n",
    "Using this model, Big Mart will try to understand the properties of products and outlets which play a key role in increasing sales.\n",
    "Please note that the data may have missing values as some stores might not report all the data due to technical glitches. Hence, it will be required to treat them accordingly."
   ]
  },
  {
   "cell_type": "code",
   "execution_count": 1,
   "id": "70ce30c2-438b-42ad-b54a-2195962c9aaf",
   "metadata": {},
   "outputs": [],
   "source": [
    "import numpy as np\n",
    "import pandas as pd\n",
    "from dateutil import parser\n",
    "from datetime import datetime\n",
    "import matplotlib.pyplot as plt \n",
    "import seaborn  as sns\n",
    "%matplotlib inline"
   ]
  },
  {
   "cell_type": "code",
   "execution_count": 2,
   "id": "ed33a633-b7ef-498e-888d-085cf6b194a5",
   "metadata": {},
   "outputs": [],
   "source": [
    "test = pd.read_csv('Test-Set.csv')\n",
    "train = pd.read_csv('Train-Set.csv')"
   ]
  },
  {
   "cell_type": "code",
   "execution_count": 3,
   "id": "8a7ef85a-8000-4867-98a0-aaf9aa815a31",
   "metadata": {},
   "outputs": [
    {
     "data": {
      "text/html": [
       "<div>\n",
       "<style scoped>\n",
       "    .dataframe tbody tr th:only-of-type {\n",
       "        vertical-align: middle;\n",
       "    }\n",
       "\n",
       "    .dataframe tbody tr th {\n",
       "        vertical-align: top;\n",
       "    }\n",
       "\n",
       "    .dataframe thead th {\n",
       "        text-align: right;\n",
       "    }\n",
       "</style>\n",
       "<table border=\"1\" class=\"dataframe\">\n",
       "  <thead>\n",
       "    <tr style=\"text-align: right;\">\n",
       "      <th></th>\n",
       "      <th>ProductID</th>\n",
       "      <th>Weight</th>\n",
       "      <th>FatContent</th>\n",
       "      <th>ProductVisibility</th>\n",
       "      <th>ProductType</th>\n",
       "      <th>MRP</th>\n",
       "      <th>OutletID</th>\n",
       "      <th>EstablishmentYear</th>\n",
       "      <th>OutletSize</th>\n",
       "      <th>LocationType</th>\n",
       "      <th>OutletType</th>\n",
       "    </tr>\n",
       "  </thead>\n",
       "  <tbody>\n",
       "    <tr>\n",
       "      <th>0</th>\n",
       "      <td>FDW58</td>\n",
       "      <td>20.750</td>\n",
       "      <td>Low Fat</td>\n",
       "      <td>0.007565</td>\n",
       "      <td>Snack Foods</td>\n",
       "      <td>107.8622</td>\n",
       "      <td>OUT049</td>\n",
       "      <td>1999</td>\n",
       "      <td>Medium</td>\n",
       "      <td>Tier 1</td>\n",
       "      <td>Supermarket Type1</td>\n",
       "    </tr>\n",
       "    <tr>\n",
       "      <th>1</th>\n",
       "      <td>FDW14</td>\n",
       "      <td>8.300</td>\n",
       "      <td>reg</td>\n",
       "      <td>0.038428</td>\n",
       "      <td>Dairy</td>\n",
       "      <td>87.3198</td>\n",
       "      <td>OUT017</td>\n",
       "      <td>2007</td>\n",
       "      <td>NaN</td>\n",
       "      <td>Tier 2</td>\n",
       "      <td>Supermarket Type1</td>\n",
       "    </tr>\n",
       "    <tr>\n",
       "      <th>2</th>\n",
       "      <td>NCN55</td>\n",
       "      <td>14.600</td>\n",
       "      <td>Low Fat</td>\n",
       "      <td>0.099575</td>\n",
       "      <td>Others</td>\n",
       "      <td>241.7538</td>\n",
       "      <td>OUT010</td>\n",
       "      <td>1998</td>\n",
       "      <td>NaN</td>\n",
       "      <td>Tier 3</td>\n",
       "      <td>Grocery Store</td>\n",
       "    </tr>\n",
       "    <tr>\n",
       "      <th>3</th>\n",
       "      <td>FDQ58</td>\n",
       "      <td>7.315</td>\n",
       "      <td>Low Fat</td>\n",
       "      <td>0.015388</td>\n",
       "      <td>Snack Foods</td>\n",
       "      <td>155.0340</td>\n",
       "      <td>OUT017</td>\n",
       "      <td>2007</td>\n",
       "      <td>NaN</td>\n",
       "      <td>Tier 2</td>\n",
       "      <td>Supermarket Type1</td>\n",
       "    </tr>\n",
       "    <tr>\n",
       "      <th>4</th>\n",
       "      <td>FDY38</td>\n",
       "      <td>NaN</td>\n",
       "      <td>Regular</td>\n",
       "      <td>0.118599</td>\n",
       "      <td>Dairy</td>\n",
       "      <td>234.2300</td>\n",
       "      <td>OUT027</td>\n",
       "      <td>1985</td>\n",
       "      <td>Medium</td>\n",
       "      <td>Tier 3</td>\n",
       "      <td>Supermarket Type3</td>\n",
       "    </tr>\n",
       "  </tbody>\n",
       "</table>\n",
       "</div>"
      ],
      "text/plain": [
       "  ProductID  Weight FatContent  ProductVisibility  ProductType       MRP  \\\n",
       "0     FDW58  20.750    Low Fat           0.007565  Snack Foods  107.8622   \n",
       "1     FDW14   8.300        reg           0.038428        Dairy   87.3198   \n",
       "2     NCN55  14.600    Low Fat           0.099575       Others  241.7538   \n",
       "3     FDQ58   7.315    Low Fat           0.015388  Snack Foods  155.0340   \n",
       "4     FDY38     NaN    Regular           0.118599        Dairy  234.2300   \n",
       "\n",
       "  OutletID  EstablishmentYear OutletSize LocationType         OutletType  \n",
       "0   OUT049               1999     Medium       Tier 1  Supermarket Type1  \n",
       "1   OUT017               2007        NaN       Tier 2  Supermarket Type1  \n",
       "2   OUT010               1998        NaN       Tier 3      Grocery Store  \n",
       "3   OUT017               2007        NaN       Tier 2  Supermarket Type1  \n",
       "4   OUT027               1985     Medium       Tier 3  Supermarket Type3  "
      ]
     },
     "execution_count": 3,
     "metadata": {},
     "output_type": "execute_result"
    }
   ],
   "source": [
    "test.head()"
   ]
  },
  {
   "cell_type": "code",
   "execution_count": 4,
   "id": "37abe678-6942-4348-9bd1-9ce76bdb8a42",
   "metadata": {},
   "outputs": [
    {
     "data": {
      "text/html": [
       "<div>\n",
       "<style scoped>\n",
       "    .dataframe tbody tr th:only-of-type {\n",
       "        vertical-align: middle;\n",
       "    }\n",
       "\n",
       "    .dataframe tbody tr th {\n",
       "        vertical-align: top;\n",
       "    }\n",
       "\n",
       "    .dataframe thead th {\n",
       "        text-align: right;\n",
       "    }\n",
       "</style>\n",
       "<table border=\"1\" class=\"dataframe\">\n",
       "  <thead>\n",
       "    <tr style=\"text-align: right;\">\n",
       "      <th></th>\n",
       "      <th>ProductID</th>\n",
       "      <th>Weight</th>\n",
       "      <th>FatContent</th>\n",
       "      <th>ProductVisibility</th>\n",
       "      <th>ProductType</th>\n",
       "      <th>MRP</th>\n",
       "      <th>OutletID</th>\n",
       "      <th>EstablishmentYear</th>\n",
       "      <th>OutletSize</th>\n",
       "      <th>LocationType</th>\n",
       "      <th>OutletType</th>\n",
       "      <th>OutletSales</th>\n",
       "    </tr>\n",
       "  </thead>\n",
       "  <tbody>\n",
       "    <tr>\n",
       "      <th>0</th>\n",
       "      <td>FDA15</td>\n",
       "      <td>9.30</td>\n",
       "      <td>Low Fat</td>\n",
       "      <td>0.016047</td>\n",
       "      <td>Dairy</td>\n",
       "      <td>249.8092</td>\n",
       "      <td>OUT049</td>\n",
       "      <td>1999</td>\n",
       "      <td>Medium</td>\n",
       "      <td>Tier 1</td>\n",
       "      <td>Supermarket Type1</td>\n",
       "      <td>3735.1380</td>\n",
       "    </tr>\n",
       "    <tr>\n",
       "      <th>1</th>\n",
       "      <td>DRC01</td>\n",
       "      <td>5.92</td>\n",
       "      <td>Regular</td>\n",
       "      <td>0.019278</td>\n",
       "      <td>Soft Drinks</td>\n",
       "      <td>48.2692</td>\n",
       "      <td>OUT018</td>\n",
       "      <td>2009</td>\n",
       "      <td>Medium</td>\n",
       "      <td>Tier 3</td>\n",
       "      <td>Supermarket Type2</td>\n",
       "      <td>443.4228</td>\n",
       "    </tr>\n",
       "    <tr>\n",
       "      <th>2</th>\n",
       "      <td>FDN15</td>\n",
       "      <td>17.50</td>\n",
       "      <td>Low Fat</td>\n",
       "      <td>0.016760</td>\n",
       "      <td>Meat</td>\n",
       "      <td>141.6180</td>\n",
       "      <td>OUT049</td>\n",
       "      <td>1999</td>\n",
       "      <td>Medium</td>\n",
       "      <td>Tier 1</td>\n",
       "      <td>Supermarket Type1</td>\n",
       "      <td>2097.2700</td>\n",
       "    </tr>\n",
       "    <tr>\n",
       "      <th>3</th>\n",
       "      <td>FDX07</td>\n",
       "      <td>19.20</td>\n",
       "      <td>Regular</td>\n",
       "      <td>0.000000</td>\n",
       "      <td>Fruits and Vegetables</td>\n",
       "      <td>182.0950</td>\n",
       "      <td>OUT010</td>\n",
       "      <td>1998</td>\n",
       "      <td>NaN</td>\n",
       "      <td>Tier 3</td>\n",
       "      <td>Grocery Store</td>\n",
       "      <td>732.3800</td>\n",
       "    </tr>\n",
       "    <tr>\n",
       "      <th>4</th>\n",
       "      <td>NCD19</td>\n",
       "      <td>8.93</td>\n",
       "      <td>Low Fat</td>\n",
       "      <td>0.000000</td>\n",
       "      <td>Household</td>\n",
       "      <td>53.8614</td>\n",
       "      <td>OUT013</td>\n",
       "      <td>1987</td>\n",
       "      <td>High</td>\n",
       "      <td>Tier 3</td>\n",
       "      <td>Supermarket Type1</td>\n",
       "      <td>994.7052</td>\n",
       "    </tr>\n",
       "  </tbody>\n",
       "</table>\n",
       "</div>"
      ],
      "text/plain": [
       "  ProductID  Weight FatContent  ProductVisibility            ProductType  \\\n",
       "0     FDA15    9.30    Low Fat           0.016047                  Dairy   \n",
       "1     DRC01    5.92    Regular           0.019278            Soft Drinks   \n",
       "2     FDN15   17.50    Low Fat           0.016760                   Meat   \n",
       "3     FDX07   19.20    Regular           0.000000  Fruits and Vegetables   \n",
       "4     NCD19    8.93    Low Fat           0.000000              Household   \n",
       "\n",
       "        MRP OutletID  EstablishmentYear OutletSize LocationType  \\\n",
       "0  249.8092   OUT049               1999     Medium       Tier 1   \n",
       "1   48.2692   OUT018               2009     Medium       Tier 3   \n",
       "2  141.6180   OUT049               1999     Medium       Tier 1   \n",
       "3  182.0950   OUT010               1998        NaN       Tier 3   \n",
       "4   53.8614   OUT013               1987       High       Tier 3   \n",
       "\n",
       "          OutletType  OutletSales  \n",
       "0  Supermarket Type1    3735.1380  \n",
       "1  Supermarket Type2     443.4228  \n",
       "2  Supermarket Type1    2097.2700  \n",
       "3      Grocery Store     732.3800  \n",
       "4  Supermarket Type1     994.7052  "
      ]
     },
     "execution_count": 4,
     "metadata": {},
     "output_type": "execute_result"
    }
   ],
   "source": [
    "train.head()"
   ]
  },
  {
   "cell_type": "code",
   "execution_count": null,
   "id": "47ed32c4-41ec-4337-af48-3780b6c6d696",
   "metadata": {},
   "outputs": [],
   "source": []
  },
  {
   "cell_type": "code",
   "execution_count": 5,
   "id": "f92e0ccd-a87e-4074-be98-09222a2797bf",
   "metadata": {},
   "outputs": [],
   "source": [
    "# The workflow\n",
    "workflow = ['1. Get data ready',\n",
    " '2. Pick a model(estimator) or algorithm to suit your problem',\n",
    " '3. Fit the model to the data and make a prediction',\n",
    " '4. Evaluate the model',\n",
    " '5. Improve the model',\n",
    " '6. Save and reload a trained model',\n",
    " '7. Putting it all together']  # topics"
   ]
  },
  {
   "cell_type": "markdown",
   "id": "aaf60e6e-10b7-4803-9a67-44a58a2126c6",
   "metadata": {},
   "source": [
    "# **1. Getting the data ready**"
   ]
  },
  {
   "cell_type": "code",
   "execution_count": 6,
   "id": "e02996ec-b0f4-4f5b-a88a-1ba141a12319",
   "metadata": {},
   "outputs": [
    {
     "data": {
      "text/plain": [
       "ProductID               0\n",
       "Weight               1463\n",
       "FatContent              0\n",
       "ProductVisibility       0\n",
       "ProductType             0\n",
       "MRP                     0\n",
       "OutletID                0\n",
       "EstablishmentYear       0\n",
       "OutletSize           2410\n",
       "LocationType            0\n",
       "OutletType              0\n",
       "OutletSales             0\n",
       "dtype: int64"
      ]
     },
     "execution_count": 6,
     "metadata": {},
     "output_type": "execute_result"
    }
   ],
   "source": [
    "train.isna().sum()"
   ]
  },
  {
   "cell_type": "markdown",
   "id": "3f02e057-e687-445a-8be0-4d24c861e732",
   "metadata": {},
   "source": [
    "# **2. Fixing NaN values , do we drop or fill ?  ==> lets fill**"
   ]
  },
  {
   "cell_type": "code",
   "execution_count": 7,
   "id": "fbb9e537-0168-45b7-afbd-a1b7c1282c81",
   "metadata": {},
   "outputs": [],
   "source": [
    "train.Weight.fillna(train.Weight.mean(), inplace = True)"
   ]
  },
  {
   "cell_type": "code",
   "execution_count": 8,
   "id": "291ab585-fdf7-44fe-9fa1-ee8c26add983",
   "metadata": {},
   "outputs": [],
   "source": [
    "train.OutletSize.fillna('missing', inplace = True)"
   ]
  },
  {
   "cell_type": "code",
   "execution_count": 9,
   "id": "568c7de3-ff0a-4074-8162-227cafb7eb00",
   "metadata": {},
   "outputs": [
    {
     "data": {
      "text/plain": [
       "ProductID             object\n",
       "Weight               float64\n",
       "FatContent            object\n",
       "ProductVisibility    float64\n",
       "ProductType           object\n",
       "MRP                  float64\n",
       "OutletID              object\n",
       "EstablishmentYear      int64\n",
       "OutletSize            object\n",
       "LocationType          object\n",
       "OutletType            object\n",
       "OutletSales          float64\n",
       "dtype: object"
      ]
     },
     "execution_count": 9,
     "metadata": {},
     "output_type": "execute_result"
    }
   ],
   "source": [
    "train.dtypes"
   ]
  },
  {
   "cell_type": "code",
   "execution_count": 10,
   "id": "f5ea568a-deab-47d1-9396-2f6f1589f02a",
   "metadata": {},
   "outputs": [],
   "source": [
    "# Lets splitt the model\n",
    "X= train.drop('OutletSales', axis = 1)  # feature matrix\n",
    "y =train['OutletSales']  #  target or label "
   ]
  },
  {
   "cell_type": "code",
   "execution_count": 21,
   "id": "60e3a417-7baf-4990-971b-73774e953f95",
   "metadata": {},
   "outputs": [
    {
     "data": {
      "text/plain": [
       "0       3735.1380\n",
       "1        443.4228\n",
       "2       2097.2700\n",
       "3        732.3800\n",
       "4        994.7052\n",
       "          ...    \n",
       "8518    2778.3834\n",
       "8519     549.2850\n",
       "8520    1193.1136\n",
       "8521    1845.5976\n",
       "8522     765.6700\n",
       "Name: OutletSales, Length: 8523, dtype: float64"
      ]
     },
     "execution_count": 21,
     "metadata": {},
     "output_type": "execute_result"
    }
   ],
   "source": [
    "y"
   ]
  },
  {
   "cell_type": "markdown",
   "id": "fc375df9-5fba-4bb7-b449-4cd70dba0ea1",
   "metadata": {},
   "source": [
    "# **3. Converting non numeric to numeric**"
   ]
  },
  {
   "cell_type": "code",
   "execution_count": 16,
   "id": "bd41a204-059e-4bcc-8b5f-4707149ea5f3",
   "metadata": {},
   "outputs": [],
   "source": [
    "# changing the car categories into to numbers\n",
    "from sklearn.preprocessing import OneHotEncoder\n",
    "from sklearn.compose import ColumnTransformer\n",
    "\n",
    "# now defime our categorical features\n",
    "categorical_features  = ['ProductID','FatContent','ProductType','OutletID','OutletSize','LocationType','OutletType']\n",
    "one_hot = OneHotEncoder()\n",
    "transformer = ColumnTransformer ([(\"one_hot\",\n",
    "                                   one_hot,\n",
    "                                   categorical_features)],\n",
    "                                 remainder= 'passthrough')   # will take in a turple"
   ]
  },
  {
   "cell_type": "code",
   "execution_count": 17,
   "id": "dfe74ab1-bbb0-4459-bed5-af16fe0b37e2",
   "metadata": {},
   "outputs": [
    {
     "data": {
      "text/plain": [
       "<8523x1605 sparse matrix of type '<class 'numpy.float64'>'\n",
       "\twith 93227 stored elements in Compressed Sparse Row format>"
      ]
     },
     "execution_count": 17,
     "metadata": {},
     "output_type": "execute_result"
    }
   ],
   "source": [
    "transformed_X = transformer.fit_transform(X)\n",
    "transformed_X"
   ]
  },
  {
   "cell_type": "code",
   "execution_count": 18,
   "id": "01a3fa83-eaab-4914-9e1a-ddc6b17edff0",
   "metadata": {},
   "outputs": [
    {
     "data": {
      "text/plain": [
       "RandomForestRegressor()"
      ]
     },
     "execution_count": 18,
     "metadata": {},
     "output_type": "execute_result"
    }
   ],
   "source": [
    "# build ML model\n",
    "from sklearn.ensemble import RandomForestRegressor\n",
    "model = RandomForestRegressor()\n",
    "\n",
    "\n",
    "# split into train and test\n",
    "from sklearn.model_selection import train_test_split\n",
    "\n",
    "\n",
    "# lets refit the model\n",
    "np.random.seed(42)\n",
    "X_train, X_test, y_train, y_test = train_test_split(transformed_X, y, test_size = 0.2)\n",
    "\n",
    "model.fit(X_train, y_train)"
   ]
  },
  {
   "cell_type": "code",
   "execution_count": 22,
   "id": "fb86a39f-d6ba-4fbd-9770-386030b4d367",
   "metadata": {},
   "outputs": [
    {
     "data": {
      "text/plain": [
       "0.5613873724063994"
      ]
     },
     "execution_count": 22,
     "metadata": {},
     "output_type": "execute_result"
    }
   ],
   "source": [
    "model.score(X_test, y_test)"
   ]
  },
  {
   "cell_type": "code",
   "execution_count": null,
   "id": "a8dbbe6d-cb4a-4c40-8378-d38e0843a16d",
   "metadata": {},
   "outputs": [],
   "source": []
  },
  {
   "cell_type": "code",
   "execution_count": null,
   "id": "86377afc-9a23-4431-8a45-e2a0596b7ce4",
   "metadata": {},
   "outputs": [],
   "source": []
  }
 ],
 "metadata": {
  "kernelspec": {
   "display_name": "Python 3",
   "language": "python",
   "name": "python3"
  },
  "language_info": {
   "codemirror_mode": {
    "name": "ipython",
    "version": 3
   },
   "file_extension": ".py",
   "mimetype": "text/x-python",
   "name": "python",
   "nbconvert_exporter": "python",
   "pygments_lexer": "ipython3",
   "version": "3.8.8"
  }
 },
 "nbformat": 4,
 "nbformat_minor": 5
}
