{
 "cells": [
  {
   "cell_type": "code",
   "execution_count": 13,
   "id": "8f31dc66",
   "metadata": {},
   "outputs": [],
   "source": [
    "# Python Pandas Data Series: Exercises, Practice, Solution"
   ]
  },
  {
   "cell_type": "markdown",
   "id": "d4fbfbb2",
   "metadata": {},
   "source": [
    "# Write a pandas/numpy program to create and display a one-dimensional series -like object containing an array of data using pandas series"
   ]
  },
  {
   "cell_type": "code",
   "execution_count": 14,
   "id": "38313ea0",
   "metadata": {},
   "outputs": [],
   "source": [
    "import numpy as np\n",
    "import pandas as pd"
   ]
  },
  {
   "cell_type": "code",
   "execution_count": 15,
   "id": "806a4589",
   "metadata": {},
   "outputs": [
    {
     "data": {
      "text/html": [
       "<table id=\"3e84605a-17f0-46e9-8781-e392a74ffce7\" class=\"display\"style=\"max-width:100%\"><thead>\n",
       "    <tr style=\"text-align: right;\">\n",
       "      <th></th>\n",
       "      <th>0</th>\n",
       "    </tr>\n",
       "  </thead><tbody><tr><td>Loading... (need <a href=https://mwouts.github.io/itables/troubleshooting.html>help</a>?)</td></tr></tbody></table>\n",
       "<link rel=\"stylesheet\" type=\"text/css\" href=\"https://cdn.datatables.net/1.11.3/css/jquery.dataTables.min.css\">\n",
       "<style> table td {\n",
       "    text-overflow: ellipsis;\n",
       "    overflow: hidden;\n",
       "} </style>\n",
       "<style> table th {\n",
       "    text-overflow: ellipsis;\n",
       "    overflow: hidden;\n",
       "} </style>\n",
       "<script type=\"module\">\n",
       "    // Define the table data\n",
       "    const data = [[\"A\", 2], [\"B\", 40], [\"C\", 90], [\"D\", 34], [\"E\", 21], [\"F\", 34], [\"G\", 45]];\n",
       "\n",
       "    if (typeof require === 'undefined') {\n",
       "        // TODO: This should become the default (use a simple import)\n",
       "        // when the ESM version works independently of whether\n",
       "        // require.js is there or not, see\n",
       "        // https://datatables.net/forums/discussion/69066/esm-es6-module-support?\n",
       "        const {default: $} = await import(\"https://esm.sh/jquery@3.5.0\");\n",
       "        const {default: initDataTables} = await import(\"https://esm.sh/datatables.net@1.11.3?deps=jquery@3.5.0\");\n",
       "\n",
       "        initDataTables();\n",
       "\n",
       "        // Define the dt_args\n",
       "        let dt_args = {\"paging\": false};\n",
       "        dt_args[\"data\"] = data;\n",
       "\n",
       "        // Display the table\n",
       "        $(document).ready(function () {\n",
       "            $('#3e84605a-17f0-46e9-8781-e392a74ffce7').DataTable(dt_args);\n",
       "        });\n",
       "    } else {\n",
       "        require([\"jquery\", \"datatables\"], ($, datatables) => {\n",
       "                // Define the dt_args\n",
       "                let dt_args = {\"paging\": false};\n",
       "                dt_args[\"data\"] = data;\n",
       "\n",
       "                // Display the table\n",
       "                $(document).ready(function () {\n",
       "                    $('#3e84605a-17f0-46e9-8781-e392a74ffce7').DataTable(dt_args);\n",
       "                });\n",
       "            }\n",
       "        )\n",
       "    }\n",
       "</script>\n"
      ],
      "text/plain": [
       "A     2\n",
       "B    40\n",
       "C    90\n",
       "D    34\n",
       "E    21\n",
       "F    34\n",
       "G    45\n",
       "dtype: int64"
      ]
     },
     "execution_count": 15,
     "metadata": {},
     "output_type": "execute_result"
    }
   ],
   "source": [
    "pd.Series(data = [2,40,90,34,21,34,45,], \\\n",
    "          index =['A', 'B', 'C', 'D', 'E', 'F', 'G' ])"
   ]
  },
  {
   "cell_type": "markdown",
   "id": "1c914f7e",
   "metadata": {},
   "source": [
    "#  Write a Pandas program to compare the elements of the two Pandas Series."
   ]
  },
  {
   "cell_type": "code",
   "execution_count": 16,
   "id": "8aac46d7",
   "metadata": {},
   "outputs": [
    {
     "data": {
      "text/html": [
       "<table id=\"89bc3cd7-8333-4298-bb8e-3a5f8031f4f1\" class=\"display\"style=\"max-width:100%\"><thead>\n",
       "    <tr style=\"text-align: right;\">\n",
       "      <th></th>\n",
       "      <th>0</th>\n",
       "    </tr>\n",
       "  </thead><tbody><tr><td>Loading... (need <a href=https://mwouts.github.io/itables/troubleshooting.html>help</a>?)</td></tr></tbody></table>\n",
       "<link rel=\"stylesheet\" type=\"text/css\" href=\"https://cdn.datatables.net/1.11.3/css/jquery.dataTables.min.css\">\n",
       "<style> table td {\n",
       "    text-overflow: ellipsis;\n",
       "    overflow: hidden;\n",
       "} </style>\n",
       "<style> table th {\n",
       "    text-overflow: ellipsis;\n",
       "    overflow: hidden;\n",
       "} </style>\n",
       "<script type=\"module\">\n",
       "    // Define the table data\n",
       "    const data = [[\"A\", 2], [\"B\", 40], [\"D\", 34], [\"E\", 21], [\"F\", 34], [\"G\", 45]];\n",
       "\n",
       "    if (typeof require === 'undefined') {\n",
       "        // TODO: This should become the default (use a simple import)\n",
       "        // when the ESM version works independently of whether\n",
       "        // require.js is there or not, see\n",
       "        // https://datatables.net/forums/discussion/69066/esm-es6-module-support?\n",
       "        const {default: $} = await import(\"https://esm.sh/jquery@3.5.0\");\n",
       "        const {default: initDataTables} = await import(\"https://esm.sh/datatables.net@1.11.3?deps=jquery@3.5.0\");\n",
       "\n",
       "        initDataTables();\n",
       "\n",
       "        // Define the dt_args\n",
       "        let dt_args = {\"paging\": false};\n",
       "        dt_args[\"data\"] = data;\n",
       "\n",
       "        // Display the table\n",
       "        $(document).ready(function () {\n",
       "            $('#89bc3cd7-8333-4298-bb8e-3a5f8031f4f1').DataTable(dt_args);\n",
       "        });\n",
       "    } else {\n",
       "        require([\"jquery\", \"datatables\"], ($, datatables) => {\n",
       "                // Define the dt_args\n",
       "                let dt_args = {\"paging\": false};\n",
       "                dt_args[\"data\"] = data;\n",
       "\n",
       "                // Display the table\n",
       "                $(document).ready(function () {\n",
       "                    $('#89bc3cd7-8333-4298-bb8e-3a5f8031f4f1').DataTable(dt_args);\n",
       "                });\n",
       "            }\n",
       "        )\n",
       "    }\n",
       "</script>\n"
      ],
      "text/plain": [
       "    0\n",
       "A   2\n",
       "B  40\n",
       "D  34\n",
       "E  21\n",
       "F  34\n",
       "G  45"
      ]
     },
     "execution_count": 16,
     "metadata": {},
     "output_type": "execute_result"
    }
   ],
   "source": [
    "s1 = pd.Series(data = [2,40,90,34,21,34,45,], \\\n",
    "          index =['A', 'B', 'C', 'D', 'E', 'F', 'G' ])\n",
    "s2 = pd.Series(data = [2,40,900,34,21,34,45,], \\\n",
    "          index =['A', 'B', 'C', 'D', 'E', 'F', 'G' ])\n",
    "s1[s1.isin(s2)].to_frame()"
   ]
  },
  {
   "cell_type": "code",
   "execution_count": null,
   "id": "a95f1356",
   "metadata": {},
   "outputs": [],
   "source": []
  },
  {
   "cell_type": "code",
   "execution_count": 17,
   "id": "3ae9ec4d",
   "metadata": {},
   "outputs": [
    {
     "name": "stdout",
     "output_type": "stream",
     "text": [
      "Requirement already satisfied: itables in c:\\users\\godwi\\anaconda3\\lib\\site-packages (0.4.7)\n",
      "Requirement already satisfied: IPython in c:\\users\\godwi\\anaconda3\\lib\\site-packages (from itables) (7.22.0)\n",
      "Requirement already satisfied: pandas in c:\\users\\godwi\\anaconda3\\lib\\site-packages (from itables) (1.4.2)\n",
      "Requirement already satisfied: backcall in c:\\users\\godwi\\anaconda3\\lib\\site-packages (from IPython->itables) (0.2.0)\n",
      "Requirement already satisfied: jedi>=0.16 in c:\\users\\godwi\\anaconda3\\lib\\site-packages (from IPython->itables) (0.17.2)\n",
      "Requirement already satisfied: prompt-toolkit!=3.0.0,!=3.0.1,<3.1.0,>=2.0.0 in c:\\users\\godwi\\anaconda3\\lib\\site-packages (from IPython->itables) (3.0.17)\n",
      "Requirement already satisfied: setuptools>=18.5 in c:\\users\\godwi\\anaconda3\\lib\\site-packages (from IPython->itables) (52.0.0.post20210125)\n",
      "Requirement already satisfied: pickleshare in c:\\users\\godwi\\anaconda3\\lib\\site-packages (from IPython->itables) (0.7.5)\n",
      "Requirement already satisfied: traitlets>=4.2 in c:\\users\\godwi\\anaconda3\\lib\\site-packages (from IPython->itables) (5.0.5)\n",
      "Requirement already satisfied: colorama in c:\\users\\godwi\\anaconda3\\lib\\site-packages (from IPython->itables) (0.4.4)\n",
      "Requirement already satisfied: decorator in c:\\users\\godwi\\anaconda3\\lib\\site-packages (from IPython->itables) (5.0.6)\n",
      "Requirement already satisfied: pygments in c:\\users\\godwi\\anaconda3\\lib\\site-packages (from IPython->itables) (2.8.1)\n",
      "Requirement already satisfied: parso<0.8.0,>=0.7.0 in c:\\users\\godwi\\anaconda3\\lib\\site-packages (from jedi>=0.16->IPython->itables) (0.7.0)\n",
      "Requirement already satisfied: wcwidth in c:\\users\\godwi\\anaconda3\\lib\\site-packages (from prompt-toolkit!=3.0.0,!=3.0.1,<3.1.0,>=2.0.0->IPython->itables) (0.2.5)\n",
      "Requirement already satisfied: ipython-genutils in c:\\users\\godwi\\anaconda3\\lib\\site-packages (from traitlets>=4.2->IPython->itables) (0.2.0)\n",
      "Requirement already satisfied: pytz>=2020.1 in c:\\users\\godwi\\anaconda3\\lib\\site-packages (from pandas->itables) (2021.1)\n",
      "Requirement already satisfied: numpy>=1.18.5 in c:\\users\\godwi\\anaconda3\\lib\\site-packages (from pandas->itables) (1.20.1)\n",
      "Requirement already satisfied: python-dateutil>=2.8.1 in c:\\users\\godwi\\anaconda3\\lib\\site-packages (from pandas->itables) (2.8.1)\n",
      "Requirement already satisfied: six>=1.5 in c:\\users\\godwi\\anaconda3\\lib\\site-packages (from python-dateutil>=2.8.1->pandas->itables) (1.15.0)\n",
      "Note: you may need to restart the kernel to use updated packages.\n"
     ]
    }
   ],
   "source": [
    "pip install itables"
   ]
  },
  {
   "cell_type": "code",
   "execution_count": 18,
   "id": "701df77d",
   "metadata": {},
   "outputs": [
    {
     "data": {
      "application/javascript": [
       "if (typeof require !== 'undefined')\n",
       "    require.config({\n",
       "        paths: {\n",
       "            jquery: 'https://code.jquery.com/jquery-3.5.1.min',\n",
       "            datatables: 'https://cdn.datatables.net/1.11.3/js/jquery.dataTables.min',\n",
       "        }\n",
       "    });\n"
      ],
      "text/plain": [
       "<IPython.core.display.Javascript object>"
      ]
     },
     "metadata": {},
     "output_type": "display_data"
    }
   ],
   "source": [
    "from itables import init_notebook_mode\n",
    "init_notebook_mode(all_interactive=True)"
   ]
  },
  {
   "cell_type": "code",
   "execution_count": 19,
   "id": "ebe72f04",
   "metadata": {},
   "outputs": [
    {
     "name": "stdout",
     "output_type": "stream",
     "text": [
      "Requirement already satisfied: qgrid in c:\\users\\godwi\\anaconda3\\lib\\site-packages (1.3.1)\n",
      "Requirement already satisfied: notebook>=4.0.0 in c:\\users\\godwi\\anaconda3\\lib\\site-packages (from qgrid) (6.3.0)\n",
      "Requirement already satisfied: pandas>=0.18.0 in c:\\users\\godwi\\anaconda3\\lib\\site-packages (from qgrid) (1.4.2)\n",
      "Requirement already satisfied: ipywidgets>=7.0.0 in c:\\users\\godwi\\anaconda3\\lib\\site-packages (from qgrid) (7.6.3)\n",
      "Requirement already satisfied: nbformat>=4.2.0 in c:\\users\\godwi\\anaconda3\\lib\\site-packages (from ipywidgets>=7.0.0->qgrid) (5.1.3)\n",
      "Requirement already satisfied: jupyterlab-widgets>=1.0.0 in c:\\users\\godwi\\anaconda3\\lib\\site-packages (from ipywidgets>=7.0.0->qgrid) (1.0.0)\n",
      "Requirement already satisfied: ipython>=4.0.0 in c:\\users\\godwi\\anaconda3\\lib\\site-packages (from ipywidgets>=7.0.0->qgrid) (7.22.0)\n",
      "Requirement already satisfied: traitlets>=4.3.1 in c:\\users\\godwi\\anaconda3\\lib\\site-packages (from ipywidgets>=7.0.0->qgrid) (5.0.5)\n",
      "Requirement already satisfied: widgetsnbextension~=3.5.0 in c:\\users\\godwi\\anaconda3\\lib\\site-packages (from ipywidgets>=7.0.0->qgrid) (3.5.1)\n",
      "Requirement already satisfied: ipykernel>=4.5.1 in c:\\users\\godwi\\anaconda3\\lib\\site-packages (from ipywidgets>=7.0.0->qgrid) (5.3.4)\n",
      "Requirement already satisfied: tornado>=4.2 in c:\\users\\godwi\\anaconda3\\lib\\site-packages (from ipykernel>=4.5.1->ipywidgets>=7.0.0->qgrid) (6.1)\n",
      "Requirement already satisfied: jupyter-client in c:\\users\\godwi\\anaconda3\\lib\\site-packages (from ipykernel>=4.5.1->ipywidgets>=7.0.0->qgrid) (6.1.12)\n",
      "Requirement already satisfied: pickleshare in c:\\users\\godwi\\anaconda3\\lib\\site-packages (from ipython>=4.0.0->ipywidgets>=7.0.0->qgrid) (0.7.5)\n",
      "Requirement already satisfied: prompt-toolkit!=3.0.0,!=3.0.1,<3.1.0,>=2.0.0 in c:\\users\\godwi\\anaconda3\\lib\\site-packages (from ipython>=4.0.0->ipywidgets>=7.0.0->qgrid) (3.0.17)\n",
      "Requirement already satisfied: decorator in c:\\users\\godwi\\anaconda3\\lib\\site-packages (from ipython>=4.0.0->ipywidgets>=7.0.0->qgrid) (5.0.6)\n",
      "Requirement already satisfied: colorama in c:\\users\\godwi\\anaconda3\\lib\\site-packages (from ipython>=4.0.0->ipywidgets>=7.0.0->qgrid) (0.4.4)\n",
      "Requirement already satisfied: backcall in c:\\users\\godwi\\anaconda3\\lib\\site-packages (from ipython>=4.0.0->ipywidgets>=7.0.0->qgrid) (0.2.0)\n",
      "Requirement already satisfied: pygments in c:\\users\\godwi\\anaconda3\\lib\\site-packages (from ipython>=4.0.0->ipywidgets>=7.0.0->qgrid) (2.8.1)\n",
      "Requirement already satisfied: jedi>=0.16 in c:\\users\\godwi\\anaconda3\\lib\\site-packages (from ipython>=4.0.0->ipywidgets>=7.0.0->qgrid) (0.17.2)\n",
      "Requirement already satisfied: setuptools>=18.5 in c:\\users\\godwi\\anaconda3\\lib\\site-packages (from ipython>=4.0.0->ipywidgets>=7.0.0->qgrid) (52.0.0.post20210125)\n",
      "Requirement already satisfied: parso<0.8.0,>=0.7.0 in c:\\users\\godwi\\anaconda3\\lib\\site-packages (from jedi>=0.16->ipython>=4.0.0->ipywidgets>=7.0.0->qgrid) (0.7.0)\n",
      "Requirement already satisfied: jsonschema!=2.5.0,>=2.4 in c:\\users\\godwi\\anaconda3\\lib\\site-packages (from nbformat>=4.2.0->ipywidgets>=7.0.0->qgrid) (3.2.0)\n",
      "Requirement already satisfied: ipython-genutils in c:\\users\\godwi\\anaconda3\\lib\\site-packages (from nbformat>=4.2.0->ipywidgets>=7.0.0->qgrid) (0.2.0)\n",
      "Requirement already satisfied: jupyter-core in c:\\users\\godwi\\anaconda3\\lib\\site-packages (from nbformat>=4.2.0->ipywidgets>=7.0.0->qgrid) (4.7.1)\n",
      "Requirement already satisfied: six>=1.11.0 in c:\\users\\godwi\\anaconda3\\lib\\site-packages (from jsonschema!=2.5.0,>=2.4->nbformat>=4.2.0->ipywidgets>=7.0.0->qgrid) (1.15.0)\n",
      "Requirement already satisfied: attrs>=17.4.0 in c:\\users\\godwi\\anaconda3\\lib\\site-packages (from jsonschema!=2.5.0,>=2.4->nbformat>=4.2.0->ipywidgets>=7.0.0->qgrid) (20.3.0)\n",
      "Requirement already satisfied: pyrsistent>=0.14.0 in c:\\users\\godwi\\anaconda3\\lib\\site-packages (from jsonschema!=2.5.0,>=2.4->nbformat>=4.2.0->ipywidgets>=7.0.0->qgrid) (0.17.3)\n",
      "Requirement already satisfied: pyzmq>=17 in c:\\users\\godwi\\anaconda3\\lib\\site-packages (from notebook>=4.0.0->qgrid) (20.0.0)\n",
      "Requirement already satisfied: Send2Trash>=1.5.0 in c:\\users\\godwi\\anaconda3\\lib\\site-packages (from notebook>=4.0.0->qgrid) (1.5.0)\n",
      "Requirement already satisfied: prometheus-client in c:\\users\\godwi\\anaconda3\\lib\\site-packages (from notebook>=4.0.0->qgrid) (0.10.1)\n",
      "Requirement already satisfied: nbconvert in c:\\users\\godwi\\anaconda3\\lib\\site-packages (from notebook>=4.0.0->qgrid) (6.0.7)\n",
      "Requirement already satisfied: jinja2 in c:\\users\\godwi\\anaconda3\\lib\\site-packages (from notebook>=4.0.0->qgrid) (2.11.3)\n",
      "Requirement already satisfied: argon2-cffi in c:\\users\\godwi\\anaconda3\\lib\\site-packages (from notebook>=4.0.0->qgrid) (20.1.0)\n",
      "Requirement already satisfied: terminado>=0.8.3 in c:\\users\\godwi\\anaconda3\\lib\\site-packages (from notebook>=4.0.0->qgrid) (0.9.4)\n",
      "Requirement already satisfied: python-dateutil>=2.1 in c:\\users\\godwi\\anaconda3\\lib\\site-packages (from jupyter-client->ipykernel>=4.5.1->ipywidgets>=7.0.0->qgrid) (2.8.1)\n",
      "Requirement already satisfied: pywin32>=1.0 in c:\\users\\godwi\\anaconda3\\lib\\site-packages (from jupyter-core->nbformat>=4.2.0->ipywidgets>=7.0.0->qgrid) (227)\n",
      "Requirement already satisfied: pytz>=2020.1 in c:\\users\\godwi\\anaconda3\\lib\\site-packages (from pandas>=0.18.0->qgrid) (2021.1)\n",
      "Requirement already satisfied: numpy>=1.18.5 in c:\\users\\godwi\\anaconda3\\lib\\site-packages (from pandas>=0.18.0->qgrid) (1.20.1)\n",
      "Requirement already satisfied: wcwidth in c:\\users\\godwi\\anaconda3\\lib\\site-packages (from prompt-toolkit!=3.0.0,!=3.0.1,<3.1.0,>=2.0.0->ipython>=4.0.0->ipywidgets>=7.0.0->qgrid) (0.2.5)\n",
      "Requirement already satisfied: pywinpty>=0.5 in c:\\users\\godwi\\anaconda3\\lib\\site-packages (from terminado>=0.8.3->notebook>=4.0.0->qgrid) (0.5.7)\n",
      "Requirement already satisfied: cffi>=1.0.0 in c:\\users\\godwi\\anaconda3\\lib\\site-packages (from argon2-cffi->notebook>=4.0.0->qgrid) (1.14.5)\n",
      "Requirement already satisfied: pycparser in c:\\users\\godwi\\anaconda3\\lib\\site-packages (from cffi>=1.0.0->argon2-cffi->notebook>=4.0.0->qgrid) (2.20)\n",
      "Requirement already satisfied: MarkupSafe>=0.23 in c:\\users\\godwi\\anaconda3\\lib\\site-packages (from jinja2->notebook>=4.0.0->qgrid) (1.1.1)\n",
      "Requirement already satisfied: jupyterlab-pygments in c:\\users\\godwi\\anaconda3\\lib\\site-packages (from nbconvert->notebook>=4.0.0->qgrid) (0.1.2)\n",
      "Requirement already satisfied: testpath in c:\\users\\godwi\\anaconda3\\lib\\site-packages (from nbconvert->notebook>=4.0.0->qgrid) (0.4.4)\n",
      "Requirement already satisfied: pandocfilters>=1.4.1 in c:\\users\\godwi\\anaconda3\\lib\\site-packages (from nbconvert->notebook>=4.0.0->qgrid) (1.4.3)\n",
      "Requirement already satisfied: defusedxml in c:\\users\\godwi\\anaconda3\\lib\\site-packages (from nbconvert->notebook>=4.0.0->qgrid) (0.7.1)\n",
      "Requirement already satisfied: entrypoints>=0.2.2 in c:\\users\\godwi\\anaconda3\\lib\\site-packages (from nbconvert->notebook>=4.0.0->qgrid) (0.3)\n",
      "Requirement already satisfied: mistune<2,>=0.8.1 in c:\\users\\godwi\\anaconda3\\lib\\site-packages (from nbconvert->notebook>=4.0.0->qgrid) (0.8.4)\n",
      "Requirement already satisfied: bleach in c:\\users\\godwi\\anaconda3\\lib\\site-packages (from nbconvert->notebook>=4.0.0->qgrid) (3.3.0)\n",
      "Requirement already satisfied: nbclient<0.6.0,>=0.5.0 in c:\\users\\godwi\\anaconda3\\lib\\site-packages (from nbconvert->notebook>=4.0.0->qgrid) (0.5.3)\n",
      "Requirement already satisfied: async-generator in c:\\users\\godwi\\anaconda3\\lib\\site-packages (from nbclient<0.6.0,>=0.5.0->nbconvert->notebook>=4.0.0->qgrid) (1.10)\n",
      "Requirement already satisfied: nest-asyncio in c:\\users\\godwi\\anaconda3\\lib\\site-packages (from nbclient<0.6.0,>=0.5.0->nbconvert->notebook>=4.0.0->qgrid) (1.5.1)\n",
      "Requirement already satisfied: packaging in c:\\users\\godwi\\anaconda3\\lib\\site-packages (from bleach->nbconvert->notebook>=4.0.0->qgrid) (20.9)\n",
      "Requirement already satisfied: webencodings in c:\\users\\godwi\\anaconda3\\lib\\site-packages (from bleach->nbconvert->notebook>=4.0.0->qgrid) (0.5.1)\n",
      "Requirement already satisfied: pyparsing>=2.0.2 in c:\\users\\godwi\\anaconda3\\lib\\site-packages (from packaging->bleach->nbconvert->notebook>=4.0.0->qgrid) (2.4.7)\n",
      "Note: you may need to restart the kernel to use updated packages.\n"
     ]
    }
   ],
   "source": [
    "pip install qgrid"
   ]
  },
  {
   "cell_type": "code",
   "execution_count": 20,
   "id": "03d21fc5",
   "metadata": {},
   "outputs": [],
   "source": [
    "import qgrid"
   ]
  },
  {
   "cell_type": "code",
   "execution_count": 21,
   "id": "c0fc4127",
   "metadata": {},
   "outputs": [
    {
     "data": {
      "application/vnd.jupyter.widget-view+json": {
       "model_id": "c15b512356b646dd83c4a966be9bfa12",
       "version_major": 2,
       "version_minor": 0
      },
      "text/plain": [
       "QgridWidget(grid_options={'fullWidthRows': True, 'syncColumnCellResize': True, 'forceFitColumns': True, 'defau…"
      ]
     },
     "metadata": {},
     "output_type": "display_data"
    }
   ],
   "source": [
    "qgrid.show_grid(s1)"
   ]
  },
  {
   "cell_type": "code",
   "execution_count": null,
   "id": "8a158181",
   "metadata": {},
   "outputs": [],
   "source": []
  }
 ],
 "metadata": {
  "kernelspec": {
   "display_name": "Python 3",
   "language": "python",
   "name": "python3"
  },
  "language_info": {
   "codemirror_mode": {
    "name": "ipython",
    "version": 3
   },
   "file_extension": ".py",
   "mimetype": "text/x-python",
   "name": "python",
   "nbconvert_exporter": "python",
   "pygments_lexer": "ipython3",
   "version": "3.8.8"
  }
 },
 "nbformat": 4,
 "nbformat_minor": 5
}
