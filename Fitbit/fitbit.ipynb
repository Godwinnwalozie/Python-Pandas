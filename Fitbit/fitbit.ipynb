{
 "cells": [
  {
   "cell_type": "code",
   "execution_count": null,
   "id": "3fbf413c-8662-4579-ab52-c46409498e70",
   "metadata": {},
   "outputs": [],
   "source": [
    "import pandas as pd\n",
    "import numpy as np"
   ]
  },
  {
   "cell_type": "code",
   "execution_count": null,
   "id": "43dee737-a790-4111-bd3c-c533279fd7dc",
   "metadata": {},
   "outputs": [],
   "source": [
    "fb =pd.read_csv(\"https://github.com/shivideveshwar/Fitbit-BigQuery-Summary/blob/main/Activity%20(NR).csv\")"
   ]
  },
  {
   "cell_type": "code",
   "execution_count": null,
   "id": "75320d02-dd94-4574-aa38-903ff043fd2f",
   "metadata": {},
   "outputs": [],
   "source": []
  }
 ],
 "metadata": {
  "kernelspec": {
   "display_name": "Python 3",
   "language": "python",
   "name": "python3"
  },
  "language_info": {
   "codemirror_mode": {
    "name": "ipython",
    "version": 3
   },
   "file_extension": ".py",
   "mimetype": "text/x-python",
   "name": "python",
   "nbconvert_exporter": "python",
   "pygments_lexer": "ipython3",
   "version": "3.8.8"
  }
 },
 "nbformat": 4,
 "nbformat_minor": 5
}
