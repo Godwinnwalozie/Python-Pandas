{
 "cells": [
  {
   "cell_type": "code",
   "execution_count": 72,
   "id": "d2f021fa-1db1-457f-80f8-16ef9ba57c8c",
   "metadata": {},
   "outputs": [],
   "source": [
    "import numpy as np\n",
    "import pandas as pd"
   ]
  },
  {
   "cell_type": "code",
   "execution_count": 73,
   "id": "cb36b24c-a235-4c1a-8aab-c1c34e0b48eb",
   "metadata": {},
   "outputs": [],
   "source": [
    "boston_url = \"https://andybek.com/pandas-marathon\""
   ]
  },
  {
   "cell_type": "code",
   "execution_count": 74,
   "id": "bff75e7d-1aef-4f68-b307-19d03fbcd020",
   "metadata": {},
   "outputs": [],
   "source": [
    "boston = pd.read_csv(boston_url)"
   ]
  },
  {
   "cell_type": "code",
   "execution_count": 75,
   "id": "df3975d4-0eae-4571-98be-d9b93c5c5888",
   "metadata": {},
   "outputs": [
    {
     "data": {
      "text/html": [
       "<div>\n",
       "<style scoped>\n",
       "    .dataframe tbody tr th:only-of-type {\n",
       "        vertical-align: middle;\n",
       "    }\n",
       "\n",
       "    .dataframe tbody tr th {\n",
       "        vertical-align: top;\n",
       "    }\n",
       "\n",
       "    .dataframe thead th {\n",
       "        text-align: right;\n",
       "    }\n",
       "</style>\n",
       "<table border=\"1\" class=\"dataframe\">\n",
       "  <thead>\n",
       "    <tr style=\"text-align: right;\">\n",
       "      <th></th>\n",
       "      <th>Name</th>\n",
       "      <th>Age</th>\n",
       "      <th>M/F</th>\n",
       "      <th>City</th>\n",
       "      <th>State</th>\n",
       "      <th>Country</th>\n",
       "      <th>Official Time</th>\n",
       "      <th>Overall</th>\n",
       "      <th>Gender</th>\n",
       "      <th>Years Ran</th>\n",
       "    </tr>\n",
       "  </thead>\n",
       "  <tbody>\n",
       "    <tr>\n",
       "      <th>0</th>\n",
       "      <td>Kirui, Geoffrey</td>\n",
       "      <td>24</td>\n",
       "      <td>M</td>\n",
       "      <td>Keringet</td>\n",
       "      <td>NaN</td>\n",
       "      <td>KEN</td>\n",
       "      <td>2:09:37</td>\n",
       "      <td>1</td>\n",
       "      <td>1</td>\n",
       "      <td>NaN</td>\n",
       "    </tr>\n",
       "    <tr>\n",
       "      <th>1</th>\n",
       "      <td>Rupp, Galen</td>\n",
       "      <td>30</td>\n",
       "      <td>M</td>\n",
       "      <td>Portland</td>\n",
       "      <td>OR</td>\n",
       "      <td>USA</td>\n",
       "      <td>2:09:58</td>\n",
       "      <td>2</td>\n",
       "      <td>2</td>\n",
       "      <td>NaN</td>\n",
       "    </tr>\n",
       "    <tr>\n",
       "      <th>2</th>\n",
       "      <td>Osako, Suguru</td>\n",
       "      <td>25</td>\n",
       "      <td>M</td>\n",
       "      <td>Machida-City</td>\n",
       "      <td>NaN</td>\n",
       "      <td>JPN</td>\n",
       "      <td>2:10:28</td>\n",
       "      <td>3</td>\n",
       "      <td>3</td>\n",
       "      <td>NaN</td>\n",
       "    </tr>\n",
       "    <tr>\n",
       "      <th>3</th>\n",
       "      <td>Biwott, Shadrack</td>\n",
       "      <td>32</td>\n",
       "      <td>M</td>\n",
       "      <td>Mammoth Lakes</td>\n",
       "      <td>CA</td>\n",
       "      <td>USA</td>\n",
       "      <td>2:12:08</td>\n",
       "      <td>4</td>\n",
       "      <td>4</td>\n",
       "      <td>NaN</td>\n",
       "    </tr>\n",
       "    <tr>\n",
       "      <th>4</th>\n",
       "      <td>Chebet, Wilson</td>\n",
       "      <td>31</td>\n",
       "      <td>M</td>\n",
       "      <td>Marakwet</td>\n",
       "      <td>NaN</td>\n",
       "      <td>KEN</td>\n",
       "      <td>2:12:35</td>\n",
       "      <td>5</td>\n",
       "      <td>5</td>\n",
       "      <td>2015</td>\n",
       "    </tr>\n",
       "  </tbody>\n",
       "</table>\n",
       "</div>"
      ],
      "text/plain": [
       "                Name  Age M/F           City State Country Official Time  \\\n",
       "0   Kirui, Geoffrey    24   M       Keringet   NaN     KEN       2:09:37   \n",
       "1     Rupp, Galen      30   M       Portland    OR     USA       2:09:58   \n",
       "2    Osako, Suguru     25   M   Machida-City   NaN     JPN       2:10:28   \n",
       "3   Biwott, Shadrack   32   M  Mammoth Lakes    CA     USA       2:12:08   \n",
       "4     Chebet, Wilson   31   M       Marakwet   NaN     KEN       2:12:35   \n",
       "\n",
       "   Overall  Gender Years Ran  \n",
       "0        1       1       NaN  \n",
       "1        2       2       NaN  \n",
       "2        3       3       NaN  \n",
       "3        4       4       NaN  \n",
       "4        5       5      2015  "
      ]
     },
     "execution_count": 75,
     "metadata": {},
     "output_type": "execute_result"
    }
   ],
   "source": [
    "boston.head()"
   ]
  },
  {
   "cell_type": "code",
   "execution_count": 76,
   "id": "cec0b0b3-a59d-4b6c-a3f1-ea992bb7f53e",
   "metadata": {},
   "outputs": [
    {
     "name": "stdout",
     "output_type": "stream",
     "text": [
      "<class 'pandas.core.frame.DataFrame'>\n",
      "RangeIndex: 1000 entries, 0 to 999\n",
      "Data columns (total 10 columns):\n",
      " #   Column         Non-Null Count  Dtype \n",
      "---  ------         --------------  ----- \n",
      " 0   Name           1000 non-null   object\n",
      " 1   Age            1000 non-null   int64 \n",
      " 2   M/F            1000 non-null   object\n",
      " 3   City           1000 non-null   object\n",
      " 4   State          807 non-null    object\n",
      " 5   Country        1000 non-null   object\n",
      " 6   Official Time  1000 non-null   object\n",
      " 7   Overall        1000 non-null   int64 \n",
      " 8   Gender         1000 non-null   int64 \n",
      " 9   Years Ran      315 non-null    object\n",
      "dtypes: int64(3), object(7)\n",
      "memory usage: 78.2+ KB\n"
     ]
    }
   ],
   "source": [
    "boston.info()"
   ]
  },
  {
   "cell_type": "markdown",
   "id": "6d3b2a92-94bf-4337-9c90-5097160ef476",
   "metadata": {},
   "source": [
    "# Agenda\n",
    "- len\n",
    "- center\n",
    "- startswith , endswith\n",
    "- the \"in\"  operator\n",
    "- list comprehension"
   ]
  },
  {
   "cell_type": "code",
   "execution_count": 77,
   "id": "6480eafb-28c9-4c97-bff3-c6764ab7bddc",
   "metadata": {},
   "outputs": [
    {
     "data": {
      "text/plain": [
       "22"
      ]
     },
     "execution_count": 77,
     "metadata": {},
     "output_type": "execute_result"
    }
   ],
   "source": [
    "# len\n",
    "# this describes the lenght of the string\n",
    "len('the boy cannot go home')"
   ]
  },
  {
   "cell_type": "code",
   "execution_count": 78,
   "id": "e48db535-940e-4826-9ee9-a4de1d46bbf0",
   "metadata": {},
   "outputs": [],
   "source": [
    "# center\n",
    "d = 'the boy can do it'"
   ]
  },
  {
   "cell_type": "code",
   "execution_count": 79,
   "id": "25530b2c-9481-48f1-8cc5-7ba6cc3530f0",
   "metadata": {},
   "outputs": [
    {
     "data": {
      "text/plain": [
       "'>>>>>>>>>>>the boy can do it>>>>>>>>>>>>'"
      ]
     },
     "execution_count": 79,
     "metadata": {},
     "output_type": "execute_result"
    }
   ],
   "source": [
    "d.center(40, '>')"
   ]
  },
  {
   "cell_type": "code",
   "execution_count": 80,
   "id": "94702000-955b-44ed-b43e-5d0c2f14d158",
   "metadata": {},
   "outputs": [
    {
     "data": {
      "text/plain": [
       "(True, True)"
      ]
     },
     "execution_count": 80,
     "metadata": {},
     "output_type": "execute_result"
    }
   ],
   "source": [
    "#starts with\n",
    "d.startswith('t'), d.endswith('t')"
   ]
  },
  {
   "cell_type": "code",
   "execution_count": 81,
   "id": "291dabdc-3e27-4cc8-8b21-8aef85e94882",
   "metadata": {},
   "outputs": [
    {
     "data": {
      "text/plain": [
       "(False, False)"
      ]
     },
     "execution_count": 81,
     "metadata": {},
     "output_type": "execute_result"
    }
   ],
   "source": [
    "# in operator, either way\n",
    "'f' in d  , d in 'f'"
   ]
  },
  {
   "cell_type": "code",
   "execution_count": 82,
   "id": "de39ebf0-2073-4845-8898-4baa8fcc8388",
   "metadata": {},
   "outputs": [],
   "source": [
    "# the list comprehension"
   ]
  },
  {
   "cell_type": "code",
   "execution_count": 83,
   "id": "1004bcc4-2add-484b-aef3-79d622368d5f",
   "metadata": {},
   "outputs": [],
   "source": [
    "names = ['anna', 'welbeck', 'ronaldo','zlatan','kiki']"
   ]
  },
  {
   "cell_type": "code",
   "execution_count": 84,
   "id": "4cf61fe3-7f0d-4a73-993a-13e696385ca6",
   "metadata": {},
   "outputs": [
    {
     "name": "stdout",
     "output_type": "stream",
     "text": [
      "4\n",
      "7\n",
      "7\n",
      "6\n",
      "4\n"
     ]
    }
   ],
   "source": [
    "# run a program to return their length\n",
    "lengths = []\n",
    "for name in names:\n",
    "    print(len(name))"
   ]
  },
  {
   "cell_type": "code",
   "execution_count": 85,
   "id": "df366b90-0545-4f78-96f1-f19a76e85a7c",
   "metadata": {},
   "outputs": [
    {
     "data": {
      "text/plain": [
       "[4, 7, 7, 6, 4]"
      ]
     },
     "execution_count": 85,
     "metadata": {},
     "output_type": "execute_result"
    }
   ],
   "source": [
    "[len(name) for name in names]"
   ]
  },
  {
   "cell_type": "code",
   "execution_count": 86,
   "id": "e8ae1d56-8b51-496a-ae02-e56f25a8b990",
   "metadata": {},
   "outputs": [],
   "source": [
    "import string"
   ]
  },
  {
   "cell_type": "code",
   "execution_count": 87,
   "id": "d876a62a-032d-4d7d-9cac-6c719202e743",
   "metadata": {},
   "outputs": [],
   "source": [
    "from string import ascii_lowercase"
   ]
  },
  {
   "cell_type": "code",
   "execution_count": 88,
   "id": "aa5ce055-9036-4288-b626-66a320717307",
   "metadata": {},
   "outputs": [],
   "source": [
    "t = ascii_lowercase"
   ]
  },
  {
   "cell_type": "code",
   "execution_count": 89,
   "id": "c3279b82-461a-4d18-a3bd-96a1a9a9004f",
   "metadata": {},
   "outputs": [
    {
     "data": {
      "text/plain": [
       "'abcdefghijklmnopqrstuvwxyz'"
      ]
     },
     "execution_count": 89,
     "metadata": {},
     "output_type": "execute_result"
    }
   ],
   "source": [
    "t"
   ]
  },
  {
   "cell_type": "code",
   "execution_count": 90,
   "id": "dfcd5b50-0451-4cc5-883f-0b4a376dea14",
   "metadata": {},
   "outputs": [
    {
     "name": "stdout",
     "output_type": "stream",
     "text": [
      "False\n",
      "False\n",
      "True\n",
      "False\n",
      "False\n"
     ]
    }
   ],
   "source": [
    "# run a program to check if each name starts with a\n",
    "lengths = []\n",
    "for name in names:\n",
    "    print(name.startswith('r'))"
   ]
  },
  {
   "cell_type": "code",
   "execution_count": 91,
   "id": "d78dbb97-0e38-433a-8b22-ae7492c679b6",
   "metadata": {},
   "outputs": [
    {
     "data": {
      "text/plain": [
       "[False, False, True, False, False]"
      ]
     },
     "execution_count": 91,
     "metadata": {},
     "output_type": "execute_result"
    }
   ],
   "source": [
    "[name.startswith('r') for name in names]"
   ]
  },
  {
   "cell_type": "code",
   "execution_count": 92,
   "id": "cd3d3211-4f0e-4572-a6b2-45f93d1a7199",
   "metadata": {},
   "outputs": [
    {
     "data": {
      "text/html": [
       "<div>\n",
       "<style scoped>\n",
       "    .dataframe tbody tr th:only-of-type {\n",
       "        vertical-align: middle;\n",
       "    }\n",
       "\n",
       "    .dataframe tbody tr th {\n",
       "        vertical-align: top;\n",
       "    }\n",
       "\n",
       "    .dataframe thead th {\n",
       "        text-align: right;\n",
       "    }\n",
       "</style>\n",
       "<table border=\"1\" class=\"dataframe\">\n",
       "  <thead>\n",
       "    <tr style=\"text-align: right;\">\n",
       "      <th></th>\n",
       "      <th>Name</th>\n",
       "      <th>Age</th>\n",
       "      <th>M/F</th>\n",
       "      <th>City</th>\n",
       "      <th>State</th>\n",
       "      <th>Country</th>\n",
       "      <th>Official Time</th>\n",
       "      <th>Overall</th>\n",
       "      <th>Gender</th>\n",
       "      <th>Years Ran</th>\n",
       "    </tr>\n",
       "  </thead>\n",
       "  <tbody>\n",
       "    <tr>\n",
       "      <th>0</th>\n",
       "      <td>Kirui, Geoffrey</td>\n",
       "      <td>24</td>\n",
       "      <td>M</td>\n",
       "      <td>Keringet</td>\n",
       "      <td>NaN</td>\n",
       "      <td>KEN</td>\n",
       "      <td>2:09:37</td>\n",
       "      <td>1</td>\n",
       "      <td>1</td>\n",
       "      <td>NaN</td>\n",
       "    </tr>\n",
       "    <tr>\n",
       "      <th>1</th>\n",
       "      <td>Rupp, Galen</td>\n",
       "      <td>30</td>\n",
       "      <td>M</td>\n",
       "      <td>Portland</td>\n",
       "      <td>OR</td>\n",
       "      <td>USA</td>\n",
       "      <td>2:09:58</td>\n",
       "      <td>2</td>\n",
       "      <td>2</td>\n",
       "      <td>NaN</td>\n",
       "    </tr>\n",
       "    <tr>\n",
       "      <th>2</th>\n",
       "      <td>Osako, Suguru</td>\n",
       "      <td>25</td>\n",
       "      <td>M</td>\n",
       "      <td>Machida-City</td>\n",
       "      <td>NaN</td>\n",
       "      <td>JPN</td>\n",
       "      <td>2:10:28</td>\n",
       "      <td>3</td>\n",
       "      <td>3</td>\n",
       "      <td>NaN</td>\n",
       "    </tr>\n",
       "    <tr>\n",
       "      <th>3</th>\n",
       "      <td>Biwott, Shadrack</td>\n",
       "      <td>32</td>\n",
       "      <td>M</td>\n",
       "      <td>Mammoth Lakes</td>\n",
       "      <td>CA</td>\n",
       "      <td>USA</td>\n",
       "      <td>2:12:08</td>\n",
       "      <td>4</td>\n",
       "      <td>4</td>\n",
       "      <td>NaN</td>\n",
       "    </tr>\n",
       "    <tr>\n",
       "      <th>4</th>\n",
       "      <td>Chebet, Wilson</td>\n",
       "      <td>31</td>\n",
       "      <td>M</td>\n",
       "      <td>Marakwet</td>\n",
       "      <td>NaN</td>\n",
       "      <td>KEN</td>\n",
       "      <td>2:12:35</td>\n",
       "      <td>5</td>\n",
       "      <td>5</td>\n",
       "      <td>2015</td>\n",
       "    </tr>\n",
       "  </tbody>\n",
       "</table>\n",
       "</div>"
      ],
      "text/plain": [
       "                Name  Age M/F           City State Country Official Time  \\\n",
       "0   Kirui, Geoffrey    24   M       Keringet   NaN     KEN       2:09:37   \n",
       "1     Rupp, Galen      30   M       Portland    OR     USA       2:09:58   \n",
       "2    Osako, Suguru     25   M   Machida-City   NaN     JPN       2:10:28   \n",
       "3   Biwott, Shadrack   32   M  Mammoth Lakes    CA     USA       2:12:08   \n",
       "4     Chebet, Wilson   31   M       Marakwet   NaN     KEN       2:12:35   \n",
       "\n",
       "   Overall  Gender Years Ran  \n",
       "0        1       1       NaN  \n",
       "1        2       2       NaN  \n",
       "2        3       3       NaN  \n",
       "3        4       4       NaN  \n",
       "4        5       5      2015  "
      ]
     },
     "execution_count": 92,
     "metadata": {},
     "output_type": "execute_result"
    }
   ],
   "source": [
    "boston.head()"
   ]
  },
  {
   "cell_type": "code",
   "execution_count": 93,
   "id": "fb8749e2-dc09-4038-9581-97162cef545c",
   "metadata": {},
   "outputs": [],
   "source": [
    "# you need the .str to access the len of texts in pandas\n",
    "# lets add a column for the length of the names\n",
    "boston['len_Name'] = boston.Name.str.len()"
   ]
  },
  {
   "cell_type": "code",
   "execution_count": 94,
   "id": "d9b83033-e829-4fc1-be07-e68c44692492",
   "metadata": {},
   "outputs": [],
   "source": [
    "boston = boston.reindex(['Name','len_Name','Age','M/F','City', 'State', 'Country', 'Official Time', 'Overall','Gender', 'Years Ran' ],axis =1)"
   ]
  },
  {
   "cell_type": "code",
   "execution_count": 95,
   "id": "21ebca81-a060-4e27-a1ee-ab77176501a7",
   "metadata": {},
   "outputs": [
    {
     "data": {
      "text/plain": [
       "['Name',\n",
       " 'len_Name',\n",
       " 'Age',\n",
       " 'M/F',\n",
       " 'City',\n",
       " 'State',\n",
       " 'Country',\n",
       " 'Official Time',\n",
       " 'Overall',\n",
       " 'Gender',\n",
       " 'Years Ran']"
      ]
     },
     "execution_count": 95,
     "metadata": {},
     "output_type": "execute_result"
    }
   ],
   "source": [
    "[column for column in boston.columns]"
   ]
  },
  {
   "cell_type": "code",
   "execution_count": 96,
   "id": "bc79b3bb-162c-4829-a5d3-fb748483c53c",
   "metadata": {},
   "outputs": [
    {
     "data": {
      "text/html": [
       "<div>\n",
       "<style scoped>\n",
       "    .dataframe tbody tr th:only-of-type {\n",
       "        vertical-align: middle;\n",
       "    }\n",
       "\n",
       "    .dataframe tbody tr th {\n",
       "        vertical-align: top;\n",
       "    }\n",
       "\n",
       "    .dataframe thead th {\n",
       "        text-align: right;\n",
       "    }\n",
       "</style>\n",
       "<table border=\"1\" class=\"dataframe\">\n",
       "  <thead>\n",
       "    <tr style=\"text-align: right;\">\n",
       "      <th></th>\n",
       "      <th>Name</th>\n",
       "      <th>len_Name</th>\n",
       "      <th>Age</th>\n",
       "      <th>M/F</th>\n",
       "      <th>City</th>\n",
       "      <th>State</th>\n",
       "      <th>Country</th>\n",
       "      <th>Official Time</th>\n",
       "      <th>Overall</th>\n",
       "      <th>Gender</th>\n",
       "      <th>Years Ran</th>\n",
       "    </tr>\n",
       "  </thead>\n",
       "  <tbody>\n",
       "    <tr>\n",
       "      <th>0</th>\n",
       "      <td>Kirui, Geoffrey</td>\n",
       "      <td>17</td>\n",
       "      <td>24</td>\n",
       "      <td>M</td>\n",
       "      <td>Keringet</td>\n",
       "      <td>NaN</td>\n",
       "      <td>KEN</td>\n",
       "      <td>2:09:37</td>\n",
       "      <td>1</td>\n",
       "      <td>1</td>\n",
       "      <td>NaN</td>\n",
       "    </tr>\n",
       "    <tr>\n",
       "      <th>1</th>\n",
       "      <td>Rupp, Galen</td>\n",
       "      <td>14</td>\n",
       "      <td>30</td>\n",
       "      <td>M</td>\n",
       "      <td>Portland</td>\n",
       "      <td>OR</td>\n",
       "      <td>USA</td>\n",
       "      <td>2:09:58</td>\n",
       "      <td>2</td>\n",
       "      <td>2</td>\n",
       "      <td>NaN</td>\n",
       "    </tr>\n",
       "    <tr>\n",
       "      <th>2</th>\n",
       "      <td>Osako, Suguru</td>\n",
       "      <td>15</td>\n",
       "      <td>25</td>\n",
       "      <td>M</td>\n",
       "      <td>Machida-City</td>\n",
       "      <td>NaN</td>\n",
       "      <td>JPN</td>\n",
       "      <td>2:10:28</td>\n",
       "      <td>3</td>\n",
       "      <td>3</td>\n",
       "      <td>NaN</td>\n",
       "    </tr>\n",
       "    <tr>\n",
       "      <th>3</th>\n",
       "      <td>Biwott, Shadrack</td>\n",
       "      <td>16</td>\n",
       "      <td>32</td>\n",
       "      <td>M</td>\n",
       "      <td>Mammoth Lakes</td>\n",
       "      <td>CA</td>\n",
       "      <td>USA</td>\n",
       "      <td>2:12:08</td>\n",
       "      <td>4</td>\n",
       "      <td>4</td>\n",
       "      <td>NaN</td>\n",
       "    </tr>\n",
       "    <tr>\n",
       "      <th>4</th>\n",
       "      <td>Chebet, Wilson</td>\n",
       "      <td>14</td>\n",
       "      <td>31</td>\n",
       "      <td>M</td>\n",
       "      <td>Marakwet</td>\n",
       "      <td>NaN</td>\n",
       "      <td>KEN</td>\n",
       "      <td>2:12:35</td>\n",
       "      <td>5</td>\n",
       "      <td>5</td>\n",
       "      <td>2015</td>\n",
       "    </tr>\n",
       "    <tr>\n",
       "      <th>...</th>\n",
       "      <td>...</td>\n",
       "      <td>...</td>\n",
       "      <td>...</td>\n",
       "      <td>...</td>\n",
       "      <td>...</td>\n",
       "      <td>...</td>\n",
       "      <td>...</td>\n",
       "      <td>...</td>\n",
       "      <td>...</td>\n",
       "      <td>...</td>\n",
       "      <td>...</td>\n",
       "    </tr>\n",
       "    <tr>\n",
       "      <th>995</th>\n",
       "      <td>Larosa, Mark</td>\n",
       "      <td>12</td>\n",
       "      <td>38</td>\n",
       "      <td>M</td>\n",
       "      <td>North Andover</td>\n",
       "      <td>MA</td>\n",
       "      <td>USA</td>\n",
       "      <td>2:56:06</td>\n",
       "      <td>996</td>\n",
       "      <td>940</td>\n",
       "      <td>2015:2016</td>\n",
       "    </tr>\n",
       "    <tr>\n",
       "      <th>996</th>\n",
       "      <td>Williamson, Jerry A</td>\n",
       "      <td>19</td>\n",
       "      <td>43</td>\n",
       "      <td>M</td>\n",
       "      <td>Raleigh</td>\n",
       "      <td>NC</td>\n",
       "      <td>USA</td>\n",
       "      <td>2:56:06</td>\n",
       "      <td>997</td>\n",
       "      <td>941</td>\n",
       "      <td>2015</td>\n",
       "    </tr>\n",
       "    <tr>\n",
       "      <th>997</th>\n",
       "      <td>Mccue, Daniel T</td>\n",
       "      <td>15</td>\n",
       "      <td>40</td>\n",
       "      <td>M</td>\n",
       "      <td>Arlington</td>\n",
       "      <td>MA</td>\n",
       "      <td>USA</td>\n",
       "      <td>2:56:06</td>\n",
       "      <td>998</td>\n",
       "      <td>942</td>\n",
       "      <td>NaN</td>\n",
       "    </tr>\n",
       "    <tr>\n",
       "      <th>998</th>\n",
       "      <td>Larosa, John</td>\n",
       "      <td>12</td>\n",
       "      <td>35</td>\n",
       "      <td>M</td>\n",
       "      <td>Danbury</td>\n",
       "      <td>CT</td>\n",
       "      <td>USA</td>\n",
       "      <td>2:56:07</td>\n",
       "      <td>999</td>\n",
       "      <td>943</td>\n",
       "      <td>NaN</td>\n",
       "    </tr>\n",
       "    <tr>\n",
       "      <th>999</th>\n",
       "      <td>Sanchez, Sam R</td>\n",
       "      <td>14</td>\n",
       "      <td>35</td>\n",
       "      <td>M</td>\n",
       "      <td>Santa Fe</td>\n",
       "      <td>NM</td>\n",
       "      <td>USA</td>\n",
       "      <td>2:56:08</td>\n",
       "      <td>1000</td>\n",
       "      <td>944</td>\n",
       "      <td>NaN</td>\n",
       "    </tr>\n",
       "  </tbody>\n",
       "</table>\n",
       "<p>1000 rows × 11 columns</p>\n",
       "</div>"
      ],
      "text/plain": [
       "                    Name  len_Name  Age M/F           City State Country  \\\n",
       "0       Kirui, Geoffrey         17   24   M       Keringet   NaN     KEN   \n",
       "1         Rupp, Galen           14   30   M       Portland    OR     USA   \n",
       "2        Osako, Suguru          15   25   M   Machida-City   NaN     JPN   \n",
       "3       Biwott, Shadrack        16   32   M  Mammoth Lakes    CA     USA   \n",
       "4         Chebet, Wilson        14   31   M       Marakwet   NaN     KEN   \n",
       "..                   ...       ...  ...  ..            ...   ...     ...   \n",
       "995         Larosa, Mark        12   38   M  North Andover    MA     USA   \n",
       "996  Williamson, Jerry A        19   43   M        Raleigh    NC     USA   \n",
       "997      Mccue, Daniel T        15   40   M      Arlington    MA     USA   \n",
       "998         Larosa, John        12   35   M        Danbury    CT     USA   \n",
       "999       Sanchez, Sam R        14   35   M       Santa Fe    NM     USA   \n",
       "\n",
       "    Official Time  Overall  Gender  Years Ran  \n",
       "0         2:09:37        1       1        NaN  \n",
       "1         2:09:58        2       2        NaN  \n",
       "2         2:10:28        3       3        NaN  \n",
       "3         2:12:08        4       4        NaN  \n",
       "4         2:12:35        5       5       2015  \n",
       "..            ...      ...     ...        ...  \n",
       "995       2:56:06      996     940  2015:2016  \n",
       "996       2:56:06      997     941       2015  \n",
       "997       2:56:06      998     942        NaN  \n",
       "998       2:56:07      999     943        NaN  \n",
       "999       2:56:08     1000     944        NaN  \n",
       "\n",
       "[1000 rows x 11 columns]"
      ]
     },
     "execution_count": 96,
     "metadata": {},
     "output_type": "execute_result"
    }
   ],
   "source": [
    "boston"
   ]
  },
  {
   "cell_type": "markdown",
   "id": "503bf644-cf60-4614-af2a-75af91386098",
   "metadata": {},
   "source": [
    "# Agenda\n",
    "- title( )\n",
    "- upper( )\n",
    "- lower( )\n",
    "- swapcase( )\n",
    "- capitalize( )"
   ]
  },
  {
   "cell_type": "code",
   "execution_count": 97,
   "id": "eb567fd8-092d-4895-8846-ca85d7566e74",
   "metadata": {},
   "outputs": [
    {
     "data": {
      "text/plain": [
       "0           Keringet\n",
       "1           Portland\n",
       "2       Machida-city\n",
       "3      Mammoth lakes\n",
       "4           Marakwet\n",
       "           ...      \n",
       "995    North andover\n",
       "996          Raleigh\n",
       "997        Arlington\n",
       "998          Danbury\n",
       "999         Santa fe\n",
       "Name: City, Length: 1000, dtype: object"
      ]
     },
     "execution_count": 97,
     "metadata": {},
     "output_type": "execute_result"
    }
   ],
   "source": [
    "boston.City.str.capitalize()"
   ]
  },
  {
   "cell_type": "markdown",
   "id": "b9ae6c97-95d8-4be7-aee4-6a7ec591c49e",
   "metadata": {},
   "source": [
    "# Agenda\n",
    "- find( )\n",
    "- rfind ( )"
   ]
  },
  {
   "cell_type": "code",
   "execution_count": 98,
   "id": "3a1b1fa2-2730-4443-a50d-39ec097cecf1",
   "metadata": {},
   "outputs": [
    {
     "data": {
      "text/plain": [
       "20"
      ]
     },
     "execution_count": 98,
     "metadata": {},
     "output_type": "execute_result"
    }
   ],
   "source": [
    "\" The mountain for redemption sis allwwksnksh \".rfind('demp')"
   ]
  },
  {
   "cell_type": "code",
   "execution_count": 99,
   "id": "77d5ad45-8e06-4499-9a09-a7ab0878c69b",
   "metadata": {},
   "outputs": [
    {
     "data": {
      "text/plain": [
       "0      |||||| Kirui, Geoffrey |||||||\n",
       "1      ||||||||Rupp, Galen   ||||||||\n",
       "2      |||||||Osako, Suguru  ||||||||\n",
       "3      |||||||Biwott, Shadrack|||||||\n",
       "4      ||||||||Chebet, Wilson||||||||\n",
       "                    ...              \n",
       "995    |||||||||Larosa, Mark|||||||||\n",
       "996    |||||Williamson, Jerry A||||||\n",
       "997    |||||||Mccue, Daniel T||||||||\n",
       "998    |||||||||Larosa, John|||||||||\n",
       "999    ||||||||Sanchez, Sam R||||||||\n",
       "Name: Name, Length: 1000, dtype: object"
      ]
     },
     "execution_count": 99,
     "metadata": {},
     "output_type": "execute_result"
    }
   ],
   "source": [
    "# how many top marathon runner have \"nd\" in their names\n",
    "boston.Name.str.center(30,\"|\")"
   ]
  },
  {
   "cell_type": "markdown",
   "id": "5329fcb1-6a2a-41c6-b972-35c388a94f1c",
   "metadata": {},
   "source": [
    "# Agenda\n",
    "- isspace( )\n",
    "- lstrip( )\n",
    "- rstrip( )\n",
    "-strip( )"
   ]
  },
  {
   "cell_type": "code",
   "execution_count": 100,
   "id": "8cf4ff2a-ec84-4aad-8752-f63616339045",
   "metadata": {},
   "outputs": [],
   "source": [
    "r =' \\t'"
   ]
  },
  {
   "cell_type": "code",
   "execution_count": 101,
   "id": "453d7d19-6561-43f8-a2cc-3c8b2b5857fd",
   "metadata": {},
   "outputs": [
    {
     "data": {
      "text/plain": [
       "True"
      ]
     },
     "execution_count": 101,
     "metadata": {},
     "output_type": "execute_result"
    }
   ],
   "source": [
    "r.isspace()"
   ]
  },
  {
   "cell_type": "code",
   "execution_count": 102,
   "id": "8feb5c65-fc7a-4240-9f6a-55fa27a76665",
   "metadata": {},
   "outputs": [
    {
     "data": {
      "text/plain": [
       "'hirir'"
      ]
     },
     "execution_count": 102,
     "metadata": {},
     "output_type": "execute_result"
    }
   ],
   "source": [
    "' hirir'.lstrip()"
   ]
  },
  {
   "cell_type": "code",
   "execution_count": 103,
   "id": "5afd7449-7abf-4a1d-88d2-b207e61035df",
   "metadata": {},
   "outputs": [],
   "source": [
    "boston.Name = boston.Name.str.strip()"
   ]
  },
  {
   "cell_type": "code",
   "execution_count": 104,
   "id": "7ee6893f-9967-4e5a-821b-ec5703db30c7",
   "metadata": {},
   "outputs": [
    {
     "data": {
      "text/plain": [
       "False    1000\n",
       "Name: Name, dtype: int64"
      ]
     },
     "execution_count": 104,
     "metadata": {},
     "output_type": "execute_result"
    }
   ],
   "source": [
    "boston.Name.str.isspace().value_counts()"
   ]
  },
  {
   "cell_type": "markdown",
   "id": "c1776872-86b3-4920-809a-7b5842a75253",
   "metadata": {},
   "source": [
    "# Agenda\n",
    "- split ( )\n",
    "- get( )\n",
    "- cat ( )\n",
    "    "
   ]
  },
  {
   "cell_type": "code",
   "execution_count": 105,
   "id": "f86c353d-ff22-43a6-b90e-8fcfcc04fb9d",
   "metadata": {},
   "outputs": [],
   "source": [
    "q = \"How can I get my own personalized email address?\""
   ]
  },
  {
   "cell_type": "code",
   "execution_count": 106,
   "id": "4844ce58-ccea-4a72-8844-c552af29e2e7",
   "metadata": {},
   "outputs": [
    {
     "data": {
      "text/plain": [
       "'How can I get my own personalized email address?'"
      ]
     },
     "execution_count": 106,
     "metadata": {},
     "output_type": "execute_result"
    }
   ],
   "source": [
    "q.strip()"
   ]
  },
  {
   "cell_type": "code",
   "execution_count": 107,
   "id": "a55b7a8e-fdaf-4ee0-a51d-42fce0dd2acb",
   "metadata": {},
   "outputs": [
    {
     "data": {
      "text/plain": [
       "['How', 'can', 'I', 'get', 'my', 'own', 'personalized', 'email', 'address?']"
      ]
     },
     "execution_count": 107,
     "metadata": {},
     "output_type": "execute_result"
    }
   ],
   "source": [
    "q.split(\" \")"
   ]
  },
  {
   "cell_type": "code",
   "execution_count": 108,
   "id": "9a02bb7a-673f-46ca-9bbb-8a242c914f6d",
   "metadata": {},
   "outputs": [],
   "source": [
    "# split firstname and lastname\n",
    "boston['firstname'] = boston.Name.str.split(\", \",).str.get(0)\n",
    "boston['lastname'] = boston.Name.str.split(\", \",).str.get(1)"
   ]
  },
  {
   "cell_type": "code",
   "execution_count": null,
   "id": "ccd2ff1c-b2ca-4cd7-94af-879366831c2d",
   "metadata": {},
   "outputs": [],
   "source": []
  },
  {
   "cell_type": "code",
   "execution_count": 109,
   "id": "1c8bfb59-c46b-40d3-9d57-6e7f7e012ef1",
   "metadata": {},
   "outputs": [
    {
     "data": {
      "text/plain": [
       "0          Kirui Geoffrey\n",
       "1              Rupp Galen\n",
       "2            Osako Suguru\n",
       "3         Biwott Shadrack\n",
       "4           Chebet Wilson\n",
       "              ...        \n",
       "995           Larosa Mark\n",
       "996    Williamson Jerry A\n",
       "997        Mccue Daniel T\n",
       "998           Larosa John\n",
       "999         Sanchez Sam R\n",
       "Name: firstname, Length: 1000, dtype: object"
      ]
     },
     "execution_count": 109,
     "metadata": {},
     "output_type": "execute_result"
    }
   ],
   "source": [
    "boston.firstname.str.cat(boston.lastname, sep=\" \")"
   ]
  },
  {
   "cell_type": "code",
   "execution_count": 110,
   "id": "12087340-0ad0-4c59-9689-683c38106a08",
   "metadata": {},
   "outputs": [
    {
     "data": {
      "text/plain": [
       "'Mr'"
      ]
     },
     "execution_count": 110,
     "metadata": {},
     "output_type": "execute_result"
    }
   ],
   "source": [
    " \"The man, Mr.Baldwin\".split(\", \")[1][:2]"
   ]
  },
  {
   "cell_type": "code",
   "execution_count": 111,
   "id": "499db39a-471e-4749-b482-4c26aed3a55f",
   "metadata": {},
   "outputs": [],
   "source": [
    "# boston.drop('lastnamename',axis =1, inplace = True)"
   ]
  },
  {
   "cell_type": "code",
   "execution_count": 112,
   "id": "3eba5d2e-d193-47b5-a3a7-80f363d5912a",
   "metadata": {},
   "outputs": [
    {
     "data": {
      "text/html": [
       "<div>\n",
       "<style scoped>\n",
       "    .dataframe tbody tr th:only-of-type {\n",
       "        vertical-align: middle;\n",
       "    }\n",
       "\n",
       "    .dataframe tbody tr th {\n",
       "        vertical-align: top;\n",
       "    }\n",
       "\n",
       "    .dataframe thead th {\n",
       "        text-align: right;\n",
       "    }\n",
       "</style>\n",
       "<table border=\"1\" class=\"dataframe\">\n",
       "  <thead>\n",
       "    <tr style=\"text-align: right;\">\n",
       "      <th></th>\n",
       "      <th>Name</th>\n",
       "      <th>len_Name</th>\n",
       "      <th>Age</th>\n",
       "      <th>M/F</th>\n",
       "      <th>City</th>\n",
       "      <th>State</th>\n",
       "      <th>Country</th>\n",
       "      <th>Official Time</th>\n",
       "      <th>Overall</th>\n",
       "      <th>Gender</th>\n",
       "      <th>Years Ran</th>\n",
       "      <th>firstname</th>\n",
       "      <th>lastname</th>\n",
       "    </tr>\n",
       "  </thead>\n",
       "  <tbody>\n",
       "    <tr>\n",
       "      <th>0</th>\n",
       "      <td>Kirui, Geoffrey</td>\n",
       "      <td>17</td>\n",
       "      <td>24</td>\n",
       "      <td>M</td>\n",
       "      <td>Keringet</td>\n",
       "      <td>NaN</td>\n",
       "      <td>KEN</td>\n",
       "      <td>2:09:37</td>\n",
       "      <td>1</td>\n",
       "      <td>1</td>\n",
       "      <td>NaN</td>\n",
       "      <td>Kirui</td>\n",
       "      <td>Geoffrey</td>\n",
       "    </tr>\n",
       "    <tr>\n",
       "      <th>1</th>\n",
       "      <td>Rupp, Galen</td>\n",
       "      <td>14</td>\n",
       "      <td>30</td>\n",
       "      <td>M</td>\n",
       "      <td>Portland</td>\n",
       "      <td>OR</td>\n",
       "      <td>USA</td>\n",
       "      <td>2:09:58</td>\n",
       "      <td>2</td>\n",
       "      <td>2</td>\n",
       "      <td>NaN</td>\n",
       "      <td>Rupp</td>\n",
       "      <td>Galen</td>\n",
       "    </tr>\n",
       "    <tr>\n",
       "      <th>2</th>\n",
       "      <td>Osako, Suguru</td>\n",
       "      <td>15</td>\n",
       "      <td>25</td>\n",
       "      <td>M</td>\n",
       "      <td>Machida-City</td>\n",
       "      <td>NaN</td>\n",
       "      <td>JPN</td>\n",
       "      <td>2:10:28</td>\n",
       "      <td>3</td>\n",
       "      <td>3</td>\n",
       "      <td>NaN</td>\n",
       "      <td>Osako</td>\n",
       "      <td>Suguru</td>\n",
       "    </tr>\n",
       "    <tr>\n",
       "      <th>3</th>\n",
       "      <td>Biwott, Shadrack</td>\n",
       "      <td>16</td>\n",
       "      <td>32</td>\n",
       "      <td>M</td>\n",
       "      <td>Mammoth Lakes</td>\n",
       "      <td>CA</td>\n",
       "      <td>USA</td>\n",
       "      <td>2:12:08</td>\n",
       "      <td>4</td>\n",
       "      <td>4</td>\n",
       "      <td>NaN</td>\n",
       "      <td>Biwott</td>\n",
       "      <td>Shadrack</td>\n",
       "    </tr>\n",
       "    <tr>\n",
       "      <th>4</th>\n",
       "      <td>Chebet, Wilson</td>\n",
       "      <td>14</td>\n",
       "      <td>31</td>\n",
       "      <td>M</td>\n",
       "      <td>Marakwet</td>\n",
       "      <td>NaN</td>\n",
       "      <td>KEN</td>\n",
       "      <td>2:12:35</td>\n",
       "      <td>5</td>\n",
       "      <td>5</td>\n",
       "      <td>2015</td>\n",
       "      <td>Chebet</td>\n",
       "      <td>Wilson</td>\n",
       "    </tr>\n",
       "  </tbody>\n",
       "</table>\n",
       "</div>"
      ],
      "text/plain": [
       "               Name  len_Name  Age M/F           City State Country  \\\n",
       "0   Kirui, Geoffrey        17   24   M       Keringet   NaN     KEN   \n",
       "1       Rupp, Galen        14   30   M       Portland    OR     USA   \n",
       "2     Osako, Suguru        15   25   M   Machida-City   NaN     JPN   \n",
       "3  Biwott, Shadrack        16   32   M  Mammoth Lakes    CA     USA   \n",
       "4    Chebet, Wilson        14   31   M       Marakwet   NaN     KEN   \n",
       "\n",
       "  Official Time  Overall  Gender Years Ran firstname  lastname  \n",
       "0       2:09:37        1       1       NaN     Kirui  Geoffrey  \n",
       "1       2:09:58        2       2       NaN      Rupp     Galen  \n",
       "2       2:10:28        3       3       NaN     Osako    Suguru  \n",
       "3       2:12:08        4       4       NaN    Biwott  Shadrack  \n",
       "4       2:12:35        5       5      2015    Chebet    Wilson  "
      ]
     },
     "execution_count": 112,
     "metadata": {},
     "output_type": "execute_result"
    }
   ],
   "source": [
    "boston.head()"
   ]
  },
  {
   "cell_type": "code",
   "execution_count": 113,
   "id": "1b8f14ce-5d4d-4d27-8f93-a5f295fae009",
   "metadata": {},
   "outputs": [],
   "source": [
    "# merge Age and Gender\n"
   ]
  },
  {
   "cell_type": "code",
   "execution_count": 114,
   "id": "70a13026-8c30-4325-b9d0-7b36727ec44d",
   "metadata": {},
   "outputs": [
    {
     "data": {
      "text/plain": [
       "James       5\n",
       "James L     1\n",
       "James P     1\n",
       "James A     1\n",
       "James P.    1\n",
       "James B     1\n",
       "James D.    1\n",
       "James R     1\n",
       "Name: lastname, dtype: int64"
      ]
     },
     "execution_count": 114,
     "metadata": {},
     "output_type": "execute_result"
    }
   ],
   "source": [
    "# how many names has Janes as Last name\n",
    "boston.lastname[boston.lastname.str.contains('James')].value_counts()"
   ]
  },
  {
   "cell_type": "code",
   "execution_count": 115,
   "id": "504ecaa5-0305-4bcc-8a64-785d14e5edba",
   "metadata": {},
   "outputs": [
    {
     "data": {
      "text/plain": [
       "-1    988\n",
       " 0     12\n",
       "Name: lastname, dtype: int64"
      ]
     },
     "execution_count": 115,
     "metadata": {},
     "output_type": "execute_result"
    }
   ],
   "source": [
    "# how many names has Janes as Last name\n",
    "boston.lastname.str.find('James').value_counts()"
   ]
  },
  {
   "cell_type": "code",
   "execution_count": 116,
   "id": "516a8dd0-609c-44cf-87c2-f1a9fbce0abc",
   "metadata": {},
   "outputs": [],
   "source": [
    "boston['City2'] =boston.City.str.split(\"-\").str.get(1)\n",
    "boston['City1'] =boston.City.str.split(\"-\").str.get(0)"
   ]
  },
  {
   "cell_type": "code",
   "execution_count": 117,
   "id": "2cd81e7a-fb0d-4d26-87e7-dd772030b469",
   "metadata": {},
   "outputs": [
    {
     "data": {
      "text/html": [
       "<div>\n",
       "<style scoped>\n",
       "    .dataframe tbody tr th:only-of-type {\n",
       "        vertical-align: middle;\n",
       "    }\n",
       "\n",
       "    .dataframe tbody tr th {\n",
       "        vertical-align: top;\n",
       "    }\n",
       "\n",
       "    .dataframe thead th {\n",
       "        text-align: right;\n",
       "    }\n",
       "</style>\n",
       "<table border=\"1\" class=\"dataframe\">\n",
       "  <thead>\n",
       "    <tr style=\"text-align: right;\">\n",
       "      <th></th>\n",
       "      <th>Name</th>\n",
       "      <th>len_Name</th>\n",
       "      <th>Age</th>\n",
       "      <th>M/F</th>\n",
       "      <th>City</th>\n",
       "      <th>State</th>\n",
       "      <th>Country</th>\n",
       "      <th>Official Time</th>\n",
       "      <th>Overall</th>\n",
       "      <th>Gender</th>\n",
       "      <th>Years Ran</th>\n",
       "      <th>firstname</th>\n",
       "      <th>lastname</th>\n",
       "      <th>City2</th>\n",
       "      <th>City1</th>\n",
       "    </tr>\n",
       "  </thead>\n",
       "  <tbody>\n",
       "    <tr>\n",
       "      <th>0</th>\n",
       "      <td>Kirui, Geoffrey</td>\n",
       "      <td>17</td>\n",
       "      <td>24</td>\n",
       "      <td>M</td>\n",
       "      <td>Keringet</td>\n",
       "      <td>NaN</td>\n",
       "      <td>KEN</td>\n",
       "      <td>2:09:37</td>\n",
       "      <td>1</td>\n",
       "      <td>1</td>\n",
       "      <td>NaN</td>\n",
       "      <td>Kirui</td>\n",
       "      <td>Geoffrey</td>\n",
       "      <td>NaN</td>\n",
       "      <td>Keringet</td>\n",
       "    </tr>\n",
       "    <tr>\n",
       "      <th>1</th>\n",
       "      <td>Rupp, Galen</td>\n",
       "      <td>14</td>\n",
       "      <td>30</td>\n",
       "      <td>M</td>\n",
       "      <td>Portland</td>\n",
       "      <td>OR</td>\n",
       "      <td>USA</td>\n",
       "      <td>2:09:58</td>\n",
       "      <td>2</td>\n",
       "      <td>2</td>\n",
       "      <td>NaN</td>\n",
       "      <td>Rupp</td>\n",
       "      <td>Galen</td>\n",
       "      <td>NaN</td>\n",
       "      <td>Portland</td>\n",
       "    </tr>\n",
       "    <tr>\n",
       "      <th>2</th>\n",
       "      <td>Osako, Suguru</td>\n",
       "      <td>15</td>\n",
       "      <td>25</td>\n",
       "      <td>M</td>\n",
       "      <td>Machida-City</td>\n",
       "      <td>NaN</td>\n",
       "      <td>JPN</td>\n",
       "      <td>2:10:28</td>\n",
       "      <td>3</td>\n",
       "      <td>3</td>\n",
       "      <td>NaN</td>\n",
       "      <td>Osako</td>\n",
       "      <td>Suguru</td>\n",
       "      <td>City</td>\n",
       "      <td>Machida</td>\n",
       "    </tr>\n",
       "    <tr>\n",
       "      <th>3</th>\n",
       "      <td>Biwott, Shadrack</td>\n",
       "      <td>16</td>\n",
       "      <td>32</td>\n",
       "      <td>M</td>\n",
       "      <td>Mammoth Lakes</td>\n",
       "      <td>CA</td>\n",
       "      <td>USA</td>\n",
       "      <td>2:12:08</td>\n",
       "      <td>4</td>\n",
       "      <td>4</td>\n",
       "      <td>NaN</td>\n",
       "      <td>Biwott</td>\n",
       "      <td>Shadrack</td>\n",
       "      <td>NaN</td>\n",
       "      <td>Mammoth Lakes</td>\n",
       "    </tr>\n",
       "    <tr>\n",
       "      <th>4</th>\n",
       "      <td>Chebet, Wilson</td>\n",
       "      <td>14</td>\n",
       "      <td>31</td>\n",
       "      <td>M</td>\n",
       "      <td>Marakwet</td>\n",
       "      <td>NaN</td>\n",
       "      <td>KEN</td>\n",
       "      <td>2:12:35</td>\n",
       "      <td>5</td>\n",
       "      <td>5</td>\n",
       "      <td>2015</td>\n",
       "      <td>Chebet</td>\n",
       "      <td>Wilson</td>\n",
       "      <td>NaN</td>\n",
       "      <td>Marakwet</td>\n",
       "    </tr>\n",
       "    <tr>\n",
       "      <th>...</th>\n",
       "      <td>...</td>\n",
       "      <td>...</td>\n",
       "      <td>...</td>\n",
       "      <td>...</td>\n",
       "      <td>...</td>\n",
       "      <td>...</td>\n",
       "      <td>...</td>\n",
       "      <td>...</td>\n",
       "      <td>...</td>\n",
       "      <td>...</td>\n",
       "      <td>...</td>\n",
       "      <td>...</td>\n",
       "      <td>...</td>\n",
       "      <td>...</td>\n",
       "      <td>...</td>\n",
       "    </tr>\n",
       "    <tr>\n",
       "      <th>995</th>\n",
       "      <td>Larosa, Mark</td>\n",
       "      <td>12</td>\n",
       "      <td>38</td>\n",
       "      <td>M</td>\n",
       "      <td>North Andover</td>\n",
       "      <td>MA</td>\n",
       "      <td>USA</td>\n",
       "      <td>2:56:06</td>\n",
       "      <td>996</td>\n",
       "      <td>940</td>\n",
       "      <td>2015:2016</td>\n",
       "      <td>Larosa</td>\n",
       "      <td>Mark</td>\n",
       "      <td>NaN</td>\n",
       "      <td>North Andover</td>\n",
       "    </tr>\n",
       "    <tr>\n",
       "      <th>996</th>\n",
       "      <td>Williamson, Jerry A</td>\n",
       "      <td>19</td>\n",
       "      <td>43</td>\n",
       "      <td>M</td>\n",
       "      <td>Raleigh</td>\n",
       "      <td>NC</td>\n",
       "      <td>USA</td>\n",
       "      <td>2:56:06</td>\n",
       "      <td>997</td>\n",
       "      <td>941</td>\n",
       "      <td>2015</td>\n",
       "      <td>Williamson</td>\n",
       "      <td>Jerry A</td>\n",
       "      <td>NaN</td>\n",
       "      <td>Raleigh</td>\n",
       "    </tr>\n",
       "    <tr>\n",
       "      <th>997</th>\n",
       "      <td>Mccue, Daniel T</td>\n",
       "      <td>15</td>\n",
       "      <td>40</td>\n",
       "      <td>M</td>\n",
       "      <td>Arlington</td>\n",
       "      <td>MA</td>\n",
       "      <td>USA</td>\n",
       "      <td>2:56:06</td>\n",
       "      <td>998</td>\n",
       "      <td>942</td>\n",
       "      <td>NaN</td>\n",
       "      <td>Mccue</td>\n",
       "      <td>Daniel T</td>\n",
       "      <td>NaN</td>\n",
       "      <td>Arlington</td>\n",
       "    </tr>\n",
       "    <tr>\n",
       "      <th>998</th>\n",
       "      <td>Larosa, John</td>\n",
       "      <td>12</td>\n",
       "      <td>35</td>\n",
       "      <td>M</td>\n",
       "      <td>Danbury</td>\n",
       "      <td>CT</td>\n",
       "      <td>USA</td>\n",
       "      <td>2:56:07</td>\n",
       "      <td>999</td>\n",
       "      <td>943</td>\n",
       "      <td>NaN</td>\n",
       "      <td>Larosa</td>\n",
       "      <td>John</td>\n",
       "      <td>NaN</td>\n",
       "      <td>Danbury</td>\n",
       "    </tr>\n",
       "    <tr>\n",
       "      <th>999</th>\n",
       "      <td>Sanchez, Sam R</td>\n",
       "      <td>14</td>\n",
       "      <td>35</td>\n",
       "      <td>M</td>\n",
       "      <td>Santa Fe</td>\n",
       "      <td>NM</td>\n",
       "      <td>USA</td>\n",
       "      <td>2:56:08</td>\n",
       "      <td>1000</td>\n",
       "      <td>944</td>\n",
       "      <td>NaN</td>\n",
       "      <td>Sanchez</td>\n",
       "      <td>Sam R</td>\n",
       "      <td>NaN</td>\n",
       "      <td>Santa Fe</td>\n",
       "    </tr>\n",
       "  </tbody>\n",
       "</table>\n",
       "<p>1000 rows × 15 columns</p>\n",
       "</div>"
      ],
      "text/plain": [
       "                    Name  len_Name  Age M/F           City State Country  \\\n",
       "0        Kirui, Geoffrey        17   24   M       Keringet   NaN     KEN   \n",
       "1            Rupp, Galen        14   30   M       Portland    OR     USA   \n",
       "2          Osako, Suguru        15   25   M   Machida-City   NaN     JPN   \n",
       "3       Biwott, Shadrack        16   32   M  Mammoth Lakes    CA     USA   \n",
       "4         Chebet, Wilson        14   31   M       Marakwet   NaN     KEN   \n",
       "..                   ...       ...  ...  ..            ...   ...     ...   \n",
       "995         Larosa, Mark        12   38   M  North Andover    MA     USA   \n",
       "996  Williamson, Jerry A        19   43   M        Raleigh    NC     USA   \n",
       "997      Mccue, Daniel T        15   40   M      Arlington    MA     USA   \n",
       "998         Larosa, John        12   35   M        Danbury    CT     USA   \n",
       "999       Sanchez, Sam R        14   35   M       Santa Fe    NM     USA   \n",
       "\n",
       "    Official Time  Overall  Gender  Years Ran   firstname  lastname City2  \\\n",
       "0         2:09:37        1       1        NaN       Kirui  Geoffrey   NaN   \n",
       "1         2:09:58        2       2        NaN        Rupp     Galen   NaN   \n",
       "2         2:10:28        3       3        NaN       Osako    Suguru  City   \n",
       "3         2:12:08        4       4        NaN      Biwott  Shadrack   NaN   \n",
       "4         2:12:35        5       5       2015      Chebet    Wilson   NaN   \n",
       "..            ...      ...     ...        ...         ...       ...   ...   \n",
       "995       2:56:06      996     940  2015:2016      Larosa      Mark   NaN   \n",
       "996       2:56:06      997     941       2015  Williamson   Jerry A   NaN   \n",
       "997       2:56:06      998     942        NaN       Mccue  Daniel T   NaN   \n",
       "998       2:56:07      999     943        NaN      Larosa      John   NaN   \n",
       "999       2:56:08     1000     944        NaN     Sanchez     Sam R   NaN   \n",
       "\n",
       "             City1  \n",
       "0         Keringet  \n",
       "1         Portland  \n",
       "2          Machida  \n",
       "3    Mammoth Lakes  \n",
       "4         Marakwet  \n",
       "..             ...  \n",
       "995  North Andover  \n",
       "996        Raleigh  \n",
       "997      Arlington  \n",
       "998        Danbury  \n",
       "999       Santa Fe  \n",
       "\n",
       "[1000 rows x 15 columns]"
      ]
     },
     "execution_count": 117,
     "metadata": {},
     "output_type": "execute_result"
    }
   ],
   "source": [
    "boston"
   ]
  },
  {
   "cell_type": "code",
   "execution_count": 118,
   "id": "929ca975-f91f-4429-95ce-e7863f86c39b",
   "metadata": {},
   "outputs": [],
   "source": [
    "boston = boston.reindex(['Name','len_Name','Age','M/F','City',\"City1\" ,\"City2\",'State', 'Country', 'Official Time', 'Overall','Gender', 'Years Ran' ],axis =1)"
   ]
  },
  {
   "cell_type": "code",
   "execution_count": 119,
   "id": "5c8c6cb3-6b0e-45e4-8a9e-2d9ce8d1f91b",
   "metadata": {},
   "outputs": [
    {
     "data": {
      "text/html": [
       "<div>\n",
       "<style scoped>\n",
       "    .dataframe tbody tr th:only-of-type {\n",
       "        vertical-align: middle;\n",
       "    }\n",
       "\n",
       "    .dataframe tbody tr th {\n",
       "        vertical-align: top;\n",
       "    }\n",
       "\n",
       "    .dataframe thead th {\n",
       "        text-align: right;\n",
       "    }\n",
       "</style>\n",
       "<table border=\"1\" class=\"dataframe\">\n",
       "  <thead>\n",
       "    <tr style=\"text-align: right;\">\n",
       "      <th></th>\n",
       "      <th>Name</th>\n",
       "      <th>len_Name</th>\n",
       "      <th>Age</th>\n",
       "      <th>M/F</th>\n",
       "      <th>City</th>\n",
       "      <th>City1</th>\n",
       "      <th>City2</th>\n",
       "      <th>State</th>\n",
       "      <th>Country</th>\n",
       "      <th>Official Time</th>\n",
       "      <th>Overall</th>\n",
       "      <th>Gender</th>\n",
       "      <th>Years Ran</th>\n",
       "    </tr>\n",
       "  </thead>\n",
       "  <tbody>\n",
       "    <tr>\n",
       "      <th>0</th>\n",
       "      <td>Kirui, Geoffrey</td>\n",
       "      <td>17</td>\n",
       "      <td>24</td>\n",
       "      <td>M</td>\n",
       "      <td>Keringet</td>\n",
       "      <td>Keringet</td>\n",
       "      <td>NaN</td>\n",
       "      <td>NaN</td>\n",
       "      <td>KEN</td>\n",
       "      <td>2:09:37</td>\n",
       "      <td>1</td>\n",
       "      <td>1</td>\n",
       "      <td>NaN</td>\n",
       "    </tr>\n",
       "    <tr>\n",
       "      <th>1</th>\n",
       "      <td>Rupp, Galen</td>\n",
       "      <td>14</td>\n",
       "      <td>30</td>\n",
       "      <td>M</td>\n",
       "      <td>Portland</td>\n",
       "      <td>Portland</td>\n",
       "      <td>NaN</td>\n",
       "      <td>OR</td>\n",
       "      <td>USA</td>\n",
       "      <td>2:09:58</td>\n",
       "      <td>2</td>\n",
       "      <td>2</td>\n",
       "      <td>NaN</td>\n",
       "    </tr>\n",
       "    <tr>\n",
       "      <th>2</th>\n",
       "      <td>Osako, Suguru</td>\n",
       "      <td>15</td>\n",
       "      <td>25</td>\n",
       "      <td>M</td>\n",
       "      <td>Machida-City</td>\n",
       "      <td>Machida</td>\n",
       "      <td>City</td>\n",
       "      <td>NaN</td>\n",
       "      <td>JPN</td>\n",
       "      <td>2:10:28</td>\n",
       "      <td>3</td>\n",
       "      <td>3</td>\n",
       "      <td>NaN</td>\n",
       "    </tr>\n",
       "    <tr>\n",
       "      <th>3</th>\n",
       "      <td>Biwott, Shadrack</td>\n",
       "      <td>16</td>\n",
       "      <td>32</td>\n",
       "      <td>M</td>\n",
       "      <td>Mammoth Lakes</td>\n",
       "      <td>Mammoth Lakes</td>\n",
       "      <td>NaN</td>\n",
       "      <td>CA</td>\n",
       "      <td>USA</td>\n",
       "      <td>2:12:08</td>\n",
       "      <td>4</td>\n",
       "      <td>4</td>\n",
       "      <td>NaN</td>\n",
       "    </tr>\n",
       "    <tr>\n",
       "      <th>4</th>\n",
       "      <td>Chebet, Wilson</td>\n",
       "      <td>14</td>\n",
       "      <td>31</td>\n",
       "      <td>M</td>\n",
       "      <td>Marakwet</td>\n",
       "      <td>Marakwet</td>\n",
       "      <td>NaN</td>\n",
       "      <td>NaN</td>\n",
       "      <td>KEN</td>\n",
       "      <td>2:12:35</td>\n",
       "      <td>5</td>\n",
       "      <td>5</td>\n",
       "      <td>2015</td>\n",
       "    </tr>\n",
       "  </tbody>\n",
       "</table>\n",
       "</div>"
      ],
      "text/plain": [
       "               Name  len_Name  Age M/F           City          City1 City2  \\\n",
       "0   Kirui, Geoffrey        17   24   M       Keringet       Keringet   NaN   \n",
       "1       Rupp, Galen        14   30   M       Portland       Portland   NaN   \n",
       "2     Osako, Suguru        15   25   M   Machida-City        Machida  City   \n",
       "3  Biwott, Shadrack        16   32   M  Mammoth Lakes  Mammoth Lakes   NaN   \n",
       "4    Chebet, Wilson        14   31   M       Marakwet       Marakwet   NaN   \n",
       "\n",
       "  State Country Official Time  Overall  Gender Years Ran  \n",
       "0   NaN     KEN       2:09:37        1       1       NaN  \n",
       "1    OR     USA       2:09:58        2       2       NaN  \n",
       "2   NaN     JPN       2:10:28        3       3       NaN  \n",
       "3    CA     USA       2:12:08        4       4       NaN  \n",
       "4   NaN     KEN       2:12:35        5       5      2015  "
      ]
     },
     "execution_count": 119,
     "metadata": {},
     "output_type": "execute_result"
    }
   ],
   "source": [
    "boston.head()"
   ]
  },
  {
   "cell_type": "markdown",
   "id": "0b557fef-c8dc-4e4a-96e2-e71cee2ea3ab",
   "metadata": {},
   "source": [
    "# String Replacement"
   ]
  },
  {
   "cell_type": "code",
   "execution_count": 120,
   "id": "a2595d72-9c8e-4629-9299-3822d6ebbc8f",
   "metadata": {},
   "outputs": [],
   "source": [
    "ter = \"Urban population (% of total) Urban population refers to people living in urban areas as defined by national statistical offices\""
   ]
  },
  {
   "cell_type": "code",
   "execution_count": 121,
   "id": "363d365b-a5b5-4a45-a8ff-e2ad4f081900",
   "metadata": {},
   "outputs": [
    {
     "data": {
      "text/plain": [
       "'City population (% of total) City population refers to people living in urban areas as defined by national statistical offices'"
      ]
     },
     "execution_count": 121,
     "metadata": {},
     "output_type": "execute_result"
    }
   ],
   "source": [
    "ter.replace(\"Urban\", \"City\")"
   ]
  },
  {
   "cell_type": "code",
   "execution_count": 122,
   "id": "a111055f-a183-4708-9e72-882e84dc3d1f",
   "metadata": {},
   "outputs": [
    {
     "data": {
      "text/html": [
       "<div>\n",
       "<style scoped>\n",
       "    .dataframe tbody tr th:only-of-type {\n",
       "        vertical-align: middle;\n",
       "    }\n",
       "\n",
       "    .dataframe tbody tr th {\n",
       "        vertical-align: top;\n",
       "    }\n",
       "\n",
       "    .dataframe thead th {\n",
       "        text-align: right;\n",
       "    }\n",
       "</style>\n",
       "<table border=\"1\" class=\"dataframe\">\n",
       "  <thead>\n",
       "    <tr style=\"text-align: right;\">\n",
       "      <th></th>\n",
       "      <th>Name</th>\n",
       "      <th>len_Name</th>\n",
       "      <th>Age</th>\n",
       "      <th>M/F</th>\n",
       "      <th>City</th>\n",
       "      <th>City1</th>\n",
       "      <th>City2</th>\n",
       "      <th>State</th>\n",
       "      <th>Country</th>\n",
       "      <th>Official Time</th>\n",
       "      <th>Overall</th>\n",
       "      <th>Gender</th>\n",
       "      <th>Years Ran</th>\n",
       "    </tr>\n",
       "  </thead>\n",
       "  <tbody>\n",
       "    <tr>\n",
       "      <th>833</th>\n",
       "      <td>Borgen, André</td>\n",
       "      <td>13</td>\n",
       "      <td>29</td>\n",
       "      <td>M</td>\n",
       "      <td>Oslo</td>\n",
       "      <td>Oslo</td>\n",
       "      <td>NaN</td>\n",
       "      <td>NaN</td>\n",
       "      <td>NOR</td>\n",
       "      <td>2:54:04</td>\n",
       "      <td>834</td>\n",
       "      <td>787</td>\n",
       "      <td>NaN</td>\n",
       "    </tr>\n",
       "    <tr>\n",
       "      <th>639</th>\n",
       "      <td>Aramaki, Yuzo</td>\n",
       "      <td>13</td>\n",
       "      <td>37</td>\n",
       "      <td>M</td>\n",
       "      <td>Cos Cob</td>\n",
       "      <td>Cos Cob</td>\n",
       "      <td>NaN</td>\n",
       "      <td>CT</td>\n",
       "      <td>USA</td>\n",
       "      <td>2:51:00</td>\n",
       "      <td>640</td>\n",
       "      <td>600</td>\n",
       "      <td>2015</td>\n",
       "    </tr>\n",
       "    <tr>\n",
       "      <th>147</th>\n",
       "      <td>Costello, Liz</td>\n",
       "      <td>13</td>\n",
       "      <td>29</td>\n",
       "      <td>F</td>\n",
       "      <td>Brighton</td>\n",
       "      <td>Brighton</td>\n",
       "      <td>NaN</td>\n",
       "      <td>MA</td>\n",
       "      <td>USA</td>\n",
       "      <td>2:38:21</td>\n",
       "      <td>148</td>\n",
       "      <td>18</td>\n",
       "      <td>NaN</td>\n",
       "    </tr>\n",
       "    <tr>\n",
       "      <th>538</th>\n",
       "      <td>Shingleton, Jeremy</td>\n",
       "      <td>18</td>\n",
       "      <td>38</td>\n",
       "      <td>M</td>\n",
       "      <td>New York</td>\n",
       "      <td>New York</td>\n",
       "      <td>NaN</td>\n",
       "      <td>NY</td>\n",
       "      <td>USA</td>\n",
       "      <td>2:49:24</td>\n",
       "      <td>539</td>\n",
       "      <td>502</td>\n",
       "      <td>NaN</td>\n",
       "    </tr>\n",
       "    <tr>\n",
       "      <th>594</th>\n",
       "      <td>Sheaff, Spencer T</td>\n",
       "      <td>17</td>\n",
       "      <td>26</td>\n",
       "      <td>M</td>\n",
       "      <td>San Francisco</td>\n",
       "      <td>San Francisco</td>\n",
       "      <td>NaN</td>\n",
       "      <td>CA</td>\n",
       "      <td>USA</td>\n",
       "      <td>2:50:06</td>\n",
       "      <td>595</td>\n",
       "      <td>557</td>\n",
       "      <td>NaN</td>\n",
       "    </tr>\n",
       "    <tr>\n",
       "      <th>752</th>\n",
       "      <td>Becker, Aaron</td>\n",
       "      <td>13</td>\n",
       "      <td>26</td>\n",
       "      <td>M</td>\n",
       "      <td>Noblesville</td>\n",
       "      <td>Noblesville</td>\n",
       "      <td>NaN</td>\n",
       "      <td>IN</td>\n",
       "      <td>USA</td>\n",
       "      <td>2:52:53</td>\n",
       "      <td>753</td>\n",
       "      <td>709</td>\n",
       "      <td>2016</td>\n",
       "    </tr>\n",
       "    <tr>\n",
       "      <th>628</th>\n",
       "      <td>Starbuck, Ryan</td>\n",
       "      <td>14</td>\n",
       "      <td>32</td>\n",
       "      <td>M</td>\n",
       "      <td>Denver</td>\n",
       "      <td>Denver</td>\n",
       "      <td>NaN</td>\n",
       "      <td>CO</td>\n",
       "      <td>USA</td>\n",
       "      <td>2:50:48</td>\n",
       "      <td>629</td>\n",
       "      <td>589</td>\n",
       "      <td>2015:2016</td>\n",
       "    </tr>\n",
       "    <tr>\n",
       "      <th>310</th>\n",
       "      <td>Rabe, Michael</td>\n",
       "      <td>13</td>\n",
       "      <td>37</td>\n",
       "      <td>M</td>\n",
       "      <td>Anchorage</td>\n",
       "      <td>Anchorage</td>\n",
       "      <td>NaN</td>\n",
       "      <td>AK</td>\n",
       "      <td>USA</td>\n",
       "      <td>2:44:31</td>\n",
       "      <td>311</td>\n",
       "      <td>284</td>\n",
       "      <td>NaN</td>\n",
       "    </tr>\n",
       "    <tr>\n",
       "      <th>676</th>\n",
       "      <td>Collick, Neal</td>\n",
       "      <td>13</td>\n",
       "      <td>37</td>\n",
       "      <td>M</td>\n",
       "      <td>Negaunee</td>\n",
       "      <td>Negaunee</td>\n",
       "      <td>NaN</td>\n",
       "      <td>MI</td>\n",
       "      <td>USA</td>\n",
       "      <td>2:51:44</td>\n",
       "      <td>677</td>\n",
       "      <td>637</td>\n",
       "      <td>2016</td>\n",
       "    </tr>\n",
       "    <tr>\n",
       "      <th>942</th>\n",
       "      <td>Lizotte, Megan L.</td>\n",
       "      <td>17</td>\n",
       "      <td>33</td>\n",
       "      <td>F</td>\n",
       "      <td>San Diego</td>\n",
       "      <td>San Diego</td>\n",
       "      <td>NaN</td>\n",
       "      <td>CA</td>\n",
       "      <td>USA</td>\n",
       "      <td>2:55:26</td>\n",
       "      <td>943</td>\n",
       "      <td>52</td>\n",
       "      <td>NaN</td>\n",
       "    </tr>\n",
       "  </tbody>\n",
       "</table>\n",
       "</div>"
      ],
      "text/plain": [
       "                   Name  len_Name  Age M/F           City          City1  \\\n",
       "833       Borgen, André        13   29   M           Oslo           Oslo   \n",
       "639       Aramaki, Yuzo        13   37   M        Cos Cob        Cos Cob   \n",
       "147       Costello, Liz        13   29   F       Brighton       Brighton   \n",
       "538  Shingleton, Jeremy        18   38   M       New York       New York   \n",
       "594   Sheaff, Spencer T        17   26   M  San Francisco  San Francisco   \n",
       "752       Becker, Aaron        13   26   M    Noblesville    Noblesville   \n",
       "628      Starbuck, Ryan        14   32   M         Denver         Denver   \n",
       "310       Rabe, Michael        13   37   M      Anchorage      Anchorage   \n",
       "676       Collick, Neal        13   37   M       Negaunee       Negaunee   \n",
       "942   Lizotte, Megan L.        17   33   F      San Diego      San Diego   \n",
       "\n",
       "    City2 State Country Official Time  Overall  Gender  Years Ran  \n",
       "833   NaN   NaN     NOR       2:54:04      834     787        NaN  \n",
       "639   NaN    CT     USA       2:51:00      640     600       2015  \n",
       "147   NaN    MA     USA       2:38:21      148      18        NaN  \n",
       "538   NaN    NY     USA       2:49:24      539     502        NaN  \n",
       "594   NaN    CA     USA       2:50:06      595     557        NaN  \n",
       "752   NaN    IN     USA       2:52:53      753     709       2016  \n",
       "628   NaN    CO     USA       2:50:48      629     589  2015:2016  \n",
       "310   NaN    AK     USA       2:44:31      311     284        NaN  \n",
       "676   NaN    MI     USA       2:51:44      677     637       2016  \n",
       "942   NaN    CA     USA       2:55:26      943      52        NaN  "
      ]
     },
     "execution_count": 122,
     "metadata": {},
     "output_type": "execute_result"
    }
   ],
   "source": [
    "boston.sample(10)"
   ]
  },
  {
   "cell_type": "code",
   "execution_count": 123,
   "id": "8c4589b9-e4ce-4431-a700-5daadaa4d11b",
   "metadata": {},
   "outputs": [
    {
     "data": {
      "text/plain": [
       "Male      944\n",
       "Female     56\n",
       "Name: M/F, dtype: int64"
      ]
     },
     "execution_count": 123,
     "metadata": {},
     "output_type": "execute_result"
    }
   ],
   "source": [
    "# replaceM with male and f with female\n",
    "boston[\"M/F\"].str.replace(\"M\",\"Male\").str.replace(\"F\", \"Female\").value_counts()\n"
   ]
  },
  {
   "cell_type": "code",
   "execution_count": 124,
   "id": "bc694e2d-20a9-4e67-a231-9b16be704ae0",
   "metadata": {},
   "outputs": [
    {
     "data": {
      "text/html": [
       "<div>\n",
       "<style scoped>\n",
       "    .dataframe tbody tr th:only-of-type {\n",
       "        vertical-align: middle;\n",
       "    }\n",
       "\n",
       "    .dataframe tbody tr th {\n",
       "        vertical-align: top;\n",
       "    }\n",
       "\n",
       "    .dataframe thead th {\n",
       "        text-align: right;\n",
       "    }\n",
       "</style>\n",
       "<table border=\"1\" class=\"dataframe\">\n",
       "  <thead>\n",
       "    <tr style=\"text-align: right;\">\n",
       "      <th></th>\n",
       "      <th>Name</th>\n",
       "      <th>len_Name</th>\n",
       "      <th>Age</th>\n",
       "      <th>M/F</th>\n",
       "      <th>City</th>\n",
       "      <th>City1</th>\n",
       "      <th>City2</th>\n",
       "      <th>State</th>\n",
       "      <th>Country</th>\n",
       "      <th>Official Time</th>\n",
       "      <th>Overall</th>\n",
       "      <th>Gender</th>\n",
       "      <th>Years Ran</th>\n",
       "    </tr>\n",
       "  </thead>\n",
       "  <tbody>\n",
       "    <tr>\n",
       "      <th>0</th>\n",
       "      <td>Kirui, Geoffrey</td>\n",
       "      <td>17</td>\n",
       "      <td>24</td>\n",
       "      <td>M</td>\n",
       "      <td>Keringet</td>\n",
       "      <td>Keringet</td>\n",
       "      <td>NaN</td>\n",
       "      <td>NaN</td>\n",
       "      <td>KEN</td>\n",
       "      <td>2:09:37</td>\n",
       "      <td>1</td>\n",
       "      <td>1</td>\n",
       "      <td>NaN</td>\n",
       "    </tr>\n",
       "    <tr>\n",
       "      <th>1</th>\n",
       "      <td>Rupp, Galen</td>\n",
       "      <td>14</td>\n",
       "      <td>30</td>\n",
       "      <td>M</td>\n",
       "      <td>Portland</td>\n",
       "      <td>Portland</td>\n",
       "      <td>NaN</td>\n",
       "      <td>OR</td>\n",
       "      <td>USA</td>\n",
       "      <td>2:09:58</td>\n",
       "      <td>2</td>\n",
       "      <td>2</td>\n",
       "      <td>NaN</td>\n",
       "    </tr>\n",
       "    <tr>\n",
       "      <th>2</th>\n",
       "      <td>Osako, Suguru</td>\n",
       "      <td>15</td>\n",
       "      <td>25</td>\n",
       "      <td>M</td>\n",
       "      <td>Machida-City</td>\n",
       "      <td>Machida</td>\n",
       "      <td>City</td>\n",
       "      <td>NaN</td>\n",
       "      <td>JPN</td>\n",
       "      <td>2:10:28</td>\n",
       "      <td>3</td>\n",
       "      <td>3</td>\n",
       "      <td>NaN</td>\n",
       "    </tr>\n",
       "    <tr>\n",
       "      <th>3</th>\n",
       "      <td>Biwott, Shadrack</td>\n",
       "      <td>16</td>\n",
       "      <td>32</td>\n",
       "      <td>M</td>\n",
       "      <td>Mammoth Lakes</td>\n",
       "      <td>Mammoth Lakes</td>\n",
       "      <td>NaN</td>\n",
       "      <td>CA</td>\n",
       "      <td>USA</td>\n",
       "      <td>2:12:08</td>\n",
       "      <td>4</td>\n",
       "      <td>4</td>\n",
       "      <td>NaN</td>\n",
       "    </tr>\n",
       "    <tr>\n",
       "      <th>4</th>\n",
       "      <td>Chebet, Wilson</td>\n",
       "      <td>14</td>\n",
       "      <td>31</td>\n",
       "      <td>M</td>\n",
       "      <td>Marakwet</td>\n",
       "      <td>Marakwet</td>\n",
       "      <td>NaN</td>\n",
       "      <td>NaN</td>\n",
       "      <td>KEN</td>\n",
       "      <td>2:12:35</td>\n",
       "      <td>5</td>\n",
       "      <td>5</td>\n",
       "      <td>2015</td>\n",
       "    </tr>\n",
       "    <tr>\n",
       "      <th>...</th>\n",
       "      <td>...</td>\n",
       "      <td>...</td>\n",
       "      <td>...</td>\n",
       "      <td>...</td>\n",
       "      <td>...</td>\n",
       "      <td>...</td>\n",
       "      <td>...</td>\n",
       "      <td>...</td>\n",
       "      <td>...</td>\n",
       "      <td>...</td>\n",
       "      <td>...</td>\n",
       "      <td>...</td>\n",
       "      <td>...</td>\n",
       "    </tr>\n",
       "    <tr>\n",
       "      <th>995</th>\n",
       "      <td>Larosa, Mark</td>\n",
       "      <td>12</td>\n",
       "      <td>38</td>\n",
       "      <td>M</td>\n",
       "      <td>North Andover</td>\n",
       "      <td>North Andover</td>\n",
       "      <td>NaN</td>\n",
       "      <td>MA</td>\n",
       "      <td>USA</td>\n",
       "      <td>2:56:06</td>\n",
       "      <td>996</td>\n",
       "      <td>940</td>\n",
       "      <td>2015:2016</td>\n",
       "    </tr>\n",
       "    <tr>\n",
       "      <th>996</th>\n",
       "      <td>Williamson, Jerry A</td>\n",
       "      <td>19</td>\n",
       "      <td>43</td>\n",
       "      <td>M</td>\n",
       "      <td>Raleigh</td>\n",
       "      <td>Raleigh</td>\n",
       "      <td>NaN</td>\n",
       "      <td>NC</td>\n",
       "      <td>USA</td>\n",
       "      <td>2:56:06</td>\n",
       "      <td>997</td>\n",
       "      <td>941</td>\n",
       "      <td>2015</td>\n",
       "    </tr>\n",
       "    <tr>\n",
       "      <th>997</th>\n",
       "      <td>Mccue, Daniel T</td>\n",
       "      <td>15</td>\n",
       "      <td>40</td>\n",
       "      <td>M</td>\n",
       "      <td>Arlington</td>\n",
       "      <td>Arlington</td>\n",
       "      <td>NaN</td>\n",
       "      <td>MA</td>\n",
       "      <td>USA</td>\n",
       "      <td>2:56:06</td>\n",
       "      <td>998</td>\n",
       "      <td>942</td>\n",
       "      <td>NaN</td>\n",
       "    </tr>\n",
       "    <tr>\n",
       "      <th>998</th>\n",
       "      <td>Larosa, John</td>\n",
       "      <td>12</td>\n",
       "      <td>35</td>\n",
       "      <td>M</td>\n",
       "      <td>Danbury</td>\n",
       "      <td>Danbury</td>\n",
       "      <td>NaN</td>\n",
       "      <td>CT</td>\n",
       "      <td>USA</td>\n",
       "      <td>2:56:07</td>\n",
       "      <td>999</td>\n",
       "      <td>943</td>\n",
       "      <td>NaN</td>\n",
       "    </tr>\n",
       "    <tr>\n",
       "      <th>999</th>\n",
       "      <td>Sanchez, Sam R</td>\n",
       "      <td>14</td>\n",
       "      <td>35</td>\n",
       "      <td>M</td>\n",
       "      <td>Santa Fe</td>\n",
       "      <td>Santa Fe</td>\n",
       "      <td>NaN</td>\n",
       "      <td>NM</td>\n",
       "      <td>USA</td>\n",
       "      <td>2:56:08</td>\n",
       "      <td>1000</td>\n",
       "      <td>944</td>\n",
       "      <td>NaN</td>\n",
       "    </tr>\n",
       "  </tbody>\n",
       "</table>\n",
       "<p>1000 rows × 13 columns</p>\n",
       "</div>"
      ],
      "text/plain": [
       "                    Name  len_Name  Age M/F           City          City1  \\\n",
       "0        Kirui, Geoffrey        17   24   M       Keringet       Keringet   \n",
       "1            Rupp, Galen        14   30   M       Portland       Portland   \n",
       "2          Osako, Suguru        15   25   M   Machida-City        Machida   \n",
       "3       Biwott, Shadrack        16   32   M  Mammoth Lakes  Mammoth Lakes   \n",
       "4         Chebet, Wilson        14   31   M       Marakwet       Marakwet   \n",
       "..                   ...       ...  ...  ..            ...            ...   \n",
       "995         Larosa, Mark        12   38   M  North Andover  North Andover   \n",
       "996  Williamson, Jerry A        19   43   M        Raleigh        Raleigh   \n",
       "997      Mccue, Daniel T        15   40   M      Arlington      Arlington   \n",
       "998         Larosa, John        12   35   M        Danbury        Danbury   \n",
       "999       Sanchez, Sam R        14   35   M       Santa Fe       Santa Fe   \n",
       "\n",
       "    City2 State Country Official Time  Overall  Gender  Years Ran  \n",
       "0     NaN   NaN     KEN       2:09:37        1       1        NaN  \n",
       "1     NaN    OR     USA       2:09:58        2       2        NaN  \n",
       "2    City   NaN     JPN       2:10:28        3       3        NaN  \n",
       "3     NaN    CA     USA       2:12:08        4       4        NaN  \n",
       "4     NaN   NaN     KEN       2:12:35        5       5       2015  \n",
       "..    ...   ...     ...           ...      ...     ...        ...  \n",
       "995   NaN    MA     USA       2:56:06      996     940  2015:2016  \n",
       "996   NaN    NC     USA       2:56:06      997     941       2015  \n",
       "997   NaN    MA     USA       2:56:06      998     942        NaN  \n",
       "998   NaN    CT     USA       2:56:07      999     943        NaN  \n",
       "999   NaN    NM     USA       2:56:08     1000     944        NaN  \n",
       "\n",
       "[1000 rows x 13 columns]"
      ]
     },
     "execution_count": 124,
     "metadata": {},
     "output_type": "execute_result"
    }
   ],
   "source": [
    "boston"
   ]
  },
  {
   "cell_type": "markdown",
   "id": "aa99dd9f",
   "metadata": {},
   "source": [
    "# Case insentitive replacement"
   ]
  },
  {
   "cell_type": "markdown",
   "id": "8847583a",
   "metadata": {},
   "source": [
    "# we wanna replace USA with United states"
   ]
  },
  {
   "cell_type": "code",
   "execution_count": 125,
   "id": "072cd331",
   "metadata": {},
   "outputs": [
    {
     "data": {
      "text/plain": [
       "0                KEN\n",
       "1      United States\n",
       "2                JPN\n",
       "3      United States\n",
       "4                KEN\n",
       "           ...      \n",
       "995    United States\n",
       "996    United States\n",
       "997    United States\n",
       "998    United States\n",
       "999    United States\n",
       "Name: Country, Length: 1000, dtype: object"
      ]
     },
     "execution_count": 125,
     "metadata": {},
     "output_type": "execute_result"
    }
   ],
   "source": [
    "boston.Country.str.replace(\"USA\", \"United States\",case= False)"
   ]
  },
  {
   "cell_type": "markdown",
   "id": "0f34951c",
   "metadata": {},
   "source": [
    "# Regular Expressions"
   ]
  },
  {
   "cell_type": "code",
   "execution_count": 126,
   "id": "cd1b1019",
   "metadata": {},
   "outputs": [],
   "source": [
    "import re"
   ]
  },
  {
   "cell_type": "code",
   "execution_count": 135,
   "id": "bd53574c",
   "metadata": {},
   "outputs": [],
   "source": [
    "email = 'godwin.nwalozie@gmail.com'"
   ]
  },
  {
   "cell_type": "code",
   "execution_count": 136,
   "id": "8a14d23e",
   "metadata": {},
   "outputs": [],
   "source": [
    "pattern = r\"\\w\\S*@.\\w\""
   ]
  },
  {
   "cell_type": "code",
   "execution_count": 137,
   "id": "fb732518",
   "metadata": {},
   "outputs": [
    {
     "data": {
      "text/plain": [
       "['godwin.nwalozie@gm']"
      ]
     },
     "execution_count": 137,
     "metadata": {},
     "output_type": "execute_result"
    }
   ],
   "source": [
    "re.findall(pattern,email)"
   ]
  },
  {
   "cell_type": "code",
   "execution_count": 156,
   "id": "09ec53eb",
   "metadata": {},
   "outputs": [
    {
     "data": {
      "text/plain": [
       "456      Cunha, Will\n",
       "526    Swenson, Will\n",
       "835     Vargas, Will\n",
       "892     Rivera, Will\n",
       "Name: Name, dtype: object"
      ]
     },
     "execution_count": 156,
     "metadata": {},
     "output_type": "execute_result"
    }
   ],
   "source": [
    "boston.Name[boston.Name.str.contains(r',\\s[Ww]ill$', regex= True)]"
   ]
  },
  {
   "cell_type": "code",
   "execution_count": 158,
   "id": "a58fcd58",
   "metadata": {},
   "outputs": [
    {
     "data": {
      "text/plain": [
       "Name             object\n",
       "len_Name          int64\n",
       "Age               int64\n",
       "M/F              object\n",
       "City             object\n",
       "City1            object\n",
       "City2            object\n",
       "State            object\n",
       "Country          object\n",
       "Official Time    object\n",
       "Overall           int64\n",
       "Gender            int64\n",
       "Years Ran        object\n",
       "dtype: object"
      ]
     },
     "execution_count": 158,
     "metadata": {},
     "output_type": "execute_result"
    }
   ],
   "source": [
    "boston.dtypes"
   ]
  },
  {
   "cell_type": "markdown",
   "id": "cbea182a",
   "metadata": {},
   "source": [
    "# split official time into three columns for hour, minutes and seconds"
   ]
  },
  {
   "cell_type": "code",
   "execution_count": 172,
   "id": "bc3096f7",
   "metadata": {},
   "outputs": [],
   "source": [
    "Official_Time_split= boston['Official Time'].str.split(\":\", expand = True).rename({0:'Hour', 1: \"Minute\",2: 'Seconds'},axis = 1)"
   ]
  },
  {
   "cell_type": "code",
   "execution_count": 174,
   "id": "344db7f0",
   "metadata": {},
   "outputs": [
    {
     "data": {
      "text/html": [
       "<div>\n",
       "<style scoped>\n",
       "    .dataframe tbody tr th:only-of-type {\n",
       "        vertical-align: middle;\n",
       "    }\n",
       "\n",
       "    .dataframe tbody tr th {\n",
       "        vertical-align: top;\n",
       "    }\n",
       "\n",
       "    .dataframe thead th {\n",
       "        text-align: right;\n",
       "    }\n",
       "</style>\n",
       "<table border=\"1\" class=\"dataframe\">\n",
       "  <thead>\n",
       "    <tr style=\"text-align: right;\">\n",
       "      <th></th>\n",
       "      <th>Name</th>\n",
       "      <th>len_Name</th>\n",
       "      <th>Age</th>\n",
       "      <th>M/F</th>\n",
       "      <th>City</th>\n",
       "      <th>City1</th>\n",
       "      <th>City2</th>\n",
       "      <th>State</th>\n",
       "      <th>Country</th>\n",
       "      <th>Official Time</th>\n",
       "      <th>Overall</th>\n",
       "      <th>Gender</th>\n",
       "      <th>Years Ran</th>\n",
       "      <th>Hour</th>\n",
       "      <th>Minute</th>\n",
       "      <th>Seconds</th>\n",
       "    </tr>\n",
       "  </thead>\n",
       "  <tbody>\n",
       "    <tr>\n",
       "      <th>0</th>\n",
       "      <td>Kirui, Geoffrey</td>\n",
       "      <td>17</td>\n",
       "      <td>24</td>\n",
       "      <td>M</td>\n",
       "      <td>Keringet</td>\n",
       "      <td>Keringet</td>\n",
       "      <td>NaN</td>\n",
       "      <td>NaN</td>\n",
       "      <td>KEN</td>\n",
       "      <td>2:09:37</td>\n",
       "      <td>1</td>\n",
       "      <td>1</td>\n",
       "      <td>NaN</td>\n",
       "      <td>2</td>\n",
       "      <td>09</td>\n",
       "      <td>37</td>\n",
       "    </tr>\n",
       "    <tr>\n",
       "      <th>1</th>\n",
       "      <td>Rupp, Galen</td>\n",
       "      <td>14</td>\n",
       "      <td>30</td>\n",
       "      <td>M</td>\n",
       "      <td>Portland</td>\n",
       "      <td>Portland</td>\n",
       "      <td>NaN</td>\n",
       "      <td>OR</td>\n",
       "      <td>USA</td>\n",
       "      <td>2:09:58</td>\n",
       "      <td>2</td>\n",
       "      <td>2</td>\n",
       "      <td>NaN</td>\n",
       "      <td>2</td>\n",
       "      <td>09</td>\n",
       "      <td>58</td>\n",
       "    </tr>\n",
       "    <tr>\n",
       "      <th>2</th>\n",
       "      <td>Osako, Suguru</td>\n",
       "      <td>15</td>\n",
       "      <td>25</td>\n",
       "      <td>M</td>\n",
       "      <td>Machida-City</td>\n",
       "      <td>Machida</td>\n",
       "      <td>City</td>\n",
       "      <td>NaN</td>\n",
       "      <td>JPN</td>\n",
       "      <td>2:10:28</td>\n",
       "      <td>3</td>\n",
       "      <td>3</td>\n",
       "      <td>NaN</td>\n",
       "      <td>2</td>\n",
       "      <td>10</td>\n",
       "      <td>28</td>\n",
       "    </tr>\n",
       "    <tr>\n",
       "      <th>3</th>\n",
       "      <td>Biwott, Shadrack</td>\n",
       "      <td>16</td>\n",
       "      <td>32</td>\n",
       "      <td>M</td>\n",
       "      <td>Mammoth Lakes</td>\n",
       "      <td>Mammoth Lakes</td>\n",
       "      <td>NaN</td>\n",
       "      <td>CA</td>\n",
       "      <td>USA</td>\n",
       "      <td>2:12:08</td>\n",
       "      <td>4</td>\n",
       "      <td>4</td>\n",
       "      <td>NaN</td>\n",
       "      <td>2</td>\n",
       "      <td>12</td>\n",
       "      <td>08</td>\n",
       "    </tr>\n",
       "    <tr>\n",
       "      <th>4</th>\n",
       "      <td>Chebet, Wilson</td>\n",
       "      <td>14</td>\n",
       "      <td>31</td>\n",
       "      <td>M</td>\n",
       "      <td>Marakwet</td>\n",
       "      <td>Marakwet</td>\n",
       "      <td>NaN</td>\n",
       "      <td>NaN</td>\n",
       "      <td>KEN</td>\n",
       "      <td>2:12:35</td>\n",
       "      <td>5</td>\n",
       "      <td>5</td>\n",
       "      <td>2015</td>\n",
       "      <td>2</td>\n",
       "      <td>12</td>\n",
       "      <td>35</td>\n",
       "    </tr>\n",
       "    <tr>\n",
       "      <th>...</th>\n",
       "      <td>...</td>\n",
       "      <td>...</td>\n",
       "      <td>...</td>\n",
       "      <td>...</td>\n",
       "      <td>...</td>\n",
       "      <td>...</td>\n",
       "      <td>...</td>\n",
       "      <td>...</td>\n",
       "      <td>...</td>\n",
       "      <td>...</td>\n",
       "      <td>...</td>\n",
       "      <td>...</td>\n",
       "      <td>...</td>\n",
       "      <td>...</td>\n",
       "      <td>...</td>\n",
       "      <td>...</td>\n",
       "    </tr>\n",
       "    <tr>\n",
       "      <th>995</th>\n",
       "      <td>Larosa, Mark</td>\n",
       "      <td>12</td>\n",
       "      <td>38</td>\n",
       "      <td>M</td>\n",
       "      <td>North Andover</td>\n",
       "      <td>North Andover</td>\n",
       "      <td>NaN</td>\n",
       "      <td>MA</td>\n",
       "      <td>USA</td>\n",
       "      <td>2:56:06</td>\n",
       "      <td>996</td>\n",
       "      <td>940</td>\n",
       "      <td>2015:2016</td>\n",
       "      <td>2</td>\n",
       "      <td>56</td>\n",
       "      <td>06</td>\n",
       "    </tr>\n",
       "    <tr>\n",
       "      <th>996</th>\n",
       "      <td>Williamson, Jerry A</td>\n",
       "      <td>19</td>\n",
       "      <td>43</td>\n",
       "      <td>M</td>\n",
       "      <td>Raleigh</td>\n",
       "      <td>Raleigh</td>\n",
       "      <td>NaN</td>\n",
       "      <td>NC</td>\n",
       "      <td>USA</td>\n",
       "      <td>2:56:06</td>\n",
       "      <td>997</td>\n",
       "      <td>941</td>\n",
       "      <td>2015</td>\n",
       "      <td>2</td>\n",
       "      <td>56</td>\n",
       "      <td>06</td>\n",
       "    </tr>\n",
       "    <tr>\n",
       "      <th>997</th>\n",
       "      <td>Mccue, Daniel T</td>\n",
       "      <td>15</td>\n",
       "      <td>40</td>\n",
       "      <td>M</td>\n",
       "      <td>Arlington</td>\n",
       "      <td>Arlington</td>\n",
       "      <td>NaN</td>\n",
       "      <td>MA</td>\n",
       "      <td>USA</td>\n",
       "      <td>2:56:06</td>\n",
       "      <td>998</td>\n",
       "      <td>942</td>\n",
       "      <td>NaN</td>\n",
       "      <td>2</td>\n",
       "      <td>56</td>\n",
       "      <td>06</td>\n",
       "    </tr>\n",
       "    <tr>\n",
       "      <th>998</th>\n",
       "      <td>Larosa, John</td>\n",
       "      <td>12</td>\n",
       "      <td>35</td>\n",
       "      <td>M</td>\n",
       "      <td>Danbury</td>\n",
       "      <td>Danbury</td>\n",
       "      <td>NaN</td>\n",
       "      <td>CT</td>\n",
       "      <td>USA</td>\n",
       "      <td>2:56:07</td>\n",
       "      <td>999</td>\n",
       "      <td>943</td>\n",
       "      <td>NaN</td>\n",
       "      <td>2</td>\n",
       "      <td>56</td>\n",
       "      <td>07</td>\n",
       "    </tr>\n",
       "    <tr>\n",
       "      <th>999</th>\n",
       "      <td>Sanchez, Sam R</td>\n",
       "      <td>14</td>\n",
       "      <td>35</td>\n",
       "      <td>M</td>\n",
       "      <td>Santa Fe</td>\n",
       "      <td>Santa Fe</td>\n",
       "      <td>NaN</td>\n",
       "      <td>NM</td>\n",
       "      <td>USA</td>\n",
       "      <td>2:56:08</td>\n",
       "      <td>1000</td>\n",
       "      <td>944</td>\n",
       "      <td>NaN</td>\n",
       "      <td>2</td>\n",
       "      <td>56</td>\n",
       "      <td>08</td>\n",
       "    </tr>\n",
       "  </tbody>\n",
       "</table>\n",
       "<p>1000 rows × 16 columns</p>\n",
       "</div>"
      ],
      "text/plain": [
       "                    Name  len_Name  Age M/F           City          City1  \\\n",
       "0        Kirui, Geoffrey        17   24   M       Keringet       Keringet   \n",
       "1            Rupp, Galen        14   30   M       Portland       Portland   \n",
       "2          Osako, Suguru        15   25   M   Machida-City        Machida   \n",
       "3       Biwott, Shadrack        16   32   M  Mammoth Lakes  Mammoth Lakes   \n",
       "4         Chebet, Wilson        14   31   M       Marakwet       Marakwet   \n",
       "..                   ...       ...  ...  ..            ...            ...   \n",
       "995         Larosa, Mark        12   38   M  North Andover  North Andover   \n",
       "996  Williamson, Jerry A        19   43   M        Raleigh        Raleigh   \n",
       "997      Mccue, Daniel T        15   40   M      Arlington      Arlington   \n",
       "998         Larosa, John        12   35   M        Danbury        Danbury   \n",
       "999       Sanchez, Sam R        14   35   M       Santa Fe       Santa Fe   \n",
       "\n",
       "    City2 State Country Official Time  Overall  Gender  Years Ran Hour Minute  \\\n",
       "0     NaN   NaN     KEN       2:09:37        1       1        NaN    2     09   \n",
       "1     NaN    OR     USA       2:09:58        2       2        NaN    2     09   \n",
       "2    City   NaN     JPN       2:10:28        3       3        NaN    2     10   \n",
       "3     NaN    CA     USA       2:12:08        4       4        NaN    2     12   \n",
       "4     NaN   NaN     KEN       2:12:35        5       5       2015    2     12   \n",
       "..    ...   ...     ...           ...      ...     ...        ...  ...    ...   \n",
       "995   NaN    MA     USA       2:56:06      996     940  2015:2016    2     56   \n",
       "996   NaN    NC     USA       2:56:06      997     941       2015    2     56   \n",
       "997   NaN    MA     USA       2:56:06      998     942        NaN    2     56   \n",
       "998   NaN    CT     USA       2:56:07      999     943        NaN    2     56   \n",
       "999   NaN    NM     USA       2:56:08     1000     944        NaN    2     56   \n",
       "\n",
       "    Seconds  \n",
       "0        37  \n",
       "1        58  \n",
       "2        28  \n",
       "3        08  \n",
       "4        35  \n",
       "..      ...  \n",
       "995      06  \n",
       "996      06  \n",
       "997      06  \n",
       "998      07  \n",
       "999      08  \n",
       "\n",
       "[1000 rows x 16 columns]"
      ]
     },
     "execution_count": 174,
     "metadata": {},
     "output_type": "execute_result"
    }
   ],
   "source": [
    "pd.concat([boston,Official_Time_split],axis =1)"
   ]
  },
  {
   "cell_type": "code",
   "execution_count": null,
   "id": "d85dc4da",
   "metadata": {},
   "outputs": [],
   "source": []
  }
 ],
 "metadata": {
  "kernelspec": {
   "display_name": "Python 3.8.8 ('base')",
   "language": "python",
   "name": "python3"
  },
  "language_info": {
   "codemirror_mode": {
    "name": "ipython",
    "version": 3
   },
   "file_extension": ".py",
   "mimetype": "text/x-python",
   "name": "python",
   "nbconvert_exporter": "python",
   "pygments_lexer": "ipython3",
   "version": "3.8.8"
  },
  "vscode": {
   "interpreter": {
    "hash": "04432e9cb04e2fb3149b8a5784993b7cc60c7311097686f676b8575bd3fcad92"
   }
  }
 },
 "nbformat": 4,
 "nbformat_minor": 5
}
