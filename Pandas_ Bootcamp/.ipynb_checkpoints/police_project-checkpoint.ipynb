{
 "cells": [
  {
   "cell_type": "code",
   "execution_count": 2,
   "metadata": {},
   "outputs": [],
   "source": [
    "import pandas as pd\n",
    "import numpy as np\n",
    "from datetime import datetime,time, date"
   ]
  },
  {
   "cell_type": "code",
   "execution_count": null,
   "metadata": {},
   "outputs": [],
   "source": [
    "lrock = pd.read_csv('https://onedrive.live.com/edit.aspx?resid=F99C2B193D86C687!17717')\n",
    "lrock"
   ]
  },
  {
   "cell_type": "code",
   "execution_count": 5,
   "metadata": {},
   "outputs": [
    {
     "data": {
      "text/plain": [
       "(13641, 13)"
      ]
     },
     "execution_count": 5,
     "metadata": {},
     "output_type": "execute_result"
    }
   ],
   "source": [
    "lrock.shape"
   ]
  },
  {
   "cell_type": "code",
   "execution_count": 6,
   "metadata": {},
   "outputs": [
    {
     "name": "stdout",
     "output_type": "stream",
     "text": [
      "<class 'pandas.core.frame.DataFrame'>\n",
      "RangeIndex: 13641 entries, 0 to 13640\n",
      "Data columns (total 13 columns):\n",
      " #   Column              Non-Null Count  Dtype  \n",
      "---  ------              --------------  -----  \n",
      " 0   raw_row_number      13641 non-null  object \n",
      " 1   date                13641 non-null  object \n",
      " 2   time                13641 non-null  object \n",
      " 3   lat                 331 non-null    float64\n",
      " 4   lng                 331 non-null    float64\n",
      " 5   subject_age         13615 non-null  float64\n",
      " 6   subject_race        13634 non-null  object \n",
      " 7   subject_sex         13609 non-null  object \n",
      " 8   type                13641 non-null  object \n",
      " 9   citation_issued     13641 non-null  bool   \n",
      " 10  outcome             13641 non-null  object \n",
      " 11  vehicle_type        13641 non-null  object \n",
      " 12  raw_defendant_race  13641 non-null  object \n",
      "dtypes: bool(1), float64(3), object(9)\n",
      "memory usage: 1.3+ MB\n"
     ]
    }
   ],
   "source": [
    "lrock.info()"
   ]
  },
  {
   "cell_type": "code",
   "execution_count": 7,
   "metadata": {},
   "outputs": [],
   "source": [
    "# During a search, how often is the driver frisked?"
   ]
  },
  {
   "cell_type": "code",
   "execution_count": 8,
   "metadata": {},
   "outputs": [
    {
     "data": {
      "text/plain": [
       "AFRICAN AMERICAN    7044\n",
       "CAUCASIAN           6028\n",
       "UNKNOWN              376\n",
       "ASIAN                177\n",
       "AMERICAN INDIAN        9\n",
       "Null value             7\n",
       "Name: raw_defendant_race, dtype: int64"
      ]
     },
     "execution_count": 8,
     "metadata": {},
     "output_type": "execute_result"
    }
   ],
   "source": [
    "lrock.raw_defendant_race.value_counts()"
   ]
  },
  {
   "cell_type": "code",
   "execution_count": 46,
   "metadata": {},
   "outputs": [
    {
     "data": {
      "text/plain": [
       "1         True\n",
       "2        False\n",
       "3        False\n",
       "4         True\n",
       "5        False\n",
       "         ...  \n",
       "13636    False\n",
       "13637    False\n",
       "13638    False\n",
       "13639    False\n",
       "13640     True\n",
       "Name: subject_sex, Length: 7044, dtype: bool"
      ]
     },
     "execution_count": 46,
     "metadata": {},
     "output_type": "execute_result"
    }
   ],
   "source": [
    "# how many false are black Americans\n",
    "lrock[lrock.raw_defendant_race == 'AFRICAN AMERICAN'].subject_sex == 'female'"
   ]
  },
  {
   "cell_type": "code",
   "execution_count": 76,
   "metadata": {},
   "outputs": [
    {
     "data": {
      "text/plain": [
       "13609"
      ]
     },
     "execution_count": 76,
     "metadata": {},
     "output_type": "execute_result"
    }
   ],
   "source": [
    "# total number of offenders\n",
    "lrock['subject_sex'].value_counts().sum()"
   ]
  },
  {
   "cell_type": "code",
   "execution_count": 74,
   "metadata": {},
   "outputs": [
    {
     "data": {
      "text/html": [
       "<div>\n",
       "<style scoped>\n",
       "    .dataframe tbody tr th:only-of-type {\n",
       "        vertical-align: middle;\n",
       "    }\n",
       "\n",
       "    .dataframe tbody tr th {\n",
       "        vertical-align: top;\n",
       "    }\n",
       "\n",
       "    .dataframe thead th {\n",
       "        text-align: right;\n",
       "    }\n",
       "</style>\n",
       "<table border=\"1\" class=\"dataframe\">\n",
       "  <thead>\n",
       "    <tr style=\"text-align: right;\">\n",
       "      <th></th>\n",
       "      <th>subject_sex</th>\n",
       "    </tr>\n",
       "  </thead>\n",
       "  <tbody>\n",
       "    <tr>\n",
       "      <th>male</th>\n",
       "      <td>7380</td>\n",
       "    </tr>\n",
       "    <tr>\n",
       "      <th>female</th>\n",
       "      <td>6229</td>\n",
       "    </tr>\n",
       "  </tbody>\n",
       "</table>\n",
       "</div>"
      ],
      "text/plain": [
       "        subject_sex\n",
       "male           7380\n",
       "female         6229"
      ]
     },
     "execution_count": 74,
     "metadata": {},
     "output_type": "execute_result"
    }
   ],
   "source": [
    "#number of male to female\n",
    "lrock['subject_sex'].value_counts().to_frame()"
   ]
  },
  {
   "cell_type": "code",
   "execution_count": 73,
   "metadata": {},
   "outputs": [
    {
     "data": {
      "text/html": [
       "<div>\n",
       "<style scoped>\n",
       "    .dataframe tbody tr th:only-of-type {\n",
       "        vertical-align: middle;\n",
       "    }\n",
       "\n",
       "    .dataframe tbody tr th {\n",
       "        vertical-align: top;\n",
       "    }\n",
       "\n",
       "    .dataframe thead th {\n",
       "        text-align: right;\n",
       "    }\n",
       "</style>\n",
       "<table border=\"1\" class=\"dataframe\">\n",
       "  <thead>\n",
       "    <tr style=\"text-align: right;\">\n",
       "      <th></th>\n",
       "      <th>subject_sex</th>\n",
       "    </tr>\n",
       "  </thead>\n",
       "  <tbody>\n",
       "    <tr>\n",
       "      <th>male</th>\n",
       "      <td>0.54</td>\n",
       "    </tr>\n",
       "    <tr>\n",
       "      <th>female</th>\n",
       "      <td>0.46</td>\n",
       "    </tr>\n",
       "  </tbody>\n",
       "</table>\n",
       "</div>"
      ],
      "text/plain": [
       "        subject_sex\n",
       "male           0.54\n",
       "female         0.46"
      ]
     },
     "execution_count": 73,
     "metadata": {},
     "output_type": "execute_result"
    }
   ],
   "source": [
    "# % of male to female \n",
    "round( lrock['subject_sex'].value_counts(1).to_frame(),2)"
   ]
  },
  {
   "cell_type": "code",
   "execution_count": 77,
   "metadata": {},
   "outputs": [
    {
     "data": {
      "text/html": [
       "<div>\n",
       "<style scoped>\n",
       "    .dataframe tbody tr th:only-of-type {\n",
       "        vertical-align: middle;\n",
       "    }\n",
       "\n",
       "    .dataframe tbody tr th {\n",
       "        vertical-align: top;\n",
       "    }\n",
       "\n",
       "    .dataframe thead th {\n",
       "        text-align: right;\n",
       "    }\n",
       "</style>\n",
       "<table border=\"1\" class=\"dataframe\">\n",
       "  <thead>\n",
       "    <tr style=\"text-align: right;\">\n",
       "      <th></th>\n",
       "      <th>raw_row_number</th>\n",
       "      <th>date</th>\n",
       "      <th>time</th>\n",
       "      <th>lat</th>\n",
       "      <th>lng</th>\n",
       "      <th>subject_age</th>\n",
       "      <th>subject_race</th>\n",
       "      <th>subject_sex</th>\n",
       "      <th>type</th>\n",
       "      <th>citation_issued</th>\n",
       "      <th>outcome</th>\n",
       "      <th>vehicle_type</th>\n",
       "      <th>raw_defendant_race</th>\n",
       "    </tr>\n",
       "  </thead>\n",
       "  <tbody>\n",
       "    <tr>\n",
       "      <th>0</th>\n",
       "      <td>8620|12751</td>\n",
       "      <td>2017-01-01</td>\n",
       "      <td>01:50:15</td>\n",
       "      <td>NaN</td>\n",
       "      <td>NaN</td>\n",
       "      <td>55.0</td>\n",
       "      <td>white</td>\n",
       "      <td>male</td>\n",
       "      <td>vehicular</td>\n",
       "      <td>True</td>\n",
       "      <td>citation</td>\n",
       "      <td>Other</td>\n",
       "      <td>CAUCASIAN</td>\n",
       "    </tr>\n",
       "    <tr>\n",
       "      <th>1</th>\n",
       "      <td>5296|10153|13440|14777</td>\n",
       "      <td>2017-01-01</td>\n",
       "      <td>05:24:24</td>\n",
       "      <td>NaN</td>\n",
       "      <td>NaN</td>\n",
       "      <td>52.0</td>\n",
       "      <td>black</td>\n",
       "      <td>female</td>\n",
       "      <td>vehicular</td>\n",
       "      <td>True</td>\n",
       "      <td>citation</td>\n",
       "      <td>Passenger Car</td>\n",
       "      <td>AFRICAN AMERICAN</td>\n",
       "    </tr>\n",
       "    <tr>\n",
       "      <th>2</th>\n",
       "      <td>16622</td>\n",
       "      <td>2017-01-01</td>\n",
       "      <td>05:56:20</td>\n",
       "      <td>NaN</td>\n",
       "      <td>NaN</td>\n",
       "      <td>35.0</td>\n",
       "      <td>black</td>\n",
       "      <td>male</td>\n",
       "      <td>vehicular</td>\n",
       "      <td>True</td>\n",
       "      <td>citation</td>\n",
       "      <td>Passenger Car</td>\n",
       "      <td>AFRICAN AMERICAN</td>\n",
       "    </tr>\n",
       "    <tr>\n",
       "      <th>3</th>\n",
       "      <td>4386</td>\n",
       "      <td>2017-01-01</td>\n",
       "      <td>06:35:46</td>\n",
       "      <td>NaN</td>\n",
       "      <td>NaN</td>\n",
       "      <td>20.0</td>\n",
       "      <td>black</td>\n",
       "      <td>male</td>\n",
       "      <td>vehicular</td>\n",
       "      <td>True</td>\n",
       "      <td>citation</td>\n",
       "      <td>Passenger Car</td>\n",
       "      <td>AFRICAN AMERICAN</td>\n",
       "    </tr>\n",
       "    <tr>\n",
       "      <th>4</th>\n",
       "      <td>6497|17819</td>\n",
       "      <td>2017-01-01</td>\n",
       "      <td>07:48:45</td>\n",
       "      <td>NaN</td>\n",
       "      <td>NaN</td>\n",
       "      <td>22.0</td>\n",
       "      <td>black</td>\n",
       "      <td>female</td>\n",
       "      <td>vehicular</td>\n",
       "      <td>True</td>\n",
       "      <td>citation</td>\n",
       "      <td>Sports Utility Vehicle</td>\n",
       "      <td>AFRICAN AMERICAN</td>\n",
       "    </tr>\n",
       "  </tbody>\n",
       "</table>\n",
       "</div>"
      ],
      "text/plain": [
       "           raw_row_number        date      time  lat  lng  subject_age  \\\n",
       "0              8620|12751  2017-01-01  01:50:15  NaN  NaN         55.0   \n",
       "1  5296|10153|13440|14777  2017-01-01  05:24:24  NaN  NaN         52.0   \n",
       "2                   16622  2017-01-01  05:56:20  NaN  NaN         35.0   \n",
       "3                    4386  2017-01-01  06:35:46  NaN  NaN         20.0   \n",
       "4              6497|17819  2017-01-01  07:48:45  NaN  NaN         22.0   \n",
       "\n",
       "  subject_race subject_sex       type  citation_issued   outcome  \\\n",
       "0        white        male  vehicular             True  citation   \n",
       "1        black      female  vehicular             True  citation   \n",
       "2        black        male  vehicular             True  citation   \n",
       "3        black        male  vehicular             True  citation   \n",
       "4        black      female  vehicular             True  citation   \n",
       "\n",
       "             vehicle_type raw_defendant_race  \n",
       "0                   Other          CAUCASIAN  \n",
       "1           Passenger Car   AFRICAN AMERICAN  \n",
       "2           Passenger Car   AFRICAN AMERICAN  \n",
       "3           Passenger Car   AFRICAN AMERICAN  \n",
       "4  Sports Utility Vehicle   AFRICAN AMERICAN  "
      ]
     },
     "execution_count": 77,
     "metadata": {},
     "output_type": "execute_result"
    }
   ],
   "source": [
    "# Does gender affect who gets searched during a stop\n",
    "lrock.head()"
   ]
  },
  {
   "cell_type": "code",
   "execution_count": null,
   "metadata": {},
   "outputs": [],
   "source": []
  }
 ],
 "metadata": {
  "kernelspec": {
   "display_name": "Python 3",
   "language": "python",
   "name": "python3"
  },
  "language_info": {
   "codemirror_mode": {
    "name": "ipython",
    "version": 3
   },
   "file_extension": ".py",
   "mimetype": "text/x-python",
   "name": "python",
   "nbconvert_exporter": "python",
   "pygments_lexer": "ipython3",
   "version": "3.7.6"
  }
 },
 "nbformat": 4,
 "nbformat_minor": 4
}
