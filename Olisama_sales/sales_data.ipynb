{
 "cells": [
  {
   "cell_type": "code",
   "execution_count": 2,
   "metadata": {},
   "outputs": [],
   "source": [
    "import pandas as pd\n",
    "import numpy as np\n",
    "import matplotlib.pyplot as plt\n",
    "import datetime\n",
    "import plotly.express as px\n",
    "import seaborn as sns\n"
   ]
  },
  {
   "cell_type": "code",
   "execution_count": 3,
   "metadata": {},
   "outputs": [],
   "source": [
    "data = pd.read_excel(r'C:\\Users\\godwi\\Data_Science_ML\\Exploratory_Analysis_Pandas\\Olisama_sales\\Olisamah.xlsx')"
   ]
  },
  {
   "cell_type": "code",
   "execution_count": 4,
   "metadata": {},
   "outputs": [
    {
     "data": {
      "text/html": [
       "<div>\n",
       "<style scoped>\n",
       "    .dataframe tbody tr th:only-of-type {\n",
       "        vertical-align: middle;\n",
       "    }\n",
       "\n",
       "    .dataframe tbody tr th {\n",
       "        vertical-align: top;\n",
       "    }\n",
       "\n",
       "    .dataframe thead th {\n",
       "        text-align: right;\n",
       "    }\n",
       "</style>\n",
       "<table border=\"1\" class=\"dataframe\">\n",
       "  <thead>\n",
       "    <tr style=\"text-align: right;\">\n",
       "      <th></th>\n",
       "      <th>Salesman</th>\n",
       "      <th>Date</th>\n",
       "      <th>Particulars</th>\n",
       "      <th>product name</th>\n",
       "      <th>CATEGORY</th>\n",
       "      <th>CAT LV 1</th>\n",
       "      <th>Qty.</th>\n",
       "      <th>Price</th>\n",
       "      <th>Amount</th>\n",
       "    </tr>\n",
       "  </thead>\n",
       "  <tbody>\n",
       "    <tr>\n",
       "      <th>0</th>\n",
       "      <td>BLESSING WISDOM</td>\n",
       "      <td>2023-01-02</td>\n",
       "      <td>Akinlotan Olayinka</td>\n",
       "      <td>HP 15 Dw1212nia (258K3EA)</td>\n",
       "      <td>COMPUTING</td>\n",
       "      <td>HP NEW - CONSUMER</td>\n",
       "      <td>1</td>\n",
       "      <td>155000.0</td>\n",
       "      <td>155000.0</td>\n",
       "    </tr>\n",
       "    <tr>\n",
       "      <th>1</th>\n",
       "      <td>AROMIRE</td>\n",
       "      <td>2023-01-02</td>\n",
       "      <td>David Onwuakagba</td>\n",
       "      <td>WD 500GB ELEMENTS HARD DRIVE 3.0</td>\n",
       "      <td>COMPUTING</td>\n",
       "      <td>COMPUTING ACCESSORIES</td>\n",
       "      <td>1</td>\n",
       "      <td>19500.0</td>\n",
       "      <td>19500.0</td>\n",
       "    </tr>\n",
       "    <tr>\n",
       "      <th>2</th>\n",
       "      <td>ADEOLA ALABI</td>\n",
       "      <td>2023-01-03</td>\n",
       "      <td>TECH ON WEB LTD</td>\n",
       "      <td>HP 15 Dw1212nia (258K3EA)</td>\n",
       "      <td>COMPUTING</td>\n",
       "      <td>HP NEW - CONSUMER</td>\n",
       "      <td>1</td>\n",
       "      <td>148000.0</td>\n",
       "      <td>148000.0</td>\n",
       "    </tr>\n",
       "    <tr>\n",
       "      <th>3</th>\n",
       "      <td>GIDEON ONONUGBOR</td>\n",
       "      <td>2023-01-03</td>\n",
       "      <td>Charleezy</td>\n",
       "      <td>HP PAVILION 14-dv0147nia</td>\n",
       "      <td>COMPUTING</td>\n",
       "      <td>HP NEW - CONSUMER</td>\n",
       "      <td>4</td>\n",
       "      <td>455000.0</td>\n",
       "      <td>1820000.0</td>\n",
       "    </tr>\n",
       "    <tr>\n",
       "      <th>4</th>\n",
       "      <td>PAMELA MBANUGO</td>\n",
       "      <td>2023-01-03</td>\n",
       "      <td>MRS YEMI ADEKUNLE</td>\n",
       "      <td>HP LASERJET M236DW PRINTER</td>\n",
       "      <td>COMPUTING</td>\n",
       "      <td>COMPUTING ACCESSORIES</td>\n",
       "      <td>1</td>\n",
       "      <td>118500.0</td>\n",
       "      <td>118500.0</td>\n",
       "    </tr>\n",
       "  </tbody>\n",
       "</table>\n",
       "</div>"
      ],
      "text/plain": [
       "           Salesman       Date         Particulars  \\\n",
       "0   BLESSING WISDOM 2023-01-02  Akinlotan Olayinka   \n",
       "1           AROMIRE 2023-01-02    David Onwuakagba   \n",
       "2      ADEOLA ALABI 2023-01-03     TECH ON WEB LTD   \n",
       "3  GIDEON ONONUGBOR 2023-01-03           Charleezy   \n",
       "4    PAMELA MBANUGO 2023-01-03   MRS YEMI ADEKUNLE   \n",
       "\n",
       "                       product name   CATEGORY               CAT LV 1  Qty.  \\\n",
       "0         HP 15 Dw1212nia (258K3EA)  COMPUTING      HP NEW - CONSUMER     1   \n",
       "1  WD 500GB ELEMENTS HARD DRIVE 3.0  COMPUTING  COMPUTING ACCESSORIES     1   \n",
       "2         HP 15 Dw1212nia (258K3EA)  COMPUTING      HP NEW - CONSUMER     1   \n",
       "3          HP PAVILION 14-dv0147nia  COMPUTING      HP NEW - CONSUMER     4   \n",
       "4        HP LASERJET M236DW PRINTER  COMPUTING  COMPUTING ACCESSORIES     1   \n",
       "\n",
       "      Price     Amount  \n",
       "0  155000.0   155000.0  \n",
       "1   19500.0    19500.0  \n",
       "2  148000.0   148000.0  \n",
       "3  455000.0  1820000.0  \n",
       "4  118500.0   118500.0  "
      ]
     },
     "execution_count": 4,
     "metadata": {},
     "output_type": "execute_result"
    }
   ],
   "source": [
    "data.head()"
   ]
  },
  {
   "cell_type": "code",
   "execution_count": 5,
   "metadata": {},
   "outputs": [
    {
     "data": {
      "text/plain": [
       "(8081, 9)"
      ]
     },
     "execution_count": 5,
     "metadata": {},
     "output_type": "execute_result"
    }
   ],
   "source": [
    "data.shape"
   ]
  },
  {
   "cell_type": "code",
   "execution_count": 15,
   "metadata": {},
   "outputs": [
    {
     "data": {
      "text/plain": [
       "Salesman                object\n",
       "Date            datetime64[ns]\n",
       "Particulars             object\n",
       "product name            object\n",
       "CATEGORY                object\n",
       "CAT LV 1                object\n",
       "Qty.                     int64\n",
       "Price                  float64\n",
       "Amount                 float64\n",
       "dtype: object"
      ]
     },
     "execution_count": 15,
     "metadata": {},
     "output_type": "execute_result"
    }
   ],
   "source": [
    "data.dtypes"
   ]
  },
  {
   "cell_type": "code",
   "execution_count": 6,
   "metadata": {},
   "outputs": [
    {
     "data": {
      "text/plain": [
       "200"
      ]
     },
     "execution_count": 6,
     "metadata": {},
     "output_type": "execute_result"
    }
   ],
   "source": [
    "# Check duplicate values\n",
    "data.duplicated().sum()"
   ]
  },
  {
   "cell_type": "code",
   "execution_count": 7,
   "metadata": {},
   "outputs": [
    {
     "data": {
      "text/html": [
       "<div>\n",
       "<style scoped>\n",
       "    .dataframe tbody tr th:only-of-type {\n",
       "        vertical-align: middle;\n",
       "    }\n",
       "\n",
       "    .dataframe tbody tr th {\n",
       "        vertical-align: top;\n",
       "    }\n",
       "\n",
       "    .dataframe thead th {\n",
       "        text-align: right;\n",
       "    }\n",
       "</style>\n",
       "<table border=\"1\" class=\"dataframe\">\n",
       "  <thead>\n",
       "    <tr style=\"text-align: right;\">\n",
       "      <th></th>\n",
       "      <th>Salesman</th>\n",
       "      <th>Date</th>\n",
       "      <th>Particulars</th>\n",
       "      <th>product name</th>\n",
       "      <th>CATEGORY</th>\n",
       "      <th>CAT LV 1</th>\n",
       "      <th>Qty.</th>\n",
       "      <th>Price</th>\n",
       "      <th>Amount</th>\n",
       "    </tr>\n",
       "  </thead>\n",
       "  <tbody>\n",
       "    <tr>\n",
       "      <th>162</th>\n",
       "      <td>OLATUNDE AKINGBOYE</td>\n",
       "      <td>2023-01-07</td>\n",
       "      <td>MERGE TECH  IT</td>\n",
       "      <td>HP LASERJET MFP M236d PRINTER</td>\n",
       "      <td>COMPUTING</td>\n",
       "      <td>COMPUTING ACCESSORIES</td>\n",
       "      <td>1</td>\n",
       "      <td>115000.0</td>\n",
       "      <td>115000.0</td>\n",
       "    </tr>\n",
       "    <tr>\n",
       "      <th>186</th>\n",
       "      <td>BLESSING WISDOM</td>\n",
       "      <td>2023-01-09</td>\n",
       "      <td>Source Nolas Integrated Systems</td>\n",
       "      <td>HP 15 Dw1212nia (258K3EA)</td>\n",
       "      <td>COMPUTING</td>\n",
       "      <td>HP NEW - CONSUMER</td>\n",
       "      <td>2</td>\n",
       "      <td>145000.0</td>\n",
       "      <td>290000.0</td>\n",
       "    </tr>\n",
       "    <tr>\n",
       "      <th>193</th>\n",
       "      <td>OLAITAN DOLAPO</td>\n",
       "      <td>2023-01-09</td>\n",
       "      <td>MARQUEEN COMPUTERS</td>\n",
       "      <td>HP 15 Dw1212nia (258K3EA)</td>\n",
       "      <td>COMPUTING</td>\n",
       "      <td>HP NEW - CONSUMER</td>\n",
       "      <td>2</td>\n",
       "      <td>145000.0</td>\n",
       "      <td>290000.0</td>\n",
       "    </tr>\n",
       "    <tr>\n",
       "      <th>194</th>\n",
       "      <td>OLAITAN DOLAPO</td>\n",
       "      <td>2023-01-09</td>\n",
       "      <td>MARQUEEN COMPUTERS</td>\n",
       "      <td>HP 15 Dw1212nia (258K3EA)</td>\n",
       "      <td>COMPUTING</td>\n",
       "      <td>HP NEW - CONSUMER</td>\n",
       "      <td>2</td>\n",
       "      <td>145000.0</td>\n",
       "      <td>290000.0</td>\n",
       "    </tr>\n",
       "    <tr>\n",
       "      <th>240</th>\n",
       "      <td>ECOMMERCE</td>\n",
       "      <td>2023-01-11</td>\n",
       "      <td>TORCHTECH SOLUTION LTD</td>\n",
       "      <td>HP 17-BY0005CY REF</td>\n",
       "      <td>COMPUTING</td>\n",
       "      <td>Recertified</td>\n",
       "      <td>2</td>\n",
       "      <td>159100.0</td>\n",
       "      <td>318200.0</td>\n",
       "    </tr>\n",
       "    <tr>\n",
       "      <th>...</th>\n",
       "      <td>...</td>\n",
       "      <td>...</td>\n",
       "      <td>...</td>\n",
       "      <td>...</td>\n",
       "      <td>...</td>\n",
       "      <td>...</td>\n",
       "      <td>...</td>\n",
       "      <td>...</td>\n",
       "      <td>...</td>\n",
       "    </tr>\n",
       "    <tr>\n",
       "      <th>7857</th>\n",
       "      <td>Olarenwaju Racheal</td>\n",
       "      <td>2023-11-24</td>\n",
       "      <td>IDEA KONSULT LTD</td>\n",
       "      <td>CANYON COOLING STAND FOR NOTEBOOK NS02</td>\n",
       "      <td>COMPUTING</td>\n",
       "      <td>COMPUTING ACCESSORIES</td>\n",
       "      <td>1</td>\n",
       "      <td>6100.0</td>\n",
       "      <td>6100.0</td>\n",
       "    </tr>\n",
       "    <tr>\n",
       "      <th>7865</th>\n",
       "      <td>COMPUTING TEAM</td>\n",
       "      <td>2023-11-25</td>\n",
       "      <td>ALOH HASSAN</td>\n",
       "      <td>HP 17-BY3053CL REF (1G136UAR)</td>\n",
       "      <td>COMPUTING</td>\n",
       "      <td>Recertified</td>\n",
       "      <td>1</td>\n",
       "      <td>243000.0</td>\n",
       "      <td>243000.0</td>\n",
       "    </tr>\n",
       "    <tr>\n",
       "      <th>7950</th>\n",
       "      <td>OPEYEMI SHUKURAT</td>\n",
       "      <td>2023-11-29</td>\n",
       "      <td>MCHNLAND TECHNOLOGY</td>\n",
       "      <td>HP Laptop 15-dw1197nia (39A48EA)</td>\n",
       "      <td>COMPUTING</td>\n",
       "      <td>HP NEW - CONSUMER</td>\n",
       "      <td>1</td>\n",
       "      <td>285000.0</td>\n",
       "      <td>285000.0</td>\n",
       "    </tr>\n",
       "    <tr>\n",
       "      <th>8035</th>\n",
       "      <td>Ogudu Retail Stores</td>\n",
       "      <td>2023-12-04</td>\n",
       "      <td>OBAYEMI SAMUEL</td>\n",
       "      <td>HP 963 Black Original Ink Cartridge</td>\n",
       "      <td>COMPUTING</td>\n",
       "      <td>COMPUTING ACCESSORIES</td>\n",
       "      <td>1</td>\n",
       "      <td>28500.0</td>\n",
       "      <td>28500.0</td>\n",
       "    </tr>\n",
       "    <tr>\n",
       "      <th>8040</th>\n",
       "      <td>Irumah Chukwuma</td>\n",
       "      <td>2023-12-05</td>\n",
       "      <td>AMA-GATE TECHNOLOGIES LTD</td>\n",
       "      <td>HP LASERJET M236DW PRINTER</td>\n",
       "      <td>COMPUTING</td>\n",
       "      <td>COMPUTING ACCESSORIES</td>\n",
       "      <td>1</td>\n",
       "      <td>175000.0</td>\n",
       "      <td>175000.0</td>\n",
       "    </tr>\n",
       "  </tbody>\n",
       "</table>\n",
       "<p>200 rows × 9 columns</p>\n",
       "</div>"
      ],
      "text/plain": [
       "                 Salesman       Date                      Particulars  \\\n",
       "162    OLATUNDE AKINGBOYE 2023-01-07                   MERGE TECH  IT   \n",
       "186       BLESSING WISDOM 2023-01-09  Source Nolas Integrated Systems   \n",
       "193        OLAITAN DOLAPO 2023-01-09               MARQUEEN COMPUTERS   \n",
       "194        OLAITAN DOLAPO 2023-01-09               MARQUEEN COMPUTERS   \n",
       "240             ECOMMERCE 2023-01-11           TORCHTECH SOLUTION LTD   \n",
       "...                   ...        ...                              ...   \n",
       "7857   Olarenwaju Racheal 2023-11-24                 IDEA KONSULT LTD   \n",
       "7865       COMPUTING TEAM 2023-11-25                      ALOH HASSAN   \n",
       "7950     OPEYEMI SHUKURAT 2023-11-29              MCHNLAND TECHNOLOGY   \n",
       "8035  Ogudu Retail Stores 2023-12-04                   OBAYEMI SAMUEL   \n",
       "8040      Irumah Chukwuma 2023-12-05        AMA-GATE TECHNOLOGIES LTD   \n",
       "\n",
       "                                product name   CATEGORY  \\\n",
       "162            HP LASERJET MFP M236d PRINTER  COMPUTING   \n",
       "186                HP 15 Dw1212nia (258K3EA)  COMPUTING   \n",
       "193                HP 15 Dw1212nia (258K3EA)  COMPUTING   \n",
       "194                HP 15 Dw1212nia (258K3EA)  COMPUTING   \n",
       "240                       HP 17-BY0005CY REF  COMPUTING   \n",
       "...                                      ...        ...   \n",
       "7857  CANYON COOLING STAND FOR NOTEBOOK NS02  COMPUTING   \n",
       "7865           HP 17-BY3053CL REF (1G136UAR)  COMPUTING   \n",
       "7950        HP Laptop 15-dw1197nia (39A48EA)  COMPUTING   \n",
       "8035     HP 963 Black Original Ink Cartridge  COMPUTING   \n",
       "8040              HP LASERJET M236DW PRINTER  COMPUTING   \n",
       "\n",
       "                   CAT LV 1  Qty.     Price    Amount  \n",
       "162   COMPUTING ACCESSORIES     1  115000.0  115000.0  \n",
       "186       HP NEW - CONSUMER     2  145000.0  290000.0  \n",
       "193       HP NEW - CONSUMER     2  145000.0  290000.0  \n",
       "194       HP NEW - CONSUMER     2  145000.0  290000.0  \n",
       "240             Recertified     2  159100.0  318200.0  \n",
       "...                     ...   ...       ...       ...  \n",
       "7857  COMPUTING ACCESSORIES     1    6100.0    6100.0  \n",
       "7865            Recertified     1  243000.0  243000.0  \n",
       "7950      HP NEW - CONSUMER     1  285000.0  285000.0  \n",
       "8035  COMPUTING ACCESSORIES     1   28500.0   28500.0  \n",
       "8040  COMPUTING ACCESSORIES     1  175000.0  175000.0  \n",
       "\n",
       "[200 rows x 9 columns]"
      ]
     },
     "execution_count": 7,
     "metadata": {},
     "output_type": "execute_result"
    }
   ],
   "source": [
    "data[data.duplicated()]"
   ]
  },
  {
   "cell_type": "code",
   "execution_count": 8,
   "metadata": {},
   "outputs": [],
   "source": [
    "# Drop duplicate rows (can affect analysis/ bias)\n",
    "data.drop_duplicates(keep='first', inplace=True)"
   ]
  },
  {
   "cell_type": "code",
   "execution_count": 9,
   "metadata": {},
   "outputs": [
    {
     "data": {
      "text/plain": [
       "0"
      ]
     },
     "execution_count": 9,
     "metadata": {},
     "output_type": "execute_result"
    }
   ],
   "source": [
    "# Check for null values\n",
    "data.isnull().any().sum()"
   ]
  },
  {
   "cell_type": "code",
   "execution_count": 10,
   "metadata": {},
   "outputs": [
    {
     "data": {
      "text/plain": [
       "91"
      ]
     },
     "execution_count": 10,
     "metadata": {},
     "output_type": "execute_result"
    }
   ],
   "source": [
    "# How many salesman\n",
    "data.Salesman.nunique()"
   ]
  },
  {
   "cell_type": "code",
   "execution_count": 11,
   "metadata": {},
   "outputs": [],
   "source": [
    "sm_no = data.Salesman.unique()"
   ]
  },
  {
   "cell_type": "code",
   "execution_count": 12,
   "metadata": {},
   "outputs": [
    {
     "name": "stdout",
     "output_type": "stream",
     "text": [
      "(0, 'BLESSING WISDOM')\n",
      "(1, 'AROMIRE')\n",
      "(2, 'ADEOLA ALABI')\n",
      "(3, 'GIDEON ONONUGBOR')\n",
      "(4, 'PAMELA MBANUGO')\n",
      "(5, 'OPERATIONS')\n",
      "(6, 'IZUCHUKWU UWANDU')\n",
      "(7, 'OLAITAN DOLAPO')\n",
      "(8, 'Ikhide Inyemifuokha')\n",
      "(9, 'OLATUNDE AKINGBOYE')\n",
      "(10, 'Festac')\n",
      "(11, 'LEKKI')\n",
      "(12, 'PHC RETAIL 2')\n",
      "(13, 'ECOMMERCE')\n",
      "(14, 'RETAIL CORPORATE')\n",
      "(15, 'NKIRU UZOESHI')\n",
      "(16, 'CATHERYN ADETUNJI')\n",
      "(17, 'SERVICE CENTER')\n",
      "(18, 'HQ First Floor')\n",
      "(19, 'Surulere')\n",
      "(20, 'Irumah Chukwuma')\n",
      "(21, 'UJU AJUFO')\n",
      "(22, 'CHIYENUM EJECHI')\n",
      "(23, 'Port Harcourt Retail 1')\n",
      "(24, 'TOSIN OMOFAYE')\n",
      "(25, 'Retention')\n",
      "(26, 'HQ Ground Floor')\n",
      "(27, 'Ogudu Retail Stores')\n",
      "(28, 'Ibadan 1 Retail')\n",
      "(29, 'Abuja Retail')\n",
      "(30, 'Abuja Retail 2')\n",
      "(31, 'IT Business Services')\n",
      "(32, 'Asaba Retail')\n",
      "(33, 'Hannatu Dabo')\n",
      "(34, 'CHIAMAKA ORAFUNAM')\n",
      "(35, 'Ibadan 2 Retail')\n",
      "(36, 'ESTHER PAUL UMOH')\n",
      "(37, 'TIMOTHY GODWIN')\n",
      "(38, 'EDMUND OLA')\n",
      "(39, 'FAYEMI AYOBAMI')\n",
      "(40, 'Isaiah Timothy')\n",
      "(41, 'Ndubuisi Igbokwe')\n",
      "(42, 'EZEKIEL ARIYO')\n",
      "(43, 'Lakowe Retail')\n",
      "(44, 'Banjo Moyosore')\n",
      "(45, 'HAKEEM AJALA')\n",
      "(46, 'Mary Osisanya')\n",
      "(47, 'MERCY  ECHEM')\n",
      "(48, 'AUSTIN AKINGBOLA')\n",
      "(49, 'OPEYEMI SHUKURAT')\n",
      "(50, 'NKECHI ASIBUDIKE')\n",
      "(51, 'Management Sales')\n",
      "(52, \"MD'S SALE\")\n",
      "(53, 'Moyosore Ekiran')\n",
      "(54, 'DORCAS OLADEJI')\n",
      "(55, 'CHRISTIAN BIAMBO')\n",
      "(56, 'COMPUTING TEAM')\n",
      "(57, 'KOLA AYEDUN')\n",
      "(58, 'OLAITAN IBRAHIM')\n",
      "(59, 'IDRIS RIDWAN')\n",
      "(60, 'Charity Ezinne')\n",
      "(61, 'Dankaro Aondofa')\n",
      "(62, 'OLAYANJU DEBORAH')\n",
      "(63, 'MBAH OSITA')\n",
      "(64, 'Charles Enyeribe')\n",
      "(65, 'SEGUN JEMILOHUN')\n",
      "(66, 'IBEAWUCHI OGECHI')\n",
      "(67, 'JOY LIFU')\n",
      "(68, 'Abiola Jesutobi')\n",
      "(69, 'CONFIDENCE DICKSON')\n",
      "(70, 'TOSIN JOY')\n",
      "(71, 'BASSEY EYO')\n",
      "(72, 'SALAMI KAZEEM')\n",
      "(73, 'Obialor Kingsley')\n",
      "(74, 'EBENEZER OLALOYE')\n",
      "(75, 'UMOH IGNATIUS')\n",
      "(76, 'Afolabi Toyin')\n",
      "(77, 'JESSICA EKPETUBU')\n",
      "(78, 'CATHERINE UCHE')\n",
      "(79, 'Afolayan Oluwafemi')\n",
      "(80, 'EGUNJOBI MODUPE')\n",
      "(81, 'Olarenwaju Racheal')\n",
      "(82, 'Onyinyechi George')\n",
      "(83, 'IKE BELIEVE')\n",
      "(84, 'Abel Ukpebor')\n",
      "(85, 'SANDRA IBETO')\n",
      "(86, 'NAJIB ADAMU')\n",
      "(87, 'Madina')\n",
      "(88, 'EMMANUEL ABDUL')\n",
      "(89, 'Adetoro Jumoke')\n",
      "(90, 'SHARON EGBUNU')\n"
     ]
    }
   ],
   "source": [
    "sales_man =[]\n",
    "for i in enumerate(sm_no):\n",
    "    sales_man.append(i)\n",
    "    print (i)\n",
    "    "
   ]
  },
  {
   "cell_type": "code",
   "execution_count": 372,
   "metadata": {},
   "outputs": [
    {
     "data": {
      "text/plain": [
       "91"
      ]
     },
     "execution_count": 372,
     "metadata": {},
     "output_type": "execute_result"
    }
   ],
   "source": [
    "len(sales_man)"
   ]
  },
  {
   "cell_type": "code",
   "execution_count": 302,
   "metadata": {},
   "outputs": [],
   "source": [
    "# sales man by sales figure\n",
    "sm_data =data.loc[:,['Salesman','Price']].groupby('Salesman').sum().sort_values('Price', ascending=False)[:10]"
   ]
  },
  {
   "cell_type": "code",
   "execution_count": 373,
   "metadata": {},
   "outputs": [
    {
     "data": {
      "application/vnd.plotly.v1+json": {
       "config": {
        "plotlyServerURL": "https://plot.ly"
       },
       "data": [
        {
         "alignmentgroup": "True",
         "hovertemplate": "variable=Price<br>value=%{x}<br>Salesman=%{y}<extra></extra>",
         "legendgroup": "Price",
         "marker": {
          "color": "#636efa",
          "pattern": {
           "shape": ""
          }
         },
         "name": "Price",
         "offsetgroup": "Price",
         "orientation": "h",
         "showlegend": true,
         "textposition": "auto",
         "type": "bar",
         "x": [
          256945436,
          189590875,
          141798671,
          131261040.17,
          117618740.06,
          114825700,
          108690569.57,
          71148420,
          62292314,
          48141885
         ],
         "xaxis": "x",
         "y": [
          "OLAITAN DOLAPO",
          "IZUCHUKWU UWANDU",
          "UJU AJUFO",
          "OLATUNDE AKINGBOYE",
          "BLESSING WISDOM",
          "PAMELA MBANUGO",
          "COMPUTING TEAM",
          "TOSIN OMOFAYE",
          "ADEOLA ALABI",
          "ECOMMERCE"
         ],
         "yaxis": "y"
        }
       ],
       "layout": {
        "barmode": "relative",
        "legend": {
         "title": {
          "text": "variable"
         },
         "tracegroupgap": 0
        },
        "margin": {
         "t": 60
        },
        "template": {
         "data": {
          "bar": [
           {
            "error_x": {
             "color": "#2a3f5f"
            },
            "error_y": {
             "color": "#2a3f5f"
            },
            "marker": {
             "line": {
              "color": "#E5ECF6",
              "width": 0.5
             },
             "pattern": {
              "fillmode": "overlay",
              "size": 10,
              "solidity": 0.2
             }
            },
            "type": "bar"
           }
          ],
          "barpolar": [
           {
            "marker": {
             "line": {
              "color": "#E5ECF6",
              "width": 0.5
             },
             "pattern": {
              "fillmode": "overlay",
              "size": 10,
              "solidity": 0.2
             }
            },
            "type": "barpolar"
           }
          ],
          "carpet": [
           {
            "aaxis": {
             "endlinecolor": "#2a3f5f",
             "gridcolor": "white",
             "linecolor": "white",
             "minorgridcolor": "white",
             "startlinecolor": "#2a3f5f"
            },
            "baxis": {
             "endlinecolor": "#2a3f5f",
             "gridcolor": "white",
             "linecolor": "white",
             "minorgridcolor": "white",
             "startlinecolor": "#2a3f5f"
            },
            "type": "carpet"
           }
          ],
          "choropleth": [
           {
            "colorbar": {
             "outlinewidth": 0,
             "ticks": ""
            },
            "type": "choropleth"
           }
          ],
          "contour": [
           {
            "colorbar": {
             "outlinewidth": 0,
             "ticks": ""
            },
            "colorscale": [
             [
              0,
              "#0d0887"
             ],
             [
              0.1111111111111111,
              "#46039f"
             ],
             [
              0.2222222222222222,
              "#7201a8"
             ],
             [
              0.3333333333333333,
              "#9c179e"
             ],
             [
              0.4444444444444444,
              "#bd3786"
             ],
             [
              0.5555555555555556,
              "#d8576b"
             ],
             [
              0.6666666666666666,
              "#ed7953"
             ],
             [
              0.7777777777777778,
              "#fb9f3a"
             ],
             [
              0.8888888888888888,
              "#fdca26"
             ],
             [
              1,
              "#f0f921"
             ]
            ],
            "type": "contour"
           }
          ],
          "contourcarpet": [
           {
            "colorbar": {
             "outlinewidth": 0,
             "ticks": ""
            },
            "type": "contourcarpet"
           }
          ],
          "heatmap": [
           {
            "colorbar": {
             "outlinewidth": 0,
             "ticks": ""
            },
            "colorscale": [
             [
              0,
              "#0d0887"
             ],
             [
              0.1111111111111111,
              "#46039f"
             ],
             [
              0.2222222222222222,
              "#7201a8"
             ],
             [
              0.3333333333333333,
              "#9c179e"
             ],
             [
              0.4444444444444444,
              "#bd3786"
             ],
             [
              0.5555555555555556,
              "#d8576b"
             ],
             [
              0.6666666666666666,
              "#ed7953"
             ],
             [
              0.7777777777777778,
              "#fb9f3a"
             ],
             [
              0.8888888888888888,
              "#fdca26"
             ],
             [
              1,
              "#f0f921"
             ]
            ],
            "type": "heatmap"
           }
          ],
          "heatmapgl": [
           {
            "colorbar": {
             "outlinewidth": 0,
             "ticks": ""
            },
            "colorscale": [
             [
              0,
              "#0d0887"
             ],
             [
              0.1111111111111111,
              "#46039f"
             ],
             [
              0.2222222222222222,
              "#7201a8"
             ],
             [
              0.3333333333333333,
              "#9c179e"
             ],
             [
              0.4444444444444444,
              "#bd3786"
             ],
             [
              0.5555555555555556,
              "#d8576b"
             ],
             [
              0.6666666666666666,
              "#ed7953"
             ],
             [
              0.7777777777777778,
              "#fb9f3a"
             ],
             [
              0.8888888888888888,
              "#fdca26"
             ],
             [
              1,
              "#f0f921"
             ]
            ],
            "type": "heatmapgl"
           }
          ],
          "histogram": [
           {
            "marker": {
             "pattern": {
              "fillmode": "overlay",
              "size": 10,
              "solidity": 0.2
             }
            },
            "type": "histogram"
           }
          ],
          "histogram2d": [
           {
            "colorbar": {
             "outlinewidth": 0,
             "ticks": ""
            },
            "colorscale": [
             [
              0,
              "#0d0887"
             ],
             [
              0.1111111111111111,
              "#46039f"
             ],
             [
              0.2222222222222222,
              "#7201a8"
             ],
             [
              0.3333333333333333,
              "#9c179e"
             ],
             [
              0.4444444444444444,
              "#bd3786"
             ],
             [
              0.5555555555555556,
              "#d8576b"
             ],
             [
              0.6666666666666666,
              "#ed7953"
             ],
             [
              0.7777777777777778,
              "#fb9f3a"
             ],
             [
              0.8888888888888888,
              "#fdca26"
             ],
             [
              1,
              "#f0f921"
             ]
            ],
            "type": "histogram2d"
           }
          ],
          "histogram2dcontour": [
           {
            "colorbar": {
             "outlinewidth": 0,
             "ticks": ""
            },
            "colorscale": [
             [
              0,
              "#0d0887"
             ],
             [
              0.1111111111111111,
              "#46039f"
             ],
             [
              0.2222222222222222,
              "#7201a8"
             ],
             [
              0.3333333333333333,
              "#9c179e"
             ],
             [
              0.4444444444444444,
              "#bd3786"
             ],
             [
              0.5555555555555556,
              "#d8576b"
             ],
             [
              0.6666666666666666,
              "#ed7953"
             ],
             [
              0.7777777777777778,
              "#fb9f3a"
             ],
             [
              0.8888888888888888,
              "#fdca26"
             ],
             [
              1,
              "#f0f921"
             ]
            ],
            "type": "histogram2dcontour"
           }
          ],
          "mesh3d": [
           {
            "colorbar": {
             "outlinewidth": 0,
             "ticks": ""
            },
            "type": "mesh3d"
           }
          ],
          "parcoords": [
           {
            "line": {
             "colorbar": {
              "outlinewidth": 0,
              "ticks": ""
             }
            },
            "type": "parcoords"
           }
          ],
          "pie": [
           {
            "automargin": true,
            "type": "pie"
           }
          ],
          "scatter": [
           {
            "fillpattern": {
             "fillmode": "overlay",
             "size": 10,
             "solidity": 0.2
            },
            "type": "scatter"
           }
          ],
          "scatter3d": [
           {
            "line": {
             "colorbar": {
              "outlinewidth": 0,
              "ticks": ""
             }
            },
            "marker": {
             "colorbar": {
              "outlinewidth": 0,
              "ticks": ""
             }
            },
            "type": "scatter3d"
           }
          ],
          "scattercarpet": [
           {
            "marker": {
             "colorbar": {
              "outlinewidth": 0,
              "ticks": ""
             }
            },
            "type": "scattercarpet"
           }
          ],
          "scattergeo": [
           {
            "marker": {
             "colorbar": {
              "outlinewidth": 0,
              "ticks": ""
             }
            },
            "type": "scattergeo"
           }
          ],
          "scattergl": [
           {
            "marker": {
             "colorbar": {
              "outlinewidth": 0,
              "ticks": ""
             }
            },
            "type": "scattergl"
           }
          ],
          "scattermapbox": [
           {
            "marker": {
             "colorbar": {
              "outlinewidth": 0,
              "ticks": ""
             }
            },
            "type": "scattermapbox"
           }
          ],
          "scatterpolar": [
           {
            "marker": {
             "colorbar": {
              "outlinewidth": 0,
              "ticks": ""
             }
            },
            "type": "scatterpolar"
           }
          ],
          "scatterpolargl": [
           {
            "marker": {
             "colorbar": {
              "outlinewidth": 0,
              "ticks": ""
             }
            },
            "type": "scatterpolargl"
           }
          ],
          "scatterternary": [
           {
            "marker": {
             "colorbar": {
              "outlinewidth": 0,
              "ticks": ""
             }
            },
            "type": "scatterternary"
           }
          ],
          "surface": [
           {
            "colorbar": {
             "outlinewidth": 0,
             "ticks": ""
            },
            "colorscale": [
             [
              0,
              "#0d0887"
             ],
             [
              0.1111111111111111,
              "#46039f"
             ],
             [
              0.2222222222222222,
              "#7201a8"
             ],
             [
              0.3333333333333333,
              "#9c179e"
             ],
             [
              0.4444444444444444,
              "#bd3786"
             ],
             [
              0.5555555555555556,
              "#d8576b"
             ],
             [
              0.6666666666666666,
              "#ed7953"
             ],
             [
              0.7777777777777778,
              "#fb9f3a"
             ],
             [
              0.8888888888888888,
              "#fdca26"
             ],
             [
              1,
              "#f0f921"
             ]
            ],
            "type": "surface"
           }
          ],
          "table": [
           {
            "cells": {
             "fill": {
              "color": "#EBF0F8"
             },
             "line": {
              "color": "white"
             }
            },
            "header": {
             "fill": {
              "color": "#C8D4E3"
             },
             "line": {
              "color": "white"
             }
            },
            "type": "table"
           }
          ]
         },
         "layout": {
          "annotationdefaults": {
           "arrowcolor": "#2a3f5f",
           "arrowhead": 0,
           "arrowwidth": 1
          },
          "autotypenumbers": "strict",
          "coloraxis": {
           "colorbar": {
            "outlinewidth": 0,
            "ticks": ""
           }
          },
          "colorscale": {
           "diverging": [
            [
             0,
             "#8e0152"
            ],
            [
             0.1,
             "#c51b7d"
            ],
            [
             0.2,
             "#de77ae"
            ],
            [
             0.3,
             "#f1b6da"
            ],
            [
             0.4,
             "#fde0ef"
            ],
            [
             0.5,
             "#f7f7f7"
            ],
            [
             0.6,
             "#e6f5d0"
            ],
            [
             0.7,
             "#b8e186"
            ],
            [
             0.8,
             "#7fbc41"
            ],
            [
             0.9,
             "#4d9221"
            ],
            [
             1,
             "#276419"
            ]
           ],
           "sequential": [
            [
             0,
             "#0d0887"
            ],
            [
             0.1111111111111111,
             "#46039f"
            ],
            [
             0.2222222222222222,
             "#7201a8"
            ],
            [
             0.3333333333333333,
             "#9c179e"
            ],
            [
             0.4444444444444444,
             "#bd3786"
            ],
            [
             0.5555555555555556,
             "#d8576b"
            ],
            [
             0.6666666666666666,
             "#ed7953"
            ],
            [
             0.7777777777777778,
             "#fb9f3a"
            ],
            [
             0.8888888888888888,
             "#fdca26"
            ],
            [
             1,
             "#f0f921"
            ]
           ],
           "sequentialminus": [
            [
             0,
             "#0d0887"
            ],
            [
             0.1111111111111111,
             "#46039f"
            ],
            [
             0.2222222222222222,
             "#7201a8"
            ],
            [
             0.3333333333333333,
             "#9c179e"
            ],
            [
             0.4444444444444444,
             "#bd3786"
            ],
            [
             0.5555555555555556,
             "#d8576b"
            ],
            [
             0.6666666666666666,
             "#ed7953"
            ],
            [
             0.7777777777777778,
             "#fb9f3a"
            ],
            [
             0.8888888888888888,
             "#fdca26"
            ],
            [
             1,
             "#f0f921"
            ]
           ]
          },
          "colorway": [
           "#636efa",
           "#EF553B",
           "#00cc96",
           "#ab63fa",
           "#FFA15A",
           "#19d3f3",
           "#FF6692",
           "#B6E880",
           "#FF97FF",
           "#FECB52"
          ],
          "font": {
           "color": "#2a3f5f"
          },
          "geo": {
           "bgcolor": "white",
           "lakecolor": "white",
           "landcolor": "#E5ECF6",
           "showlakes": true,
           "showland": true,
           "subunitcolor": "white"
          },
          "hoverlabel": {
           "align": "left"
          },
          "hovermode": "closest",
          "mapbox": {
           "style": "light"
          },
          "paper_bgcolor": "white",
          "plot_bgcolor": "#E5ECF6",
          "polar": {
           "angularaxis": {
            "gridcolor": "white",
            "linecolor": "white",
            "ticks": ""
           },
           "bgcolor": "#E5ECF6",
           "radialaxis": {
            "gridcolor": "white",
            "linecolor": "white",
            "ticks": ""
           }
          },
          "scene": {
           "xaxis": {
            "backgroundcolor": "#E5ECF6",
            "gridcolor": "white",
            "gridwidth": 2,
            "linecolor": "white",
            "showbackground": true,
            "ticks": "",
            "zerolinecolor": "white"
           },
           "yaxis": {
            "backgroundcolor": "#E5ECF6",
            "gridcolor": "white",
            "gridwidth": 2,
            "linecolor": "white",
            "showbackground": true,
            "ticks": "",
            "zerolinecolor": "white"
           },
           "zaxis": {
            "backgroundcolor": "#E5ECF6",
            "gridcolor": "white",
            "gridwidth": 2,
            "linecolor": "white",
            "showbackground": true,
            "ticks": "",
            "zerolinecolor": "white"
           }
          },
          "shapedefaults": {
           "line": {
            "color": "#2a3f5f"
           }
          },
          "ternary": {
           "aaxis": {
            "gridcolor": "white",
            "linecolor": "white",
            "ticks": ""
           },
           "baxis": {
            "gridcolor": "white",
            "linecolor": "white",
            "ticks": ""
           },
           "bgcolor": "#E5ECF6",
           "caxis": {
            "gridcolor": "white",
            "linecolor": "white",
            "ticks": ""
           }
          },
          "title": {
           "x": 0.05
          },
          "xaxis": {
           "automargin": true,
           "gridcolor": "white",
           "linecolor": "white",
           "ticks": "",
           "title": {
            "standoff": 15
           },
           "zerolinecolor": "white",
           "zerolinewidth": 2
          },
          "yaxis": {
           "automargin": true,
           "gridcolor": "white",
           "linecolor": "white",
           "ticks": "",
           "title": {
            "standoff": 15
           },
           "zerolinecolor": "white",
           "zerolinewidth": 2
          }
         }
        },
        "xaxis": {
         "anchor": "y",
         "domain": [
          0,
          1
         ],
         "title": {
          "text": "value"
         }
        },
        "yaxis": {
         "anchor": "x",
         "domain": [
          0,
          1
         ],
         "title": {
          "text": "Salesman"
         }
        }
       }
      }
     },
     "metadata": {},
     "output_type": "display_data"
    }
   ],
   "source": [
    "fig=px.bar(sm_data,orientation='h')\n",
    "fig.show()"
   ]
  },
  {
   "cell_type": "code",
   "execution_count": 55,
   "metadata": {},
   "outputs": [
    {
     "data": {
      "text/plain": [
       "0        1\n",
       "1        1\n",
       "2        1\n",
       "3        1\n",
       "4        1\n",
       "        ..\n",
       "8076    12\n",
       "8077    12\n",
       "8078    12\n",
       "8079    12\n",
       "8080    12\n",
       "Name: Month, Length: 7881, dtype: int32"
      ]
     },
     "execution_count": 55,
     "metadata": {},
     "output_type": "execute_result"
    }
   ],
   "source": [
    "data['Year'] = pd.DatetimeIndex(data['Date']).year\n",
    "data['Month']= pd.DatetimeIndex(data['Date']).month\n",
    "data['Month']"
   ]
  },
  {
   "cell_type": "code",
   "execution_count": 57,
   "metadata": {},
   "outputs": [],
   "source": [
    "data['year_sync'] = data['Date'].dt.to_period('M')"
   ]
  },
  {
   "cell_type": "code",
   "execution_count": 62,
   "metadata": {},
   "outputs": [
    {
     "data": {
      "text/plain": [
       "0       2023-01\n",
       "1       2023-01\n",
       "2       2023-01\n",
       "3       2023-01\n",
       "4       2023-01\n",
       "         ...   \n",
       "8076    2023-12\n",
       "8077    2023-12\n",
       "8078    2023-12\n",
       "8079    2023-12\n",
       "8080    2023-12\n",
       "Name: year_sync, Length: 7881, dtype: period[M]"
      ]
     },
     "execution_count": 62,
     "metadata": {},
     "output_type": "execute_result"
    }
   ],
   "source": [
    "data['year_sync']"
   ]
  },
  {
   "cell_type": "code",
   "execution_count": 67,
   "metadata": {},
   "outputs": [],
   "source": [
    "data.to_csv('sales_data_analysis.csv')"
   ]
  },
  {
   "cell_type": "code",
   "execution_count": 66,
   "metadata": {},
   "outputs": [
    {
     "data": {
      "text/html": [
       "<div>\n",
       "<style scoped>\n",
       "    .dataframe tbody tr th:only-of-type {\n",
       "        vertical-align: middle;\n",
       "    }\n",
       "\n",
       "    .dataframe tbody tr th {\n",
       "        vertical-align: top;\n",
       "    }\n",
       "\n",
       "    .dataframe thead th {\n",
       "        text-align: right;\n",
       "    }\n",
       "</style>\n",
       "<table border=\"1\" class=\"dataframe\">\n",
       "  <thead>\n",
       "    <tr style=\"text-align: right;\">\n",
       "      <th></th>\n",
       "      <th></th>\n",
       "      <th>Price</th>\n",
       "    </tr>\n",
       "    <tr>\n",
       "      <th>year_sync</th>\n",
       "      <th>Salesman</th>\n",
       "      <th></th>\n",
       "    </tr>\n",
       "  </thead>\n",
       "  <tbody>\n",
       "    <tr>\n",
       "      <th rowspan=\"5\" valign=\"top\">2023-01</th>\n",
       "      <th>ADEOLA ALABI</th>\n",
       "      <td>4.810700e+06</td>\n",
       "    </tr>\n",
       "    <tr>\n",
       "      <th>AROMIRE</th>\n",
       "      <td>4.983000e+05</td>\n",
       "    </tr>\n",
       "    <tr>\n",
       "      <th>Abuja Retail</th>\n",
       "      <td>1.228200e+06</td>\n",
       "    </tr>\n",
       "    <tr>\n",
       "      <th>Abuja Retail 2</th>\n",
       "      <td>1.347000e+05</td>\n",
       "    </tr>\n",
       "    <tr>\n",
       "      <th>Asaba Retail</th>\n",
       "      <td>8.157000e+05</td>\n",
       "    </tr>\n",
       "    <tr>\n",
       "      <th>...</th>\n",
       "      <th>...</th>\n",
       "      <td>...</td>\n",
       "    </tr>\n",
       "    <tr>\n",
       "      <th rowspan=\"4\" valign=\"top\">2023-12</th>\n",
       "      <th>SERVICE CENTER</th>\n",
       "      <td>2.250000e+05</td>\n",
       "    </tr>\n",
       "    <tr>\n",
       "      <th>SHARON EGBUNU</th>\n",
       "      <td>1.300000e+05</td>\n",
       "    </tr>\n",
       "    <tr>\n",
       "      <th>TOSIN OMOFAYE</th>\n",
       "      <td>4.150000e+05</td>\n",
       "    </tr>\n",
       "    <tr>\n",
       "      <th>UJU AJUFO</th>\n",
       "      <td>2.850000e+05</td>\n",
       "    </tr>\n",
       "    <tr>\n",
       "      <th>Total</th>\n",
       "      <th></th>\n",
       "      <td>1.816306e+09</td>\n",
       "    </tr>\n",
       "  </tbody>\n",
       "</table>\n",
       "<p>523 rows × 1 columns</p>\n",
       "</div>"
      ],
      "text/plain": [
       "                                 Price\n",
       "year_sync Salesman                    \n",
       "2023-01   ADEOLA ALABI    4.810700e+06\n",
       "          AROMIRE         4.983000e+05\n",
       "          Abuja Retail    1.228200e+06\n",
       "          Abuja Retail 2  1.347000e+05\n",
       "          Asaba Retail    8.157000e+05\n",
       "...                                ...\n",
       "2023-12   SERVICE CENTER  2.250000e+05\n",
       "          SHARON EGBUNU   1.300000e+05\n",
       "          TOSIN OMOFAYE   4.150000e+05\n",
       "          UJU AJUFO       2.850000e+05\n",
       "Total                     1.816306e+09\n",
       "\n",
       "[523 rows x 1 columns]"
      ]
     },
     "execution_count": 66,
     "metadata": {},
     "output_type": "execute_result"
    }
   ],
   "source": [
    "# Sales by month/ year\n",
    "data.loc[:,['year_sync','Salesman','Price']].pivot_table(index=['year_sync','Salesman'],values='Price',aggfunc='sum',margins=True,margins_name='Total')"
   ]
  },
  {
   "cell_type": "code",
   "execution_count": 74,
   "metadata": {},
   "outputs": [],
   "source": [
    "yr_2023 = pd.read_excel(r'C:\\Users\\godwi\\Data_Science_ML\\Exploratory_Analysis_Pandas\\Olisama_sales\\product_details.xlsx','2023 SELLOUT')\n",
    "yr_2022 = pd.read_excel(r'C:\\Users\\godwi\\Data_Science_ML\\Exploratory_Analysis_Pandas\\Olisama_sales\\product_details.xlsx','2022 SELLOUT')\n",
    "yr_2021 = pd.read_excel(r'C:\\Users\\godwi\\Data_Science_ML\\Exploratory_Analysis_Pandas\\Olisama_sales\\product_details.xlsx','2021 SELLOUT')"
   ]
  },
  {
   "cell_type": "code",
   "execution_count": 78,
   "metadata": {},
   "outputs": [],
   "source": [
    "# add year to each df\n",
    "yr_2021['year']= 2021\n",
    "yr_2022['year']= 2022\n",
    "yr_2023['year']= 2023"
   ]
  },
  {
   "cell_type": "code",
   "execution_count": 80,
   "metadata": {},
   "outputs": [],
   "source": [
    "df_merged = pd.concat([yr_2021,yr_2022,yr_2023])"
   ]
  },
  {
   "cell_type": "code",
   "execution_count": 83,
   "metadata": {},
   "outputs": [],
   "source": [
    "df_merged.rename({'year':'Year'},axis =1,inplace=True)"
   ]
  },
  {
   "cell_type": "code",
   "execution_count": 84,
   "metadata": {},
   "outputs": [
    {
     "data": {
      "text/html": [
       "<div>\n",
       "<style scoped>\n",
       "    .dataframe tbody tr th:only-of-type {\n",
       "        vertical-align: middle;\n",
       "    }\n",
       "\n",
       "    .dataframe tbody tr th {\n",
       "        vertical-align: top;\n",
       "    }\n",
       "\n",
       "    .dataframe thead th {\n",
       "        text-align: right;\n",
       "    }\n",
       "</style>\n",
       "<table border=\"1\" class=\"dataframe\">\n",
       "  <thead>\n",
       "    <tr style=\"text-align: right;\">\n",
       "      <th></th>\n",
       "      <th>Item Details</th>\n",
       "      <th>BRAND</th>\n",
       "      <th>Category</th>\n",
       "      <th>Product Number</th>\n",
       "      <th>Cat LV1</th>\n",
       "      <th>Cat LV2</th>\n",
       "      <th>Cat LV3</th>\n",
       "      <th>Processor</th>\n",
       "      <th>Unit</th>\n",
       "      <th>Nett Sale Qty.</th>\n",
       "      <th>Nett Sale Amt.</th>\n",
       "      <th>Avg. Price</th>\n",
       "      <th>Year</th>\n",
       "    </tr>\n",
       "  </thead>\n",
       "  <tbody>\n",
       "    <tr>\n",
       "      <th>0</th>\n",
       "      <td>128gb Ssd</td>\n",
       "      <td>ACCESSORIES</td>\n",
       "      <td>ACCESSORIES</td>\n",
       "      <td>Ssd</td>\n",
       "      <td>Computer Accessories</td>\n",
       "      <td>Accessories &amp; spare parts</td>\n",
       "      <td>Other spare parts</td>\n",
       "      <td>ACCESSORIES</td>\n",
       "      <td>Pcs.</td>\n",
       "      <td>1</td>\n",
       "      <td>10000.0</td>\n",
       "      <td>10000.00</td>\n",
       "      <td>2021</td>\n",
       "    </tr>\n",
       "    <tr>\n",
       "      <th>1</th>\n",
       "      <td>128GB SSD 2.5 SATA</td>\n",
       "      <td>General</td>\n",
       "      <td>COMPUTING</td>\n",
       "      <td></td>\n",
       "      <td>COMPUTING ACCESSORIES</td>\n",
       "      <td>Data Storage</td>\n",
       "      <td>Other spare parts</td>\n",
       "      <td>ACCESSORIES</td>\n",
       "      <td>Pcs.</td>\n",
       "      <td>1</td>\n",
       "      <td>8000.0</td>\n",
       "      <td>8000.00</td>\n",
       "      <td>2021</td>\n",
       "    </tr>\n",
       "    <tr>\n",
       "      <th>2</th>\n",
       "      <td>12V-2A CHARGER</td>\n",
       "      <td>General</td>\n",
       "      <td>MOBILE DEVICES &amp; ACCESSORIES</td>\n",
       "      <td></td>\n",
       "      <td>Accessories</td>\n",
       "      <td>Chargers &amp; Cables</td>\n",
       "      <td>Chargers</td>\n",
       "      <td>not applicable</td>\n",
       "      <td>Pcs.</td>\n",
       "      <td>1</td>\n",
       "      <td>0.0</td>\n",
       "      <td>0.00</td>\n",
       "      <td>2021</td>\n",
       "    </tr>\n",
       "    <tr>\n",
       "      <th>3</th>\n",
       "      <td>14.0 PAPER SCREEN</td>\n",
       "      <td>SPARE PART</td>\n",
       "      <td>SPARE PART</td>\n",
       "      <td>A000006</td>\n",
       "      <td>SPARE PART</td>\n",
       "      <td>SPARE PART</td>\n",
       "      <td>SPARE PART</td>\n",
       "      <td>not applicable</td>\n",
       "      <td>Pcs.</td>\n",
       "      <td>2</td>\n",
       "      <td>50000.0</td>\n",
       "      <td>25000.00</td>\n",
       "      <td>2021</td>\n",
       "    </tr>\n",
       "    <tr>\n",
       "      <th>4</th>\n",
       "      <td>15.6\" LCD SCREEN</td>\n",
       "      <td>General</td>\n",
       "      <td>SPARE PART</td>\n",
       "      <td></td>\n",
       "      <td>SPARE PART</td>\n",
       "      <td>SPARE PART</td>\n",
       "      <td>SPARE PART</td>\n",
       "      <td>not applicable</td>\n",
       "      <td>Pcs.</td>\n",
       "      <td>9</td>\n",
       "      <td>292000.0</td>\n",
       "      <td>32444.44</td>\n",
       "      <td>2021</td>\n",
       "    </tr>\n",
       "    <tr>\n",
       "      <th>...</th>\n",
       "      <td>...</td>\n",
       "      <td>...</td>\n",
       "      <td>...</td>\n",
       "      <td>...</td>\n",
       "      <td>...</td>\n",
       "      <td>...</td>\n",
       "      <td>...</td>\n",
       "      <td>...</td>\n",
       "      <td>...</td>\n",
       "      <td>...</td>\n",
       "      <td>...</td>\n",
       "      <td>...</td>\n",
       "      <td>...</td>\n",
       "    </tr>\n",
       "    <tr>\n",
       "      <th>2477</th>\n",
       "      <td>HP Pavilion 14-dv0200nia(480W8EA)</td>\n",
       "      <td>HP</td>\n",
       "      <td>COMPUTING</td>\n",
       "      <td>196068236762</td>\n",
       "      <td>HP NEW - CONSUMER</td>\n",
       "      <td>Laptop</td>\n",
       "      <td>Commercial</td>\n",
       "      <td>CORE I3</td>\n",
       "      <td>Pcs.</td>\n",
       "      <td>-1</td>\n",
       "      <td>-315000.0</td>\n",
       "      <td>315000.00</td>\n",
       "      <td>2023</td>\n",
       "    </tr>\n",
       "    <tr>\n",
       "      <th>2478</th>\n",
       "      <td>HP Envy X360 13-bd0063dx (4J6J9UA)</td>\n",
       "      <td>HP</td>\n",
       "      <td>COMPUTING</td>\n",
       "      <td></td>\n",
       "      <td>HP NEW - CONSUMER</td>\n",
       "      <td>Consumer</td>\n",
       "      <td>Laptop</td>\n",
       "      <td>CORE I5</td>\n",
       "      <td>Pcs.</td>\n",
       "      <td>-1</td>\n",
       "      <td>-427000.0</td>\n",
       "      <td>427000.00</td>\n",
       "      <td>2023</td>\n",
       "    </tr>\n",
       "    <tr>\n",
       "      <th>2479</th>\n",
       "      <td>LENOVO GAMING L340-15IRH 8/2TB</td>\n",
       "      <td>LENOVO</td>\n",
       "      <td>COMPUTING</td>\n",
       "      <td>194552130770</td>\n",
       "      <td>NONE HP</td>\n",
       "      <td>Gaming Laptop</td>\n",
       "      <td>non channel</td>\n",
       "      <td>CORE I7</td>\n",
       "      <td>Pcs.</td>\n",
       "      <td>-1</td>\n",
       "      <td>-475690.0</td>\n",
       "      <td>475690.00</td>\n",
       "      <td>2023</td>\n",
       "    </tr>\n",
       "    <tr>\n",
       "      <th>2480</th>\n",
       "      <td>LENOVO THINKPAD T590 I5/8GB/256GB</td>\n",
       "      <td>LENOVO</td>\n",
       "      <td>COMPUTING</td>\n",
       "      <td>193268990388</td>\n",
       "      <td>NONE HP</td>\n",
       "      <td>Laptop</td>\n",
       "      <td>Commercial</td>\n",
       "      <td>CORE I5</td>\n",
       "      <td>Pcs.</td>\n",
       "      <td>-1</td>\n",
       "      <td>-491000.0</td>\n",
       "      <td>491000.00</td>\n",
       "      <td>2023</td>\n",
       "    </tr>\n",
       "    <tr>\n",
       "      <th>2481</th>\n",
       "      <td>HP ENVY X360 13M-bd1033dx</td>\n",
       "      <td>HP</td>\n",
       "      <td>COMPUTING</td>\n",
       "      <td></td>\n",
       "      <td>HP NEW - CONSUMER</td>\n",
       "      <td>Laptop</td>\n",
       "      <td>Consumer</td>\n",
       "      <td>CORE I7</td>\n",
       "      <td>Pcs.</td>\n",
       "      <td>-1</td>\n",
       "      <td>-564000.0</td>\n",
       "      <td>564000.00</td>\n",
       "      <td>2023</td>\n",
       "    </tr>\n",
       "  </tbody>\n",
       "</table>\n",
       "<p>7458 rows × 13 columns</p>\n",
       "</div>"
      ],
      "text/plain": [
       "                            Item Details        BRAND  \\\n",
       "0                              128gb Ssd  ACCESSORIES   \n",
       "1                     128GB SSD 2.5 SATA      General   \n",
       "2                         12V-2A CHARGER      General   \n",
       "3                      14.0 PAPER SCREEN   SPARE PART   \n",
       "4                       15.6\" LCD SCREEN      General   \n",
       "...                                  ...          ...   \n",
       "2477   HP Pavilion 14-dv0200nia(480W8EA)           HP   \n",
       "2478  HP Envy X360 13-bd0063dx (4J6J9UA)           HP   \n",
       "2479      LENOVO GAMING L340-15IRH 8/2TB       LENOVO   \n",
       "2480   LENOVO THINKPAD T590 I5/8GB/256GB       LENOVO   \n",
       "2481           HP ENVY X360 13M-bd1033dx           HP   \n",
       "\n",
       "                          Category Product Number                Cat LV1  \\\n",
       "0                      ACCESSORIES            Ssd   Computer Accessories   \n",
       "1                        COMPUTING                 COMPUTING ACCESSORIES   \n",
       "2     MOBILE DEVICES & ACCESSORIES                           Accessories   \n",
       "3                       SPARE PART        A000006             SPARE PART   \n",
       "4                       SPARE PART                            SPARE PART   \n",
       "...                            ...            ...                    ...   \n",
       "2477                     COMPUTING   196068236762      HP NEW - CONSUMER   \n",
       "2478                     COMPUTING                     HP NEW - CONSUMER   \n",
       "2479                     COMPUTING   194552130770                NONE HP   \n",
       "2480                     COMPUTING   193268990388                NONE HP   \n",
       "2481                     COMPUTING                     HP NEW - CONSUMER   \n",
       "\n",
       "                        Cat LV2            Cat LV3       Processor  Unit  \\\n",
       "0     Accessories & spare parts  Other spare parts     ACCESSORIES  Pcs.   \n",
       "1                  Data Storage  Other spare parts     ACCESSORIES  Pcs.   \n",
       "2             Chargers & Cables           Chargers  not applicable  Pcs.   \n",
       "3                    SPARE PART         SPARE PART  not applicable  Pcs.   \n",
       "4                    SPARE PART         SPARE PART  not applicable  Pcs.   \n",
       "...                         ...                ...             ...   ...   \n",
       "2477                     Laptop         Commercial         CORE I3  Pcs.   \n",
       "2478                   Consumer             Laptop         CORE I5  Pcs.   \n",
       "2479              Gaming Laptop        non channel         CORE I7  Pcs.   \n",
       "2480                     Laptop         Commercial         CORE I5  Pcs.   \n",
       "2481                     Laptop           Consumer         CORE I7  Pcs.   \n",
       "\n",
       "      Nett Sale Qty.  Nett Sale Amt.  Avg. Price  Year  \n",
       "0                  1         10000.0    10000.00  2021  \n",
       "1                  1          8000.0     8000.00  2021  \n",
       "2                  1             0.0        0.00  2021  \n",
       "3                  2         50000.0    25000.00  2021  \n",
       "4                  9        292000.0    32444.44  2021  \n",
       "...              ...             ...         ...   ...  \n",
       "2477              -1       -315000.0   315000.00  2023  \n",
       "2478              -1       -427000.0   427000.00  2023  \n",
       "2479              -1       -475690.0   475690.00  2023  \n",
       "2480              -1       -491000.0   491000.00  2023  \n",
       "2481              -1       -564000.0   564000.00  2023  \n",
       "\n",
       "[7458 rows x 13 columns]"
      ]
     },
     "execution_count": 84,
     "metadata": {},
     "output_type": "execute_result"
    }
   ],
   "source": [
    "df_merged"
   ]
  },
  {
   "cell_type": "code",
   "execution_count": 88,
   "metadata": {},
   "outputs": [
    {
     "data": {
      "text/plain": [
       "0"
      ]
     },
     "execution_count": 88,
     "metadata": {},
     "output_type": "execute_result"
    }
   ],
   "source": [
    "df_merged.duplicated().sum()"
   ]
  },
  {
   "cell_type": "code",
   "execution_count": 282,
   "metadata": {},
   "outputs": [
    {
     "data": {
      "text/html": [
       "<div>\n",
       "<style scoped>\n",
       "    .dataframe tbody tr th:only-of-type {\n",
       "        vertical-align: middle;\n",
       "    }\n",
       "\n",
       "    .dataframe tbody tr th {\n",
       "        vertical-align: top;\n",
       "    }\n",
       "\n",
       "    .dataframe thead th {\n",
       "        text-align: right;\n",
       "    }\n",
       "</style>\n",
       "<table border=\"1\" class=\"dataframe\">\n",
       "  <thead>\n",
       "    <tr style=\"text-align: right;\">\n",
       "      <th></th>\n",
       "      <th>Nett Sale Amt.</th>\n",
       "    </tr>\n",
       "    <tr>\n",
       "      <th>Year</th>\n",
       "      <th></th>\n",
       "    </tr>\n",
       "  </thead>\n",
       "  <tbody>\n",
       "    <tr>\n",
       "      <th>2021</th>\n",
       "      <td>6.015162e+09</td>\n",
       "    </tr>\n",
       "    <tr>\n",
       "      <th>2022</th>\n",
       "      <td>6.581654e+09</td>\n",
       "    </tr>\n",
       "    <tr>\n",
       "      <th>2023</th>\n",
       "      <td>6.721219e+09</td>\n",
       "    </tr>\n",
       "  </tbody>\n",
       "</table>\n",
       "</div>"
      ],
      "text/plain": [
       "      Nett Sale Amt.\n",
       "Year                \n",
       "2021    6.015162e+09\n",
       "2022    6.581654e+09\n",
       "2023    6.721219e+09"
      ]
     },
     "execution_count": 282,
     "metadata": {},
     "output_type": "execute_result"
    }
   ],
   "source": [
    "year_sales  = df_merged.iloc[:,[12,10]].groupby('Year').sum()\n",
    "year_sales"
   ]
  },
  {
   "cell_type": "code",
   "execution_count": 293,
   "metadata": {},
   "outputs": [
    {
     "data": {
      "text/plain": [
       "Nett Sale Amt.    6.015162e+09\n",
       "dtype: float64"
      ]
     },
     "execution_count": 293,
     "metadata": {},
     "output_type": "execute_result"
    }
   ],
   "source": [
    "df_merged[df_merged['Year'] == 2021].loc[:,['Nett Sale Amt.']].sum()"
   ]
  },
  {
   "cell_type": "code",
   "execution_count": 281,
   "metadata": {},
   "outputs": [
    {
     "name": "stderr",
     "output_type": "stream",
     "text": [
      "C:\\Users\\godwi\\AppData\\Local\\Temp\\ipykernel_21180\\1536222936.py:3: UserWarning:\n",
      "\n",
      "Matplotlib is currently using module://matplotlib_inline.backend_inline, which is a non-GUI backend, so cannot show the figure.\n",
      "\n"
     ]
    },
    {
     "data": {
      "image/png": "[encoded data removed]",
      "text/plain": [
       "<Figure size 720x360 with 1 Axes>"
      ]
     },
     "metadata": {},
     "output_type": "display_data"
    }
   ],
   "source": [
    "fig,ax=plt.subplots(figsize = (10,5))\n",
    "plt.bar(year_sales.index, year_sales['Nett Sale Amt.'],color =['navy','purple','green'])\n",
    "fig.show()"
   ]
  },
  {
   "cell_type": "code",
   "execution_count": 296,
   "metadata": {},
   "outputs": [
    {
     "data": {
      "application/vnd.plotly.v1+json": {
       "config": {
        "plotlyServerURL": "https://plot.ly"
       },
       "data": [
        {
         "alignmentgroup": "True",
         "hovertemplate": "variable=Nett Sale Amt.<br>Year=%{x}<br>value=%{y}<extra></extra>",
         "legendgroup": "Nett Sale Amt.",
         "marker": {
          "color": "#636efa",
          "pattern": {
           "shape": ""
          }
         },
         "name": "Nett Sale Amt.",
         "offsetgroup": "Nett Sale Amt.",
         "orientation": "v",
         "showlegend": true,
         "textposition": "auto",
         "texttemplate": "%{y}",
         "type": "bar",
         "x": [
          2021,
          2022,
          2023
         ],
         "xaxis": "x",
         "y": [
          6015161556.26,
          6581654051.61,
          6721219384.67
         ],
         "yaxis": "y"
        }
       ],
       "layout": {
        "barmode": "relative",
        "legend": {
         "title": {
          "text": "variable"
         },
         "tracegroupgap": 0
        },
        "margin": {
         "t": 60
        },
        "template": {
         "data": {
          "bar": [
           {
            "error_x": {
             "color": "#2a3f5f"
            },
            "error_y": {
             "color": "#2a3f5f"
            },
            "marker": {
             "line": {
              "color": "#E5ECF6",
              "width": 0.5
             },
             "pattern": {
              "fillmode": "overlay",
              "size": 10,
              "solidity": 0.2
             }
            },
            "type": "bar"
           }
          ],
          "barpolar": [
           {
            "marker": {
             "line": {
              "color": "#E5ECF6",
              "width": 0.5
             },
             "pattern": {
              "fillmode": "overlay",
              "size": 10,
              "solidity": 0.2
             }
            },
            "type": "barpolar"
           }
          ],
          "carpet": [
           {
            "aaxis": {
             "endlinecolor": "#2a3f5f",
             "gridcolor": "white",
             "linecolor": "white",
             "minorgridcolor": "white",
             "startlinecolor": "#2a3f5f"
            },
            "baxis": {
             "endlinecolor": "#2a3f5f",
             "gridcolor": "white",
             "linecolor": "white",
             "minorgridcolor": "white",
             "startlinecolor": "#2a3f5f"
            },
            "type": "carpet"
           }
          ],
          "choropleth": [
           {
            "colorbar": {
             "outlinewidth": 0,
             "ticks": ""
            },
            "type": "choropleth"
           }
          ],
          "contour": [
           {
            "colorbar": {
             "outlinewidth": 0,
             "ticks": ""
            },
            "colorscale": [
             [
              0,
              "#0d0887"
             ],
             [
              0.1111111111111111,
              "#46039f"
             ],
             [
              0.2222222222222222,
              "#7201a8"
             ],
             [
              0.3333333333333333,
              "#9c179e"
             ],
             [
              0.4444444444444444,
              "#bd3786"
             ],
             [
              0.5555555555555556,
              "#d8576b"
             ],
             [
              0.6666666666666666,
              "#ed7953"
             ],
             [
              0.7777777777777778,
              "#fb9f3a"
             ],
             [
              0.8888888888888888,
              "#fdca26"
             ],
             [
              1,
              "#f0f921"
             ]
            ],
            "type": "contour"
           }
          ],
          "contourcarpet": [
           {
            "colorbar": {
             "outlinewidth": 0,
             "ticks": ""
            },
            "type": "contourcarpet"
           }
          ],
          "heatmap": [
           {
            "colorbar": {
             "outlinewidth": 0,
             "ticks": ""
            },
            "colorscale": [
             [
              0,
              "#0d0887"
             ],
             [
              0.1111111111111111,
              "#46039f"
             ],
             [
              0.2222222222222222,
              "#7201a8"
             ],
             [
              0.3333333333333333,
              "#9c179e"
             ],
             [
              0.4444444444444444,
              "#bd3786"
             ],
             [
              0.5555555555555556,
              "#d8576b"
             ],
             [
              0.6666666666666666,
              "#ed7953"
             ],
             [
              0.7777777777777778,
              "#fb9f3a"
             ],
             [
              0.8888888888888888,
              "#fdca26"
             ],
             [
              1,
              "#f0f921"
             ]
            ],
            "type": "heatmap"
           }
          ],
          "heatmapgl": [
           {
            "colorbar": {
             "outlinewidth": 0,
             "ticks": ""
            },
            "colorscale": [
             [
              0,
              "#0d0887"
             ],
             [
              0.1111111111111111,
              "#46039f"
             ],
             [
              0.2222222222222222,
              "#7201a8"
             ],
             [
              0.3333333333333333,
              "#9c179e"
             ],
             [
              0.4444444444444444,
              "#bd3786"
             ],
             [
              0.5555555555555556,
              "#d8576b"
             ],
             [
              0.6666666666666666,
              "#ed7953"
             ],
             [
              0.7777777777777778,
              "#fb9f3a"
             ],
             [
              0.8888888888888888,
              "#fdca26"
             ],
             [
              1,
              "#f0f921"
             ]
            ],
            "type": "heatmapgl"
           }
          ],
          "histogram": [
           {
            "marker": {
             "pattern": {
              "fillmode": "overlay",
              "size": 10,
              "solidity": 0.2
             }
            },
            "type": "histogram"
           }
          ],
          "histogram2d": [
           {
            "colorbar": {
             "outlinewidth": 0,
             "ticks": ""
            },
            "colorscale": [
             [
              0,
              "#0d0887"
             ],
             [
              0.1111111111111111,
              "#46039f"
             ],
             [
              0.2222222222222222,
              "#7201a8"
             ],
             [
              0.3333333333333333,
              "#9c179e"
             ],
             [
              0.4444444444444444,
              "#bd3786"
             ],
             [
              0.5555555555555556,
              "#d8576b"
             ],
             [
              0.6666666666666666,
              "#ed7953"
             ],
             [
              0.7777777777777778,
              "#fb9f3a"
             ],
             [
              0.8888888888888888,
              "#fdca26"
             ],
             [
              1,
              "#f0f921"
             ]
            ],
            "type": "histogram2d"
           }
          ],
          "histogram2dcontour": [
           {
            "colorbar": {
             "outlinewidth": 0,
             "ticks": ""
            },
            "colorscale": [
             [
              0,
              "#0d0887"
             ],
             [
              0.1111111111111111,
              "#46039f"
             ],
             [
              0.2222222222222222,
              "#7201a8"
             ],
             [
              0.3333333333333333,
              "#9c179e"
             ],
             [
              0.4444444444444444,
              "#bd3786"
             ],
             [
              0.5555555555555556,
              "#d8576b"
             ],
             [
              0.6666666666666666,
              "#ed7953"
             ],
             [
              0.7777777777777778,
              "#fb9f3a"
             ],
             [
              0.8888888888888888,
              "#fdca26"
             ],
             [
              1,
              "#f0f921"
             ]
            ],
            "type": "histogram2dcontour"
           }
          ],
          "mesh3d": [
           {
            "colorbar": {
             "outlinewidth": 0,
             "ticks": ""
            },
            "type": "mesh3d"
           }
          ],
          "parcoords": [
           {
            "line": {
             "colorbar": {
              "outlinewidth": 0,
              "ticks": ""
             }
            },
            "type": "parcoords"
           }
          ],
          "pie": [
           {
            "automargin": true,
            "type": "pie"
           }
          ],
          "scatter": [
           {
            "fillpattern": {
             "fillmode": "overlay",
             "size": 10,
             "solidity": 0.2
            },
            "type": "scatter"
           }
          ],
          "scatter3d": [
           {
            "line": {
             "colorbar": {
              "outlinewidth": 0,
              "ticks": ""
             }
            },
            "marker": {
             "colorbar": {
              "outlinewidth": 0,
              "ticks": ""
             }
            },
            "type": "scatter3d"
           }
          ],
          "scattercarpet": [
           {
            "marker": {
             "colorbar": {
              "outlinewidth": 0,
              "ticks": ""
             }
            },
            "type": "scattercarpet"
           }
          ],
          "scattergeo": [
           {
            "marker": {
             "colorbar": {
              "outlinewidth": 0,
              "ticks": ""
             }
            },
            "type": "scattergeo"
           }
          ],
          "scattergl": [
           {
            "marker": {
             "colorbar": {
              "outlinewidth": 0,
              "ticks": ""
             }
            },
            "type": "scattergl"
           }
          ],
          "scattermapbox": [
           {
            "marker": {
             "colorbar": {
              "outlinewidth": 0,
              "ticks": ""
             }
            },
            "type": "scattermapbox"
           }
          ],
          "scatterpolar": [
           {
            "marker": {
             "colorbar": {
              "outlinewidth": 0,
              "ticks": ""
             }
            },
            "type": "scatterpolar"
           }
          ],
          "scatterpolargl": [
           {
            "marker": {
             "colorbar": {
              "outlinewidth": 0,
              "ticks": ""
             }
            },
            "type": "scatterpolargl"
           }
          ],
          "scatterternary": [
           {
            "marker": {
             "colorbar": {
              "outlinewidth": 0,
              "ticks": ""
             }
            },
            "type": "scatterternary"
           }
          ],
          "surface": [
           {
            "colorbar": {
             "outlinewidth": 0,
             "ticks": ""
            },
            "colorscale": [
             [
              0,
              "#0d0887"
             ],
             [
              0.1111111111111111,
              "#46039f"
             ],
             [
              0.2222222222222222,
              "#7201a8"
             ],
             [
              0.3333333333333333,
              "#9c179e"
             ],
             [
              0.4444444444444444,
              "#bd3786"
             ],
             [
              0.5555555555555556,
              "#d8576b"
             ],
             [
              0.6666666666666666,
              "#ed7953"
             ],
             [
              0.7777777777777778,
              "#fb9f3a"
             ],
             [
              0.8888888888888888,
              "#fdca26"
             ],
             [
              1,
              "#f0f921"
             ]
            ],
            "type": "surface"
           }
          ],
          "table": [
           {
            "cells": {
             "fill": {
              "color": "#EBF0F8"
             },
             "line": {
              "color": "white"
             }
            },
            "header": {
             "fill": {
              "color": "#C8D4E3"
             },
             "line": {
              "color": "white"
             }
            },
            "type": "table"
           }
          ]
         },
         "layout": {
          "annotationdefaults": {
           "arrowcolor": "#2a3f5f",
           "arrowhead": 0,
           "arrowwidth": 1
          },
          "autotypenumbers": "strict",
          "coloraxis": {
           "colorbar": {
            "outlinewidth": 0,
            "ticks": ""
           }
          },
          "colorscale": {
           "diverging": [
            [
             0,
             "#8e0152"
            ],
            [
             0.1,
             "#c51b7d"
            ],
            [
             0.2,
             "#de77ae"
            ],
            [
             0.3,
             "#f1b6da"
            ],
            [
             0.4,
             "#fde0ef"
            ],
            [
             0.5,
             "#f7f7f7"
            ],
            [
             0.6,
             "#e6f5d0"
            ],
            [
             0.7,
             "#b8e186"
            ],
            [
             0.8,
             "#7fbc41"
            ],
            [
             0.9,
             "#4d9221"
            ],
            [
             1,
             "#276419"
            ]
           ],
           "sequential": [
            [
             0,
             "#0d0887"
            ],
            [
             0.1111111111111111,
             "#46039f"
            ],
            [
             0.2222222222222222,
             "#7201a8"
            ],
            [
             0.3333333333333333,
             "#9c179e"
            ],
            [
             0.4444444444444444,
             "#bd3786"
            ],
            [
             0.5555555555555556,
             "#d8576b"
            ],
            [
             0.6666666666666666,
             "#ed7953"
            ],
            [
             0.7777777777777778,
             "#fb9f3a"
            ],
            [
             0.8888888888888888,
             "#fdca26"
            ],
            [
             1,
             "#f0f921"
            ]
           ],
           "sequentialminus": [
            [
             0,
             "#0d0887"
            ],
            [
             0.1111111111111111,
             "#46039f"
            ],
            [
             0.2222222222222222,
             "#7201a8"
            ],
            [
             0.3333333333333333,
             "#9c179e"
            ],
            [
             0.4444444444444444,
             "#bd3786"
            ],
            [
             0.5555555555555556,
             "#d8576b"
            ],
            [
             0.6666666666666666,
             "#ed7953"
            ],
            [
             0.7777777777777778,
             "#fb9f3a"
            ],
            [
             0.8888888888888888,
             "#fdca26"
            ],
            [
             1,
             "#f0f921"
            ]
           ]
          },
          "colorway": [
           "#636efa",
           "#EF553B",
           "#00cc96",
           "#ab63fa",
           "#FFA15A",
           "#19d3f3",
           "#FF6692",
           "#B6E880",
           "#FF97FF",
           "#FECB52"
          ],
          "font": {
           "color": "#2a3f5f"
          },
          "geo": {
           "bgcolor": "white",
           "lakecolor": "white",
           "landcolor": "#E5ECF6",
           "showlakes": true,
           "showland": true,
           "subunitcolor": "white"
          },
          "hoverlabel": {
           "align": "left"
          },
          "hovermode": "closest",
          "mapbox": {
           "style": "light"
          },
          "paper_bgcolor": "white",
          "plot_bgcolor": "#E5ECF6",
          "polar": {
           "angularaxis": {
            "gridcolor": "white",
            "linecolor": "white",
            "ticks": ""
           },
           "bgcolor": "#E5ECF6",
           "radialaxis": {
            "gridcolor": "white",
            "linecolor": "white",
            "ticks": ""
           }
          },
          "scene": {
           "xaxis": {
            "backgroundcolor": "#E5ECF6",
            "gridcolor": "white",
            "gridwidth": 2,
            "linecolor": "white",
            "showbackground": true,
            "ticks": "",
            "zerolinecolor": "white"
           },
           "yaxis": {
            "backgroundcolor": "#E5ECF6",
            "gridcolor": "white",
            "gridwidth": 2,
            "linecolor": "white",
            "showbackground": true,
            "ticks": "",
            "zerolinecolor": "white"
           },
           "zaxis": {
            "backgroundcolor": "#E5ECF6",
            "gridcolor": "white",
            "gridwidth": 2,
            "linecolor": "white",
            "showbackground": true,
            "ticks": "",
            "zerolinecolor": "white"
           }
          },
          "shapedefaults": {
           "line": {
            "color": "#2a3f5f"
           }
          },
          "ternary": {
           "aaxis": {
            "gridcolor": "white",
            "linecolor": "white",
            "ticks": ""
           },
           "baxis": {
            "gridcolor": "white",
            "linecolor": "white",
            "ticks": ""
           },
           "bgcolor": "#E5ECF6",
           "caxis": {
            "gridcolor": "white",
            "linecolor": "white",
            "ticks": ""
           }
          },
          "title": {
           "x": 0.05
          },
          "xaxis": {
           "automargin": true,
           "gridcolor": "white",
           "linecolor": "white",
           "ticks": "",
           "title": {
            "standoff": 15
           },
           "zerolinecolor": "white",
           "zerolinewidth": 2
          },
          "yaxis": {
           "automargin": true,
           "gridcolor": "white",
           "linecolor": "white",
           "ticks": "",
           "title": {
            "standoff": 15
           },
           "zerolinecolor": "white",
           "zerolinewidth": 2
          }
         }
        },
        "xaxis": {
         "anchor": "y",
         "domain": [
          0,
          1
         ],
         "title": {
          "text": "Year"
         }
        },
        "yaxis": {
         "anchor": "x",
         "domain": [
          0,
          1
         ],
         "title": {
          "text": "value"
         }
        }
       }
      }
     },
     "metadata": {},
     "output_type": "display_data"
    }
   ],
   "source": [
    "fig = px.bar(year_sales, text_auto=True)\n",
    "fig.update_traces()\n",
    "fig.show()"
   ]
  },
  {
   "cell_type": "code",
   "execution_count": null,
   "metadata": {},
   "outputs": [],
   "source": []
  },
  {
   "cell_type": "code",
   "execution_count": 231,
   "metadata": {},
   "outputs": [
    {
     "data": {
      "text/plain": [
       "['Solarize_Light2',\n",
       " '_classic_test_patch',\n",
       " '_mpl-gallery',\n",
       " '_mpl-gallery-nogrid',\n",
       " 'bmh',\n",
       " 'classic',\n",
       " 'dark_background',\n",
       " 'fast',\n",
       " 'fivethirtyeight',\n",
       " 'ggplot',\n",
       " 'grayscale',\n",
       " 'seaborn',\n",
       " 'seaborn-bright',\n",
       " 'seaborn-colorblind',\n",
       " 'seaborn-dark',\n",
       " 'seaborn-dark-palette',\n",
       " 'seaborn-darkgrid',\n",
       " 'seaborn-deep',\n",
       " 'seaborn-muted',\n",
       " 'seaborn-notebook',\n",
       " 'seaborn-paper',\n",
       " 'seaborn-pastel',\n",
       " 'seaborn-poster',\n",
       " 'seaborn-talk',\n",
       " 'seaborn-ticks',\n",
       " 'seaborn-white',\n",
       " 'seaborn-whitegrid',\n",
       " 'tableau-colorblind10']"
      ]
     },
     "execution_count": 231,
     "metadata": {},
     "output_type": "execute_result"
    }
   ],
   "source": [
    "plt.style.available"
   ]
  },
  {
   "cell_type": "code",
   "execution_count": 240,
   "metadata": {},
   "outputs": [
    {
     "name": "stderr",
     "output_type": "stream",
     "text": [
      "C:\\Users\\godwi\\AppData\\Local\\Temp\\ipykernel_21180\\2840191903.py:4: UserWarning:\n",
      "\n",
      "Matplotlib is currently using module://matplotlib_inline.backend_inline, which is a non-GUI backend, so cannot show the figure.\n",
      "\n"
     ]
    },
    {
     "data": {
      "image/png": "[encoded data removed]",
      "text/plain": [
       "<Figure size 720x720 with 1 Axes>"
      ]
     },
     "metadata": {},
     "output_type": "display_data"
    }
   ],
   "source": [
    "\n",
    "plt.style.use('seaborn-whitegrid')\n",
    "fig, ax= plt.subplots(figsize= (10,10))\n",
    "plt.pie(year_sales['Nett Sale Amt.'],labels=year_sales.index,autopct='%0.2f%%',explode =[0.02,0.02,0.03],textprops={'fontsize': 15})\n",
    "fig.show()"
   ]
  },
  {
   "cell_type": "code",
   "execution_count": 107,
   "metadata": {},
   "outputs": [
    {
     "data": {
      "text/html": [
       "<div>\n",
       "<style scoped>\n",
       "    .dataframe tbody tr th:only-of-type {\n",
       "        vertical-align: middle;\n",
       "    }\n",
       "\n",
       "    .dataframe tbody tr th {\n",
       "        vertical-align: top;\n",
       "    }\n",
       "\n",
       "    .dataframe thead th {\n",
       "        text-align: right;\n",
       "    }\n",
       "</style>\n",
       "<table border=\"1\" class=\"dataframe\">\n",
       "  <thead>\n",
       "    <tr style=\"text-align: right;\">\n",
       "      <th></th>\n",
       "      <th>Nett Sale Amt.</th>\n",
       "    </tr>\n",
       "    <tr>\n",
       "      <th>Cat LV1</th>\n",
       "      <th></th>\n",
       "    </tr>\n",
       "  </thead>\n",
       "  <tbody>\n",
       "    <tr>\n",
       "      <th></th>\n",
       "      <td>1.612909e+07</td>\n",
       "    </tr>\n",
       "    <tr>\n",
       "      <th>ACCESSORIES (PHONES &amp; TABLETS</th>\n",
       "      <td>1.088665e+07</td>\n",
       "    </tr>\n",
       "    <tr>\n",
       "      <th>AIR CONDITIONERS</th>\n",
       "      <td>6.591298e+07</td>\n",
       "    </tr>\n",
       "    <tr>\n",
       "      <th>Accessories</th>\n",
       "      <td>1.497476e+08</td>\n",
       "    </tr>\n",
       "    <tr>\n",
       "      <th>Accessories &amp; spare parts</th>\n",
       "      <td>8.000000e+02</td>\n",
       "    </tr>\n",
       "    <tr>\n",
       "      <th>...</th>\n",
       "      <td>...</td>\n",
       "    </tr>\n",
       "    <tr>\n",
       "      <th>TABLETS</th>\n",
       "      <td>3.164513e+08</td>\n",
       "    </tr>\n",
       "    <tr>\n",
       "      <th>TELEVISION &amp; VIDEO</th>\n",
       "      <td>1.375814e+08</td>\n",
       "    </tr>\n",
       "    <tr>\n",
       "      <th>TV &amp; Video</th>\n",
       "      <td>2.450000e+05</td>\n",
       "    </tr>\n",
       "    <tr>\n",
       "      <th>Tecno</th>\n",
       "      <td>5.509250e+05</td>\n",
       "    </tr>\n",
       "    <tr>\n",
       "      <th>Used</th>\n",
       "      <td>1.022155e+08</td>\n",
       "    </tr>\n",
       "  </tbody>\n",
       "</table>\n",
       "<p>67 rows × 1 columns</p>\n",
       "</div>"
      ],
      "text/plain": [
       "                               Nett Sale Amt.\n",
       "Cat LV1                                      \n",
       "                                 1.612909e+07\n",
       "ACCESSORIES (PHONES & TABLETS    1.088665e+07\n",
       "AIR CONDITIONERS                 6.591298e+07\n",
       "Accessories                      1.497476e+08\n",
       "Accessories & spare parts        8.000000e+02\n",
       "...                                       ...\n",
       "TABLETS                          3.164513e+08\n",
       "TELEVISION & VIDEO               1.375814e+08\n",
       "TV & Video                       2.450000e+05\n",
       "Tecno                            5.509250e+05\n",
       "Used                             1.022155e+08\n",
       "\n",
       "[67 rows x 1 columns]"
      ]
     },
     "execution_count": 107,
     "metadata": {},
     "output_type": "execute_result"
    }
   ],
   "source": [
    "df_merged.iloc[:,[4,10]].groupby('Cat LV1').sum().sort_values('Cat LV1')"
   ]
  },
  {
   "cell_type": "code",
   "execution_count": 106,
   "metadata": {},
   "outputs": [
    {
     "data": {
      "text/html": [
       "<div>\n",
       "<style scoped>\n",
       "    .dataframe tbody tr th:only-of-type {\n",
       "        vertical-align: middle;\n",
       "    }\n",
       "\n",
       "    .dataframe tbody tr th {\n",
       "        vertical-align: top;\n",
       "    }\n",
       "\n",
       "    .dataframe thead th {\n",
       "        text-align: right;\n",
       "    }\n",
       "</style>\n",
       "<table border=\"1\" class=\"dataframe\">\n",
       "  <thead>\n",
       "    <tr style=\"text-align: right;\">\n",
       "      <th></th>\n",
       "      <th>Nett Sale Amt.</th>\n",
       "    </tr>\n",
       "    <tr>\n",
       "      <th>Category</th>\n",
       "      <th></th>\n",
       "    </tr>\n",
       "  </thead>\n",
       "  <tbody>\n",
       "    <tr>\n",
       "      <th></th>\n",
       "      <td>1.165208e+07</td>\n",
       "    </tr>\n",
       "    <tr>\n",
       "      <th>ACCESSORIES</th>\n",
       "      <td>1.120079e+08</td>\n",
       "    </tr>\n",
       "    <tr>\n",
       "      <th>COMPUTING</th>\n",
       "      <td>1.149812e+10</td>\n",
       "    </tr>\n",
       "    <tr>\n",
       "      <th>CONSUMER ELECTRONICS</th>\n",
       "      <td>8.634168e+08</td>\n",
       "    </tr>\n",
       "    <tr>\n",
       "      <th>HOME, OFFICE &amp; FURNITURE</th>\n",
       "      <td>1.648084e+06</td>\n",
       "    </tr>\n",
       "    <tr>\n",
       "      <th>HP NEW - COMMERCIAL</th>\n",
       "      <td>5.507529e+08</td>\n",
       "    </tr>\n",
       "    <tr>\n",
       "      <th>HP NEW - CONSUMER</th>\n",
       "      <td>3.341584e+09</td>\n",
       "    </tr>\n",
       "    <tr>\n",
       "      <th>HP NEW CHANNEL</th>\n",
       "      <td>6.289000e+06</td>\n",
       "    </tr>\n",
       "    <tr>\n",
       "      <th>HP NEW NON CHANNEL</th>\n",
       "      <td>1.314000e+07</td>\n",
       "    </tr>\n",
       "    <tr>\n",
       "      <th>LIFESTYLE</th>\n",
       "      <td>2.450000e+05</td>\n",
       "    </tr>\n",
       "    <tr>\n",
       "      <th>MOBILE</th>\n",
       "      <td>1.119804e+08</td>\n",
       "    </tr>\n",
       "    <tr>\n",
       "      <th>MOBILE DEVICES &amp; ACC</th>\n",
       "      <td>4.770000e+04</td>\n",
       "    </tr>\n",
       "    <tr>\n",
       "      <th>MOBILE DEVICES &amp; ACCESSORIES</th>\n",
       "      <td>7.984457e+08</td>\n",
       "    </tr>\n",
       "    <tr>\n",
       "      <th>NONE HP</th>\n",
       "      <td>7.688302e+08</td>\n",
       "    </tr>\n",
       "    <tr>\n",
       "      <th>RECERTIFIED</th>\n",
       "      <td>1.091846e+09</td>\n",
       "    </tr>\n",
       "    <tr>\n",
       "      <th>SMART DEVICES, SECUR</th>\n",
       "      <td>5.939000e+05</td>\n",
       "    </tr>\n",
       "    <tr>\n",
       "      <th>SMART DEVICES, SECURITY AND WIFI</th>\n",
       "      <td>1.287406e+08</td>\n",
       "    </tr>\n",
       "    <tr>\n",
       "      <th>SPARE PART</th>\n",
       "      <td>1.449049e+07</td>\n",
       "    </tr>\n",
       "    <tr>\n",
       "      <th>USED</th>\n",
       "      <td>4.200160e+06</td>\n",
       "    </tr>\n",
       "  </tbody>\n",
       "</table>\n",
       "</div>"
      ],
      "text/plain": [
       "                                  Nett Sale Amt.\n",
       "Category                                        \n",
       "                                    1.165208e+07\n",
       "ACCESSORIES                         1.120079e+08\n",
       "COMPUTING                           1.149812e+10\n",
       "CONSUMER ELECTRONICS                8.634168e+08\n",
       "HOME, OFFICE & FURNITURE            1.648084e+06\n",
       "HP NEW - COMMERCIAL                 5.507529e+08\n",
       "HP NEW - CONSUMER                   3.341584e+09\n",
       "HP NEW CHANNEL                      6.289000e+06\n",
       "HP NEW NON CHANNEL                  1.314000e+07\n",
       "LIFESTYLE                           2.450000e+05\n",
       "MOBILE                              1.119804e+08\n",
       "MOBILE DEVICES & ACC                4.770000e+04\n",
       "MOBILE DEVICES & ACCESSORIES        7.984457e+08\n",
       "NONE HP                             7.688302e+08\n",
       "RECERTIFIED                         1.091846e+09\n",
       "SMART DEVICES, SECUR                5.939000e+05\n",
       "SMART DEVICES, SECURITY AND WIFI    1.287406e+08\n",
       "SPARE PART                          1.449049e+07\n",
       "USED                                4.200160e+06"
      ]
     },
     "execution_count": 106,
     "metadata": {},
     "output_type": "execute_result"
    }
   ],
   "source": [
    "df_merged.iloc[:,[2,10]].groupby('Category').sum().sort_values('Category')"
   ]
  },
  {
   "cell_type": "code",
   "execution_count": 151,
   "metadata": {},
   "outputs": [
    {
     "data": {
      "text/html": [
       "<div>\n",
       "<style scoped>\n",
       "    .dataframe tbody tr th:only-of-type {\n",
       "        vertical-align: middle;\n",
       "    }\n",
       "\n",
       "    .dataframe tbody tr th {\n",
       "        vertical-align: top;\n",
       "    }\n",
       "\n",
       "    .dataframe thead th {\n",
       "        text-align: right;\n",
       "    }\n",
       "</style>\n",
       "<table border=\"1\" class=\"dataframe\">\n",
       "  <thead>\n",
       "    <tr style=\"text-align: right;\">\n",
       "      <th></th>\n",
       "      <th></th>\n",
       "      <th>Nett Sale Amt.</th>\n",
       "    </tr>\n",
       "    <tr>\n",
       "      <th>Year</th>\n",
       "      <th>BRAND</th>\n",
       "      <th></th>\n",
       "    </tr>\n",
       "  </thead>\n",
       "  <tbody>\n",
       "    <tr>\n",
       "      <th rowspan=\"5\" valign=\"top\">2021</th>\n",
       "      <th></th>\n",
       "      <td>2516100.00</td>\n",
       "    </tr>\n",
       "    <tr>\n",
       "      <th>ACCESSORIES</th>\n",
       "      <td>54855307.10</td>\n",
       "    </tr>\n",
       "    <tr>\n",
       "      <th>ACER</th>\n",
       "      <td>6938788.35</td>\n",
       "    </tr>\n",
       "    <tr>\n",
       "      <th>AMAZON</th>\n",
       "      <td>23073920.00</td>\n",
       "    </tr>\n",
       "    <tr>\n",
       "      <th>APPLE</th>\n",
       "      <td>70909660.00</td>\n",
       "    </tr>\n",
       "    <tr>\n",
       "      <th>...</th>\n",
       "      <th>...</th>\n",
       "      <td>...</td>\n",
       "    </tr>\n",
       "    <tr>\n",
       "      <th rowspan=\"5\" valign=\"top\">2023</th>\n",
       "      <th>Zkteco</th>\n",
       "      <td>3101378.00</td>\n",
       "    </tr>\n",
       "    <tr>\n",
       "      <th>Zsmart</th>\n",
       "      <td>185700.00</td>\n",
       "    </tr>\n",
       "    <tr>\n",
       "      <th>Zt800G-2</th>\n",
       "      <td>18000.00</td>\n",
       "    </tr>\n",
       "    <tr>\n",
       "      <th>kingson</th>\n",
       "      <td>108400.00</td>\n",
       "    </tr>\n",
       "    <tr>\n",
       "      <th>krusell</th>\n",
       "      <td>17700.00</td>\n",
       "    </tr>\n",
       "  </tbody>\n",
       "</table>\n",
       "<p>585 rows × 1 columns</p>\n",
       "</div>"
      ],
      "text/plain": [
       "                  Nett Sale Amt.\n",
       "Year BRAND                      \n",
       "2021                  2516100.00\n",
       "     ACCESSORIES     54855307.10\n",
       "     ACER             6938788.35\n",
       "     AMAZON          23073920.00\n",
       "     APPLE           70909660.00\n",
       "...                          ...\n",
       "2023 Zkteco           3101378.00\n",
       "     Zsmart            185700.00\n",
       "     Zt800G-2           18000.00\n",
       "     kingson           108400.00\n",
       "     krusell            17700.00\n",
       "\n",
       "[585 rows x 1 columns]"
      ]
     },
     "execution_count": 151,
     "metadata": {},
     "output_type": "execute_result"
    }
   ],
   "source": [
    "df_merged.iloc[:,[12,10,1]].pivot_table(index=['Year','BRAND'],values='Nett Sale Amt.',aggfunc='sum')"
   ]
  },
  {
   "cell_type": "code",
   "execution_count": 319,
   "metadata": {},
   "outputs": [],
   "source": [
    "cat_1 = df_merged[df_merged['Year'] == 2021].loc[:,['Category','Nett Sale Amt.']].groupby('Category').sum()\n",
    "cat_2 = df_merged[df_merged['Year'] == 2022].loc[:,['Category','Nett Sale Amt.']].groupby('Category').sum()\n",
    "cat_3 = df_merged[df_merged['Year'] == 2023].loc[:,['Category','Nett Sale Amt.']].groupby('Category').sum()"
   ]
  },
  {
   "cell_type": "code",
   "execution_count": 332,
   "metadata": {},
   "outputs": [],
   "source": [
    "cat_year = pd.merge(cat_1,cat_2, left_index=True, right_index=True, how='outer').merge(cat_3, left_index=True, right_index=True, how='outer').rename\\\n",
    "    ({'Nett Sale Amt._x': 'sales amt_2021'},axis=1).rename({'Nett Sale Amt._y': 'sales amt_2022'},axis=1).rename({'Nett Sale Amt.': 'sales amt_2023'},axis=1)"
   ]
  },
  {
   "cell_type": "code",
   "execution_count": 347,
   "metadata": {},
   "outputs": [],
   "source": [
    "cat_year.to_excel('cat_yr.xlsx')"
   ]
  },
  {
   "cell_type": "code",
   "execution_count": 351,
   "metadata": {},
   "outputs": [
    {
     "data": {
      "application/vnd.plotly.v1+json": {
       "config": {
        "plotlyServerURL": "https://plot.ly"
       },
       "data": [
        {
         "alignmentgroup": "True",
         "hovertemplate": "variable=sales amt_2021<br>Category=%{x}<br>value=%{y}<extra></extra>",
         "legendgroup": "sales amt_2021",
         "marker": {
          "color": "#636efa",
          "pattern": {
           "shape": ""
          }
         },
         "name": "sales amt_2021",
         "offsetgroup": "sales amt_2021",
         "orientation": "v",
         "showlegend": true,
         "textposition": "auto",
         "type": "bar",
         "x": [
          2021,
          " ",
          "ACCESSORIES",
          "COMPUTING",
          "CONSUMER ELECTRONICS",
          "HOME, OFFICE & FURNITURE",
          "HP NEW - COMMERCIAL",
          "HP NEW - CONSUMER",
          "HP NEW CHANNEL",
          "HP NEW NON CHANNEL",
          "LIFESTYLE",
          "MOBILE",
          "MOBILE DEVICES & ACC",
          "MOBILE DEVICES & ACCESSORIES",
          "NONE HP",
          "RECERTIFIED",
          "SMART DEVICES, SECUR",
          "SMART DEVICES, SECURITY AND WIFI",
          "SPARE PART",
          "USED"
         ],
         "xaxis": "x",
         "y": [
          2021,
          4913665.33,
          71581677.56,
          1851930267.44,
          184781404.37,
          195084.32,
          110687094,
          2412711006.15,
          6289000,
          1870000,
          160300,
          65367012.85,
          null,
          82070739.18,
          528381142.5,
          659639090.44,
          11400,
          29497000.12,
          2258031,
          2815620
         ],
         "yaxis": "y"
        },
        {
         "alignmentgroup": "True",
         "hovertemplate": "variable=sales amt_2022<br>Category=%{x}<br>value=%{y}<extra></extra>",
         "legendgroup": "sales amt_2022",
         "marker": {
          "color": "#EF553B",
          "pattern": {
           "shape": ""
          }
         },
         "name": "sales amt_2022",
         "offsetgroup": "sales amt_2022",
         "orientation": "v",
         "showlegend": true,
         "textposition": "auto",
         "type": "bar",
         "x": [
          2021,
          " ",
          "ACCESSORIES",
          "COMPUTING",
          "CONSUMER ELECTRONICS",
          "HOME, OFFICE & FURNITURE",
          "HP NEW - COMMERCIAL",
          "HP NEW - CONSUMER",
          "HP NEW CHANNEL",
          "HP NEW NON CHANNEL",
          "LIFESTYLE",
          "MOBILE",
          "MOBILE DEVICES & ACC",
          "MOBILE DEVICES & ACCESSORIES",
          "NONE HP",
          "RECERTIFIED",
          "SMART DEVICES, SECUR",
          "SMART DEVICES, SECURITY AND WIFI",
          "SPARE PART",
          "USED"
         ],
         "xaxis": "x",
         "y": [
          null,
          6738417,
          40426222.8,
          3901290603.81,
          274268503.76,
          111600,
          440065833,
          928873122,
          null,
          11270000,
          84700,
          46613356.25,
          47700,
          225693342.25,
          240417053.97,
          432206422,
          582500,
          29756832.89,
          1823301.88,
          1384540
         ],
         "yaxis": "y"
        },
        {
         "alignmentgroup": "True",
         "hovertemplate": "variable=sales amt_2023<br>Category=%{x}<br>value=%{y}<extra></extra>",
         "legendgroup": "sales amt_2023",
         "marker": {
          "color": "#00cc96",
          "pattern": {
           "shape": ""
          }
         },
         "name": "sales amt_2023",
         "offsetgroup": "sales amt_2023",
         "orientation": "v",
         "showlegend": true,
         "textposition": "auto",
         "type": "bar",
         "x": [
          2021,
          " ",
          "ACCESSORIES",
          "COMPUTING",
          "CONSUMER ELECTRONICS",
          "HOME, OFFICE & FURNITURE",
          "HP NEW - COMMERCIAL",
          "HP NEW - CONSUMER",
          "HP NEW CHANNEL",
          "HP NEW NON CHANNEL",
          "LIFESTYLE",
          "MOBILE",
          "MOBILE DEVICES & ACC",
          "MOBILE DEVICES & ACCESSORIES",
          "NONE HP",
          "RECERTIFIED",
          "SMART DEVICES, SECUR",
          "SMART DEVICES, SECURITY AND WIFI",
          "SPARE PART",
          "USED"
         ],
         "xaxis": "x",
         "y": [
          null,
          null,
          null,
          5744901520.68,
          404366891.13,
          1341400,
          null,
          null,
          null,
          null,
          null,
          null,
          null,
          490681659.35,
          32000,
          null,
          null,
          69486752.09,
          10409161.42,
          null
         ],
         "yaxis": "y"
        }
       ],
       "layout": {
        "barmode": "group",
        "legend": {
         "title": {
          "text": "variable"
         },
         "tracegroupgap": 0
        },
        "margin": {
         "t": 60
        },
        "template": {
         "data": {
          "bar": [
           {
            "error_x": {
             "color": "#2a3f5f"
            },
            "error_y": {
             "color": "#2a3f5f"
            },
            "marker": {
             "line": {
              "color": "#E5ECF6",
              "width": 0.5
             },
             "pattern": {
              "fillmode": "overlay",
              "size": 10,
              "solidity": 0.2
             }
            },
            "type": "bar"
           }
          ],
          "barpolar": [
           {
            "marker": {
             "line": {
              "color": "#E5ECF6",
              "width": 0.5
             },
             "pattern": {
              "fillmode": "overlay",
              "size": 10,
              "solidity": 0.2
             }
            },
            "type": "barpolar"
           }
          ],
          "carpet": [
           {
            "aaxis": {
             "endlinecolor": "#2a3f5f",
             "gridcolor": "white",
             "linecolor": "white",
             "minorgridcolor": "white",
             "startlinecolor": "#2a3f5f"
            },
            "baxis": {
             "endlinecolor": "#2a3f5f",
             "gridcolor": "white",
             "linecolor": "white",
             "minorgridcolor": "white",
             "startlinecolor": "#2a3f5f"
            },
            "type": "carpet"
           }
          ],
          "choropleth": [
           {
            "colorbar": {
             "outlinewidth": 0,
             "ticks": ""
            },
            "type": "choropleth"
           }
          ],
          "contour": [
           {
            "colorbar": {
             "outlinewidth": 0,
             "ticks": ""
            },
            "colorscale": [
             [
              0,
              "#0d0887"
             ],
             [
              0.1111111111111111,
              "#46039f"
             ],
             [
              0.2222222222222222,
              "#7201a8"
             ],
             [
              0.3333333333333333,
              "#9c179e"
             ],
             [
              0.4444444444444444,
              "#bd3786"
             ],
             [
              0.5555555555555556,
              "#d8576b"
             ],
             [
              0.6666666666666666,
              "#ed7953"
             ],
             [
              0.7777777777777778,
              "#fb9f3a"
             ],
             [
              0.8888888888888888,
              "#fdca26"
             ],
             [
              1,
              "#f0f921"
             ]
            ],
            "type": "contour"
           }
          ],
          "contourcarpet": [
           {
            "colorbar": {
             "outlinewidth": 0,
             "ticks": ""
            },
            "type": "contourcarpet"
           }
          ],
          "heatmap": [
           {
            "colorbar": {
             "outlinewidth": 0,
             "ticks": ""
            },
            "colorscale": [
             [
              0,
              "#0d0887"
             ],
             [
              0.1111111111111111,
              "#46039f"
             ],
             [
              0.2222222222222222,
              "#7201a8"
             ],
             [
              0.3333333333333333,
              "#9c179e"
             ],
             [
              0.4444444444444444,
              "#bd3786"
             ],
             [
              0.5555555555555556,
              "#d8576b"
             ],
             [
              0.6666666666666666,
              "#ed7953"
             ],
             [
              0.7777777777777778,
              "#fb9f3a"
             ],
             [
              0.8888888888888888,
              "#fdca26"
             ],
             [
              1,
              "#f0f921"
             ]
            ],
            "type": "heatmap"
           }
          ],
          "heatmapgl": [
           {
            "colorbar": {
             "outlinewidth": 0,
             "ticks": ""
            },
            "colorscale": [
             [
              0,
              "#0d0887"
             ],
             [
              0.1111111111111111,
              "#46039f"
             ],
             [
              0.2222222222222222,
              "#7201a8"
             ],
             [
              0.3333333333333333,
              "#9c179e"
             ],
             [
              0.4444444444444444,
              "#bd3786"
             ],
             [
              0.5555555555555556,
              "#d8576b"
             ],
             [
              0.6666666666666666,
              "#ed7953"
             ],
             [
              0.7777777777777778,
              "#fb9f3a"
             ],
             [
              0.8888888888888888,
              "#fdca26"
             ],
             [
              1,
              "#f0f921"
             ]
            ],
            "type": "heatmapgl"
           }
          ],
          "histogram": [
           {
            "marker": {
             "pattern": {
              "fillmode": "overlay",
              "size": 10,
              "solidity": 0.2
             }
            },
            "type": "histogram"
           }
          ],
          "histogram2d": [
           {
            "colorbar": {
             "outlinewidth": 0,
             "ticks": ""
            },
            "colorscale": [
             [
              0,
              "#0d0887"
             ],
             [
              0.1111111111111111,
              "#46039f"
             ],
             [
              0.2222222222222222,
              "#7201a8"
             ],
             [
              0.3333333333333333,
              "#9c179e"
             ],
             [
              0.4444444444444444,
              "#bd3786"
             ],
             [
              0.5555555555555556,
              "#d8576b"
             ],
             [
              0.6666666666666666,
              "#ed7953"
             ],
             [
              0.7777777777777778,
              "#fb9f3a"
             ],
             [
              0.8888888888888888,
              "#fdca26"
             ],
             [
              1,
              "#f0f921"
             ]
            ],
            "type": "histogram2d"
           }
          ],
          "histogram2dcontour": [
           {
            "colorbar": {
             "outlinewidth": 0,
             "ticks": ""
            },
            "colorscale": [
             [
              0,
              "#0d0887"
             ],
             [
              0.1111111111111111,
              "#46039f"
             ],
             [
              0.2222222222222222,
              "#7201a8"
             ],
             [
              0.3333333333333333,
              "#9c179e"
             ],
             [
              0.4444444444444444,
              "#bd3786"
             ],
             [
              0.5555555555555556,
              "#d8576b"
             ],
             [
              0.6666666666666666,
              "#ed7953"
             ],
             [
              0.7777777777777778,
              "#fb9f3a"
             ],
             [
              0.8888888888888888,
              "#fdca26"
             ],
             [
              1,
              "#f0f921"
             ]
            ],
            "type": "histogram2dcontour"
           }
          ],
          "mesh3d": [
           {
            "colorbar": {
             "outlinewidth": 0,
             "ticks": ""
            },
            "type": "mesh3d"
           }
          ],
          "parcoords": [
           {
            "line": {
             "colorbar": {
              "outlinewidth": 0,
              "ticks": ""
             }
            },
            "type": "parcoords"
           }
          ],
          "pie": [
           {
            "automargin": true,
            "type": "pie"
           }
          ],
          "scatter": [
           {
            "fillpattern": {
             "fillmode": "overlay",
             "size": 10,
             "solidity": 0.2
            },
            "type": "scatter"
           }
          ],
          "scatter3d": [
           {
            "line": {
             "colorbar": {
              "outlinewidth": 0,
              "ticks": ""
             }
            },
            "marker": {
             "colorbar": {
              "outlinewidth": 0,
              "ticks": ""
             }
            },
            "type": "scatter3d"
           }
          ],
          "scattercarpet": [
           {
            "marker": {
             "colorbar": {
              "outlinewidth": 0,
              "ticks": ""
             }
            },
            "type": "scattercarpet"
           }
          ],
          "scattergeo": [
           {
            "marker": {
             "colorbar": {
              "outlinewidth": 0,
              "ticks": ""
             }
            },
            "type": "scattergeo"
           }
          ],
          "scattergl": [
           {
            "marker": {
             "colorbar": {
              "outlinewidth": 0,
              "ticks": ""
             }
            },
            "type": "scattergl"
           }
          ],
          "scattermapbox": [
           {
            "marker": {
             "colorbar": {
              "outlinewidth": 0,
              "ticks": ""
             }
            },
            "type": "scattermapbox"
           }
          ],
          "scatterpolar": [
           {
            "marker": {
             "colorbar": {
              "outlinewidth": 0,
              "ticks": ""
             }
            },
            "type": "scatterpolar"
           }
          ],
          "scatterpolargl": [
           {
            "marker": {
             "colorbar": {
              "outlinewidth": 0,
              "ticks": ""
             }
            },
            "type": "scatterpolargl"
           }
          ],
          "scatterternary": [
           {
            "marker": {
             "colorbar": {
              "outlinewidth": 0,
              "ticks": ""
             }
            },
            "type": "scatterternary"
           }
          ],
          "surface": [
           {
            "colorbar": {
             "outlinewidth": 0,
             "ticks": ""
            },
            "colorscale": [
             [
              0,
              "#0d0887"
             ],
             [
              0.1111111111111111,
              "#46039f"
             ],
             [
              0.2222222222222222,
              "#7201a8"
             ],
             [
              0.3333333333333333,
              "#9c179e"
             ],
             [
              0.4444444444444444,
              "#bd3786"
             ],
             [
              0.5555555555555556,
              "#d8576b"
             ],
             [
              0.6666666666666666,
              "#ed7953"
             ],
             [
              0.7777777777777778,
              "#fb9f3a"
             ],
             [
              0.8888888888888888,
              "#fdca26"
             ],
             [
              1,
              "#f0f921"
             ]
            ],
            "type": "surface"
           }
          ],
          "table": [
           {
            "cells": {
             "fill": {
              "color": "#EBF0F8"
             },
             "line": {
              "color": "white"
             }
            },
            "header": {
             "fill": {
              "color": "#C8D4E3"
             },
             "line": {
              "color": "white"
             }
            },
            "type": "table"
           }
          ]
         },
         "layout": {
          "annotationdefaults": {
           "arrowcolor": "#2a3f5f",
           "arrowhead": 0,
           "arrowwidth": 1
          },
          "autotypenumbers": "strict",
          "coloraxis": {
           "colorbar": {
            "outlinewidth": 0,
            "ticks": ""
           }
          },
          "colorscale": {
           "diverging": [
            [
             0,
             "#8e0152"
            ],
            [
             0.1,
             "#c51b7d"
            ],
            [
             0.2,
             "#de77ae"
            ],
            [
             0.3,
             "#f1b6da"
            ],
            [
             0.4,
             "#fde0ef"
            ],
            [
             0.5,
             "#f7f7f7"
            ],
            [
             0.6,
             "#e6f5d0"
            ],
            [
             0.7,
             "#b8e186"
            ],
            [
             0.8,
             "#7fbc41"
            ],
            [
             0.9,
             "#4d9221"
            ],
            [
             1,
             "#276419"
            ]
           ],
           "sequential": [
            [
             0,
             "#0d0887"
            ],
            [
             0.1111111111111111,
             "#46039f"
            ],
            [
             0.2222222222222222,
             "#7201a8"
            ],
            [
             0.3333333333333333,
             "#9c179e"
            ],
            [
             0.4444444444444444,
             "#bd3786"
            ],
            [
             0.5555555555555556,
             "#d8576b"
            ],
            [
             0.6666666666666666,
             "#ed7953"
            ],
            [
             0.7777777777777778,
             "#fb9f3a"
            ],
            [
             0.8888888888888888,
             "#fdca26"
            ],
            [
             1,
             "#f0f921"
            ]
           ],
           "sequentialminus": [
            [
             0,
             "#0d0887"
            ],
            [
             0.1111111111111111,
             "#46039f"
            ],
            [
             0.2222222222222222,
             "#7201a8"
            ],
            [
             0.3333333333333333,
             "#9c179e"
            ],
            [
             0.4444444444444444,
             "#bd3786"
            ],
            [
             0.5555555555555556,
             "#d8576b"
            ],
            [
             0.6666666666666666,
             "#ed7953"
            ],
            [
             0.7777777777777778,
             "#fb9f3a"
            ],
            [
             0.8888888888888888,
             "#fdca26"
            ],
            [
             1,
             "#f0f921"
            ]
           ]
          },
          "colorway": [
           "#636efa",
           "#EF553B",
           "#00cc96",
           "#ab63fa",
           "#FFA15A",
           "#19d3f3",
           "#FF6692",
           "#B6E880",
           "#FF97FF",
           "#FECB52"
          ],
          "font": {
           "color": "#2a3f5f"
          },
          "geo": {
           "bgcolor": "white",
           "lakecolor": "white",
           "landcolor": "#E5ECF6",
           "showlakes": true,
           "showland": true,
           "subunitcolor": "white"
          },
          "hoverlabel": {
           "align": "left"
          },
          "hovermode": "closest",
          "mapbox": {
           "style": "light"
          },
          "paper_bgcolor": "white",
          "plot_bgcolor": "#E5ECF6",
          "polar": {
           "angularaxis": {
            "gridcolor": "white",
            "linecolor": "white",
            "ticks": ""
           },
           "bgcolor": "#E5ECF6",
           "radialaxis": {
            "gridcolor": "white",
            "linecolor": "white",
            "ticks": ""
           }
          },
          "scene": {
           "xaxis": {
            "backgroundcolor": "#E5ECF6",
            "gridcolor": "white",
            "gridwidth": 2,
            "linecolor": "white",
            "showbackground": true,
            "ticks": "",
            "zerolinecolor": "white"
           },
           "yaxis": {
            "backgroundcolor": "#E5ECF6",
            "gridcolor": "white",
            "gridwidth": 2,
            "linecolor": "white",
            "showbackground": true,
            "ticks": "",
            "zerolinecolor": "white"
           },
           "zaxis": {
            "backgroundcolor": "#E5ECF6",
            "gridcolor": "white",
            "gridwidth": 2,
            "linecolor": "white",
            "showbackground": true,
            "ticks": "",
            "zerolinecolor": "white"
           }
          },
          "shapedefaults": {
           "line": {
            "color": "#2a3f5f"
           }
          },
          "ternary": {
           "aaxis": {
            "gridcolor": "white",
            "linecolor": "white",
            "ticks": ""
           },
           "baxis": {
            "gridcolor": "white",
            "linecolor": "white",
            "ticks": ""
           },
           "bgcolor": "#E5ECF6",
           "caxis": {
            "gridcolor": "white",
            "linecolor": "white",
            "ticks": ""
           }
          },
          "title": {
           "x": 0.05
          },
          "xaxis": {
           "automargin": true,
           "gridcolor": "white",
           "linecolor": "white",
           "ticks": "",
           "title": {
            "standoff": 15
           },
           "zerolinecolor": "white",
           "zerolinewidth": 2
          },
          "yaxis": {
           "automargin": true,
           "gridcolor": "white",
           "linecolor": "white",
           "ticks": "",
           "title": {
            "standoff": 15
           },
           "zerolinecolor": "white",
           "zerolinewidth": 2
          }
         }
        },
        "width": 1000,
        "xaxis": {
         "anchor": "y",
         "domain": [
          0,
          1
         ],
         "title": {
          "text": "Category"
         }
        },
        "yaxis": {
         "anchor": "x",
         "domain": [
          0,
          1
         ],
         "title": {
          "text": "value"
         }
        }
       }
      }
     },
     "metadata": {},
     "output_type": "display_data"
    }
   ],
   "source": [
    "fig=px.bar(cat_year,barmode='group')\n",
    "fig.update_layout(width = 1000)\n",
    "fig.show()"
   ]
  },
  {
   "cell_type": "code",
   "execution_count": 370,
   "metadata": {},
   "outputs": [],
   "source": [
    "df_merged.to_csv('merge.csv')"
   ]
  },
  {
   "cell_type": "code",
   "execution_count": 354,
   "metadata": {},
   "outputs": [],
   "source": [
    "brand_1 = df_merged[df_merged['Year'] == 2021].loc[:,['BRAND','Nett Sale Amt.']].groupby('BRAND').sum()\n",
    "brand_2 = df_merged[df_merged['Year'] == 2022].loc[:,['BRAND','Nett Sale Amt.']].groupby('BRAND').sum()\n",
    "brand_3= df_merged[df_merged['Year'] == 2023].loc[:,['BRAND','Nett Sale Amt.']].groupby('BRAND').sum()"
   ]
  },
  {
   "cell_type": "code",
   "execution_count": 356,
   "metadata": {},
   "outputs": [],
   "source": [
    "brand_year = pd.merge(brand_1,brand_2, left_index=True, right_index=True, how='outer').merge(brand_3, left_index=True, right_index=True, how='outer').rename\\\n",
    "    ({'Nett Sale Amt._x': 'brand_2021'},axis=1).rename({'Nett Sale Amt._y': 'brand_2022'},axis=1).rename({'Nett Sale Amt.': 'brand_2023'},axis=1)"
   ]
  },
  {
   "cell_type": "code",
   "execution_count": 357,
   "metadata": {},
   "outputs": [
    {
     "data": {
      "text/html": [
       "<div>\n",
       "<style scoped>\n",
       "    .dataframe tbody tr th:only-of-type {\n",
       "        vertical-align: middle;\n",
       "    }\n",
       "\n",
       "    .dataframe tbody tr th {\n",
       "        vertical-align: top;\n",
       "    }\n",
       "\n",
       "    .dataframe thead th {\n",
       "        text-align: right;\n",
       "    }\n",
       "</style>\n",
       "<table border=\"1\" class=\"dataframe\">\n",
       "  <thead>\n",
       "    <tr style=\"text-align: right;\">\n",
       "      <th></th>\n",
       "      <th>brand_2021</th>\n",
       "      <th>brand_2022</th>\n",
       "      <th>brand_2023</th>\n",
       "    </tr>\n",
       "    <tr>\n",
       "      <th>BRAND</th>\n",
       "      <th></th>\n",
       "      <th></th>\n",
       "      <th></th>\n",
       "    </tr>\n",
       "  </thead>\n",
       "  <tbody>\n",
       "    <tr>\n",
       "      <th>2021</th>\n",
       "      <td>2021.00</td>\n",
       "      <td>NaN</td>\n",
       "      <td>NaN</td>\n",
       "    </tr>\n",
       "    <tr>\n",
       "      <th></th>\n",
       "      <td>2516100.00</td>\n",
       "      <td>169000.00</td>\n",
       "      <td>NaN</td>\n",
       "    </tr>\n",
       "    <tr>\n",
       "      <th>12V</th>\n",
       "      <td>NaN</td>\n",
       "      <td>NaN</td>\n",
       "      <td>438900.00</td>\n",
       "    </tr>\n",
       "    <tr>\n",
       "      <th>ACCESSORIES</th>\n",
       "      <td>54855307.10</td>\n",
       "      <td>38541494.48</td>\n",
       "      <td>3473851.68</td>\n",
       "    </tr>\n",
       "    <tr>\n",
       "      <th>ACER</th>\n",
       "      <td>6938788.35</td>\n",
       "      <td>9561500.00</td>\n",
       "      <td>62000.00</td>\n",
       "    </tr>\n",
       "    <tr>\n",
       "      <th>...</th>\n",
       "      <td>...</td>\n",
       "      <td>...</td>\n",
       "      <td>...</td>\n",
       "    </tr>\n",
       "    <tr>\n",
       "      <th>Zsmart</th>\n",
       "      <td>889045.00</td>\n",
       "      <td>407900.00</td>\n",
       "      <td>185700.00</td>\n",
       "    </tr>\n",
       "    <tr>\n",
       "      <th>Zt800G-2</th>\n",
       "      <td>91200.00</td>\n",
       "      <td>60300.00</td>\n",
       "      <td>18000.00</td>\n",
       "    </tr>\n",
       "    <tr>\n",
       "      <th>kingson</th>\n",
       "      <td>234000.00</td>\n",
       "      <td>280200.00</td>\n",
       "      <td>108400.00</td>\n",
       "    </tr>\n",
       "    <tr>\n",
       "      <th>krusell</th>\n",
       "      <td>22400.00</td>\n",
       "      <td>NaN</td>\n",
       "      <td>17700.00</td>\n",
       "    </tr>\n",
       "    <tr>\n",
       "      <th>texet</th>\n",
       "      <td>15700.00</td>\n",
       "      <td>NaN</td>\n",
       "      <td>NaN</td>\n",
       "    </tr>\n",
       "  </tbody>\n",
       "</table>\n",
       "<p>259 rows × 3 columns</p>\n",
       "</div>"
      ],
      "text/plain": [
       "              brand_2021   brand_2022  brand_2023\n",
       "BRAND                                            \n",
       "2021             2021.00          NaN         NaN\n",
       "              2516100.00    169000.00         NaN\n",
       "12V                  NaN          NaN   438900.00\n",
       "ACCESSORIES  54855307.10  38541494.48  3473851.68\n",
       "ACER          6938788.35   9561500.00    62000.00\n",
       "...                  ...          ...         ...\n",
       "Zsmart         889045.00    407900.00   185700.00\n",
       "Zt800G-2        91200.00     60300.00    18000.00\n",
       "kingson        234000.00    280200.00   108400.00\n",
       "krusell         22400.00          NaN    17700.00\n",
       "texet           15700.00          NaN         NaN\n",
       "\n",
       "[259 rows x 3 columns]"
      ]
     },
     "execution_count": 357,
     "metadata": {},
     "output_type": "execute_result"
    }
   ],
   "source": [
    "brand_year"
   ]
  },
  {
   "cell_type": "code",
   "execution_count": null,
   "metadata": {},
   "outputs": [],
   "source": []
  }
 ],
 "metadata": {
  "kernelspec": {
   "display_name": "ML",
   "language": "python",
   "name": "python3"
  },
  "language_info": {
   "codemirror_mode": {
    "name": "ipython",
    "version": 3
   },
   "file_extension": ".py",
   "mimetype": "text/x-python",
   "name": "python",
   "nbconvert_exporter": "python",
   "pygments_lexer": "ipython3",
   "version": "3.9.12"
  }
 },
 "nbformat": 4,
 "nbformat_minor": 2
}
