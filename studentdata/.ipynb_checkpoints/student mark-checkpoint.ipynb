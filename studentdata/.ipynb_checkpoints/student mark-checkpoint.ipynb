{
 "cells": [
  {
   "cell_type": "markdown",
   "id": "36bccdfb-272b-4f49-a9d9-f112f1a017e0",
   "metadata": {},
   "source": [
    "# Student Marks Data\n",
    "https://www.kaggle.com/datasets/evanrobert/studentdata"
   ]
  },
  {
   "cell_type": "code",
   "execution_count": 1,
   "id": "5bd019a4-91a3-4de0-a1ab-81315bdba797",
   "metadata": {},
   "outputs": [],
   "source": [
    "import pandas as pd\n",
    "import numpy as np\n",
    "import matplotlib.pyplot as plt\n",
    "import seaborn as sns\n",
    "from dateutil import parser\n",
    "import opendatasets as od\n",
    "from datetime import datetime, date, time"
   ]
  },
  {
   "cell_type": "code",
   "execution_count": 2,
   "id": "c3115843-dd9b-4446-99f9-35ee85ad634c",
   "metadata": {},
   "outputs": [
    {
     "data": {
      "text/html": [
       "<div>\n",
       "<style scoped>\n",
       "    .dataframe tbody tr th:only-of-type {\n",
       "        vertical-align: middle;\n",
       "    }\n",
       "\n",
       "    .dataframe tbody tr th {\n",
       "        vertical-align: top;\n",
       "    }\n",
       "\n",
       "    .dataframe thead th {\n",
       "        text-align: right;\n",
       "    }\n",
       "</style>\n",
       "<table border=\"1\" class=\"dataframe\">\n",
       "  <thead>\n",
       "    <tr style=\"text-align: right;\">\n",
       "      <th></th>\n",
       "      <th>age</th>\n",
       "      <th>sex</th>\n",
       "      <th>Marks(400)</th>\n",
       "      <th>Section</th>\n",
       "      <th>name</th>\n",
       "      <th>City</th>\n",
       "      <th>percentage</th>\n",
       "    </tr>\n",
       "  </thead>\n",
       "  <tbody>\n",
       "    <tr>\n",
       "      <th>0</th>\n",
       "      <td>19</td>\n",
       "      <td>female</td>\n",
       "      <td>300</td>\n",
       "      <td>A</td>\n",
       "      <td>AAA</td>\n",
       "      <td>Banglore</td>\n",
       "      <td>75.0</td>\n",
       "    </tr>\n",
       "    <tr>\n",
       "      <th>1</th>\n",
       "      <td>18</td>\n",
       "      <td>male</td>\n",
       "      <td>330</td>\n",
       "      <td>B</td>\n",
       "      <td>BBB</td>\n",
       "      <td>Pune</td>\n",
       "      <td>82.5</td>\n",
       "    </tr>\n",
       "    <tr>\n",
       "      <th>2</th>\n",
       "      <td>28</td>\n",
       "      <td>male</td>\n",
       "      <td>324</td>\n",
       "      <td>C</td>\n",
       "      <td>CDC</td>\n",
       "      <td>Mumbai</td>\n",
       "      <td>81.0</td>\n",
       "    </tr>\n",
       "    <tr>\n",
       "      <th>3</th>\n",
       "      <td>33</td>\n",
       "      <td>male</td>\n",
       "      <td>322</td>\n",
       "      <td>D</td>\n",
       "      <td>SDC</td>\n",
       "      <td>Delhi</td>\n",
       "      <td>80.5</td>\n",
       "    </tr>\n",
       "    <tr>\n",
       "      <th>4</th>\n",
       "      <td>32</td>\n",
       "      <td>male</td>\n",
       "      <td>240</td>\n",
       "      <td>A</td>\n",
       "      <td>SFG</td>\n",
       "      <td>Mumbai</td>\n",
       "      <td>60.0</td>\n",
       "    </tr>\n",
       "  </tbody>\n",
       "</table>\n",
       "</div>"
      ],
      "text/plain": [
       "   age     sex  Marks(400) Section name      City  percentage\n",
       "0   19  female         300       A  AAA  Banglore        75.0\n",
       "1   18    male         330       B  BBB      Pune        82.5\n",
       "2   28    male         324       C  CDC    Mumbai        81.0\n",
       "3   33    male         322       D  SDC     Delhi        80.5\n",
       "4   32    male         240       A  SFG    Mumbai        60.0"
      ]
     },
     "execution_count": 2,
     "metadata": {},
     "output_type": "execute_result"
    }
   ],
   "source": [
    "st = pd.read_csv(r'c:/users/godwi/GitHub/Python-Pandas/studentdata/STUDENT_DATASET.csv')\n",
    "st.head()\n"
   ]
  },
  {
   "cell_type": "code",
   "execution_count": 3,
   "id": "531258c8-5795-4e57-8039-b8e90074a41e",
   "metadata": {},
   "outputs": [],
   "source": [
    "st.columns = st.columns.str.lower()  # change all columns name to lower case"
   ]
  },
  {
   "cell_type": "code",
   "execution_count": 4,
   "id": "73550406-507c-4bc7-9586-57d726b7de2d",
   "metadata": {},
   "outputs": [
    {
     "data": {
      "text/html": [
       "<div>\n",
       "<style scoped>\n",
       "    .dataframe tbody tr th:only-of-type {\n",
       "        vertical-align: middle;\n",
       "    }\n",
       "\n",
       "    .dataframe tbody tr th {\n",
       "        vertical-align: top;\n",
       "    }\n",
       "\n",
       "    .dataframe thead th {\n",
       "        text-align: right;\n",
       "    }\n",
       "</style>\n",
       "<table border=\"1\" class=\"dataframe\">\n",
       "  <thead>\n",
       "    <tr style=\"text-align: right;\">\n",
       "      <th></th>\n",
       "      <th>age</th>\n",
       "      <th>sex</th>\n",
       "      <th>marks(400)</th>\n",
       "      <th>section</th>\n",
       "      <th>name</th>\n",
       "      <th>city</th>\n",
       "      <th>percentage</th>\n",
       "    </tr>\n",
       "  </thead>\n",
       "  <tbody>\n",
       "    <tr>\n",
       "      <th>0</th>\n",
       "      <td>19</td>\n",
       "      <td>female</td>\n",
       "      <td>300</td>\n",
       "      <td>A</td>\n",
       "      <td>AAA</td>\n",
       "      <td>Banglore</td>\n",
       "      <td>75.0</td>\n",
       "    </tr>\n",
       "    <tr>\n",
       "      <th>1</th>\n",
       "      <td>18</td>\n",
       "      <td>male</td>\n",
       "      <td>330</td>\n",
       "      <td>B</td>\n",
       "      <td>BBB</td>\n",
       "      <td>Pune</td>\n",
       "      <td>82.5</td>\n",
       "    </tr>\n",
       "    <tr>\n",
       "      <th>2</th>\n",
       "      <td>28</td>\n",
       "      <td>male</td>\n",
       "      <td>324</td>\n",
       "      <td>C</td>\n",
       "      <td>CDC</td>\n",
       "      <td>Mumbai</td>\n",
       "      <td>81.0</td>\n",
       "    </tr>\n",
       "    <tr>\n",
       "      <th>3</th>\n",
       "      <td>33</td>\n",
       "      <td>male</td>\n",
       "      <td>322</td>\n",
       "      <td>D</td>\n",
       "      <td>SDC</td>\n",
       "      <td>Delhi</td>\n",
       "      <td>80.5</td>\n",
       "    </tr>\n",
       "    <tr>\n",
       "      <th>4</th>\n",
       "      <td>32</td>\n",
       "      <td>male</td>\n",
       "      <td>240</td>\n",
       "      <td>A</td>\n",
       "      <td>SFG</td>\n",
       "      <td>Mumbai</td>\n",
       "      <td>60.0</td>\n",
       "    </tr>\n",
       "  </tbody>\n",
       "</table>\n",
       "</div>"
      ],
      "text/plain": [
       "   age     sex  marks(400) section name      city  percentage\n",
       "0   19  female         300       A  AAA  Banglore        75.0\n",
       "1   18    male         330       B  BBB      Pune        82.5\n",
       "2   28    male         324       C  CDC    Mumbai        81.0\n",
       "3   33    male         322       D  SDC     Delhi        80.5\n",
       "4   32    male         240       A  SFG    Mumbai        60.0"
      ]
     },
     "execution_count": 4,
     "metadata": {},
     "output_type": "execute_result"
    }
   ],
   "source": [
    "st.head()"
   ]
  },
  {
   "cell_type": "code",
   "execution_count": 5,
   "id": "e0e4f9f6-e0b8-46c9-acd5-07b98803cc9d",
   "metadata": {},
   "outputs": [
    {
     "data": {
      "text/html": [
       "<div>\n",
       "<style scoped>\n",
       "    .dataframe tbody tr th:only-of-type {\n",
       "        vertical-align: middle;\n",
       "    }\n",
       "\n",
       "    .dataframe tbody tr th {\n",
       "        vertical-align: top;\n",
       "    }\n",
       "\n",
       "    .dataframe thead th {\n",
       "        text-align: right;\n",
       "    }\n",
       "</style>\n",
       "<table border=\"1\" class=\"dataframe\">\n",
       "  <thead>\n",
       "    <tr style=\"text-align: right;\">\n",
       "      <th></th>\n",
       "      <th>age</th>\n",
       "      <th>sex</th>\n",
       "      <th>marks(400)</th>\n",
       "      <th>section</th>\n",
       "      <th>name</th>\n",
       "      <th>city</th>\n",
       "      <th>percentage</th>\n",
       "    </tr>\n",
       "  </thead>\n",
       "  <tbody>\n",
       "  </tbody>\n",
       "</table>\n",
       "</div>"
      ],
      "text/plain": [
       "Empty DataFrame\n",
       "Columns: [age, sex, marks(400), section, name, city, percentage]\n",
       "Index: []"
      ]
     },
     "execution_count": 5,
     "metadata": {},
     "output_type": "execute_result"
    }
   ],
   "source": [
    "st[st.index == 'TYU']"
   ]
  },
  {
   "cell_type": "code",
   "execution_count": 6,
   "id": "77a7fb8e-da2c-486f-8ad1-29780c0ea4e9",
   "metadata": {},
   "outputs": [
    {
     "data": {
      "text/plain": [
       "(99, 7)"
      ]
     },
     "execution_count": 6,
     "metadata": {},
     "output_type": "execute_result"
    }
   ],
   "source": [
    "st.shape"
   ]
  },
  {
   "cell_type": "code",
   "execution_count": 7,
   "id": "5f8be118-c309-45f1-bf7f-30a7b752c4fa",
   "metadata": {},
   "outputs": [
    {
     "data": {
      "text/html": [
       "<div>\n",
       "<style scoped>\n",
       "    .dataframe tbody tr th:only-of-type {\n",
       "        vertical-align: middle;\n",
       "    }\n",
       "\n",
       "    .dataframe tbody tr th {\n",
       "        vertical-align: top;\n",
       "    }\n",
       "\n",
       "    .dataframe thead th {\n",
       "        text-align: right;\n",
       "    }\n",
       "</style>\n",
       "<table border=\"1\" class=\"dataframe\">\n",
       "  <thead>\n",
       "    <tr style=\"text-align: right;\">\n",
       "      <th></th>\n",
       "      <th>age</th>\n",
       "      <th>sex</th>\n",
       "      <th>marks(400)</th>\n",
       "      <th>section</th>\n",
       "      <th>name</th>\n",
       "      <th>city</th>\n",
       "      <th>percentage</th>\n",
       "    </tr>\n",
       "  </thead>\n",
       "  <tbody>\n",
       "  </tbody>\n",
       "</table>\n",
       "</div>"
      ],
      "text/plain": [
       "Empty DataFrame\n",
       "Columns: [age, sex, marks(400), section, name, city, percentage]\n",
       "Index: []"
      ]
     },
     "execution_count": 7,
     "metadata": {},
     "output_type": "execute_result"
    }
   ],
   "source": [
    "st[st.index.duplicated()]"
   ]
  },
  {
   "cell_type": "markdown",
   "id": "69fc1f0a-28a0-47b5-8494-2e513bb06749",
   "metadata": {},
   "source": [
    "# show gender by total marks"
   ]
  },
  {
   "cell_type": "code",
   "execution_count": 10,
   "id": "1c89a059-cdca-4e99-a796-25142c1c7e71",
   "metadata": {},
   "outputs": [
    {
     "data": {
      "text/html": [
       "<div>\n",
       "<style scoped>\n",
       "    .dataframe tbody tr th:only-of-type {\n",
       "        vertical-align: middle;\n",
       "    }\n",
       "\n",
       "    .dataframe tbody tr th {\n",
       "        vertical-align: top;\n",
       "    }\n",
       "\n",
       "    .dataframe thead th {\n",
       "        text-align: right;\n",
       "    }\n",
       "</style>\n",
       "<table border=\"1\" class=\"dataframe\">\n",
       "  <thead>\n",
       "    <tr style=\"text-align: right;\">\n",
       "      <th></th>\n",
       "      <th>sex</th>\n",
       "      <th>marks(400)</th>\n",
       "    </tr>\n",
       "  </thead>\n",
       "  <tbody>\n",
       "    <tr>\n",
       "      <th>0</th>\n",
       "      <td>female</td>\n",
       "      <td>300</td>\n",
       "    </tr>\n",
       "    <tr>\n",
       "      <th>1</th>\n",
       "      <td>male</td>\n",
       "      <td>330</td>\n",
       "    </tr>\n",
       "    <tr>\n",
       "      <th>2</th>\n",
       "      <td>male</td>\n",
       "      <td>324</td>\n",
       "    </tr>\n",
       "    <tr>\n",
       "      <th>3</th>\n",
       "      <td>male</td>\n",
       "      <td>322</td>\n",
       "    </tr>\n",
       "    <tr>\n",
       "      <th>4</th>\n",
       "      <td>male</td>\n",
       "      <td>240</td>\n",
       "    </tr>\n",
       "  </tbody>\n",
       "</table>\n",
       "</div>"
      ],
      "text/plain": [
       "      sex  marks(400)\n",
       "0  female         300\n",
       "1    male         330\n",
       "2    male         324\n",
       "3    male         322\n",
       "4    male         240"
      ]
     },
     "execution_count": 10,
     "metadata": {},
     "output_type": "execute_result"
    }
   ],
   "source": [
    "st.loc[:, ['sex','marks(400)']].head()"
   ]
  },
  {
   "cell_type": "code",
   "execution_count": 28,
   "id": "3ead2f79-b3c5-40d4-a2e2-172d4bc25674",
   "metadata": {},
   "outputs": [
    {
     "data": {
      "text/html": [
       "<div>\n",
       "<style scoped>\n",
       "    .dataframe tbody tr th:only-of-type {\n",
       "        vertical-align: middle;\n",
       "    }\n",
       "\n",
       "    .dataframe tbody tr th {\n",
       "        vertical-align: top;\n",
       "    }\n",
       "\n",
       "    .dataframe thead th {\n",
       "        text-align: right;\n",
       "    }\n",
       "</style>\n",
       "<table border=\"1\" class=\"dataframe\">\n",
       "  <thead>\n",
       "    <tr style=\"text-align: right;\">\n",
       "      <th></th>\n",
       "      <th>marks(400)</th>\n",
       "    </tr>\n",
       "    <tr>\n",
       "      <th>sex</th>\n",
       "      <th></th>\n",
       "    </tr>\n",
       "  </thead>\n",
       "  <tbody>\n",
       "    <tr>\n",
       "      <th>female</th>\n",
       "      <td>16187</td>\n",
       "    </tr>\n",
       "    <tr>\n",
       "      <th>male</th>\n",
       "      <td>14638</td>\n",
       "    </tr>\n",
       "  </tbody>\n",
       "</table>\n",
       "</div>"
      ],
      "text/plain": [
       "        marks(400)\n",
       "sex               \n",
       "female       16187\n",
       "male         14638"
      ]
     },
     "execution_count": 28,
     "metadata": {},
     "output_type": "execute_result"
    }
   ],
   "source": [
    "st_sex = st.loc[:, ['sex','marks(400)']].groupby('sex').sum()\n",
    "st_sex # pandas python code"
   ]
  },
  {
   "cell_type": "code",
   "execution_count": 31,
   "id": "b0b954ab-fb45-45c7-b056-d16db0330c31",
   "metadata": {
    "tags": []
   },
   "outputs": [
    {
     "data": {
      "image/png": "[encoded data removed]",
      "text/plain": [
       "<Figure size 432x288 with 1 Axes>"
      ]
     },
     "metadata": {
      "needs_background": "light"
     },
     "output_type": "display_data"
    }
   ],
   "source": [
    "# with seaborn\n",
    "sns.lineplot(data = st_sex , x = st_sex.index \\\n",
    "        ,y = st_sex['marks(400)']);"
   ]
  },
  {
   "cell_type": "code",
   "execution_count": 32,
   "id": "26bd0070-e04c-4534-963c-e8ac674d27a6",
   "metadata": {},
   "outputs": [
    {
     "data": {
      "image/png": "[encoded data removed]",
      "text/plain": [
       "<Figure size 432x288 with 1 Axes>"
      ]
     },
     "metadata": {
      "needs_background": "light"
     },
     "output_type": "display_data"
    }
   ],
   "source": [
    "# with matplotlib\n",
    "st_sex.plot(kind = 'bar');"
   ]
  },
  {
   "cell_type": "markdown",
   "id": "2cefdbb4-4ce2-4205-92ef-ff612665a99a",
   "metadata": {},
   "source": [
    "# What city has the highest performers by gender ?"
   ]
  },
  {
   "cell_type": "code",
   "execution_count": 14,
   "id": "71b1bc96-1422-48ee-8df3-5b9e6f2ec215",
   "metadata": {},
   "outputs": [],
   "source": [
    "stx = st.loc[:, ['city','marks(400)', 'sex']]"
   ]
  },
  {
   "cell_type": "code",
   "execution_count": 15,
   "id": "bfe99c65-34a1-45bb-ab92-48a1018337f5",
   "metadata": {},
   "outputs": [
    {
     "data": {
      "text/html": [
       "<div>\n",
       "<style scoped>\n",
       "    .dataframe tbody tr th:only-of-type {\n",
       "        vertical-align: middle;\n",
       "    }\n",
       "\n",
       "    .dataframe tbody tr th {\n",
       "        vertical-align: top;\n",
       "    }\n",
       "\n",
       "    .dataframe thead th {\n",
       "        text-align: right;\n",
       "    }\n",
       "</style>\n",
       "<table border=\"1\" class=\"dataframe\">\n",
       "  <thead>\n",
       "    <tr style=\"text-align: right;\">\n",
       "      <th>city</th>\n",
       "      <th>Banglore</th>\n",
       "      <th>Delhi</th>\n",
       "      <th>Mumbai</th>\n",
       "      <th>Pune</th>\n",
       "    </tr>\n",
       "    <tr>\n",
       "      <th>sex</th>\n",
       "      <th></th>\n",
       "      <th></th>\n",
       "      <th></th>\n",
       "      <th></th>\n",
       "    </tr>\n",
       "  </thead>\n",
       "  <tbody>\n",
       "    <tr>\n",
       "      <th>female</th>\n",
       "      <td>334.769231</td>\n",
       "      <td>298.5</td>\n",
       "      <td>314.375</td>\n",
       "      <td>321.312500</td>\n",
       "    </tr>\n",
       "    <tr>\n",
       "      <th>male</th>\n",
       "      <td>286.846154</td>\n",
       "      <td>334.5</td>\n",
       "      <td>292.000</td>\n",
       "      <td>312.529412</td>\n",
       "    </tr>\n",
       "  </tbody>\n",
       "</table>\n",
       "</div>"
      ],
      "text/plain": [
       "city      Banglore  Delhi   Mumbai        Pune\n",
       "sex                                           \n",
       "female  334.769231  298.5  314.375  321.312500\n",
       "male    286.846154  334.5  292.000  312.529412"
      ]
     },
     "execution_count": 15,
     "metadata": {},
     "output_type": "execute_result"
    }
   ],
   "source": [
    "stx.pivot_table ( index = 'city', columns = 'sex' , \n",
    "    values = 'marks(400)', aggfunc ='mean').T # T is transpose"
   ]
  },
  {
   "cell_type": "code",
   "execution_count": 16,
   "id": "f37fb5b1-1b88-40ea-bfcc-35ba2683f9a5",
   "metadata": {},
   "outputs": [],
   "source": [
    "# Relationship between age and mark"
   ]
  },
  {
   "cell_type": "code",
   "execution_count": 17,
   "id": "a6151dee-5644-4c9a-b033-6e9bb625bdb6",
   "metadata": {},
   "outputs": [
    {
     "data": {
      "text/html": [
       "<div>\n",
       "<style scoped>\n",
       "    .dataframe tbody tr th:only-of-type {\n",
       "        vertical-align: middle;\n",
       "    }\n",
       "\n",
       "    .dataframe tbody tr th {\n",
       "        vertical-align: top;\n",
       "    }\n",
       "\n",
       "    .dataframe thead th {\n",
       "        text-align: right;\n",
       "    }\n",
       "</style>\n",
       "<table border=\"1\" class=\"dataframe\">\n",
       "  <thead>\n",
       "    <tr style=\"text-align: right;\">\n",
       "      <th></th>\n",
       "      <th>age</th>\n",
       "      <th>marks(400)</th>\n",
       "    </tr>\n",
       "  </thead>\n",
       "  <tbody>\n",
       "    <tr>\n",
       "      <th>0</th>\n",
       "      <td>19</td>\n",
       "      <td>300</td>\n",
       "    </tr>\n",
       "    <tr>\n",
       "      <th>1</th>\n",
       "      <td>18</td>\n",
       "      <td>330</td>\n",
       "    </tr>\n",
       "    <tr>\n",
       "      <th>2</th>\n",
       "      <td>28</td>\n",
       "      <td>324</td>\n",
       "    </tr>\n",
       "    <tr>\n",
       "      <th>3</th>\n",
       "      <td>33</td>\n",
       "      <td>322</td>\n",
       "    </tr>\n",
       "    <tr>\n",
       "      <th>4</th>\n",
       "      <td>32</td>\n",
       "      <td>240</td>\n",
       "    </tr>\n",
       "  </tbody>\n",
       "</table>\n",
       "</div>"
      ],
      "text/plain": [
       "   age  marks(400)\n",
       "0   19         300\n",
       "1   18         330\n",
       "2   28         324\n",
       "3   33         322\n",
       "4   32         240"
      ]
     },
     "execution_count": 17,
     "metadata": {},
     "output_type": "execute_result"
    }
   ],
   "source": [
    "st_rel = st.loc[:, ['age', 'marks(400)']]\n",
    "st_rel.head()"
   ]
  },
  {
   "cell_type": "code",
   "execution_count": 18,
   "id": "27a33a03-4452-4a98-97e7-4d38ca6aafbe",
   "metadata": {},
   "outputs": [
    {
     "data": {
      "image/png": "[encoded data removed]",
      "text/plain": [
       "<Figure size 432x288 with 1 Axes>"
      ]
     },
     "metadata": {
      "needs_background": "light"
     },
     "output_type": "display_data"
    }
   ],
   "source": [
    "st_rel.plot(kind = 'scatter', x = 'age' , y = 'marks(400)');"
   ]
  },
  {
   "cell_type": "code",
   "execution_count": 19,
   "id": "6dbed599-1f30-49cd-9262-0542b1c15005",
   "metadata": {},
   "outputs": [
    {
     "data": {
      "image/png": "[encoded data removed]",
      "text/plain": [
       "<Figure size 432x432 with 3 Axes>"
      ]
     },
     "metadata": {
      "needs_background": "light"
     },
     "output_type": "display_data"
    }
   ],
   "source": [
    "sns.jointplot(data = st_rel, x = 'age' , y= 'marks(400)');"
   ]
  },
  {
   "cell_type": "code",
   "execution_count": 20,
   "id": "01a2347c-e993-41d7-b07d-8311a8b2eeea",
   "metadata": {},
   "outputs": [
    {
     "data": {
      "text/plain": [
       "0.10183488365677396"
      ]
     },
     "execution_count": 20,
     "metadata": {},
     "output_type": "execute_result"
    }
   ],
   "source": [
    "st_rel.age.corr(st_rel['marks(400)'])"
   ]
  },
  {
   "cell_type": "markdown",
   "id": "e99d7b0e-48c8-438d-b349-4f32b1fbcab1",
   "metadata": {},
   "source": [
    "# Best student"
   ]
  },
  {
   "cell_type": "code",
   "execution_count": 21,
   "id": "a0c3fff0-03d3-4d5a-865f-377f93251596",
   "metadata": {},
   "outputs": [
    {
     "data": {
      "text/html": [
       "<div>\n",
       "<style scoped>\n",
       "    .dataframe tbody tr th:only-of-type {\n",
       "        vertical-align: middle;\n",
       "    }\n",
       "\n",
       "    .dataframe tbody tr th {\n",
       "        vertical-align: top;\n",
       "    }\n",
       "\n",
       "    .dataframe thead th {\n",
       "        text-align: right;\n",
       "    }\n",
       "</style>\n",
       "<table border=\"1\" class=\"dataframe\">\n",
       "  <thead>\n",
       "    <tr style=\"text-align: right;\">\n",
       "      <th></th>\n",
       "      <th>name</th>\n",
       "      <th>marks(400)</th>\n",
       "      <th>percentage</th>\n",
       "    </tr>\n",
       "  </thead>\n",
       "  <tbody>\n",
       "    <tr>\n",
       "      <th>75</th>\n",
       "      <td>DSA</td>\n",
       "      <td>398</td>\n",
       "      <td>99.50</td>\n",
       "    </tr>\n",
       "    <tr>\n",
       "      <th>78</th>\n",
       "      <td>DFR</td>\n",
       "      <td>398</td>\n",
       "      <td>99.50</td>\n",
       "    </tr>\n",
       "    <tr>\n",
       "      <th>91</th>\n",
       "      <td>JKP</td>\n",
       "      <td>398</td>\n",
       "      <td>99.50</td>\n",
       "    </tr>\n",
       "    <tr>\n",
       "      <th>6</th>\n",
       "      <td>SDS</td>\n",
       "      <td>390</td>\n",
       "      <td>97.50</td>\n",
       "    </tr>\n",
       "    <tr>\n",
       "      <th>74</th>\n",
       "      <td>FDS</td>\n",
       "      <td>389</td>\n",
       "      <td>97.25</td>\n",
       "    </tr>\n",
       "  </tbody>\n",
       "</table>\n",
       "</div>"
      ],
      "text/plain": [
       "   name  marks(400)  percentage\n",
       "75  DSA         398       99.50\n",
       "78  DFR         398       99.50\n",
       "91  JKP         398       99.50\n",
       "6   SDS         390       97.50\n",
       "74  FDS         389       97.25"
      ]
     },
     "execution_count": 21,
     "metadata": {},
     "output_type": "execute_result"
    }
   ],
   "source": [
    "st.loc[:, ['name','marks(400)','percentage']].sort_values('marks(400)',ascending = False).nlargest(5,'marks(400)')"
   ]
  },
  {
   "cell_type": "markdown",
   "id": "6234928c-90f6-4e48-8800-3f775e867b55",
   "metadata": {},
   "source": [
    "# best male and female student "
   ]
  },
  {
   "cell_type": "code",
   "execution_count": 22,
   "id": "230882b4-cd49-43ff-8541-983503bf5647",
   "metadata": {},
   "outputs": [
    {
     "data": {
      "text/html": [
       "<div>\n",
       "<style scoped>\n",
       "    .dataframe tbody tr th:only-of-type {\n",
       "        vertical-align: middle;\n",
       "    }\n",
       "\n",
       "    .dataframe tbody tr th {\n",
       "        vertical-align: top;\n",
       "    }\n",
       "\n",
       "    .dataframe thead th {\n",
       "        text-align: right;\n",
       "    }\n",
       "</style>\n",
       "<table border=\"1\" class=\"dataframe\">\n",
       "  <thead>\n",
       "    <tr style=\"text-align: right;\">\n",
       "      <th></th>\n",
       "      <th>age</th>\n",
       "      <th>sex</th>\n",
       "      <th>marks(400)</th>\n",
       "      <th>section</th>\n",
       "      <th>name</th>\n",
       "      <th>city</th>\n",
       "      <th>percentage</th>\n",
       "    </tr>\n",
       "  </thead>\n",
       "  <tbody>\n",
       "    <tr>\n",
       "      <th>78</th>\n",
       "      <td>22</td>\n",
       "      <td>female</td>\n",
       "      <td>398</td>\n",
       "      <td>C</td>\n",
       "      <td>DFR</td>\n",
       "      <td>Banglore</td>\n",
       "      <td>99.5</td>\n",
       "    </tr>\n",
       "    <tr>\n",
       "      <th>75</th>\n",
       "      <td>57</td>\n",
       "      <td>male</td>\n",
       "      <td>398</td>\n",
       "      <td>D</td>\n",
       "      <td>DSA</td>\n",
       "      <td>Delhi</td>\n",
       "      <td>99.5</td>\n",
       "    </tr>\n",
       "  </tbody>\n",
       "</table>\n",
       "</div>"
      ],
      "text/plain": [
       "    age     sex  marks(400) section name      city  percentage\n",
       "78   22  female         398       C  DFR  Banglore        99.5\n",
       "75   57    male         398       D  DSA     Delhi        99.5"
      ]
     },
     "execution_count": 22,
     "metadata": {},
     "output_type": "execute_result"
    }
   ],
   "source": [
    "bf =st[st.sex == 'female' ].nlargest(1,'marks(400)')\n",
    "bm= st[st.sex == 'male' ].nlargest(1,'marks(400)')\n",
    "pd.concat([bf,bm])"
   ]
  },
  {
   "cell_type": "code",
   "execution_count": 23,
   "id": "9f34531a-1e63-47c3-b139-cad14efb1ee3",
   "metadata": {},
   "outputs": [
    {
     "data": {
      "text/plain": [
       "<AxesSubplot:xlabel='sex', ylabel='count'>"
      ]
     },
     "execution_count": 23,
     "metadata": {},
     "output_type": "execute_result"
    },
    {
     "data": {
      "image/png": "[encoded data removed]",
      "text/plain": [
       "<Figure size 432x288 with 1 Axes>"
      ]
     },
     "metadata": {
      "needs_background": "light"
     },
     "output_type": "display_data"
    }
   ],
   "source": [
    "sns.countplot(data = st, x = 'sex')"
   ]
  },
  {
   "cell_type": "code",
   "execution_count": null,
   "id": "4122b292-14e2-4ee2-9774-34625f991c6c",
   "metadata": {},
   "outputs": [],
   "source": []
  }
 ],
 "metadata": {
  "kernelspec": {
   "display_name": "Python 3",
   "language": "python",
   "name": "python3"
  },
  "language_info": {
   "codemirror_mode": {
    "name": "ipython",
    "version": 3
   },
   "file_extension": ".py",
   "mimetype": "text/x-python",
   "name": "python",
   "nbconvert_exporter": "python",
   "pygments_lexer": "ipython3",
   "version": "3.8.8"
  }
 },
 "nbformat": 4,
 "nbformat_minor": 5
}
