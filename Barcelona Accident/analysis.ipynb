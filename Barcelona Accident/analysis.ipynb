{
 "cells": [
  {
   "cell_type": "raw",
   "id": "7d4a498c-d006-4872-84c1-6eda18ee0b41",
   "metadata": {},
   "source": [
    "## This case study aims to anlayze Barcelona's 2017 accidents dataset, \n",
    "## published by the Open Data BCN, exploring the correlation between accident \n",
    "## location (i.e district, neighborhood), and its consequences (i.e Victims, Serious injuries, etc..)"
   ]
  },
  {
   "cell_type": "markdown",
   "id": "a40789a3-f332-4270-aa8e-8dfd4a5e0004",
   "metadata": {},
   "source": [
    "## **1. Importing Functions**"
   ]
  },
  {
   "cell_type": "code",
   "execution_count": 103,
   "id": "b7e46bdd-28e4-40e7-8459-89a1baa1f7b2",
   "metadata": {},
   "outputs": [],
   "source": [
    "import pandas as pd\n",
    "import numpy as np\n",
    "from dateutil import parser\n",
    "from datetime import datetime, time, date\n",
    "import matplotlib.pyplot  as plt\n",
    "import seaborn as sns"
   ]
  },
  {
   "cell_type": "code",
   "execution_count": 104,
   "id": "ac811ae4-e2b1-455b-88ce-5ad0640eacb9",
   "metadata": {},
   "outputs": [
    {
     "data": {
      "text/html": [
       "<div>\n",
       "<style scoped>\n",
       "    .dataframe tbody tr th:only-of-type {\n",
       "        vertical-align: middle;\n",
       "    }\n",
       "\n",
       "    .dataframe tbody tr th {\n",
       "        vertical-align: top;\n",
       "    }\n",
       "\n",
       "    .dataframe thead th {\n",
       "        text-align: right;\n",
       "    }\n",
       "</style>\n",
       "<table border=\"1\" class=\"dataframe\">\n",
       "  <thead>\n",
       "    <tr style=\"text-align: right;\">\n",
       "      <th></th>\n",
       "      <th>Id</th>\n",
       "      <th>District Name</th>\n",
       "      <th>Neighborhood Name</th>\n",
       "      <th>Street</th>\n",
       "      <th>Weekday</th>\n",
       "      <th>Month</th>\n",
       "      <th>Day</th>\n",
       "      <th>Hour</th>\n",
       "      <th>Part of the day</th>\n",
       "      <th>Mild injuries</th>\n",
       "      <th>Serious injuries</th>\n",
       "      <th>Victims</th>\n",
       "      <th>Vehicles involved</th>\n",
       "      <th>Longitude</th>\n",
       "      <th>Latitude</th>\n",
       "    </tr>\n",
       "  </thead>\n",
       "  <tbody>\n",
       "    <tr>\n",
       "      <th>0</th>\n",
       "      <td>2017S008429</td>\n",
       "      <td>Unknown</td>\n",
       "      <td>Unknown</td>\n",
       "      <td>Número 27                                     ...</td>\n",
       "      <td>Friday</td>\n",
       "      <td>October</td>\n",
       "      <td>13</td>\n",
       "      <td>8</td>\n",
       "      <td>Morning</td>\n",
       "      <td>2</td>\n",
       "      <td>0</td>\n",
       "      <td>2</td>\n",
       "      <td>2</td>\n",
       "      <td>2.125624</td>\n",
       "      <td>41.340045</td>\n",
       "    </tr>\n",
       "    <tr>\n",
       "      <th>1</th>\n",
       "      <td>2017S007316</td>\n",
       "      <td>Unknown</td>\n",
       "      <td>Unknown</td>\n",
       "      <td>Número 3 Zona Franca / Número 50 Zona Franca  ...</td>\n",
       "      <td>Friday</td>\n",
       "      <td>September</td>\n",
       "      <td>1</td>\n",
       "      <td>13</td>\n",
       "      <td>Morning</td>\n",
       "      <td>2</td>\n",
       "      <td>0</td>\n",
       "      <td>2</td>\n",
       "      <td>2</td>\n",
       "      <td>2.120452</td>\n",
       "      <td>41.339426</td>\n",
       "    </tr>\n",
       "    <tr>\n",
       "      <th>2</th>\n",
       "      <td>2017S010210</td>\n",
       "      <td>Unknown</td>\n",
       "      <td>Unknown</td>\n",
       "      <td>Litoral (Besòs)                               ...</td>\n",
       "      <td>Friday</td>\n",
       "      <td>December</td>\n",
       "      <td>8</td>\n",
       "      <td>21</td>\n",
       "      <td>Afternoon</td>\n",
       "      <td>5</td>\n",
       "      <td>0</td>\n",
       "      <td>5</td>\n",
       "      <td>2</td>\n",
       "      <td>2.167356</td>\n",
       "      <td>41.360886</td>\n",
       "    </tr>\n",
       "    <tr>\n",
       "      <th>3</th>\n",
       "      <td>2017S006364</td>\n",
       "      <td>Unknown</td>\n",
       "      <td>Unknown</td>\n",
       "      <td>Número 3 Zona Franca                          ...</td>\n",
       "      <td>Friday</td>\n",
       "      <td>July</td>\n",
       "      <td>21</td>\n",
       "      <td>2</td>\n",
       "      <td>Night</td>\n",
       "      <td>1</td>\n",
       "      <td>0</td>\n",
       "      <td>1</td>\n",
       "      <td>2</td>\n",
       "      <td>2.124529</td>\n",
       "      <td>41.337668</td>\n",
       "    </tr>\n",
       "    <tr>\n",
       "      <th>4</th>\n",
       "      <td>2017S004615</td>\n",
       "      <td>Sant Martí</td>\n",
       "      <td>el Camp de l'Arpa del Clot</td>\n",
       "      <td>Las Navas de Tolosa                           ...</td>\n",
       "      <td>Thursday</td>\n",
       "      <td>May</td>\n",
       "      <td>25</td>\n",
       "      <td>14</td>\n",
       "      <td>Afternoon</td>\n",
       "      <td>1</td>\n",
       "      <td>0</td>\n",
       "      <td>1</td>\n",
       "      <td>3</td>\n",
       "      <td>2.185272</td>\n",
       "      <td>41.416365</td>\n",
       "    </tr>\n",
       "  </tbody>\n",
       "</table>\n",
       "</div>"
      ],
      "text/plain": [
       "                Id District Name           Neighborhood Name  \\\n",
       "0  2017S008429           Unknown                     Unknown   \n",
       "1  2017S007316           Unknown                     Unknown   \n",
       "2  2017S010210           Unknown                     Unknown   \n",
       "3  2017S006364           Unknown                     Unknown   \n",
       "4  2017S004615        Sant Martí  el Camp de l'Arpa del Clot   \n",
       "\n",
       "                                              Street   Weekday      Month  \\\n",
       "0  Número 27                                     ...    Friday    October   \n",
       "1  Número 3 Zona Franca / Número 50 Zona Franca  ...    Friday  September   \n",
       "2  Litoral (Besòs)                               ...    Friday   December   \n",
       "3  Número 3 Zona Franca                          ...    Friday       July   \n",
       "4  Las Navas de Tolosa                           ...  Thursday        May   \n",
       "\n",
       "   Day  Hour Part of the day  Mild injuries  Serious injuries  Victims  \\\n",
       "0   13     8         Morning              2                 0        2   \n",
       "1    1    13         Morning              2                 0        2   \n",
       "2    8    21       Afternoon              5                 0        5   \n",
       "3   21     2           Night              1                 0        1   \n",
       "4   25    14       Afternoon              1                 0        1   \n",
       "\n",
       "   Vehicles involved  Longitude   Latitude  \n",
       "0                  2   2.125624  41.340045  \n",
       "1                  2   2.120452  41.339426  \n",
       "2                  2   2.167356  41.360886  \n",
       "3                  2   2.124529  41.337668  \n",
       "4                  3   2.185272  41.416365  "
      ]
     },
     "execution_count": 104,
     "metadata": {},
     "output_type": "execute_result"
    }
   ],
   "source": [
    "#importing the csv file\n",
    "bar_accidents = pd.read_csv('accidents_2017.csv')\n",
    "bar_accidents.head()"
   ]
  },
  {
   "cell_type": "markdown",
   "id": "b51b1c5d-ca50-492a-8b7f-2a2b5f78fa44",
   "metadata": {},
   "source": [
    "## **2. Checking shape**"
   ]
  },
  {
   "cell_type": "code",
   "execution_count": 105,
   "id": "f0e76277-755c-44f9-85bd-88ffc6342e65",
   "metadata": {},
   "outputs": [
    {
     "data": {
      "text/plain": [
       "(10339, 15)"
      ]
     },
     "execution_count": 105,
     "metadata": {},
     "output_type": "execute_result"
    }
   ],
   "source": [
    "# checking the shape\n",
    "bar_accidents.shape"
   ]
  },
  {
   "cell_type": "markdown",
   "id": "d3d22cc3-77bc-4495-a7df-7e60397834fc",
   "metadata": {},
   "source": [
    "## **3. Checking Info - data types**"
   ]
  },
  {
   "cell_type": "code",
   "execution_count": 106,
   "id": "44c53d0b-b66a-4355-bb01-c0f5a5a7e73f",
   "metadata": {},
   "outputs": [
    {
     "name": "stdout",
     "output_type": "stream",
     "text": [
      "<class 'pandas.core.frame.DataFrame'>\n",
      "RangeIndex: 10339 entries, 0 to 10338\n",
      "Data columns (total 15 columns):\n",
      " #   Column             Non-Null Count  Dtype  \n",
      "---  ------             --------------  -----  \n",
      " 0   Id                 10339 non-null  object \n",
      " 1   District Name      10339 non-null  object \n",
      " 2   Neighborhood Name  10339 non-null  object \n",
      " 3   Street             10339 non-null  object \n",
      " 4   Weekday            10339 non-null  object \n",
      " 5   Month              10339 non-null  object \n",
      " 6   Day                10339 non-null  int64  \n",
      " 7   Hour               10339 non-null  int64  \n",
      " 8   Part of the day    10339 non-null  object \n",
      " 9   Mild injuries      10339 non-null  int64  \n",
      " 10  Serious injuries   10339 non-null  int64  \n",
      " 11  Victims            10339 non-null  int64  \n",
      " 12  Vehicles involved  10339 non-null  int64  \n",
      " 13  Longitude          10339 non-null  float64\n",
      " 14  Latitude           10339 non-null  float64\n",
      "dtypes: float64(2), int64(6), object(7)\n",
      "memory usage: 1.2+ MB\n"
     ]
    }
   ],
   "source": [
    "# checking info\n",
    "bar_accidents.info()"
   ]
  },
  {
   "cell_type": "code",
   "execution_count": 107,
   "id": "2199eb6b-fda2-4336-a3ea-3e42def1f311",
   "metadata": {},
   "outputs": [],
   "source": [
    "# convert month to datetime\n",
    "# bar_accidents.Month = bar_accidents.Month.apply(lambda x: parser.parse(x).month)"
   ]
  },
  {
   "cell_type": "code",
   "execution_count": 159,
   "id": "63888a3a-74e5-4a49-b1c7-ddc475c72925",
   "metadata": {},
   "outputs": [
    {
     "data": {
      "text/html": [
       "<div>\n",
       "<style scoped>\n",
       "    .dataframe tbody tr th:only-of-type {\n",
       "        vertical-align: middle;\n",
       "    }\n",
       "\n",
       "    .dataframe tbody tr th {\n",
       "        vertical-align: top;\n",
       "    }\n",
       "\n",
       "    .dataframe thead th {\n",
       "        text-align: right;\n",
       "    }\n",
       "</style>\n",
       "<table border=\"1\" class=\"dataframe\">\n",
       "  <thead>\n",
       "    <tr style=\"text-align: right;\">\n",
       "      <th></th>\n",
       "      <th>Mild injuries</th>\n",
       "      <th>Weekday</th>\n",
       "      <th>Hour</th>\n",
       "      <th>Vehicles involved</th>\n",
       "      <th>District Name</th>\n",
       "    </tr>\n",
       "  </thead>\n",
       "  <tbody>\n",
       "    <tr>\n",
       "      <th>4</th>\n",
       "      <td>1</td>\n",
       "      <td>Thursday</td>\n",
       "      <td>14</td>\n",
       "      <td>3</td>\n",
       "      <td>Sant Martí</td>\n",
       "    </tr>\n",
       "    <tr>\n",
       "      <th>2</th>\n",
       "      <td>5</td>\n",
       "      <td>Friday</td>\n",
       "      <td>21</td>\n",
       "      <td>2</td>\n",
       "      <td>Unknown</td>\n",
       "    </tr>\n",
       "    <tr>\n",
       "      <th>0</th>\n",
       "      <td>2</td>\n",
       "      <td>Friday</td>\n",
       "      <td>8</td>\n",
       "      <td>2</td>\n",
       "      <td>Unknown</td>\n",
       "    </tr>\n",
       "    <tr>\n",
       "      <th>1</th>\n",
       "      <td>2</td>\n",
       "      <td>Friday</td>\n",
       "      <td>13</td>\n",
       "      <td>2</td>\n",
       "      <td>Unknown</td>\n",
       "    </tr>\n",
       "    <tr>\n",
       "      <th>3</th>\n",
       "      <td>1</td>\n",
       "      <td>Friday</td>\n",
       "      <td>2</td>\n",
       "      <td>2</td>\n",
       "      <td>Unknown</td>\n",
       "    </tr>\n",
       "  </tbody>\n",
       "</table>\n",
       "</div>"
      ],
      "text/plain": [
       "   Mild injuries   Weekday  Hour  Vehicles involved District Name\n",
       "4              1  Thursday    14                  3    Sant Martí\n",
       "2              5    Friday    21                  2       Unknown\n",
       "0              2    Friday     8                  2       Unknown\n",
       "1              2    Friday    13                  2       Unknown\n",
       "3              1    Friday     2                  2       Unknown"
      ]
     },
     "execution_count": 159,
     "metadata": {},
     "output_type": "execute_result"
    }
   ],
   "source": [
    "bar_accidents.head().sample(5).sample(5,axis = 1)"
   ]
  },
  {
   "cell_type": "markdown",
   "id": "3381094a-2042-4898-b202-61bd379e098e",
   "metadata": {},
   "source": [
    "## **4. Checking Unique Columns**"
   ]
  },
  {
   "cell_type": "code",
   "execution_count": 160,
   "id": "7dea1d22-eaf1-47da-b900-ef4999e6fccb",
   "metadata": {},
   "outputs": [
    {
     "data": {
      "text/plain": [
       "15"
      ]
     },
     "execution_count": 160,
     "metadata": {},
     "output_type": "execute_result"
    }
   ],
   "source": [
    "# checking unique columns\n",
    "bar_accidents.columns.nunique()"
   ]
  },
  {
   "cell_type": "markdown",
   "id": "45b23fa9-39a3-4c88-9b97-887c68c2f7a1",
   "metadata": {},
   "source": [
    "## **5. Checking if any Null values**"
   ]
  },
  {
   "cell_type": "code",
   "execution_count": 161,
   "id": "424e2734-e2af-4bad-a115-6da981096c1a",
   "metadata": {},
   "outputs": [
    {
     "data": {
      "text/plain": [
       "Id                   False\n",
       "District Name        False\n",
       "Neighborhood Name    False\n",
       "Street               False\n",
       "Weekday              False\n",
       "Month                False\n",
       "Day                  False\n",
       "Hour                 False\n",
       "Part of the day      False\n",
       "Mild injuries        False\n",
       "Serious injuries     False\n",
       "Victims              False\n",
       "Vehicles involved    False\n",
       "Longitude            False\n",
       "Latitude             False\n",
       "dtype: bool"
      ]
     },
     "execution_count": 161,
     "metadata": {},
     "output_type": "execute_result"
    }
   ],
   "source": [
    "# checking null values\n",
    "bar_accidents.isna().any()"
   ]
  },
  {
   "cell_type": "markdown",
   "id": "9b48b43a-13bb-4b94-ae5b-5f5a437d7247",
   "metadata": {},
   "source": [
    "## **6. Accident rate by Month - by %**"
   ]
  },
  {
   "cell_type": "code",
   "execution_count": 178,
   "id": "16c10039-694c-4b7c-a9b2-ec4ff5fee942",
   "metadata": {},
   "outputs": [
    {
     "data": {
      "text/html": [
       "<div>\n",
       "<style scoped>\n",
       "    .dataframe tbody tr th:only-of-type {\n",
       "        vertical-align: middle;\n",
       "    }\n",
       "\n",
       "    .dataframe tbody tr th {\n",
       "        vertical-align: top;\n",
       "    }\n",
       "\n",
       "    .dataframe thead th {\n",
       "        text-align: right;\n",
       "    }\n",
       "</style>\n",
       "<table border=\"1\" class=\"dataframe\">\n",
       "  <thead>\n",
       "    <tr style=\"text-align: right;\">\n",
       "      <th></th>\n",
       "      <th>Victims</th>\n",
       "      <th>% rate</th>\n",
       "    </tr>\n",
       "    <tr>\n",
       "      <th>Month</th>\n",
       "      <th></th>\n",
       "      <th></th>\n",
       "    </tr>\n",
       "  </thead>\n",
       "  <tbody>\n",
       "    <tr>\n",
       "      <th>November</th>\n",
       "      <td>1211</td>\n",
       "      <td>9.94%</td>\n",
       "    </tr>\n",
       "    <tr>\n",
       "      <th>July</th>\n",
       "      <td>1103</td>\n",
       "      <td>9.05%</td>\n",
       "    </tr>\n",
       "    <tr>\n",
       "      <th>May</th>\n",
       "      <td>1092</td>\n",
       "      <td>8.96%</td>\n",
       "    </tr>\n",
       "    <tr>\n",
       "      <th>June</th>\n",
       "      <td>1087</td>\n",
       "      <td>8.92%</td>\n",
       "    </tr>\n",
       "    <tr>\n",
       "      <th>March</th>\n",
       "      <td>1087</td>\n",
       "      <td>8.92%</td>\n",
       "    </tr>\n",
       "    <tr>\n",
       "      <th>October</th>\n",
       "      <td>1078</td>\n",
       "      <td>8.85%</td>\n",
       "    </tr>\n",
       "    <tr>\n",
       "      <th>January</th>\n",
       "      <td>991</td>\n",
       "      <td>8.13%</td>\n",
       "    </tr>\n",
       "    <tr>\n",
       "      <th>September</th>\n",
       "      <td>958</td>\n",
       "      <td>7.86%</td>\n",
       "    </tr>\n",
       "    <tr>\n",
       "      <th>February</th>\n",
       "      <td>942</td>\n",
       "      <td>7.73%</td>\n",
       "    </tr>\n",
       "    <tr>\n",
       "      <th>April</th>\n",
       "      <td>936</td>\n",
       "      <td>7.68%</td>\n",
       "    </tr>\n",
       "    <tr>\n",
       "      <th>December</th>\n",
       "      <td>898</td>\n",
       "      <td>7.37%</td>\n",
       "    </tr>\n",
       "    <tr>\n",
       "      <th>August</th>\n",
       "      <td>803</td>\n",
       "      <td>6.59%</td>\n",
       "    </tr>\n",
       "  </tbody>\n",
       "</table>\n",
       "</div>"
      ],
      "text/plain": [
       "           Victims % rate\n",
       "Month                    \n",
       "November      1211  9.94%\n",
       "July          1103  9.05%\n",
       "May           1092  8.96%\n",
       "June          1087  8.92%\n",
       "March         1087  8.92%\n",
       "October       1078  8.85%\n",
       "January        991  8.13%\n",
       "September      958  7.86%\n",
       "February       942  7.73%\n",
       "April          936  7.68%\n",
       "December       898  7.37%\n",
       "August         803  6.59%"
      ]
     },
     "execution_count": 178,
     "metadata": {},
     "output_type": "execute_result"
    }
   ],
   "source": [
    "# percentage by month\n",
    "bar_acc_month['% rate'] =  bar_acc_month['Victims']\\\n",
    ".transform(lambda x: str (round((x / bar_acc_month.Victims.sum() *100),2)) + str('%'))\n",
    "bar_acc_month"
   ]
  },
  {
   "cell_type": "markdown",
   "id": "ae96c4e8-618e-45bd-8bed-e1511a3051b7",
   "metadata": {},
   "source": [
    "## **6a. Number of Accident Victims by Month( Line graph)**"
   ]
  },
  {
   "cell_type": "code",
   "execution_count": 112,
   "id": "145b4291-9262-4e49-a4ec-9f7aaec9dfcc",
   "metadata": {},
   "outputs": [
    {
     "data": {
      "image/png": "[encoded data removed]",
      "text/plain": [
       "<Figure size 936x360 with 1 Axes>"
      ]
     },
     "metadata": {
      "needs_background": "light"
     },
     "output_type": "display_data"
    }
   ],
   "source": [
    "fig, ax = plt.subplots(figsize = (13,5))\n",
    "ax.plot(bar_acc_month.index, bar_acc_month.values, linewidth = 4)\n",
    "ax.set(title = 'Number of Accident Victims by Month( Line graph)', xlabel = 'Month', ylabel = 'Total No of Victims');"
   ]
  },
  {
   "cell_type": "markdown",
   "id": "a9cf53a9-23fe-497e-a446-c8aa3ba80faf",
   "metadata": {},
   "source": [
    "## **6b. Number of Accident Victims by Month( bar)**"
   ]
  },
  {
   "cell_type": "code",
   "execution_count": 113,
   "id": "681c6da3-5628-4fcc-896d-0a94967ae491",
   "metadata": {},
   "outputs": [
    {
     "data": {
      "text/plain": [
       "[Text(0.5, 1.0, 'Number of Accident Victims by Month (Bar chart)')]"
      ]
     },
     "execution_count": 113,
     "metadata": {},
     "output_type": "execute_result"
    },
    {
     "data": {
      "image/png": "[encoded data removed]",
      "text/plain": [
       "<Figure size 864x360 with 1 Axes>"
      ]
     },
     "metadata": {
      "needs_background": "light"
     },
     "output_type": "display_data"
    }
   ],
   "source": [
    "fig, ax = plt.subplots(figsize = (12,5))\n",
    "sns.barplot(data = bar_acc_month, x = bar_acc_month.index , y = bar_acc_month['Victims'] )\n",
    "ax.set(title = 'Number of Accident Victims by Month (Bar chart)')"
   ]
  },
  {
   "cell_type": "markdown",
   "id": "718513dc-71a6-4f83-b35d-aa9950860abb",
   "metadata": {},
   "source": [
    "## **7a. Accidents by part of day**"
   ]
  },
  {
   "cell_type": "code",
   "execution_count": 150,
   "id": "1bad74a0-91a6-4137-a748-6e1cba0bf24f",
   "metadata": {},
   "outputs": [
    {
     "data": {
      "text/plain": [
       "Part of the day\n",
       "Afternoon    6092\n",
       "Morning      4712\n",
       "Night        1382\n",
       "Name: (Victims, sum), dtype: int64"
      ]
     },
     "execution_count": 150,
     "metadata": {},
     "output_type": "execute_result"
    }
   ],
   "source": [
    "# what part of the morning has highest rates\n",
    "bar_acc_pod = bar_accidents.loc[:, ['Part of the day','Victims']].groupby('Part of the day').agg(['sum']).squeeze()\n",
    "bar_acc_pod"
   ]
  },
  {
   "cell_type": "code",
   "execution_count": 154,
   "id": "a25f31c3-7094-4ef2-a7bd-df6038212c86",
   "metadata": {},
   "outputs": [
    {
     "data": {
      "image/png": "[encoded data removed]",
      "text/plain": [
       "<Figure size 432x288 with 1 Axes>"
      ]
     },
     "metadata": {
      "needs_background": "light"
     },
     "output_type": "display_data"
    }
   ],
   "source": [
    "bar_acc_pod.plot(kind = 'bar' , x = bar_acc_pod.index  , y = bar_acc_pod.values);"
   ]
  },
  {
   "cell_type": "markdown",
   "id": "5964f27f-0b4f-47d0-8224-f6ca8e19a21e",
   "metadata": {},
   "source": [
    "## **7b. Part of day - pie chart**"
   ]
  },
  {
   "cell_type": "code",
   "execution_count": 185,
   "id": "9236f157-5f4d-44fc-aa28-58c7cf695d82",
   "metadata": {},
   "outputs": [
    {
     "data": {
      "image/png": "[encoded data removed]",
      "text/plain": [
       "<Figure size 1152x360 with 1 Axes>"
      ]
     },
     "metadata": {},
     "output_type": "display_data"
    }
   ],
   "source": [
    "bar_acc_pod.plot(kind = 'pie' , x = bar_acc_pod.index\\\n",
    ", y = bar_acc_pod.values, figsize = (16,5));"
   ]
  },
  {
   "cell_type": "code",
   "execution_count": null,
   "id": "78f2b157-47e5-4dcb-bcfb-2d029f0388ac",
   "metadata": {},
   "outputs": [],
   "source": []
  }
 ],
 "metadata": {
  "kernelspec": {
   "display_name": "Python 3",
   "language": "python",
   "name": "python3"
  },
  "language_info": {
   "codemirror_mode": {
    "name": "ipython",
    "version": 3
   },
   "file_extension": ".py",
   "mimetype": "text/x-python",
   "name": "python",
   "nbconvert_exporter": "python",
   "pygments_lexer": "ipython3",
   "version": "3.8.8"
  }
 },
 "nbformat": 4,
 "nbformat_minor": 5
}
