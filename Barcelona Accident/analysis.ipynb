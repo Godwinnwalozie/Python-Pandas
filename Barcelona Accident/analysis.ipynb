{
 "cells": [
  {
   "cell_type": "raw",
   "id": "7d4a498c-d006-4872-84c1-6eda18ee0b41",
   "metadata": {},
   "source": [
    "## This case study aims to anlayze Barcelona's 2017 accidents dataset, \n",
    "## published by the Open Data BCN, exploring the correlation between accident \n",
    "## location (i.e district, neighborhood), and its consequences (i.e Victims, Serious injuries, etc..)"
   ]
  },
  {
   "cell_type": "markdown",
   "id": "a40789a3-f332-4270-aa8e-8dfd4a5e0004",
   "metadata": {},
   "source": [
    "## **1. Importing Functions**"
   ]
  },
  {
   "cell_type": "code",
   "execution_count": 1,
   "id": "b7e46bdd-28e4-40e7-8459-89a1baa1f7b2",
   "metadata": {},
   "outputs": [],
   "source": [
    "import pandas as pd\n",
    "import numpy as np\n",
    "from dateutil import parser\n",
    "from datetime import datetime, time, date\n",
    "import matplotlib.pyplot  as plt\n",
    "import seaborn as sns\n",
    "%matplotlib inline"
   ]
  },
  {
   "cell_type": "code",
   "execution_count": 2,
   "id": "ac811ae4-e2b1-455b-88ce-5ad0640eacb9",
   "metadata": {},
   "outputs": [
    {
     "data": {
      "text/html": [
       "<div>\n",
       "<style scoped>\n",
       "    .dataframe tbody tr th:only-of-type {\n",
       "        vertical-align: middle;\n",
       "    }\n",
       "\n",
       "    .dataframe tbody tr th {\n",
       "        vertical-align: top;\n",
       "    }\n",
       "\n",
       "    .dataframe thead th {\n",
       "        text-align: right;\n",
       "    }\n",
       "</style>\n",
       "<table border=\"1\" class=\"dataframe\">\n",
       "  <thead>\n",
       "    <tr style=\"text-align: right;\">\n",
       "      <th></th>\n",
       "      <th>Id</th>\n",
       "      <th>District Name</th>\n",
       "      <th>Neighborhood Name</th>\n",
       "      <th>Street</th>\n",
       "      <th>Weekday</th>\n",
       "      <th>Month</th>\n",
       "      <th>Day</th>\n",
       "      <th>Hour</th>\n",
       "      <th>Part of the day</th>\n",
       "      <th>Mild injuries</th>\n",
       "      <th>Serious injuries</th>\n",
       "      <th>Victims</th>\n",
       "      <th>Vehicles involved</th>\n",
       "      <th>Longitude</th>\n",
       "      <th>Latitude</th>\n",
       "    </tr>\n",
       "  </thead>\n",
       "  <tbody>\n",
       "    <tr>\n",
       "      <th>0</th>\n",
       "      <td>2017S008429</td>\n",
       "      <td>Unknown</td>\n",
       "      <td>Unknown</td>\n",
       "      <td>Número 27                                     ...</td>\n",
       "      <td>Friday</td>\n",
       "      <td>October</td>\n",
       "      <td>13</td>\n",
       "      <td>8</td>\n",
       "      <td>Morning</td>\n",
       "      <td>2</td>\n",
       "      <td>0</td>\n",
       "      <td>2</td>\n",
       "      <td>2</td>\n",
       "      <td>2.125624</td>\n",
       "      <td>41.340045</td>\n",
       "    </tr>\n",
       "    <tr>\n",
       "      <th>1</th>\n",
       "      <td>2017S007316</td>\n",
       "      <td>Unknown</td>\n",
       "      <td>Unknown</td>\n",
       "      <td>Número 3 Zona Franca / Número 50 Zona Franca  ...</td>\n",
       "      <td>Friday</td>\n",
       "      <td>September</td>\n",
       "      <td>1</td>\n",
       "      <td>13</td>\n",
       "      <td>Morning</td>\n",
       "      <td>2</td>\n",
       "      <td>0</td>\n",
       "      <td>2</td>\n",
       "      <td>2</td>\n",
       "      <td>2.120452</td>\n",
       "      <td>41.339426</td>\n",
       "    </tr>\n",
       "    <tr>\n",
       "      <th>2</th>\n",
       "      <td>2017S010210</td>\n",
       "      <td>Unknown</td>\n",
       "      <td>Unknown</td>\n",
       "      <td>Litoral (Besòs)                               ...</td>\n",
       "      <td>Friday</td>\n",
       "      <td>December</td>\n",
       "      <td>8</td>\n",
       "      <td>21</td>\n",
       "      <td>Afternoon</td>\n",
       "      <td>5</td>\n",
       "      <td>0</td>\n",
       "      <td>5</td>\n",
       "      <td>2</td>\n",
       "      <td>2.167356</td>\n",
       "      <td>41.360886</td>\n",
       "    </tr>\n",
       "    <tr>\n",
       "      <th>3</th>\n",
       "      <td>2017S006364</td>\n",
       "      <td>Unknown</td>\n",
       "      <td>Unknown</td>\n",
       "      <td>Número 3 Zona Franca                          ...</td>\n",
       "      <td>Friday</td>\n",
       "      <td>July</td>\n",
       "      <td>21</td>\n",
       "      <td>2</td>\n",
       "      <td>Night</td>\n",
       "      <td>1</td>\n",
       "      <td>0</td>\n",
       "      <td>1</td>\n",
       "      <td>2</td>\n",
       "      <td>2.124529</td>\n",
       "      <td>41.337668</td>\n",
       "    </tr>\n",
       "    <tr>\n",
       "      <th>4</th>\n",
       "      <td>2017S004615</td>\n",
       "      <td>Sant Martí</td>\n",
       "      <td>el Camp de l'Arpa del Clot</td>\n",
       "      <td>Las Navas de Tolosa                           ...</td>\n",
       "      <td>Thursday</td>\n",
       "      <td>May</td>\n",
       "      <td>25</td>\n",
       "      <td>14</td>\n",
       "      <td>Afternoon</td>\n",
       "      <td>1</td>\n",
       "      <td>0</td>\n",
       "      <td>1</td>\n",
       "      <td>3</td>\n",
       "      <td>2.185272</td>\n",
       "      <td>41.416365</td>\n",
       "    </tr>\n",
       "  </tbody>\n",
       "</table>\n",
       "</div>"
      ],
      "text/plain": [
       "                Id District Name           Neighborhood Name  \\\n",
       "0  2017S008429           Unknown                     Unknown   \n",
       "1  2017S007316           Unknown                     Unknown   \n",
       "2  2017S010210           Unknown                     Unknown   \n",
       "3  2017S006364           Unknown                     Unknown   \n",
       "4  2017S004615        Sant Martí  el Camp de l'Arpa del Clot   \n",
       "\n",
       "                                              Street   Weekday      Month  \\\n",
       "0  Número 27                                     ...    Friday    October   \n",
       "1  Número 3 Zona Franca / Número 50 Zona Franca  ...    Friday  September   \n",
       "2  Litoral (Besòs)                               ...    Friday   December   \n",
       "3  Número 3 Zona Franca                          ...    Friday       July   \n",
       "4  Las Navas de Tolosa                           ...  Thursday        May   \n",
       "\n",
       "   Day  Hour Part of the day  Mild injuries  Serious injuries  Victims  \\\n",
       "0   13     8         Morning              2                 0        2   \n",
       "1    1    13         Morning              2                 0        2   \n",
       "2    8    21       Afternoon              5                 0        5   \n",
       "3   21     2           Night              1                 0        1   \n",
       "4   25    14       Afternoon              1                 0        1   \n",
       "\n",
       "   Vehicles involved  Longitude   Latitude  \n",
       "0                  2   2.125624  41.340045  \n",
       "1                  2   2.120452  41.339426  \n",
       "2                  2   2.167356  41.360886  \n",
       "3                  2   2.124529  41.337668  \n",
       "4                  3   2.185272  41.416365  "
      ]
     },
     "execution_count": 2,
     "metadata": {},
     "output_type": "execute_result"
    }
   ],
   "source": [
    "#importing the csv file\n",
    "bar_accidents = pd.read_csv('accidents_2017.csv')\n",
    "bar_accidents.head()"
   ]
  },
  {
   "cell_type": "markdown",
   "id": "b51b1c5d-ca50-492a-8b7f-2a2b5f78fa44",
   "metadata": {},
   "source": [
    "## **2. Checking shape**"
   ]
  },
  {
   "cell_type": "code",
   "execution_count": 3,
   "id": "f0e76277-755c-44f9-85bd-88ffc6342e65",
   "metadata": {},
   "outputs": [
    {
     "data": {
      "text/plain": [
       "(10339, 15)"
      ]
     },
     "execution_count": 3,
     "metadata": {},
     "output_type": "execute_result"
    }
   ],
   "source": [
    "# checking the shape\n",
    "bar_accidents.shape"
   ]
  },
  {
   "cell_type": "markdown",
   "id": "d3d22cc3-77bc-4495-a7df-7e60397834fc",
   "metadata": {},
   "source": [
    "## **3. Checking Info - data types**"
   ]
  },
  {
   "cell_type": "code",
   "execution_count": 4,
   "id": "44c53d0b-b66a-4355-bb01-c0f5a5a7e73f",
   "metadata": {},
   "outputs": [
    {
     "name": "stdout",
     "output_type": "stream",
     "text": [
      "<class 'pandas.core.frame.DataFrame'>\n",
      "RangeIndex: 10339 entries, 0 to 10338\n",
      "Data columns (total 15 columns):\n",
      " #   Column             Non-Null Count  Dtype  \n",
      "---  ------             --------------  -----  \n",
      " 0   Id                 10339 non-null  object \n",
      " 1   District Name      10339 non-null  object \n",
      " 2   Neighborhood Name  10339 non-null  object \n",
      " 3   Street             10339 non-null  object \n",
      " 4   Weekday            10339 non-null  object \n",
      " 5   Month              10339 non-null  object \n",
      " 6   Day                10339 non-null  int64  \n",
      " 7   Hour               10339 non-null  int64  \n",
      " 8   Part of the day    10339 non-null  object \n",
      " 9   Mild injuries      10339 non-null  int64  \n",
      " 10  Serious injuries   10339 non-null  int64  \n",
      " 11  Victims            10339 non-null  int64  \n",
      " 12  Vehicles involved  10339 non-null  int64  \n",
      " 13  Longitude          10339 non-null  float64\n",
      " 14  Latitude           10339 non-null  float64\n",
      "dtypes: float64(2), int64(6), object(7)\n",
      "memory usage: 1.2+ MB\n"
     ]
    }
   ],
   "source": [
    "# checking info\n",
    "bar_accidents.info()"
   ]
  },
  {
   "cell_type": "code",
   "execution_count": 5,
   "id": "2199eb6b-fda2-4336-a3ea-3e42def1f311",
   "metadata": {},
   "outputs": [],
   "source": [
    "# convert month to datetime\n",
    "# bar_accidents.Month = bar_accidents.Month.apply(lambda x: parser.parse(x).month)"
   ]
  },
  {
   "cell_type": "code",
   "execution_count": 33,
   "id": "63888a3a-74e5-4a49-b1c7-ddc475c72925",
   "metadata": {},
   "outputs": [
    {
     "data": {
      "text/html": [
       "<div>\n",
       "<style scoped>\n",
       "    .dataframe tbody tr th:only-of-type {\n",
       "        vertical-align: middle;\n",
       "    }\n",
       "\n",
       "    .dataframe tbody tr th {\n",
       "        vertical-align: top;\n",
       "    }\n",
       "\n",
       "    .dataframe thead th {\n",
       "        text-align: right;\n",
       "    }\n",
       "</style>\n",
       "<table border=\"1\" class=\"dataframe\">\n",
       "  <thead>\n",
       "    <tr style=\"text-align: right;\">\n",
       "      <th></th>\n",
       "      <th>Mild injuries</th>\n",
       "      <th>Serious injuries</th>\n",
       "      <th>Street</th>\n",
       "      <th>Month</th>\n",
       "      <th>Neighborhood Name</th>\n",
       "    </tr>\n",
       "  </thead>\n",
       "  <tbody>\n",
       "    <tr>\n",
       "      <th>2</th>\n",
       "      <td>5</td>\n",
       "      <td>0</td>\n",
       "      <td>Litoral (Besòs)                               ...</td>\n",
       "      <td>December</td>\n",
       "      <td>Unknown</td>\n",
       "    </tr>\n",
       "    <tr>\n",
       "      <th>0</th>\n",
       "      <td>2</td>\n",
       "      <td>0</td>\n",
       "      <td>Número 27                                     ...</td>\n",
       "      <td>October</td>\n",
       "      <td>Unknown</td>\n",
       "    </tr>\n",
       "    <tr>\n",
       "      <th>3</th>\n",
       "      <td>1</td>\n",
       "      <td>0</td>\n",
       "      <td>Número 3 Zona Franca                          ...</td>\n",
       "      <td>July</td>\n",
       "      <td>Unknown</td>\n",
       "    </tr>\n",
       "    <tr>\n",
       "      <th>4</th>\n",
       "      <td>1</td>\n",
       "      <td>0</td>\n",
       "      <td>Las Navas de Tolosa                           ...</td>\n",
       "      <td>May</td>\n",
       "      <td>el Camp de l'Arpa del Clot</td>\n",
       "    </tr>\n",
       "    <tr>\n",
       "      <th>1</th>\n",
       "      <td>2</td>\n",
       "      <td>0</td>\n",
       "      <td>Número 3 Zona Franca / Número 50 Zona Franca  ...</td>\n",
       "      <td>September</td>\n",
       "      <td>Unknown</td>\n",
       "    </tr>\n",
       "  </tbody>\n",
       "</table>\n",
       "</div>"
      ],
      "text/plain": [
       "   Mild injuries  Serious injuries  \\\n",
       "2              5                 0   \n",
       "0              2                 0   \n",
       "3              1                 0   \n",
       "4              1                 0   \n",
       "1              2                 0   \n",
       "\n",
       "                                              Street      Month  \\\n",
       "2  Litoral (Besòs)                               ...   December   \n",
       "0  Número 27                                     ...    October   \n",
       "3  Número 3 Zona Franca                          ...       July   \n",
       "4  Las Navas de Tolosa                           ...        May   \n",
       "1  Número 3 Zona Franca / Número 50 Zona Franca  ...  September   \n",
       "\n",
       "            Neighborhood Name  \n",
       "2                     Unknown  \n",
       "0                     Unknown  \n",
       "3                     Unknown  \n",
       "4  el Camp de l'Arpa del Clot  \n",
       "1                     Unknown  "
      ]
     },
     "execution_count": 33,
     "metadata": {},
     "output_type": "execute_result"
    }
   ],
   "source": [
    "bar_accidents.head().sample(5).sample(5,axis = 1)"
   ]
  },
  {
   "cell_type": "markdown",
   "id": "3381094a-2042-4898-b202-61bd379e098e",
   "metadata": {},
   "source": [
    "## **4. Checking Unique Columns**"
   ]
  },
  {
   "cell_type": "code",
   "execution_count": 35,
   "id": "7dea1d22-eaf1-47da-b900-ef4999e6fccb",
   "metadata": {},
   "outputs": [
    {
     "data": {
      "text/plain": [
       "16"
      ]
     },
     "execution_count": 35,
     "metadata": {},
     "output_type": "execute_result"
    }
   ],
   "source": [
    "# checking unique columns\n",
    "bar_accidents.columns.nunique()"
   ]
  },
  {
   "cell_type": "markdown",
   "id": "45b23fa9-39a3-4c88-9b97-887c68c2f7a1",
   "metadata": {},
   "source": [
    "## **5. Checking if any Null values**"
   ]
  },
  {
   "cell_type": "code",
   "execution_count": 8,
   "id": "424e2734-e2af-4bad-a115-6da981096c1a",
   "metadata": {},
   "outputs": [
    {
     "data": {
      "text/plain": [
       "Id                   False\n",
       "District Name        False\n",
       "Neighborhood Name    False\n",
       "Street               False\n",
       "Weekday              False\n",
       "Month                False\n",
       "Day                  False\n",
       "Hour                 False\n",
       "Part of the day      False\n",
       "Mild injuries        False\n",
       "Serious injuries     False\n",
       "Victims              False\n",
       "Vehicles involved    False\n",
       "Longitude            False\n",
       "Latitude             False\n",
       "dtype: bool"
      ]
     },
     "execution_count": 8,
     "metadata": {},
     "output_type": "execute_result"
    }
   ],
   "source": [
    "# checking null values\n",
    "bar_accidents.isna().any()"
   ]
  },
  {
   "cell_type": "code",
   "execution_count": 9,
   "id": "82d428fc-8210-4d39-9915-0562b2f92dd4",
   "metadata": {},
   "outputs": [
    {
     "data": {
      "text/html": [
       "<div>\n",
       "<style scoped>\n",
       "    .dataframe tbody tr th:only-of-type {\n",
       "        vertical-align: middle;\n",
       "    }\n",
       "\n",
       "    .dataframe tbody tr th {\n",
       "        vertical-align: top;\n",
       "    }\n",
       "\n",
       "    .dataframe thead th {\n",
       "        text-align: right;\n",
       "    }\n",
       "</style>\n",
       "<table border=\"1\" class=\"dataframe\">\n",
       "  <thead>\n",
       "    <tr style=\"text-align: right;\">\n",
       "      <th></th>\n",
       "      <th>Victims</th>\n",
       "    </tr>\n",
       "    <tr>\n",
       "      <th>Month</th>\n",
       "      <th></th>\n",
       "    </tr>\n",
       "  </thead>\n",
       "  <tbody>\n",
       "    <tr>\n",
       "      <th>April</th>\n",
       "      <td>936</td>\n",
       "    </tr>\n",
       "    <tr>\n",
       "      <th>August</th>\n",
       "      <td>803</td>\n",
       "    </tr>\n",
       "    <tr>\n",
       "      <th>December</th>\n",
       "      <td>898</td>\n",
       "    </tr>\n",
       "    <tr>\n",
       "      <th>February</th>\n",
       "      <td>942</td>\n",
       "    </tr>\n",
       "    <tr>\n",
       "      <th>January</th>\n",
       "      <td>991</td>\n",
       "    </tr>\n",
       "  </tbody>\n",
       "</table>\n",
       "</div>"
      ],
      "text/plain": [
       "          Victims\n",
       "Month            \n",
       "April         936\n",
       "August        803\n",
       "December      898\n",
       "February      942\n",
       "January       991"
      ]
     },
     "execution_count": 9,
     "metadata": {},
     "output_type": "execute_result"
    }
   ],
   "source": [
    "bar_acc_month= bar_accidents.loc[:, ['Month','Victims']].groupby('Month').sum()\n",
    "bar_acc_month.head()"
   ]
  },
  {
   "cell_type": "code",
   "execution_count": 10,
   "id": "ccb2e129-b213-4c95-a165-cd6a93f2a865",
   "metadata": {},
   "outputs": [
    {
     "data": {
      "text/plain": [
       "12186"
      ]
     },
     "execution_count": 10,
     "metadata": {},
     "output_type": "execute_result"
    }
   ],
   "source": [
    "bar_acc_month.Victims.sum()"
   ]
  },
  {
   "cell_type": "code",
   "execution_count": 11,
   "id": "cd6b18ad-5a84-4688-8447-c071ab15020c",
   "metadata": {},
   "outputs": [
    {
     "data": {
      "text/plain": [
       "0.09945839487936976"
      ]
     },
     "execution_count": 11,
     "metadata": {},
     "output_type": "execute_result"
    }
   ],
   "source": [
    "1212/12186"
   ]
  },
  {
   "cell_type": "markdown",
   "id": "9b48b43a-13bb-4b94-ae5b-5f5a437d7247",
   "metadata": {},
   "source": [
    "## **6. Accident rate by Month - by %**"
   ]
  },
  {
   "cell_type": "code",
   "execution_count": 12,
   "id": "16c10039-694c-4b7c-a9b2-ec4ff5fee942",
   "metadata": {},
   "outputs": [
    {
     "data": {
      "text/html": [
       "<div>\n",
       "<style scoped>\n",
       "    .dataframe tbody tr th:only-of-type {\n",
       "        vertical-align: middle;\n",
       "    }\n",
       "\n",
       "    .dataframe tbody tr th {\n",
       "        vertical-align: top;\n",
       "    }\n",
       "\n",
       "    .dataframe thead th {\n",
       "        text-align: right;\n",
       "    }\n",
       "</style>\n",
       "<table border=\"1\" class=\"dataframe\">\n",
       "  <thead>\n",
       "    <tr style=\"text-align: right;\">\n",
       "      <th></th>\n",
       "      <th>Victims</th>\n",
       "      <th>% rate</th>\n",
       "    </tr>\n",
       "    <tr>\n",
       "      <th>Month</th>\n",
       "      <th></th>\n",
       "      <th></th>\n",
       "    </tr>\n",
       "  </thead>\n",
       "  <tbody>\n",
       "    <tr>\n",
       "      <th>April</th>\n",
       "      <td>936</td>\n",
       "      <td>7.68%</td>\n",
       "    </tr>\n",
       "    <tr>\n",
       "      <th>August</th>\n",
       "      <td>803</td>\n",
       "      <td>6.59%</td>\n",
       "    </tr>\n",
       "    <tr>\n",
       "      <th>December</th>\n",
       "      <td>898</td>\n",
       "      <td>7.37%</td>\n",
       "    </tr>\n",
       "    <tr>\n",
       "      <th>February</th>\n",
       "      <td>942</td>\n",
       "      <td>7.73%</td>\n",
       "    </tr>\n",
       "    <tr>\n",
       "      <th>January</th>\n",
       "      <td>991</td>\n",
       "      <td>8.13%</td>\n",
       "    </tr>\n",
       "  </tbody>\n",
       "</table>\n",
       "</div>"
      ],
      "text/plain": [
       "          Victims % rate\n",
       "Month                   \n",
       "April         936  7.68%\n",
       "August        803  6.59%\n",
       "December      898  7.37%\n",
       "February      942  7.73%\n",
       "January       991  8.13%"
      ]
     },
     "execution_count": 12,
     "metadata": {},
     "output_type": "execute_result"
    }
   ],
   "source": [
    "# percentage by month\n",
    "bar_acc_month['% rate'] =  bar_acc_month['Victims']\\\n",
    ".transform(lambda x: str (round((x / bar_acc_month.Victims.sum() *100),2)) + str('%'))\n",
    "bar_acc_month.head()"
   ]
  },
  {
   "cell_type": "markdown",
   "id": "ae96c4e8-618e-45bd-8bed-e1511a3051b7",
   "metadata": {},
   "source": [
    "## **6a. Number of Accident Victims by Month( Line graph)**"
   ]
  },
  {
   "cell_type": "code",
   "execution_count": 13,
   "id": "145b4291-9262-4e49-a4ec-9f7aaec9dfcc",
   "metadata": {},
   "outputs": [
    {
     "data": {
      "image/png": "[encoded data removed]",
      "text/plain": [
       "<Figure size 936x360 with 1 Axes>"
      ]
     },
     "metadata": {
      "needs_background": "light"
     },
     "output_type": "display_data"
    }
   ],
   "source": [
    "fig, ax = plt.subplots(figsize = (13,5))\n",
    "ax.plot(bar_acc_month.index, bar_acc_month.Victims, linewidth = 4)\n",
    "ax.set(title = 'Number of Accident Victims by Month', \\\n",
    "       xlabel = 'Month', ylabel = 'Total No of Victims');"
   ]
  },
  {
   "cell_type": "markdown",
   "id": "a9cf53a9-23fe-497e-a446-c8aa3ba80faf",
   "metadata": {},
   "source": [
    "## **6b. Number of Accident Victims by Month( bar)**"
   ]
  },
  {
   "cell_type": "code",
   "execution_count": 14,
   "id": "681c6da3-5628-4fcc-896d-0a94967ae491",
   "metadata": {},
   "outputs": [
    {
     "data": {
      "text/plain": [
       "[Text(0.5, 1.0, 'Number of Accident Victims by Month (Bar chart)')]"
      ]
     },
     "execution_count": 14,
     "metadata": {},
     "output_type": "execute_result"
    },
    {
     "data": {
      "image/png": "[encoded data removed]",
      "text/plain": [
       "<Figure size 864x360 with 1 Axes>"
      ]
     },
     "metadata": {
      "needs_background": "light"
     },
     "output_type": "display_data"
    }
   ],
   "source": [
    "fig, ax = plt.subplots(figsize = (12,5))\n",
    "sns.barplot(data = bar_acc_month, x = bar_acc_month.index , y = bar_acc_month['Victims'] )\n",
    "ax.set(title = 'Number of Accident Victims by Month (Bar chart)')"
   ]
  },
  {
   "cell_type": "markdown",
   "id": "718513dc-71a6-4f83-b35d-aa9950860abb",
   "metadata": {},
   "source": [
    "## **7a. Accidents by part of day**"
   ]
  },
  {
   "cell_type": "code",
   "execution_count": 15,
   "id": "1bad74a0-91a6-4137-a748-6e1cba0bf24f",
   "metadata": {},
   "outputs": [
    {
     "data": {
      "text/plain": [
       "Part of the day\n",
       "Afternoon    6092\n",
       "Morning      4712\n",
       "Night        1382\n",
       "Name: (Victims, sum), dtype: int64"
      ]
     },
     "execution_count": 15,
     "metadata": {},
     "output_type": "execute_result"
    }
   ],
   "source": [
    "# what part of the morning has highest rates\n",
    "bar_acc_pod = bar_accidents.loc[:, ['Part of the day','Victims']]\\\n",
    ".groupby('Part of the day').agg(['sum']).squeeze()\n",
    "bar_acc_pod"
   ]
  },
  {
   "cell_type": "code",
   "execution_count": 16,
   "id": "a25f31c3-7094-4ef2-a7bd-df6038212c86",
   "metadata": {},
   "outputs": [
    {
     "data": {
      "text/plain": [
       "<AxesSubplot:xlabel='Part of the day'>"
      ]
     },
     "execution_count": 16,
     "metadata": {},
     "output_type": "execute_result"
    },
    {
     "data": {
      "image/png": "[encoded data removed]",
      "text/plain": [
       "<Figure size 432x288 with 1 Axes>"
      ]
     },
     "metadata": {
      "needs_background": "light"
     },
     "output_type": "display_data"
    }
   ],
   "source": [
    "bar_acc_pod.plot(kind = 'bar' , \\\n",
    "            x = bar_acc_pod.index  , y = bar_acc_pod.values)"
   ]
  },
  {
   "cell_type": "markdown",
   "id": "5964f27f-0b4f-47d0-8224-f6ca8e19a21e",
   "metadata": {},
   "source": [
    "## **7b. Part of day - pie chart**"
   ]
  },
  {
   "cell_type": "code",
   "execution_count": 17,
   "id": "9236f157-5f4d-44fc-aa28-58c7cf695d82",
   "metadata": {},
   "outputs": [
    {
     "data": {
      "image/png": "[encoded data removed]",
      "text/plain": [
       "<Figure size 1152x360 with 1 Axes>"
      ]
     },
     "metadata": {},
     "output_type": "display_data"
    }
   ],
   "source": [
    "bar_acc_pod.plot(kind = 'pie' , x = bar_acc_pod.index\\\n",
    ", y = bar_acc_pod.values, figsize = (16,5));"
   ]
  },
  {
   "cell_type": "markdown",
   "id": "3f987947-68c6-457e-a5e3-e0b33465a920",
   "metadata": {},
   "source": [
    "## **8. Serious Injuries Occurence by District %**"
   ]
  },
  {
   "cell_type": "code",
   "execution_count": 18,
   "id": "1a32046c-9757-419a-97f2-33adfcc6fe0d",
   "metadata": {},
   "outputs": [
    {
     "data": {
      "text/html": [
       "<div>\n",
       "<style scoped>\n",
       "    .dataframe tbody tr th:only-of-type {\n",
       "        vertical-align: middle;\n",
       "    }\n",
       "\n",
       "    .dataframe tbody tr th {\n",
       "        vertical-align: top;\n",
       "    }\n",
       "\n",
       "    .dataframe thead tr th {\n",
       "        text-align: left;\n",
       "    }\n",
       "\n",
       "    .dataframe thead tr:last-of-type th {\n",
       "        text-align: right;\n",
       "    }\n",
       "</style>\n",
       "<table border=\"1\" class=\"dataframe\">\n",
       "  <thead>\n",
       "    <tr>\n",
       "      <th></th>\n",
       "      <th>Mild injuries</th>\n",
       "      <th>Serious injuries</th>\n",
       "      <th>Victims</th>\n",
       "    </tr>\n",
       "    <tr>\n",
       "      <th></th>\n",
       "      <th>sum</th>\n",
       "      <th>sum</th>\n",
       "      <th>sum</th>\n",
       "    </tr>\n",
       "    <tr>\n",
       "      <th>District Name</th>\n",
       "      <th></th>\n",
       "      <th></th>\n",
       "      <th></th>\n",
       "    </tr>\n",
       "  </thead>\n",
       "  <tbody>\n",
       "    <tr>\n",
       "      <th>Ciutat Vella</th>\n",
       "      <td>623</td>\n",
       "      <td>11</td>\n",
       "      <td>634</td>\n",
       "    </tr>\n",
       "    <tr>\n",
       "      <th>Eixample</th>\n",
       "      <td>3499</td>\n",
       "      <td>60</td>\n",
       "      <td>3562</td>\n",
       "    </tr>\n",
       "    <tr>\n",
       "      <th>Gràcia</th>\n",
       "      <td>576</td>\n",
       "      <td>12</td>\n",
       "      <td>588</td>\n",
       "    </tr>\n",
       "    <tr>\n",
       "      <th>Horta-Guinardó</th>\n",
       "      <td>827</td>\n",
       "      <td>10</td>\n",
       "      <td>839</td>\n",
       "    </tr>\n",
       "    <tr>\n",
       "      <th>Les Corts</th>\n",
       "      <td>865</td>\n",
       "      <td>27</td>\n",
       "      <td>894</td>\n",
       "    </tr>\n",
       "  </tbody>\n",
       "</table>\n",
       "</div>"
      ],
      "text/plain": [
       "               Mild injuries Serious injuries Victims\n",
       "                         sum              sum     sum\n",
       "District Name                                        \n",
       "Ciutat Vella             623               11     634\n",
       "Eixample                3499               60    3562\n",
       "Gràcia                   576               12     588\n",
       "Horta-Guinardó           827               10     839\n",
       "Les Corts                865               27     894"
      ]
     },
     "execution_count": 18,
     "metadata": {},
     "output_type": "execute_result"
    }
   ],
   "source": [
    "district = bar_accidents.loc[:, ['District Name','Mild injuries','Serious injuries','Victims']]\n",
    "dist_check = district.groupby('District Name').agg(['sum'])\n",
    "dist_check.head()"
   ]
  },
  {
   "cell_type": "markdown",
   "id": "3e04cbeb-331c-4553-8c22-346245bf73b1",
   "metadata": {},
   "source": [
    "## **8b. line graph comparing injuries**"
   ]
  },
  {
   "cell_type": "code",
   "execution_count": 19,
   "id": "9f39bbe0-6169-480d-a5af-ace8b19088b8",
   "metadata": {},
   "outputs": [
    {
     "data": {
      "image/png": "[encoded data removed]",
      "text/plain": [
       "<Figure size 864x468 with 1 Axes>"
      ]
     },
     "metadata": {
      "needs_background": "light"
     },
     "output_type": "display_data"
    }
   ],
   "source": [
    "fig,ax = plt.subplots(figsize = (12,6.5))\n",
    "a = dist_check['Mild injuries'].rename({'sum':'Mild Injuries'},axis =1).plot(ax=ax, marker=10, color ='black')\n",
    "b = dist_check['Serious injuries'].rename({'sum':'Serious Injuries'},axis =1).plot(ax=ax, marker=11, color = 'purple')\n",
    "ax.set(title = 'Serious Injuries occurence by District', ylabel = 'total victims')\n",
    "ax.legend(loc = 'upper right', );"
   ]
  },
  {
   "cell_type": "markdown",
   "id": "b4144120-ba99-48eb-9433-3bb47ed77b54",
   "metadata": {},
   "source": [
    "## **9. lets compute correleation between Hour and accident victim numbers` %**"
   ]
  },
  {
   "cell_type": "code",
   "execution_count": 20,
   "id": "122b8c58-8a06-4d41-b70b-05a89821ac14",
   "metadata": {},
   "outputs": [
    {
     "data": {
      "text/html": [
       "<div>\n",
       "<style scoped>\n",
       "    .dataframe tbody tr th:only-of-type {\n",
       "        vertical-align: middle;\n",
       "    }\n",
       "\n",
       "    .dataframe tbody tr th {\n",
       "        vertical-align: top;\n",
       "    }\n",
       "\n",
       "    .dataframe thead th {\n",
       "        text-align: right;\n",
       "    }\n",
       "</style>\n",
       "<table border=\"1\" class=\"dataframe\">\n",
       "  <thead>\n",
       "    <tr style=\"text-align: right;\">\n",
       "      <th></th>\n",
       "      <th>Hour</th>\n",
       "      <th>Victims</th>\n",
       "    </tr>\n",
       "  </thead>\n",
       "  <tbody>\n",
       "    <tr>\n",
       "      <th>0</th>\n",
       "      <td>8</td>\n",
       "      <td>2</td>\n",
       "    </tr>\n",
       "    <tr>\n",
       "      <th>1</th>\n",
       "      <td>13</td>\n",
       "      <td>2</td>\n",
       "    </tr>\n",
       "    <tr>\n",
       "      <th>2</th>\n",
       "      <td>21</td>\n",
       "      <td>5</td>\n",
       "    </tr>\n",
       "    <tr>\n",
       "      <th>3</th>\n",
       "      <td>2</td>\n",
       "      <td>1</td>\n",
       "    </tr>\n",
       "    <tr>\n",
       "      <th>4</th>\n",
       "      <td>14</td>\n",
       "      <td>1</td>\n",
       "    </tr>\n",
       "  </tbody>\n",
       "</table>\n",
       "</div>"
      ],
      "text/plain": [
       "   Hour  Victims\n",
       "0     8        2\n",
       "1    13        2\n",
       "2    21        5\n",
       "3     2        1\n",
       "4    14        1"
      ]
     },
     "execution_count": 20,
     "metadata": {},
     "output_type": "execute_result"
    }
   ],
   "source": [
    "#slicing the part we need\n",
    "tod_v = bar_accidents.loc[:, ['Hour','Victims']]\n",
    "tod_v.head()"
   ]
  },
  {
   "cell_type": "markdown",
   "id": "9e4fe110-e17b-4f1c-baf1-606680556ff1",
   "metadata": {},
   "source": [
    "# **10. Checking corelations coefficient**"
   ]
  },
  {
   "cell_type": "code",
   "execution_count": 21,
   "id": "0f8d52dc-9ef6-4de9-aac5-d2f290e11635",
   "metadata": {},
   "outputs": [
    {
     "data": {
      "text/plain": [
       "0.040177174581460355"
      ]
     },
     "execution_count": 21,
     "metadata": {},
     "output_type": "execute_result"
    }
   ],
   "source": [
    "# check\n",
    "tod_v['Hour'].corr(tod_v['Victims'])\n",
    "# 0.04 % is very insignificant"
   ]
  },
  {
   "cell_type": "code",
   "execution_count": 22,
   "id": "3d5fd656-999c-4f48-827f-6140a82a7fdf",
   "metadata": {},
   "outputs": [
    {
     "data": {
      "image/png": "[encoded data removed]",
      "text/plain": [
       "<Figure size 432x432 with 3 Axes>"
      ]
     },
     "metadata": {
      "needs_background": "light"
     },
     "output_type": "display_data"
    }
   ],
   "source": [
    "sns.jointplot(data = tod_v, x = tod_v.Hour , y = tod_v.Victims, kind= 'scatter');"
   ]
  },
  {
   "cell_type": "code",
   "execution_count": 23,
   "id": "d9c7c0bd-4d76-4d67-958d-daad8790600d",
   "metadata": {},
   "outputs": [],
   "source": [
    "# convert the month to integer representation\n",
    "bar_accidents ['Month_int'] = bar_accidents['Month'].apply(lambda x: parser.parse(x).month)"
   ]
  },
  {
   "cell_type": "code",
   "execution_count": 24,
   "id": "1580426c-2145-426a-8662-49ea44eb6579",
   "metadata": {},
   "outputs": [
    {
     "data": {
      "text/html": [
       "<div>\n",
       "<style scoped>\n",
       "    .dataframe tbody tr th:only-of-type {\n",
       "        vertical-align: middle;\n",
       "    }\n",
       "\n",
       "    .dataframe tbody tr th {\n",
       "        vertical-align: top;\n",
       "    }\n",
       "\n",
       "    .dataframe thead th {\n",
       "        text-align: right;\n",
       "    }\n",
       "</style>\n",
       "<table border=\"1\" class=\"dataframe\">\n",
       "  <thead>\n",
       "    <tr style=\"text-align: right;\">\n",
       "      <th></th>\n",
       "      <th>Month_int</th>\n",
       "      <th>Victims</th>\n",
       "    </tr>\n",
       "  </thead>\n",
       "  <tbody>\n",
       "    <tr>\n",
       "      <th>0</th>\n",
       "      <td>10</td>\n",
       "      <td>2</td>\n",
       "    </tr>\n",
       "    <tr>\n",
       "      <th>1</th>\n",
       "      <td>9</td>\n",
       "      <td>2</td>\n",
       "    </tr>\n",
       "    <tr>\n",
       "      <th>2</th>\n",
       "      <td>12</td>\n",
       "      <td>5</td>\n",
       "    </tr>\n",
       "    <tr>\n",
       "      <th>3</th>\n",
       "      <td>7</td>\n",
       "      <td>1</td>\n",
       "    </tr>\n",
       "    <tr>\n",
       "      <th>4</th>\n",
       "      <td>5</td>\n",
       "      <td>1</td>\n",
       "    </tr>\n",
       "    <tr>\n",
       "      <th>...</th>\n",
       "      <td>...</td>\n",
       "      <td>...</td>\n",
       "    </tr>\n",
       "    <tr>\n",
       "      <th>10334</th>\n",
       "      <td>4</td>\n",
       "      <td>1</td>\n",
       "    </tr>\n",
       "    <tr>\n",
       "      <th>10335</th>\n",
       "      <td>3</td>\n",
       "      <td>1</td>\n",
       "    </tr>\n",
       "    <tr>\n",
       "      <th>10336</th>\n",
       "      <td>12</td>\n",
       "      <td>1</td>\n",
       "    </tr>\n",
       "    <tr>\n",
       "      <th>10337</th>\n",
       "      <td>7</td>\n",
       "      <td>1</td>\n",
       "    </tr>\n",
       "    <tr>\n",
       "      <th>10338</th>\n",
       "      <td>1</td>\n",
       "      <td>0</td>\n",
       "    </tr>\n",
       "  </tbody>\n",
       "</table>\n",
       "<p>10339 rows × 2 columns</p>\n",
       "</div>"
      ],
      "text/plain": [
       "       Month_int  Victims\n",
       "0             10        2\n",
       "1              9        2\n",
       "2             12        5\n",
       "3              7        1\n",
       "4              5        1\n",
       "...          ...      ...\n",
       "10334          4        1\n",
       "10335          3        1\n",
       "10336         12        1\n",
       "10337          7        1\n",
       "10338          1        0\n",
       "\n",
       "[10339 rows x 2 columns]"
      ]
     },
     "execution_count": 24,
     "metadata": {},
     "output_type": "execute_result"
    }
   ],
   "source": [
    "bar_accidents.loc[:, ['Month_int','Victims']]"
   ]
  },
  {
   "cell_type": "code",
   "execution_count": 25,
   "id": "a618e370-231c-4460-9ad6-1518b738ce92",
   "metadata": {},
   "outputs": [],
   "source": [
    "m_v = bar_accidents.loc[:, ['Month_int','Victims']]"
   ]
  },
  {
   "cell_type": "code",
   "execution_count": 26,
   "id": "6b7983b8-e552-40d0-844e-b3b832ee8caf",
   "metadata": {},
   "outputs": [
    {
     "data": {
      "text/plain": [
       "<seaborn.axisgrid.FacetGrid at 0x13fdbdbf370>"
      ]
     },
     "execution_count": 26,
     "metadata": {},
     "output_type": "execute_result"
    },
    {
     "data": {
      "image/png": "[encoded data removed]",
      "text/plain": [
       "<Figure size 864x288 with 1 Axes>"
      ]
     },
     "metadata": {
      "needs_background": "light"
     },
     "output_type": "display_data"
    }
   ],
   "source": [
    "# plotting on time series month vs # of victims\n",
    "sns.relplot(data = m_v, x = m_v['Month_int'],\\\n",
    "            y = m_v['Victims'] , kind = 'line', height = 4, aspect = 3)"
   ]
  },
  {
   "cell_type": "markdown",
   "id": "b3900881-d2b8-4c76-998b-14593b60a152",
   "metadata": {},
   "source": [
    "# **11. Frequency of Accident vistims by day**"
   ]
  },
  {
   "cell_type": "code",
   "execution_count": 27,
   "id": "3e2cfae7-0127-4691-a9a4-c85af6feddfc",
   "metadata": {},
   "outputs": [
    {
     "data": {
      "text/html": [
       "<div>\n",
       "<style scoped>\n",
       "    .dataframe tbody tr th:only-of-type {\n",
       "        vertical-align: middle;\n",
       "    }\n",
       "\n",
       "    .dataframe tbody tr th {\n",
       "        vertical-align: top;\n",
       "    }\n",
       "\n",
       "    .dataframe thead th {\n",
       "        text-align: right;\n",
       "    }\n",
       "</style>\n",
       "<table border=\"1\" class=\"dataframe\">\n",
       "  <thead>\n",
       "    <tr style=\"text-align: right;\">\n",
       "      <th></th>\n",
       "      <th>Hour</th>\n",
       "      <th>Victims</th>\n",
       "    </tr>\n",
       "  </thead>\n",
       "  <tbody>\n",
       "    <tr>\n",
       "      <th>0</th>\n",
       "      <td>8</td>\n",
       "      <td>2</td>\n",
       "    </tr>\n",
       "    <tr>\n",
       "      <th>1</th>\n",
       "      <td>13</td>\n",
       "      <td>2</td>\n",
       "    </tr>\n",
       "    <tr>\n",
       "      <th>2</th>\n",
       "      <td>21</td>\n",
       "      <td>5</td>\n",
       "    </tr>\n",
       "    <tr>\n",
       "      <th>3</th>\n",
       "      <td>2</td>\n",
       "      <td>1</td>\n",
       "    </tr>\n",
       "    <tr>\n",
       "      <th>4</th>\n",
       "      <td>14</td>\n",
       "      <td>1</td>\n",
       "    </tr>\n",
       "  </tbody>\n",
       "</table>\n",
       "</div>"
      ],
      "text/plain": [
       "   Hour  Victims\n",
       "0     8        2\n",
       "1    13        2\n",
       "2    21        5\n",
       "3     2        1\n",
       "4    14        1"
      ]
     },
     "execution_count": 27,
     "metadata": {},
     "output_type": "execute_result"
    }
   ],
   "source": [
    "# frequency of occurence by hour of day\n",
    "#slicing the part we need\n",
    "tod_v = bar_accidents.loc[:, ['Hour','Victims']]\n",
    "tod_v.head()"
   ]
  },
  {
   "cell_type": "code",
   "execution_count": 28,
   "id": "abdd4033-95dd-4526-b4d2-e03b78198dd3",
   "metadata": {},
   "outputs": [
    {
     "ename": "ValueError",
     "evalue": "The truth value of a Series is ambiguous. Use a.empty, a.bool(), a.item(), a.any() or a.all().",
     "output_type": "error",
     "traceback": [
      "\u001b[1;31m---------------------------------------------------------------------------\u001b[0m",
      "\u001b[1;31mValueError\u001b[0m                                Traceback (most recent call last)",
      "\u001b[1;32mc:\\Users\\godwi\\Data_Science_ML\\Exploratory_Analysis_Pandas\\Barcelona Accident\\analysis.ipynb Cell 44\u001b[0m in \u001b[0;36m<cell line: 1>\u001b[1;34m()\u001b[0m\n\u001b[1;32m----> <a href='vscode-notebook-cell:/c%3A/Users/godwi/Data_Science_ML/Exploratory_Analysis_Pandas/Barcelona%20Accident/analysis.ipynb#X61sZmlsZQ%3D%3D?line=0'>1</a>\u001b[0m sns\u001b[39m.\u001b[39;49mcatplot(data \u001b[39m=\u001b[39;49m tod_v, x \u001b[39m=\u001b[39;49mtod_v\u001b[39m.\u001b[39;49mHour\\\n\u001b[0;32m      <a href='vscode-notebook-cell:/c%3A/Users/godwi/Data_Science_ML/Exploratory_Analysis_Pandas/Barcelona%20Accident/analysis.ipynb#X61sZmlsZQ%3D%3D?line=1'>2</a>\u001b[0m             , y \u001b[39m=\u001b[39;49mtod_v\u001b[39m.\u001b[39;49mVictims,  height \u001b[39m=\u001b[39;49m \u001b[39m5\u001b[39;49m, aspect \u001b[39m=\u001b[39;49m \u001b[39m1.5\u001b[39;49m, kind \u001b[39m=\u001b[39;49m\u001b[39m'\u001b[39;49m\u001b[39mviolin\u001b[39;49m\u001b[39m'\u001b[39;49m)\n",
      "File \u001b[1;32mc:\\Users\\godwi\\anaconda3\\envs\\ML\\lib\\site-packages\\seaborn\\_decorators.py:46\u001b[0m, in \u001b[0;36m_deprecate_positional_args.<locals>.inner_f\u001b[1;34m(*args, **kwargs)\u001b[0m\n\u001b[0;32m     36\u001b[0m     warnings\u001b[39m.\u001b[39mwarn(\n\u001b[0;32m     37\u001b[0m         \u001b[39m\"\u001b[39m\u001b[39mPass the following variable\u001b[39m\u001b[39m{}\u001b[39;00m\u001b[39m as \u001b[39m\u001b[39m{}\u001b[39;00m\u001b[39mkeyword arg\u001b[39m\u001b[39m{}\u001b[39;00m\u001b[39m: \u001b[39m\u001b[39m{}\u001b[39;00m\u001b[39m. \u001b[39m\u001b[39m\"\u001b[39m\n\u001b[0;32m     38\u001b[0m         \u001b[39m\"\u001b[39m\u001b[39mFrom version 0.12, the only valid positional argument \u001b[39m\u001b[39m\"\u001b[39m\n\u001b[1;32m   (...)\u001b[0m\n\u001b[0;32m     43\u001b[0m         \u001b[39mFutureWarning\u001b[39;00m\n\u001b[0;32m     44\u001b[0m     )\n\u001b[0;32m     45\u001b[0m kwargs\u001b[39m.\u001b[39mupdate({k: arg \u001b[39mfor\u001b[39;00m k, arg \u001b[39min\u001b[39;00m \u001b[39mzip\u001b[39m(sig\u001b[39m.\u001b[39mparameters, args)})\n\u001b[1;32m---> 46\u001b[0m \u001b[39mreturn\u001b[39;00m f(\u001b[39m*\u001b[39m\u001b[39m*\u001b[39mkwargs)\n",
      "File \u001b[1;32mc:\\Users\\godwi\\anaconda3\\envs\\ML\\lib\\site-packages\\seaborn\\categorical.py:3847\u001b[0m, in \u001b[0;36mcatplot\u001b[1;34m(x, y, hue, data, row, col, col_wrap, estimator, ci, n_boot, units, seed, order, hue_order, row_order, col_order, kind, height, aspect, orient, color, palette, legend, legend_out, sharex, sharey, margin_titles, facet_kws, **kwargs)\u001b[0m\n\u001b[0;32m   3844\u001b[0m g \u001b[39m=\u001b[39m FacetGrid(\u001b[39m*\u001b[39m\u001b[39m*\u001b[39mfacet_kws)\n\u001b[0;32m   3846\u001b[0m \u001b[39m# Draw the plot onto the facets\u001b[39;00m\n\u001b[1;32m-> 3847\u001b[0m g\u001b[39m.\u001b[39mmap_dataframe(plot_func, x\u001b[39m=\u001b[39mx, y\u001b[39m=\u001b[39my, hue\u001b[39m=\u001b[39mhue, \u001b[39m*\u001b[39m\u001b[39m*\u001b[39mplot_kws)\n\u001b[0;32m   3849\u001b[0m \u001b[39mif\u001b[39;00m p\u001b[39m.\u001b[39morient \u001b[39m==\u001b[39m \u001b[39m\"\u001b[39m\u001b[39mh\u001b[39m\u001b[39m\"\u001b[39m:\n\u001b[0;32m   3850\u001b[0m     g\u001b[39m.\u001b[39mset_axis_labels(p\u001b[39m.\u001b[39mvalue_label, p\u001b[39m.\u001b[39mgroup_label)\n",
      "File \u001b[1;32mc:\\Users\\godwi\\anaconda3\\envs\\ML\\lib\\site-packages\\seaborn\\axisgrid.py:784\u001b[0m, in \u001b[0;36mFacetGrid.map_dataframe\u001b[1;34m(self, func, *args, **kwargs)\u001b[0m\n\u001b[0;32m    782\u001b[0m \u001b[39mfor\u001b[39;00m i, val \u001b[39min\u001b[39;00m \u001b[39menumerate\u001b[39m(args[:\u001b[39m2\u001b[39m]):\n\u001b[0;32m    783\u001b[0m     axis_labels[i] \u001b[39m=\u001b[39m val\n\u001b[1;32m--> 784\u001b[0m \u001b[39mself\u001b[39;49m\u001b[39m.\u001b[39;49m_finalize_grid(axis_labels)\n\u001b[0;32m    786\u001b[0m \u001b[39mreturn\u001b[39;00m \u001b[39mself\u001b[39m\n",
      "File \u001b[1;32mc:\\Users\\godwi\\anaconda3\\envs\\ML\\lib\\site-packages\\seaborn\\axisgrid.py:813\u001b[0m, in \u001b[0;36mFacetGrid._finalize_grid\u001b[1;34m(self, axlabels)\u001b[0m\n\u001b[0;32m    811\u001b[0m \u001b[39mdef\u001b[39;00m \u001b[39m_finalize_grid\u001b[39m(\u001b[39mself\u001b[39m, axlabels):\n\u001b[0;32m    812\u001b[0m     \u001b[39m\"\"\"Finalize the annotations and layout.\"\"\"\u001b[39;00m\n\u001b[1;32m--> 813\u001b[0m     \u001b[39mself\u001b[39;49m\u001b[39m.\u001b[39;49mset_axis_labels(\u001b[39m*\u001b[39;49maxlabels)\n\u001b[0;32m    814\u001b[0m     \u001b[39mself\u001b[39m\u001b[39m.\u001b[39mset_titles()\n\u001b[0;32m    815\u001b[0m     \u001b[39mself\u001b[39m\u001b[39m.\u001b[39mtight_layout()\n",
      "File \u001b[1;32mc:\\Users\\godwi\\anaconda3\\envs\\ML\\lib\\site-packages\\seaborn\\axisgrid.py:840\u001b[0m, in \u001b[0;36mFacetGrid.set_axis_labels\u001b[1;34m(self, x_var, y_var, clear_inner, **kwargs)\u001b[0m\n\u001b[0;32m    838\u001b[0m \u001b[39mif\u001b[39;00m x_var \u001b[39mis\u001b[39;00m \u001b[39mnot\u001b[39;00m \u001b[39mNone\u001b[39;00m:\n\u001b[0;32m    839\u001b[0m     \u001b[39mself\u001b[39m\u001b[39m.\u001b[39m_x_var \u001b[39m=\u001b[39m x_var\n\u001b[1;32m--> 840\u001b[0m     \u001b[39mself\u001b[39m\u001b[39m.\u001b[39mset_xlabels(x_var, clear_inner\u001b[39m=\u001b[39mclear_inner, \u001b[39m*\u001b[39m\u001b[39m*\u001b[39mkwargs)\n\u001b[0;32m    841\u001b[0m \u001b[39mif\u001b[39;00m y_var \u001b[39mis\u001b[39;00m \u001b[39mnot\u001b[39;00m \u001b[39mNone\u001b[39;00m:\n\u001b[0;32m    842\u001b[0m     \u001b[39mself\u001b[39m\u001b[39m.\u001b[39m_y_var \u001b[39m=\u001b[39m y_var\n",
      "File \u001b[1;32mc:\\Users\\godwi\\anaconda3\\envs\\ML\\lib\\site-packages\\seaborn\\axisgrid.py:852\u001b[0m, in \u001b[0;36mFacetGrid.set_xlabels\u001b[1;34m(self, label, clear_inner, **kwargs)\u001b[0m\n\u001b[0;32m    850\u001b[0m     label \u001b[39m=\u001b[39m \u001b[39mself\u001b[39m\u001b[39m.\u001b[39m_x_var\n\u001b[0;32m    851\u001b[0m \u001b[39mfor\u001b[39;00m ax \u001b[39min\u001b[39;00m \u001b[39mself\u001b[39m\u001b[39m.\u001b[39m_bottom_axes:\n\u001b[1;32m--> 852\u001b[0m     ax\u001b[39m.\u001b[39mset_xlabel(label, \u001b[39m*\u001b[39m\u001b[39m*\u001b[39mkwargs)\n\u001b[0;32m    853\u001b[0m \u001b[39mif\u001b[39;00m clear_inner:\n\u001b[0;32m    854\u001b[0m     \u001b[39mfor\u001b[39;00m ax \u001b[39min\u001b[39;00m \u001b[39mself\u001b[39m\u001b[39m.\u001b[39m_not_bottom_axes:\n",
      "File \u001b[1;32mc:\\Users\\godwi\\anaconda3\\envs\\ML\\lib\\site-packages\\matplotlib\\axes\\_base.py:3504\u001b[0m, in \u001b[0;36m_AxesBase.set_xlabel\u001b[1;34m(self, xlabel, fontdict, labelpad, loc, **kwargs)\u001b[0m\n\u001b[0;32m   3501\u001b[0m     \u001b[39melif\u001b[39;00m loc \u001b[39m==\u001b[39m \u001b[39m'\u001b[39m\u001b[39mright\u001b[39m\u001b[39m'\u001b[39m:\n\u001b[0;32m   3502\u001b[0m         kwargs\u001b[39m.\u001b[39mupdate(x\u001b[39m=\u001b[39m\u001b[39m1\u001b[39m, horizontalalignment\u001b[39m=\u001b[39m\u001b[39m'\u001b[39m\u001b[39mright\u001b[39m\u001b[39m'\u001b[39m)\n\u001b[1;32m-> 3504\u001b[0m \u001b[39mreturn\u001b[39;00m \u001b[39mself\u001b[39m\u001b[39m.\u001b[39mxaxis\u001b[39m.\u001b[39mset_label_text(xlabel, fontdict, \u001b[39m*\u001b[39m\u001b[39m*\u001b[39mkwargs)\n",
      "File \u001b[1;32mc:\\Users\\godwi\\anaconda3\\envs\\ML\\lib\\site-packages\\matplotlib\\axis.py:1560\u001b[0m, in \u001b[0;36mAxis.set_label_text\u001b[1;34m(self, label, fontdict, **kwargs)\u001b[0m\n\u001b[0;32m   1547\u001b[0m \u001b[39m\"\"\"\u001b[39;00m\n\u001b[0;32m   1548\u001b[0m \u001b[39mSet the text value of the axis label.\u001b[39;00m\n\u001b[0;32m   1549\u001b[0m \n\u001b[1;32m   (...)\u001b[0m\n\u001b[0;32m   1557\u001b[0m \u001b[39m    Merged into fontdict.\u001b[39;00m\n\u001b[0;32m   1558\u001b[0m \u001b[39m\"\"\"\u001b[39;00m\n\u001b[0;32m   1559\u001b[0m \u001b[39mself\u001b[39m\u001b[39m.\u001b[39misDefault_label \u001b[39m=\u001b[39m \u001b[39mFalse\u001b[39;00m\n\u001b[1;32m-> 1560\u001b[0m \u001b[39mself\u001b[39;49m\u001b[39m.\u001b[39;49mlabel\u001b[39m.\u001b[39;49mset_text(label)\n\u001b[0;32m   1561\u001b[0m \u001b[39mif\u001b[39;00m fontdict \u001b[39mis\u001b[39;00m \u001b[39mnot\u001b[39;00m \u001b[39mNone\u001b[39;00m:\n\u001b[0;32m   1562\u001b[0m     \u001b[39mself\u001b[39m\u001b[39m.\u001b[39mlabel\u001b[39m.\u001b[39mupdate(fontdict)\n",
      "File \u001b[1;32mc:\\Users\\godwi\\anaconda3\\envs\\ML\\lib\\site-packages\\matplotlib\\text.py:1223\u001b[0m, in \u001b[0;36mText.set_text\u001b[1;34m(self, s)\u001b[0m\n\u001b[0;32m   1221\u001b[0m \u001b[39mif\u001b[39;00m s \u001b[39mis\u001b[39;00m \u001b[39mNone\u001b[39;00m:\n\u001b[0;32m   1222\u001b[0m     s \u001b[39m=\u001b[39m \u001b[39m'\u001b[39m\u001b[39m'\u001b[39m\n\u001b[1;32m-> 1223\u001b[0m \u001b[39mif\u001b[39;00m s \u001b[39m!=\u001b[39;49m \u001b[39mself\u001b[39;49m\u001b[39m.\u001b[39;49m_text:\n\u001b[0;32m   1224\u001b[0m     \u001b[39mself\u001b[39m\u001b[39m.\u001b[39m_text \u001b[39m=\u001b[39m \u001b[39mstr\u001b[39m(s)\n\u001b[0;32m   1225\u001b[0m     \u001b[39mself\u001b[39m\u001b[39m.\u001b[39mstale \u001b[39m=\u001b[39m \u001b[39mTrue\u001b[39;00m\n",
      "File \u001b[1;32mc:\\Users\\godwi\\anaconda3\\envs\\ML\\lib\\site-packages\\pandas\\core\\generic.py:1527\u001b[0m, in \u001b[0;36mNDFrame.__nonzero__\u001b[1;34m(self)\u001b[0m\n\u001b[0;32m   1525\u001b[0m \u001b[39m@final\u001b[39m\n\u001b[0;32m   1526\u001b[0m \u001b[39mdef\u001b[39;00m \u001b[39m__nonzero__\u001b[39m(\u001b[39mself\u001b[39m):\n\u001b[1;32m-> 1527\u001b[0m     \u001b[39mraise\u001b[39;00m \u001b[39mValueError\u001b[39;00m(\n\u001b[0;32m   1528\u001b[0m         \u001b[39mf\u001b[39m\u001b[39m\"\u001b[39m\u001b[39mThe truth value of a \u001b[39m\u001b[39m{\u001b[39;00m\u001b[39mtype\u001b[39m(\u001b[39mself\u001b[39m)\u001b[39m.\u001b[39m\u001b[39m__name__\u001b[39m\u001b[39m}\u001b[39;00m\u001b[39m is ambiguous. \u001b[39m\u001b[39m\"\u001b[39m\n\u001b[0;32m   1529\u001b[0m         \u001b[39m\"\u001b[39m\u001b[39mUse a.empty, a.bool(), a.item(), a.any() or a.all().\u001b[39m\u001b[39m\"\u001b[39m\n\u001b[0;32m   1530\u001b[0m     )\n",
      "\u001b[1;31mValueError\u001b[0m: The truth value of a Series is ambiguous. Use a.empty, a.bool(), a.item(), a.any() or a.all()."
     ]
    },
    {
     "data": {
      "image/png": "[encoded data removed]",
      "text/plain": [
       "<Figure size 540x360 with 1 Axes>"
      ]
     },
     "metadata": {
      "needs_background": "light"
     },
     "output_type": "display_data"
    }
   ],
   "source": [
    "sns.catplot(data = tod_v, x =tod_v.Hour\\\n",
    "            , y =tod_v.Victims,  height = 5, aspect = 1.5, kind ='violin')"
   ]
  },
  {
   "cell_type": "code",
   "execution_count": null,
   "id": "4a4043ad-6824-4024-ac38-48343641ab64",
   "metadata": {},
   "outputs": [],
   "source": []
  }
 ],
 "metadata": {
  "kernelspec": {
   "display_name": "Python 3",
   "language": "python",
   "name": "python3"
  },
  "language_info": {
   "codemirror_mode": {
    "name": "ipython",
    "version": 3
   },
   "file_extension": ".py",
   "mimetype": "text/x-python",
   "name": "python",
   "nbconvert_exporter": "python",
   "pygments_lexer": "ipython3",
   "version": "3.9.12"
  }
 },
 "nbformat": 4,
 "nbformat_minor": 5
}
