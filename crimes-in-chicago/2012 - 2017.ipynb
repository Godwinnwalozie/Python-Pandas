{
 "cells": [
  {
   "cell_type": "markdown",
   "id": "1a33eb95-8356-421c-bddd-00c43c39759f",
   "metadata": {},
   "source": [
    "# Analyzing Chicago's state crime rate from 2012 to 2017\n",
    "Using the libraries pandas , numpy, matplotlib, seaborn, datetime, dateutil , opendatasets\n",
    "\n",
    "https://www.kaggle.com/datasets/currie32/crimes-in-chicago"
   ]
  },
  {
   "cell_type": "raw",
   "id": "318cd54a-2d1b-4a61-82c0-9b96fe0c3a91",
   "metadata": {},
   "source": [
    "Content\n",
    "\n",
    "ID - Unique identifier for the record.\n",
    "\n",
    "Case Number - The Chicago Police Department RD Number (Records Division Number), which is unique to the incident.\n",
    "\n",
    "Date - Date when the incident occurred. this is sometimes a best estimate.\n",
    "\n",
    "Block - The partially redacted address where the incident occurred, placing it on the same block as the actual address.\n",
    "\n",
    "IUCR - The Illinois Unifrom Crime Reporting code. This is directly linked to the Primary Type and Description. See the list of IUCR codes at https://data.cityofchicago.org/d/c7ck-438e.\n",
    "\n",
    "Primary Type - The primary description of the IUCR code.\n",
    "\n",
    "Description - The secondary description of the IUCR code, a subcategory of the primary description.\n",
    "\n",
    "Location Description - Description of the location where the incident occurred.\n",
    "\n",
    "Arrest - Indicates whether an arrest was made.\n",
    "Domestic - Indicates whether the incident was domestic-related as defined by the Illinois Domestic Violence Act.\n",
    "\n",
    "Beat - Indicates the beat where the incident occurred. A beat is the smallest police geographic area – each beat has a dedicated police beat car. Three to five beats make up a police sector, and three sectors make up a police district. The Chicago Police Department has 22 police districts. See the beats at https://data.cityofchicago.org/d/aerh-rz74.\n",
    "\n",
    "District - Indicates the police district where the incident occurred. See the districts at https://data.cityofchicago.org/d/fthy-xz3r.\n",
    "\n",
    "Ward - The ward (City Council district) where the incident occurred. See the wards at https://data.cityofchicago.org/d/sp34-6z76.\n",
    "\n",
    "Community Area - Indicates the community area where the incident occurred. Chicago has 77 community areas. See the community areas at https://data.cityofchicago.org/d/cauq-8yn6.\n",
    "\n",
    "FBI Code - Indicates the crime classification as outlined in the FBI's National Incident-Based Reporting System (NIBRS). See the Chicago Police Department listing of these classifications at http://gis.chicagopolice.org/clearmap_crime_sums/crime_types.html.\n",
    "\n",
    "X Coordinate - The x coordinate of the location where the incident occurred in State Plane Illinois East NAD 1983 projection. This location is shifted from the actual location for partial redaction but falls on the same block.\n",
    "\n",
    "Y Coordinate - The y coordinate of the location where the incident occurred in State Plane Illinois East NAD 1983 projection. This location is shifted from the actual location for partial redaction but falls on the same block.\n",
    "\n",
    "Year - Year the incident occurred.\n",
    "\n",
    "Updated On - Date and time the record was last updated.\n",
    "\n",
    "Latitude - The latitude of the location where the incident occurred. This location is shifted from the actual location for partial redaction but falls on the same block.\n",
    "\n",
    "Longitude - The longitude of the location where the incident occurred. This location is shifted from the actual location for partial redaction but falls on the same block.\n",
    "\n",
    "Location - The location where the incident occurred in a format that allows for creation of maps and other geographic operations on this data portal. This location is shifted from the actual location for partial redaction but falls on the same block."
   ]
  },
  {
   "cell_type": "code",
   "execution_count": 54,
   "id": "8e8614a0-c916-43c0-b13f-aa8908dd45e4",
   "metadata": {},
   "outputs": [],
   "source": [
    "import pandas as pd\n",
    "import numpy as np\n",
    "import matplotlib.pyplot as plt\n",
    "import seaborn as sns\n",
    "from datetime import datetime, date, time\n",
    "from dateutil import parser"
   ]
  },
  {
   "cell_type": "markdown",
   "id": "58120a7f-0895-4eff-ae3f-15495798c583",
   "metadata": {},
   "source": [
    "# Downloading data set using kaggle's API   , https://www.kaggle.com/datasets/currie32/crimes-in-chicago"
   ]
  },
  {
   "cell_type": "code",
   "execution_count": 57,
   "id": "35c32f3b-79b7-4a12-9a0e-5efb4bb17629",
   "metadata": {},
   "outputs": [
    {
     "data": {
      "text/html": [
       "<div>\n",
       "<style scoped>\n",
       "    .dataframe tbody tr th:only-of-type {\n",
       "        vertical-align: middle;\n",
       "    }\n",
       "\n",
       "    .dataframe tbody tr th {\n",
       "        vertical-align: top;\n",
       "    }\n",
       "\n",
       "    .dataframe thead th {\n",
       "        text-align: right;\n",
       "    }\n",
       "</style>\n",
       "<table border=\"1\" class=\"dataframe\">\n",
       "  <thead>\n",
       "    <tr style=\"text-align: right;\">\n",
       "      <th></th>\n",
       "      <th>Unnamed: 0</th>\n",
       "      <th>ID</th>\n",
       "      <th>Case Number</th>\n",
       "      <th>Date</th>\n",
       "      <th>Block</th>\n",
       "      <th>IUCR</th>\n",
       "      <th>Primary Type</th>\n",
       "      <th>Description</th>\n",
       "      <th>Location Description</th>\n",
       "      <th>Arrest</th>\n",
       "      <th>...</th>\n",
       "      <th>Ward</th>\n",
       "      <th>Community Area</th>\n",
       "      <th>FBI Code</th>\n",
       "      <th>X Coordinate</th>\n",
       "      <th>Y Coordinate</th>\n",
       "      <th>Year</th>\n",
       "      <th>Updated On</th>\n",
       "      <th>Latitude</th>\n",
       "      <th>Longitude</th>\n",
       "      <th>Location</th>\n",
       "    </tr>\n",
       "  </thead>\n",
       "  <tbody>\n",
       "    <tr>\n",
       "      <th>0</th>\n",
       "      <td>3</td>\n",
       "      <td>10508693</td>\n",
       "      <td>HZ250496</td>\n",
       "      <td>05/03/2016 11:40:00 PM</td>\n",
       "      <td>013XX S SAWYER AVE</td>\n",
       "      <td>0486</td>\n",
       "      <td>BATTERY</td>\n",
       "      <td>DOMESTIC BATTERY SIMPLE</td>\n",
       "      <td>APARTMENT</td>\n",
       "      <td>True</td>\n",
       "      <td>...</td>\n",
       "      <td>24.0</td>\n",
       "      <td>29.0</td>\n",
       "      <td>08B</td>\n",
       "      <td>1154907.0</td>\n",
       "      <td>1893681.0</td>\n",
       "      <td>2016</td>\n",
       "      <td>05/10/2016 03:56:50 PM</td>\n",
       "      <td>41.864073</td>\n",
       "      <td>-87.706819</td>\n",
       "      <td>(41.864073157, -87.706818608)</td>\n",
       "    </tr>\n",
       "    <tr>\n",
       "      <th>1</th>\n",
       "      <td>89</td>\n",
       "      <td>10508695</td>\n",
       "      <td>HZ250409</td>\n",
       "      <td>05/03/2016 09:40:00 PM</td>\n",
       "      <td>061XX S DREXEL AVE</td>\n",
       "      <td>0486</td>\n",
       "      <td>BATTERY</td>\n",
       "      <td>DOMESTIC BATTERY SIMPLE</td>\n",
       "      <td>RESIDENCE</td>\n",
       "      <td>False</td>\n",
       "      <td>...</td>\n",
       "      <td>20.0</td>\n",
       "      <td>42.0</td>\n",
       "      <td>08B</td>\n",
       "      <td>1183066.0</td>\n",
       "      <td>1864330.0</td>\n",
       "      <td>2016</td>\n",
       "      <td>05/10/2016 03:56:50 PM</td>\n",
       "      <td>41.782922</td>\n",
       "      <td>-87.604363</td>\n",
       "      <td>(41.782921527, -87.60436317)</td>\n",
       "    </tr>\n",
       "    <tr>\n",
       "      <th>2</th>\n",
       "      <td>197</td>\n",
       "      <td>10508697</td>\n",
       "      <td>HZ250503</td>\n",
       "      <td>05/03/2016 11:31:00 PM</td>\n",
       "      <td>053XX W CHICAGO AVE</td>\n",
       "      <td>0470</td>\n",
       "      <td>PUBLIC PEACE VIOLATION</td>\n",
       "      <td>RECKLESS CONDUCT</td>\n",
       "      <td>STREET</td>\n",
       "      <td>False</td>\n",
       "      <td>...</td>\n",
       "      <td>37.0</td>\n",
       "      <td>25.0</td>\n",
       "      <td>24</td>\n",
       "      <td>1140789.0</td>\n",
       "      <td>1904819.0</td>\n",
       "      <td>2016</td>\n",
       "      <td>05/10/2016 03:56:50 PM</td>\n",
       "      <td>41.894908</td>\n",
       "      <td>-87.758372</td>\n",
       "      <td>(41.894908283, -87.758371958)</td>\n",
       "    </tr>\n",
       "    <tr>\n",
       "      <th>3</th>\n",
       "      <td>673</td>\n",
       "      <td>10508698</td>\n",
       "      <td>HZ250424</td>\n",
       "      <td>05/03/2016 10:10:00 PM</td>\n",
       "      <td>049XX W FULTON ST</td>\n",
       "      <td>0460</td>\n",
       "      <td>BATTERY</td>\n",
       "      <td>SIMPLE</td>\n",
       "      <td>SIDEWALK</td>\n",
       "      <td>False</td>\n",
       "      <td>...</td>\n",
       "      <td>28.0</td>\n",
       "      <td>25.0</td>\n",
       "      <td>08B</td>\n",
       "      <td>1143223.0</td>\n",
       "      <td>1901475.0</td>\n",
       "      <td>2016</td>\n",
       "      <td>05/10/2016 03:56:50 PM</td>\n",
       "      <td>41.885687</td>\n",
       "      <td>-87.749516</td>\n",
       "      <td>(41.885686845, -87.749515983)</td>\n",
       "    </tr>\n",
       "    <tr>\n",
       "      <th>4</th>\n",
       "      <td>911</td>\n",
       "      <td>10508699</td>\n",
       "      <td>HZ250455</td>\n",
       "      <td>05/03/2016 10:00:00 PM</td>\n",
       "      <td>003XX N LOTUS AVE</td>\n",
       "      <td>0820</td>\n",
       "      <td>THEFT</td>\n",
       "      <td>$500 AND UNDER</td>\n",
       "      <td>RESIDENCE</td>\n",
       "      <td>False</td>\n",
       "      <td>...</td>\n",
       "      <td>28.0</td>\n",
       "      <td>25.0</td>\n",
       "      <td>06</td>\n",
       "      <td>1139890.0</td>\n",
       "      <td>1901675.0</td>\n",
       "      <td>2016</td>\n",
       "      <td>05/10/2016 03:56:50 PM</td>\n",
       "      <td>41.886297</td>\n",
       "      <td>-87.761751</td>\n",
       "      <td>(41.886297242, -87.761750709)</td>\n",
       "    </tr>\n",
       "  </tbody>\n",
       "</table>\n",
       "<p>5 rows × 23 columns</p>\n",
       "</div>"
      ],
      "text/plain": [
       "   Unnamed: 0        ID Case Number                    Date  \\\n",
       "0           3  10508693    HZ250496  05/03/2016 11:40:00 PM   \n",
       "1          89  10508695    HZ250409  05/03/2016 09:40:00 PM   \n",
       "2         197  10508697    HZ250503  05/03/2016 11:31:00 PM   \n",
       "3         673  10508698    HZ250424  05/03/2016 10:10:00 PM   \n",
       "4         911  10508699    HZ250455  05/03/2016 10:00:00 PM   \n",
       "\n",
       "                 Block  IUCR            Primary Type              Description  \\\n",
       "0   013XX S SAWYER AVE  0486                 BATTERY  DOMESTIC BATTERY SIMPLE   \n",
       "1   061XX S DREXEL AVE  0486                 BATTERY  DOMESTIC BATTERY SIMPLE   \n",
       "2  053XX W CHICAGO AVE  0470  PUBLIC PEACE VIOLATION         RECKLESS CONDUCT   \n",
       "3    049XX W FULTON ST  0460                 BATTERY                   SIMPLE   \n",
       "4    003XX N LOTUS AVE  0820                   THEFT           $500 AND UNDER   \n",
       "\n",
       "  Location Description  Arrest  ...  Ward  Community Area  FBI Code  \\\n",
       "0            APARTMENT    True  ...  24.0            29.0       08B   \n",
       "1            RESIDENCE   False  ...  20.0            42.0       08B   \n",
       "2               STREET   False  ...  37.0            25.0        24   \n",
       "3             SIDEWALK   False  ...  28.0            25.0       08B   \n",
       "4            RESIDENCE   False  ...  28.0            25.0        06   \n",
       "\n",
       "   X Coordinate  Y Coordinate  Year              Updated On   Latitude  \\\n",
       "0     1154907.0     1893681.0  2016  05/10/2016 03:56:50 PM  41.864073   \n",
       "1     1183066.0     1864330.0  2016  05/10/2016 03:56:50 PM  41.782922   \n",
       "2     1140789.0     1904819.0  2016  05/10/2016 03:56:50 PM  41.894908   \n",
       "3     1143223.0     1901475.0  2016  05/10/2016 03:56:50 PM  41.885687   \n",
       "4     1139890.0     1901675.0  2016  05/10/2016 03:56:50 PM  41.886297   \n",
       "\n",
       "   Longitude                       Location  \n",
       "0 -87.706819  (41.864073157, -87.706818608)  \n",
       "1 -87.604363   (41.782921527, -87.60436317)  \n",
       "2 -87.758372  (41.894908283, -87.758371958)  \n",
       "3 -87.749516  (41.885686845, -87.749515983)  \n",
       "4 -87.761751  (41.886297242, -87.761750709)  \n",
       "\n",
       "[5 rows x 23 columns]"
      ]
     },
     "execution_count": 57,
     "metadata": {},
     "output_type": "execute_result"
    }
   ],
   "source": [
    "cc = pd.read_csv(r\"C:\\Users\\godwi\\GitHub\\Python-Pandas\\crimes-in-chicago\\Chicago_Crimes_2012_to_2017.csv\")\n",
    "cc.head()"
   ]
  },
  {
   "cell_type": "code",
   "execution_count": 58,
   "id": "8da517b6-915f-4036-9848-1b5871c8cc94",
   "metadata": {},
   "outputs": [
    {
     "name": "stdout",
     "output_type": "stream",
     "text": [
      "<class 'pandas.core.frame.DataFrame'>\n",
      "RangeIndex: 1456714 entries, 0 to 1456713\n",
      "Data columns (total 23 columns):\n",
      " #   Column                Non-Null Count    Dtype  \n",
      "---  ------                --------------    -----  \n",
      " 0   Unnamed: 0            1456714 non-null  int64  \n",
      " 1   ID                    1456714 non-null  int64  \n",
      " 2   Case Number           1456713 non-null  object \n",
      " 3   Date                  1456714 non-null  object \n",
      " 4   Block                 1456714 non-null  object \n",
      " 5   IUCR                  1456714 non-null  object \n",
      " 6   Primary Type          1456714 non-null  object \n",
      " 7   Description           1456714 non-null  object \n",
      " 8   Location Description  1455056 non-null  object \n",
      " 9   Arrest                1456714 non-null  bool   \n",
      " 10  Domestic              1456714 non-null  bool   \n",
      " 11  Beat                  1456714 non-null  int64  \n",
      " 12  District              1456713 non-null  float64\n",
      " 13  Ward                  1456700 non-null  float64\n",
      " 14  Community Area        1456674 non-null  float64\n",
      " 15  FBI Code              1456714 non-null  object \n",
      " 16  X Coordinate          1419631 non-null  float64\n",
      " 17  Y Coordinate          1419631 non-null  float64\n",
      " 18  Year                  1456714 non-null  int64  \n",
      " 19  Updated On            1456714 non-null  object \n",
      " 20  Latitude              1419631 non-null  float64\n",
      " 21  Longitude             1419631 non-null  float64\n",
      " 22  Location              1419631 non-null  object \n",
      "dtypes: bool(2), float64(7), int64(4), object(10)\n",
      "memory usage: 236.2+ MB\n"
     ]
    }
   ],
   "source": [
    "cc.info()"
   ]
  },
  {
   "cell_type": "code",
   "execution_count": 59,
   "id": "e6f65f83-5553-4271-9e48-93ca86130e72",
   "metadata": {},
   "outputs": [
    {
     "data": {
      "text/plain": [
       "(1456714, 23)"
      ]
     },
     "execution_count": 59,
     "metadata": {},
     "output_type": "execute_result"
    }
   ],
   "source": [
    "cc.shape"
   ]
  },
  {
   "cell_type": "markdown",
   "id": "5e97644d-ae7b-4c57-bdbb-77420d600b08",
   "metadata": {},
   "source": [
    "# Convert Date 'object' to datetime"
   ]
  },
  {
   "cell_type": "code",
   "execution_count": 60,
   "id": "fd461fc9-7b7f-4cf4-a17b-a252ca5f563e",
   "metadata": {},
   "outputs": [
    {
     "name": "stdout",
     "output_type": "stream",
     "text": [
      "<class 'pandas.core.frame.DataFrame'>\n",
      "RangeIndex: 5 entries, 0 to 4\n",
      "Data columns (total 23 columns):\n",
      " #   Column                Non-Null Count  Dtype         \n",
      "---  ------                --------------  -----         \n",
      " 0   Unnamed: 0            5 non-null      int64         \n",
      " 1   ID                    5 non-null      int64         \n",
      " 2   Case Number           5 non-null      object        \n",
      " 3   Date                  5 non-null      datetime64[ns]\n",
      " 4   Block                 5 non-null      object        \n",
      " 5   IUCR                  5 non-null      object        \n",
      " 6   Primary Type          5 non-null      object        \n",
      " 7   Description           5 non-null      object        \n",
      " 8   Location Description  5 non-null      object        \n",
      " 9   Arrest                5 non-null      bool          \n",
      " 10  Domestic              5 non-null      bool          \n",
      " 11  Beat                  5 non-null      int64         \n",
      " 12  District              5 non-null      float64       \n",
      " 13  Ward                  5 non-null      float64       \n",
      " 14  Community Area        5 non-null      float64       \n",
      " 15  FBI Code              5 non-null      object        \n",
      " 16  X Coordinate          5 non-null      float64       \n",
      " 17  Y Coordinate          5 non-null      float64       \n",
      " 18  Year                  5 non-null      int64         \n",
      " 19  Updated On            5 non-null      object        \n",
      " 20  Latitude              5 non-null      float64       \n",
      " 21  Longitude             5 non-null      float64       \n",
      " 22  Location              5 non-null      object        \n",
      "dtypes: bool(2), datetime64[ns](1), float64(7), int64(4), object(9)\n",
      "memory usage: 978.0+ bytes\n"
     ]
    }
   ],
   "source": [
    "cc.Date = pd.to_datetime(cc['Date'])\n",
    "cc.head().info()"
   ]
  },
  {
   "cell_type": "code",
   "execution_count": 61,
   "id": "bccc70a0-0dff-4b90-a681-f8bdbdaabc7a",
   "metadata": {},
   "outputs": [
    {
     "data": {
      "text/plain": [
       "['Solarize_Light2',\n",
       " '_classic_test_patch',\n",
       " 'bmh',\n",
       " 'classic',\n",
       " 'dark_background',\n",
       " 'fast',\n",
       " 'fivethirtyeight',\n",
       " 'ggplot',\n",
       " 'grayscale',\n",
       " 'seaborn',\n",
       " 'seaborn-bright',\n",
       " 'seaborn-colorblind',\n",
       " 'seaborn-dark',\n",
       " 'seaborn-dark-palette',\n",
       " 'seaborn-darkgrid',\n",
       " 'seaborn-deep',\n",
       " 'seaborn-muted',\n",
       " 'seaborn-notebook',\n",
       " 'seaborn-paper',\n",
       " 'seaborn-pastel',\n",
       " 'seaborn-poster',\n",
       " 'seaborn-talk',\n",
       " 'seaborn-ticks',\n",
       " 'seaborn-white',\n",
       " 'seaborn-whitegrid',\n",
       " 'tableau-colorblind10']"
      ]
     },
     "execution_count": 61,
     "metadata": {},
     "output_type": "execute_result"
    }
   ],
   "source": [
    "plt.style.available  # list of matplotlib style theme"
   ]
  },
  {
   "cell_type": "code",
   "execution_count": 62,
   "id": "53201600-ef17-4914-b79a-d329d6e68127",
   "metadata": {},
   "outputs": [],
   "source": [
    "plt.style.use('seaborn-paper')"
   ]
  },
  {
   "cell_type": "markdown",
   "id": "4d6acd97-0fcb-4ba1-b361-e880aabaa765",
   "metadata": {},
   "source": [
    "# What are the most crime charged with  ?"
   ]
  },
  {
   "cell_type": "code",
   "execution_count": 63,
   "id": "9269c510-ae4e-43d8-b9bc-4eb74ac1f29a",
   "metadata": {},
   "outputs": [
    {
     "data": {
      "text/html": [
       "<div>\n",
       "<style scoped>\n",
       "    .dataframe tbody tr th:only-of-type {\n",
       "        vertical-align: middle;\n",
       "    }\n",
       "\n",
       "    .dataframe tbody tr th {\n",
       "        vertical-align: top;\n",
       "    }\n",
       "\n",
       "    .dataframe thead th {\n",
       "        text-align: right;\n",
       "    }\n",
       "</style>\n",
       "<table border=\"1\" class=\"dataframe\">\n",
       "  <thead>\n",
       "    <tr style=\"text-align: right;\">\n",
       "      <th></th>\n",
       "      <th>Primary Type</th>\n",
       "    </tr>\n",
       "  </thead>\n",
       "  <tbody>\n",
       "    <tr>\n",
       "      <th>THEFT</th>\n",
       "      <td>329460</td>\n",
       "    </tr>\n",
       "    <tr>\n",
       "      <th>BATTERY</th>\n",
       "      <td>263700</td>\n",
       "    </tr>\n",
       "    <tr>\n",
       "      <th>CRIMINAL DAMAGE</th>\n",
       "      <td>155455</td>\n",
       "    </tr>\n",
       "    <tr>\n",
       "      <th>NARCOTICS</th>\n",
       "      <td>135240</td>\n",
       "    </tr>\n",
       "    <tr>\n",
       "      <th>ASSAULT</th>\n",
       "      <td>91289</td>\n",
       "    </tr>\n",
       "  </tbody>\n",
       "</table>\n",
       "</div>"
      ],
      "text/plain": [
       "                 Primary Type\n",
       "THEFT                  329460\n",
       "BATTERY                263700\n",
       "CRIMINAL DAMAGE        155455\n",
       "NARCOTICS              135240\n",
       "ASSAULT                 91289"
      ]
     },
     "execution_count": 63,
     "metadata": {},
     "output_type": "execute_result"
    }
   ],
   "source": [
    "cc_stat1 = cc['Primary Type'].value_counts().to_frame().head(15)\n",
    "# theft is the most crime\n",
    "cc_stat1.head()"
   ]
  },
  {
   "cell_type": "code",
   "execution_count": 64,
   "id": "d06b04ab-74bf-459e-9099-92b5f19d1b5a",
   "metadata": {},
   "outputs": [
    {
     "data": {
      "image/png": "[encoded data removed]",
      "text/plain": [
       "<Figure size 1080x360 with 1 Axes>"
      ]
     },
     "metadata": {
      "needs_background": "light"
     },
     "output_type": "display_data"
    }
   ],
   "source": [
    "cc_stat1.plot(kind = 'bar', figsize = (15,5), orientation = 'vertical', color = 'red');"
   ]
  },
  {
   "cell_type": "markdown",
   "id": "03851669-2ccd-46c4-9a59-edc680a92df4",
   "metadata": {},
   "source": [
    "# What year had the highest crime rate ?"
   ]
  },
  {
   "cell_type": "code",
   "execution_count": 65,
   "id": "f5322709-dd46-4e2a-ba8b-9d96779145f9",
   "metadata": {},
   "outputs": [],
   "source": [
    "cc['year'] = pd.DatetimeIndex(cc['Date']).year"
   ]
  },
  {
   "cell_type": "code",
   "execution_count": 66,
   "id": "92f42eee-6ea9-4f84-97bd-fb451385d6f5",
   "metadata": {},
   "outputs": [
    {
     "data": {
      "text/html": [
       "<div>\n",
       "<style scoped>\n",
       "    .dataframe tbody tr th:only-of-type {\n",
       "        vertical-align: middle;\n",
       "    }\n",
       "\n",
       "    .dataframe tbody tr th {\n",
       "        vertical-align: top;\n",
       "    }\n",
       "\n",
       "    .dataframe thead th {\n",
       "        text-align: right;\n",
       "    }\n",
       "</style>\n",
       "<table border=\"1\" class=\"dataframe\">\n",
       "  <thead>\n",
       "    <tr style=\"text-align: right;\">\n",
       "      <th></th>\n",
       "      <th>index</th>\n",
       "      <th>year</th>\n",
       "    </tr>\n",
       "  </thead>\n",
       "  <tbody>\n",
       "    <tr>\n",
       "      <th>0</th>\n",
       "      <td>2012</td>\n",
       "      <td>335670</td>\n",
       "    </tr>\n",
       "    <tr>\n",
       "      <th>1</th>\n",
       "      <td>2013</td>\n",
       "      <td>306703</td>\n",
       "    </tr>\n",
       "    <tr>\n",
       "      <th>2</th>\n",
       "      <td>2014</td>\n",
       "      <td>274527</td>\n",
       "    </tr>\n",
       "    <tr>\n",
       "      <th>3</th>\n",
       "      <td>2016</td>\n",
       "      <td>265462</td>\n",
       "    </tr>\n",
       "    <tr>\n",
       "      <th>4</th>\n",
       "      <td>2015</td>\n",
       "      <td>262995</td>\n",
       "    </tr>\n",
       "    <tr>\n",
       "      <th>5</th>\n",
       "      <td>2017</td>\n",
       "      <td>11357</td>\n",
       "    </tr>\n",
       "  </tbody>\n",
       "</table>\n",
       "</div>"
      ],
      "text/plain": [
       "   index    year\n",
       "0   2012  335670\n",
       "1   2013  306703\n",
       "2   2014  274527\n",
       "3   2016  265462\n",
       "4   2015  262995\n",
       "5   2017   11357"
      ]
     },
     "execution_count": 66,
     "metadata": {},
     "output_type": "execute_result"
    }
   ],
   "source": [
    "ccyear = cc.year.value_counts().to_frame().reset_index()\n",
    "ccyear"
   ]
  },
  {
   "cell_type": "code",
   "execution_count": 67,
   "id": "d346e010-30b9-4d4d-87f1-80bcbd72d8a1",
   "metadata": {},
   "outputs": [
    {
     "data": {
      "image/png": "[encoded data removed]",
      "text/plain": [
       "<Figure size 864x216 with 1 Axes>"
      ]
     },
     "metadata": {
      "needs_background": "light"
     },
     "output_type": "display_data"
    }
   ],
   "source": [
    "ccyear .plot(kind = 'bar', figsize = (12,3), x = 'index', y = 'year', color = 'blue')\n",
    "plt.legend(loc = 'upper right');"
   ]
  },
  {
   "cell_type": "code",
   "execution_count": 68,
   "id": "f9cfc20e-83c0-47b0-858d-1755d6392534",
   "metadata": {},
   "outputs": [
    {
     "data": {
      "image/png": "[encoded data removed]",
      "text/plain": [
       "<Figure size 460.8x316.8 with 1 Axes>"
      ]
     },
     "metadata": {
      "needs_background": "light"
     },
     "output_type": "display_data"
    }
   ],
   "source": [
    "sns.barplot(data= ccyear, y = 'year' , x= 'index');"
   ]
  },
  {
   "cell_type": "markdown",
   "id": "33254db0-1980-471a-8c62-d51c94e7b355",
   "metadata": {},
   "source": [
    "# How many arrests were made in relation to primary type crime"
   ]
  },
  {
   "cell_type": "code",
   "execution_count": 69,
   "id": "1f6de97d-dde2-4d50-9725-77745d590992",
   "metadata": {},
   "outputs": [
    {
     "data": {
      "text/html": [
       "<div>\n",
       "<style scoped>\n",
       "    .dataframe tbody tr th:only-of-type {\n",
       "        vertical-align: middle;\n",
       "    }\n",
       "\n",
       "    .dataframe tbody tr th {\n",
       "        vertical-align: top;\n",
       "    }\n",
       "\n",
       "    .dataframe thead th {\n",
       "        text-align: right;\n",
       "    }\n",
       "</style>\n",
       "<table border=\"1\" class=\"dataframe\">\n",
       "  <thead>\n",
       "    <tr style=\"text-align: right;\">\n",
       "      <th></th>\n",
       "      <th>Arrest</th>\n",
       "    </tr>\n",
       "    <tr>\n",
       "      <th>Primary Type</th>\n",
       "      <th></th>\n",
       "    </tr>\n",
       "  </thead>\n",
       "  <tbody>\n",
       "    <tr>\n",
       "      <th>NARCOTICS</th>\n",
       "      <td>134317</td>\n",
       "    </tr>\n",
       "    <tr>\n",
       "      <th>BATTERY</th>\n",
       "      <td>60501</td>\n",
       "    </tr>\n",
       "    <tr>\n",
       "      <th>THEFT</th>\n",
       "      <td>36673</td>\n",
       "    </tr>\n",
       "    <tr>\n",
       "      <th>CRIMINAL TRESPASS</th>\n",
       "      <td>25927</td>\n",
       "    </tr>\n",
       "    <tr>\n",
       "      <th>ASSAULT</th>\n",
       "      <td>21348</td>\n",
       "    </tr>\n",
       "    <tr>\n",
       "      <th>OTHER OFFENSE</th>\n",
       "      <td>18573</td>\n",
       "    </tr>\n",
       "    <tr>\n",
       "      <th>WEAPONS VIOLATION</th>\n",
       "      <td>13746</td>\n",
       "    </tr>\n",
       "    <tr>\n",
       "      <th>CRIMINAL DAMAGE</th>\n",
       "      <td>10165</td>\n",
       "    </tr>\n",
       "    <tr>\n",
       "      <th>PUBLIC PEACE VIOLATION</th>\n",
       "      <td>9949</td>\n",
       "    </tr>\n",
       "    <tr>\n",
       "      <th>DECEPTIVE PRACTICE</th>\n",
       "      <td>8917</td>\n",
       "    </tr>\n",
       "  </tbody>\n",
       "</table>\n",
       "</div>"
      ],
      "text/plain": [
       "                        Arrest\n",
       "Primary Type                  \n",
       "NARCOTICS               134317\n",
       "BATTERY                  60501\n",
       "THEFT                    36673\n",
       "CRIMINAL TRESPASS        25927\n",
       "ASSAULT                  21348\n",
       "OTHER OFFENSE            18573\n",
       "WEAPONS VIOLATION        13746\n",
       "CRIMINAL DAMAGE          10165\n",
       "PUBLIC PEACE VIOLATION    9949\n",
       "DECEPTIVE PRACTICE        8917"
      ]
     },
     "execution_count": 69,
     "metadata": {},
     "output_type": "execute_result"
    }
   ],
   "source": [
    "# How many arrests were made in relation to primary type crime\n",
    "ccarrest  = cc.loc[:, ['Arrest','Primary Type']].groupby('Arrest').get_group(True).\\\n",
    "groupby('Primary Type').count(). sort_values('Arrest', ascending = False). head(10)\n",
    "# Narcotics has the higest arrests rate\n",
    "ccarrest"
   ]
  },
  {
   "cell_type": "code",
   "execution_count": 70,
   "id": "28dd6b02-9521-4975-8ffd-eaf2cc28e057",
   "metadata": {},
   "outputs": [
    {
     "data": {
      "text/plain": [
       "<matplotlib.legend.Legend at 0x1e34734fe50>"
      ]
     },
     "execution_count": 70,
     "metadata": {},
     "output_type": "execute_result"
    },
    {
     "data": {
      "image/png": "[encoded data removed]",
      "text/plain": [
       "<Figure size 792x1224 with 1 Axes>"
      ]
     },
     "metadata": {},
     "output_type": "display_data"
    }
   ],
   "source": [
    "#  pie chart for first 10\n",
    "ccarrest.plot(kind = 'pie', subplots = True, figsize = (11,17))\n",
    "plt.legend(fontsize = 8, loc = 'upper left')"
   ]
  },
  {
   "cell_type": "markdown",
   "id": "cc80496b-a521-4565-b586-16f7761695e2",
   "metadata": {},
   "source": [
    "# Which block has the highest calls / reports ?"
   ]
  },
  {
   "cell_type": "code",
   "execution_count": 71,
   "id": "43b215ea-0826-4864-b0fb-c4dcd09ec3ef",
   "metadata": {},
   "outputs": [
    {
     "data": {
      "text/html": [
       "<div>\n",
       "<style scoped>\n",
       "    .dataframe tbody tr th:only-of-type {\n",
       "        vertical-align: middle;\n",
       "    }\n",
       "\n",
       "    .dataframe tbody tr th {\n",
       "        vertical-align: top;\n",
       "    }\n",
       "\n",
       "    .dataframe thead th {\n",
       "        text-align: right;\n",
       "    }\n",
       "</style>\n",
       "<table border=\"1\" class=\"dataframe\">\n",
       "  <thead>\n",
       "    <tr style=\"text-align: right;\">\n",
       "      <th></th>\n",
       "      <th>Block</th>\n",
       "      <th>Primary Type</th>\n",
       "    </tr>\n",
       "  </thead>\n",
       "  <tbody>\n",
       "    <tr>\n",
       "      <th>0</th>\n",
       "      <td>001XX N STATE ST</td>\n",
       "      <td>3634</td>\n",
       "    </tr>\n",
       "    <tr>\n",
       "      <th>1</th>\n",
       "      <td>0000X W TERMINAL ST</td>\n",
       "      <td>2746</td>\n",
       "    </tr>\n",
       "    <tr>\n",
       "      <th>2</th>\n",
       "      <td>008XX N MICHIGAN AVE</td>\n",
       "      <td>2465</td>\n",
       "    </tr>\n",
       "    <tr>\n",
       "      <th>3</th>\n",
       "      <td>076XX S CICERO AVE</td>\n",
       "      <td>2116</td>\n",
       "    </tr>\n",
       "    <tr>\n",
       "      <th>4</th>\n",
       "      <td>0000X N STATE ST</td>\n",
       "      <td>1844</td>\n",
       "    </tr>\n",
       "  </tbody>\n",
       "</table>\n",
       "</div>"
      ],
      "text/plain": [
       "                  Block  Primary Type\n",
       "0      001XX N STATE ST          3634\n",
       "1   0000X W TERMINAL ST          2746\n",
       "2  008XX N MICHIGAN AVE          2465\n",
       "3    076XX S CICERO AVE          2116\n",
       "4      0000X N STATE ST          1844"
      ]
     },
     "execution_count": 71,
     "metadata": {},
     "output_type": "execute_result"
    }
   ],
   "source": [
    "# Which block has the highest calls\n",
    "ccblock = cc.loc[0:, ['Block','Primary Type']].set_index('Block').groupby\\\n",
    "('Block').count().sort_values('Primary Type', ascending = False).reset_index().head()\n",
    "ccblock"
   ]
  },
  {
   "cell_type": "code",
   "execution_count": 72,
   "id": "eb9cbb99-bf35-458d-9329-920dcd88d554",
   "metadata": {},
   "outputs": [
    {
     "data": {
      "text/html": [
       "<div>\n",
       "<style scoped>\n",
       "    .dataframe tbody tr th:only-of-type {\n",
       "        vertical-align: middle;\n",
       "    }\n",
       "\n",
       "    .dataframe tbody tr th {\n",
       "        vertical-align: top;\n",
       "    }\n",
       "\n",
       "    .dataframe thead th {\n",
       "        text-align: right;\n",
       "    }\n",
       "</style>\n",
       "<table border=\"1\" class=\"dataframe\">\n",
       "  <thead>\n",
       "    <tr style=\"text-align: right;\">\n",
       "      <th></th>\n",
       "      <th>Unnamed: 0</th>\n",
       "      <th>ID</th>\n",
       "      <th>Case Number</th>\n",
       "      <th>Date</th>\n",
       "      <th>Block</th>\n",
       "      <th>IUCR</th>\n",
       "      <th>Primary Type</th>\n",
       "      <th>Description</th>\n",
       "      <th>Location Description</th>\n",
       "      <th>Arrest</th>\n",
       "      <th>...</th>\n",
       "      <th>Community Area</th>\n",
       "      <th>FBI Code</th>\n",
       "      <th>X Coordinate</th>\n",
       "      <th>Y Coordinate</th>\n",
       "      <th>Year</th>\n",
       "      <th>Updated On</th>\n",
       "      <th>Latitude</th>\n",
       "      <th>Longitude</th>\n",
       "      <th>Location</th>\n",
       "      <th>year</th>\n",
       "    </tr>\n",
       "  </thead>\n",
       "  <tbody>\n",
       "    <tr>\n",
       "      <th>0</th>\n",
       "      <td>3</td>\n",
       "      <td>10508693</td>\n",
       "      <td>HZ250496</td>\n",
       "      <td>2016-05-03 23:40:00</td>\n",
       "      <td>013XX S SAWYER AVE</td>\n",
       "      <td>0486</td>\n",
       "      <td>BATTERY</td>\n",
       "      <td>DOMESTIC BATTERY SIMPLE</td>\n",
       "      <td>APARTMENT</td>\n",
       "      <td>True</td>\n",
       "      <td>...</td>\n",
       "      <td>29.0</td>\n",
       "      <td>08B</td>\n",
       "      <td>1154907.0</td>\n",
       "      <td>1893681.0</td>\n",
       "      <td>2016</td>\n",
       "      <td>05/10/2016 03:56:50 PM</td>\n",
       "      <td>41.864073</td>\n",
       "      <td>-87.706819</td>\n",
       "      <td>(41.864073157, -87.706818608)</td>\n",
       "      <td>2016</td>\n",
       "    </tr>\n",
       "    <tr>\n",
       "      <th>1</th>\n",
       "      <td>89</td>\n",
       "      <td>10508695</td>\n",
       "      <td>HZ250409</td>\n",
       "      <td>2016-05-03 21:40:00</td>\n",
       "      <td>061XX S DREXEL AVE</td>\n",
       "      <td>0486</td>\n",
       "      <td>BATTERY</td>\n",
       "      <td>DOMESTIC BATTERY SIMPLE</td>\n",
       "      <td>RESIDENCE</td>\n",
       "      <td>False</td>\n",
       "      <td>...</td>\n",
       "      <td>42.0</td>\n",
       "      <td>08B</td>\n",
       "      <td>1183066.0</td>\n",
       "      <td>1864330.0</td>\n",
       "      <td>2016</td>\n",
       "      <td>05/10/2016 03:56:50 PM</td>\n",
       "      <td>41.782922</td>\n",
       "      <td>-87.604363</td>\n",
       "      <td>(41.782921527, -87.60436317)</td>\n",
       "      <td>2016</td>\n",
       "    </tr>\n",
       "    <tr>\n",
       "      <th>2</th>\n",
       "      <td>197</td>\n",
       "      <td>10508697</td>\n",
       "      <td>HZ250503</td>\n",
       "      <td>2016-05-03 23:31:00</td>\n",
       "      <td>053XX W CHICAGO AVE</td>\n",
       "      <td>0470</td>\n",
       "      <td>PUBLIC PEACE VIOLATION</td>\n",
       "      <td>RECKLESS CONDUCT</td>\n",
       "      <td>STREET</td>\n",
       "      <td>False</td>\n",
       "      <td>...</td>\n",
       "      <td>25.0</td>\n",
       "      <td>24</td>\n",
       "      <td>1140789.0</td>\n",
       "      <td>1904819.0</td>\n",
       "      <td>2016</td>\n",
       "      <td>05/10/2016 03:56:50 PM</td>\n",
       "      <td>41.894908</td>\n",
       "      <td>-87.758372</td>\n",
       "      <td>(41.894908283, -87.758371958)</td>\n",
       "      <td>2016</td>\n",
       "    </tr>\n",
       "  </tbody>\n",
       "</table>\n",
       "<p>3 rows × 24 columns</p>\n",
       "</div>"
      ],
      "text/plain": [
       "   Unnamed: 0        ID Case Number                Date                Block  \\\n",
       "0           3  10508693    HZ250496 2016-05-03 23:40:00   013XX S SAWYER AVE   \n",
       "1          89  10508695    HZ250409 2016-05-03 21:40:00   061XX S DREXEL AVE   \n",
       "2         197  10508697    HZ250503 2016-05-03 23:31:00  053XX W CHICAGO AVE   \n",
       "\n",
       "   IUCR            Primary Type              Description Location Description  \\\n",
       "0  0486                 BATTERY  DOMESTIC BATTERY SIMPLE            APARTMENT   \n",
       "1  0486                 BATTERY  DOMESTIC BATTERY SIMPLE            RESIDENCE   \n",
       "2  0470  PUBLIC PEACE VIOLATION         RECKLESS CONDUCT               STREET   \n",
       "\n",
       "   Arrest  ...  Community Area  FBI Code  X Coordinate  Y Coordinate  Year  \\\n",
       "0    True  ...            29.0       08B     1154907.0     1893681.0  2016   \n",
       "1   False  ...            42.0       08B     1183066.0     1864330.0  2016   \n",
       "2   False  ...            25.0        24     1140789.0     1904819.0  2016   \n",
       "\n",
       "               Updated On   Latitude  Longitude  \\\n",
       "0  05/10/2016 03:56:50 PM  41.864073 -87.706819   \n",
       "1  05/10/2016 03:56:50 PM  41.782922 -87.604363   \n",
       "2  05/10/2016 03:56:50 PM  41.894908 -87.758372   \n",
       "\n",
       "                        Location  year  \n",
       "0  (41.864073157, -87.706818608)  2016  \n",
       "1   (41.782921527, -87.60436317)  2016  \n",
       "2  (41.894908283, -87.758371958)  2016  \n",
       "\n",
       "[3 rows x 24 columns]"
      ]
     },
     "execution_count": 72,
     "metadata": {},
     "output_type": "execute_result"
    }
   ],
   "source": [
    "# show on bar chart with matplotlib\n",
    "cc.head(3)"
   ]
  },
  {
   "cell_type": "code",
   "execution_count": 73,
   "id": "1ce2b199-175c-4e3a-8876-2d6d755364c0",
   "metadata": {},
   "outputs": [
    {
     "data": {
      "text/plain": [
       "<AxesSubplot:xlabel='Primary Type', ylabel='Block'>"
      ]
     },
     "execution_count": 73,
     "metadata": {},
     "output_type": "execute_result"
    },
    {
     "data": {
      "image/png": "[encoded data removed]",
      "text/plain": [
       "<Figure size 460.8x316.8 with 1 Axes>"
      ]
     },
     "metadata": {
      "needs_background": "light"
     },
     "output_type": "display_data"
    }
   ],
   "source": [
    "# show on bar chart with seaborn\n",
    "sns.barplot(data = ccblock, x = ccblock['Primary Type'] , y = ccblock['Block'],)"
   ]
  },
  {
   "cell_type": "markdown",
   "id": "55743f0b-d323-4a2e-b664-1524600ea485",
   "metadata": {},
   "source": [
    "# How are the calls complaints disrributed by time of day? "
   ]
  },
  {
   "cell_type": "code",
   "execution_count": 74,
   "id": "7ef4ed8c-a834-4bf2-83cd-05ef6d68cfab",
   "metadata": {},
   "outputs": [],
   "source": [
    "cc['time'] = pd.DatetimeIndex(cc['Date']).time"
   ]
  },
  {
   "cell_type": "code",
   "execution_count": 75,
   "id": "ea794916-5d72-46f3-8b60-f55a6f443d29",
   "metadata": {},
   "outputs": [],
   "source": [
    "cc.time = pd.to_datetime"
   ]
  },
  {
   "cell_type": "code",
   "execution_count": 76,
   "id": "2bbe213a-8d8b-47f0-bf3c-89cb409814eb",
   "metadata": {},
   "outputs": [
    {
     "data": {
      "text/plain": [
       "09:00:00    36006\n",
       "12:00:00    35314\n",
       "18:00:00    28290\n",
       "15:00:00    26887\n",
       "22:00:00    26717\n",
       "Name: time, dtype: int64"
      ]
     },
     "execution_count": 76,
     "metadata": {},
     "output_type": "execute_result"
    }
   ],
   "source": [
    "cc['time'] = pd.DatetimeIndex(cc['Date']).time\n",
    "cc.time.value_counts().sort_values(ascending = False).head()"
   ]
  },
  {
   "cell_type": "code",
   "execution_count": 77,
   "id": "d9aa029d-ee99-4a2f-b482-86acec76fabf",
   "metadata": {},
   "outputs": [
    {
     "data": {
      "image/png": "[encoded data removed]",
      "text/plain": [
       "<Figure size 1080x288 with 1 Axes>"
      ]
     },
     "metadata": {
      "needs_background": "light"
     },
     "output_type": "display_data"
    }
   ],
   "source": [
    "cctime = cc.time.to_frame().value_counts().head(15)\n",
    "cctime.plot(kind = 'line' , x = 'time', figsize = (15,4), color = 'purple', linewidth = 3, marker='o');"
   ]
  },
  {
   "cell_type": "markdown",
   "id": "c7377edb-05d0-49ce-8a94-48f359375306",
   "metadata": {},
   "source": [
    "# What locations have most reports  ?"
   ]
  },
  {
   "cell_type": "code",
   "execution_count": 78,
   "id": "be428f33-c0f0-4b98-9830-f32eb3c9d993",
   "metadata": {},
   "outputs": [
    {
     "data": {
      "text/plain": [
       "STREET                330471\n",
       "RESIDENCE             233530\n",
       "APARTMENT             185023\n",
       "SIDEWALK              160891\n",
       "OTHER                  55774\n",
       "                       ...  \n",
       "CLUB                       1\n",
       "CTA \"L\" PLATFORM           1\n",
       "GARAGE/AUTO REPAIR         1\n",
       "CHURCH PROPERTY            1\n",
       "LAGOON                     1\n",
       "Name: Location Description, Length: 142, dtype: int64"
      ]
     },
     "execution_count": 78,
     "metadata": {},
     "output_type": "execute_result"
    }
   ],
   "source": [
    "cc['Location Description'].value_counts()"
   ]
  },
  {
   "cell_type": "code",
   "execution_count": 79,
   "id": "a0cbb7a5-ba1a-4eb1-87c7-585c68149768",
   "metadata": {},
   "outputs": [
    {
     "data": {
      "image/png": "[encoded data removed]",
      "text/plain": [
       "<Figure size 576x720 with 1 Axes>"
      ]
     },
     "metadata": {},
     "output_type": "display_data"
    }
   ],
   "source": [
    "cc['Location Description'].value_counts().head(10).plot(kind = 'pie', figsize = (8,10));"
   ]
  },
  {
   "cell_type": "code",
   "execution_count": 92,
   "id": "dcce584a-2acc-44c0-bb44-514a0b2314a5",
   "metadata": {},
   "outputs": [
    {
     "data": {
      "text/plain": [
       "STREET                            330471\n",
       "RESIDENCE                         233530\n",
       "APARTMENT                         185023\n",
       "SIDEWALK                          160891\n",
       "OTHER                              55774\n",
       "PARKING LOT/GARAGE(NON.RESID.)     41768\n",
       "ALLEY                              31771\n",
       "RESIDENTIAL YARD (FRONT/BACK)      30645\n",
       "SMALL RETAIL STORE                 28803\n",
       "SCHOOL, PUBLIC, BUILDING           25959\n",
       "Name: Location Description, dtype: int64"
      ]
     },
     "execution_count": 92,
     "metadata": {},
     "output_type": "execute_result"
    }
   ],
   "source": [
    "sbloc = cc['Location Description'].value_counts().head(10)\n",
    "sbloc"
   ]
  },
  {
   "cell_type": "code",
   "execution_count": 105,
   "id": "a6f8ed8d-18e1-4b27-8147-42e2f107aecd",
   "metadata": {},
   "outputs": [
    {
     "data": {
      "text/plain": [
       "<AxesSubplot:>"
      ]
     },
     "execution_count": 105,
     "metadata": {},
     "output_type": "execute_result"
    },
    {
     "data": {
      "image/png": "[encoded data removed]",
      "text/plain": [
       "<Figure size 460.8x316.8 with 1 Axes>"
      ]
     },
     "metadata": {
      "needs_background": "light"
     },
     "output_type": "display_data"
    }
   ],
   "source": [
    "sns.barplot(data= sbloc.to_frame(), y = sbloc.index, x=sbloc.values)"
   ]
  }
 ],
 "metadata": {
  "kernelspec": {
   "display_name": "Python 3",
   "language": "python",
   "name": "python3"
  },
  "language_info": {
   "codemirror_mode": {
    "name": "ipython",
    "version": 3
   },
   "file_extension": ".py",
   "mimetype": "text/x-python",
   "name": "python",
   "nbconvert_exporter": "python",
   "pygments_lexer": "ipython3",
   "version": "3.8.8"
  }
 },
 "nbformat": 4,
 "nbformat_minor": 5
}
